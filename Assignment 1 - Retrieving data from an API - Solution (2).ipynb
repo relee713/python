{
 "cells": [
  {
   "cell_type": "markdown",
   "id": "3aad0bee-5905-4d07-bd70-f2f3cd432529",
   "metadata": {},
   "source": [
    "## Problem Statement: Analyzing Daily Stock Data with Alpha Vantage API\n",
    "\n",
    "### Overview\n",
    "In this assignment, you will write a Python script to fetch and analyze daily time series stock data from the Alpha Vantage API for a set of prominent technology stocks (the \"Mag 7\" tickers). You will then convert the collected data into a pandas DataFrame for further analysis.\n",
    "\n",
    "### Objectives\n",
    "- **Data Retrieval:**  \n",
    "  Use the `requests` library to retrieve daily stock data for the Mag 7 Tickers:\n",
    "\n",
    "  **Mag 7 Tickers:**\n",
    "\n",
    "**AAPL**: Apple Inc.\n",
    "**MSFT**: Microsoft Corporation\n",
    "**AMZN**: Amazon.com, Inc.\n",
    "**GOOGL**: Alphabet Inc.\n",
    "**META**: Meta Platforms, Inc.\n",
    "**TSLA**: Tesla, Inc.\n",
    "**NVDA**: Nvidia Corporation\n",
    "\n",
    "- **API Interaction:**  \n",
    "  For each stock ticker, construct the appropriate API URL using your Alpha Vantage API key and send an HTTP GET request.  \n",
    "  Ensure that the API response is successful (HTTP status code 200).\n",
    "\n",
    "- **Data Extraction:**  \n",
    "  Extract the \"Time Series (Daily)\" portion of the JSON response.  \n",
    "  Since the time series data is provided as a nested dictionary (with dates as keys), iterate over this dictionary.\n",
    "\n",
    "- **Data Transformation:**  [An example/tutorial with code is provided to do this]\n",
    "  For each date in the time series data:\n",
    "  - Create a dictionary that includes the date, the stock ticker, and the day's data (such as open, high, low, close, and volume).\n",
    "  - Use the dictionary `update` method to merge the date-specific data with the ticker information.\n",
    "  - Append each resulting dictionary to a list to accumulate all the records.\n",
    "\n",
    "- **Data Normalization:**  \n",
    "  Convert the list of dictionaries into a pandas DataFrame.  \n",
    "  This DataFrame will have columns corresponding to the date, ticker, and the daily stock data, making it easier to analyze the data further.\n",
    "\n",
    "### Final Deliverable\n",
    "Your final Python script should include:\n",
    "- Import statements for `pandas` and `requests`.\n",
    "- A defined list of stock tickers and your Alpha Vantage API key.\n",
    "- A loop that iterates over each ticker to:\n",
    "  - Construct the API URL.\n",
    "  - Send a request to the API.\n",
    "  - Process and transform the JSON response.\n",
    "- Code that converts the accumulated list of dictionaries into a pandas DataFrame. [Provided to you]\n",
    "\n",
    "By completing this assignment, you will demonstrate your ability to interact with APIs, process nested JSON data, and utilize pandas for data manipulation and analysis.\n"
   ]
  },
  {
   "cell_type": "markdown",
   "id": "bee34aec-be90-4172-a4c4-5cea25f97c4d",
   "metadata": {},
   "source": [
    "**get your API key from:** \n",
    "[https://www.alphavantage.co/support/#api-key](https://www.alphavantage.co/support/#api-key)"
   ]
  },
  {
   "cell_type": "markdown",
   "id": "675ee955-683e-4f60-aa10-97ee9dd20563",
   "metadata": {},
   "source": [
    "# 1: Import necessary modules\n",
    "\n",
    "We need to import the `pandas` module for data manipulation and the `requests` module for making HTTP requests.\n",
    "\n",
    "```python\n",
    "import pandas as pd\n",
    "import requests"
   ]
  },
  {
   "cell_type": "code",
   "execution_count": 1,
   "id": "c0eafbe3-c9ec-4897-bddc-6b5e9021a8c9",
   "metadata": {},
   "outputs": [],
   "source": [
    "import pandas as pd\n",
    "import requests"
   ]
  },
  {
   "cell_type": "markdown",
   "id": "09b550de-69e7-4df7-9088-69d5cf0658f5",
   "metadata": {},
   "source": [
    "# 2: Define the list of stocks and API key\n",
    "\n",
    "We need to define a list of stock symbols that we want to analyze and specify our Alpha Vantage API key.\n",
    "\n",
    "```python\n",
    "stocks = ['Ticker1', ... , 'Ticker7'] #Magnificent 7: Alphabet, Amazon, Apple, Meta, Microsoft, Nvidia, Tesla\n",
    "api_key = 'your_api_key' # Get it from: https://www.alphavantage.co/support/#api-key"
   ]
  },
  {
   "cell_type": "markdown",
   "id": "4887b0ab-3381-4433-b4f4-b737ffe15220",
   "metadata": {},
   "source": [
    "# 3: Initialize an empty list\n",
    "\n",
    "We need to initialize an empty list `time_series_data` to store the time series data for each stock."
   ]
  },
  {
   "cell_type": "code",
   "execution_count": 2,
   "id": "696ae4a4-cb22-47cb-b65b-fdbdd5a769ae",
   "metadata": {},
   "outputs": [],
   "source": [
    "\n",
    "# List of stock symbols to analyze\n",
    "stocks = ['GOOG','AMZN','AAPL','MSFT','TSLA','NVDA','META']\n",
    "\n",
    "# Your Alpha Vantage API key\n",
    "api_key = '0DJ81O0URKV5W8TR'\n",
    "\n",
    "time_series_data = []\n"
   ]
  },
  {
   "cell_type": "code",
   "execution_count": 7,
   "id": "c6a0cdb3",
   "metadata": {},
   "outputs": [],
   "source": [
    "api_key = '0DJ81O0URKV5W8TR'"
   ]
  },
  {
   "cell_type": "markdown",
   "id": "2256df5f-16b8-4403-b744-eb3c69c1b2a4",
   "metadata": {},
   "source": [
    "\n",
    "# 4: Fetch time series data\n",
    "\n",
    "We need to loop over each stock symbol, construct the API URL, and make a GET request to that URL. If the response status is OK (200), we need to extract the time series data from the response and append it to `time_series_data`.\n",
    "\n",
    "### 4.1: Construct the API URL\n",
    "\n",
    "For each stock symbol, we need to construct the API URL.\n",
    "\n",
    "```python\n",
    "for stock in stocks:\n",
    "    api_url = # Go to https://www.alphavantage.co/documentation/ and identify the API endpoint that allows you to retrive the daily data. When you are constructing the url use parameters: {stock}&apikey={api_key}'\n",
    "```\n",
    "### 4.2: Make the API request\n",
    "\n",
    "We need to make a GET request to the API URL.\n",
    "\n",
    "response = requests.get(api_url)\n",
    "\n",
    "### 4.3: Check the response status\n",
    "\n",
    "Check if the response status is OK (200). If it's not, we print an error message.\n",
    "\n",
    "```python\n",
    "if response.status_code == 200:\n",
    "    ...\n",
    "else:\n",
    "    print(f\"Error fetching data for {stock}: {response.status_code}\")\n",
    "```\n",
    "\n",
    "### 4.4: Extract the time series data\n",
    "\n",
    "If the response status is OK (200), we need to extract the time series data from the response.\n",
    "\n",
    "```python\n",
    "data = response.json()['Time Series (Daily)']\n",
    "\n",
    "# Tutorial -- unrelated to the assignment but try to understand and adapt the following example to your use case. Note that the data structure is a dictionary and for each key, we have a dictionary as the value:\n",
    "\n",
    "student_data = {\n",
    "    '001': {'Big Data': 'A', 'Machine Learning': 'B', 'AI': 'A', 'Database Management': 'B'},\n",
    "    '002': {'Big Data': 'B', 'Machine Learning': 'A', 'AI': 'B', 'Database Management': 'A'},\n",
    "    '003': {'Big Data': 'A', 'Machine Learning': 'A', 'AI': 'B', 'Database Management': 'B'}\n",
    "}\n",
    "```\n",
    "\n",
    "#### This is how you can iterate over student_data:\n",
    "```python\n",
    "all_student_data = []\n",
    "for student_id, grades in student_data.items():b\n",
    "    row = {'student_id': student_id}\n",
    "    row.update(grades)\n",
    "    all_student_data.append(row)\n",
    "```\n",
    "\n",
    "The `update` method on a dictionary merges the key-value pairs from one dictionary into another. Here's what happens step by step:\n",
    "\n",
    "1. **Merging Dictionaries:**\n",
    "   - When you call `row.update(grades)`, Python takes every key-value pair from the `grades` dictionary and adds it to the `row` dictionary.\n",
    "   - If `row` already contains a key that exists in `grades`, the corresponding value in `row` will be overwritten by the value from `grades`.\n",
    "\n",
    "2. **Example:**\n",
    "\n",
    "   ```python\n",
    "   row = {'student_id': '001'}\n",
    "   grades = {'Big Data': 'A', 'Machine Learning': 'B', 'AI': 'A', 'Database Management': 'B'}\n",
    "   row.update(grades)\n",
    "   # Now, row becomes:\n",
    "   # {'student_id': '001', 'Big Data': 'A', 'Machine Learning': 'B', 'AI': 'A', 'Database Management': 'B'}\n",
    "    ```\n",
    "\n",
    "```python\n",
    "df = pd.DataFrame(all_student_data)\n",
    "df\n",
    "```\n",
    "\n",
    "Output:\n",
    "\n",
    "| student_id | Big Data | Machine Learning | AI | Database Management |\n",
    "|------------|----------|------------------|----|---------------------|\n",
    "| 001        | A        | B                | A  | B                   |\n",
    "| 002        | B        | A                | B  | A                   |\n",
    "| 003        | A        | A                | B  | B                   |\n",
    "\n"
   ]
  },
  {
   "cell_type": "code",
   "execution_count": null,
   "id": "a73be7b7-2186-4098-b939-e980f39b4fc6",
   "metadata": {},
   "outputs": [],
   "source": [
    "# Your solution here. Make sure to look at the examples discussed in class and also, it is very important you understand the student/grades example in the previous cell\n",
    "\n",
    "\n",
    "import json\n",
    "for stock in stocks:\n",
    "    api_url = f'https://www.alphavantage.co/query?function=TIME_SERIES_DAILY&symbol={stock}&apikey={api_key}'\n",
    "    \n",
    "    # Make API request\n",
    "    response = requests.get(api_url)\n",
    "    if response.status_code == 200:\n",
    "        # Extract the time series data from the response\n",
    "        data = response.json()['Time Series (Daily)']\n",
    "        with open(f'{stock}_data.json', 'w') as f:\n",
    "            json.dump(data,f, indent=4)\n",
    "        \n",
    "        for date, values in data.items():\n",
    "            row = {'date': date, 'ticker': stock}\n",
    "            row.update(values)\n",
    "            time_series_data.append(row)\n",
    "    else:\n",
    "        print(f\"Error fetching data for {stock}: {response.status_code}\")\n",
    "\n",
    "# Normalize the list into a DataFrame\n",
    "df = pd.DataFrame(time_series_data)\n",
    "df"
   ]
  },
  {
   "cell_type": "code",
   "execution_count": 9,
   "id": "fe854229",
   "metadata": {},
   "outputs": [
    {
     "name": "stdout",
     "output_type": "stream",
     "text": [
      "JSON from response:\n",
      "{'Meta Data': {'1. Information': 'Daily Prices (open, high, low, close) and Volumes', '2. Symbol': 'GOOG', '3. Last Refreshed': '2025-03-18', '4. Output Size': 'Compact', '5. Time Zone': 'US/Eastern'}, 'Time Series (Daily)': {'2025-03-18': {'1. open': '165.9600', '2. high': '166.4400', '3. low': '158.8000', '4. close': '162.6700', '5. volume': '24616784'}, '2025-03-17': {'1. open': '167.3250', '2. high': '168.4600', '3. low': '165.8100', '4. close': '166.5700', '5. volume': '17839139'}, '2025-03-14': {'1. open': '165.3150', '2. high': '168.2500', '3. low': '164.5100', '4. close': '167.6200', '5. volume': '18611094'}, '2025-03-13': {'1. open': '167.9800', '2. high': '168.1200', '3. low': '164.0700', '4. close': '164.7300', '5. volume': '15206165'}, '2025-03-12': {'1. open': '168.4700', '2. high': '169.5300', '3. low': '165.4800', '4. close': '169.0000', '5. volume': '19880062'}, '2025-03-11': {'1. open': '166.6800', '2. high': '168.6550', '3. low': '163.2400', '4. close': '165.9800', '5. volume': '23705899'}, '2025-03-10': {'1. open': '170.1600', '2. high': '170.4500', '3. low': '165.5650', '4. close': '167.8100', '5. volume': '28335500'}, '2025-03-07': {'1. open': '173.2420', '2. high': '176.9000', '3. low': '172.2500', '4. close': '175.7500', '5. volume': '16395287'}, '2025-03-06': {'1. open': '172.5500', '2. high': '176.7300', '3. low': '172.5080', '4. close': '174.2100', '5. volume': '19082404'}, '2025-03-05': {'1. open': '172.3200', '2. high': '175.7500', '3. low': '170.9300', '4. close': '174.9900', '5. volume': '18848036'}, '2025-03-04': {'1. open': '167.9400', '2. high': '175.1650', '3. low': '167.5400', '4. close': '172.6100', '5. volume': '30711408'}, '2025-03-03': {'1. open': '173.7300', '2. high': '175.0000', '3. low': '167.6400', '4. close': '168.6600', '5. volume': '24121991'}, '2025-02-28': {'1. open': '170.3000', '2. high': '172.5000', '3. low': '168.3900', '4. close': '172.2200', '5. volume': '30049812'}, '2025-02-27': {'1. open': '175.9400', '2. high': '176.5900', '3. low': '169.7520', '4. close': '170.2100', '5. volume': '25930530'}, '2025-02-26': {'1. open': '176.9450', '2. high': '178.0800', '3. low': '173.5900', '4. close': '174.7000', '5. volume': '23693251'}, '2025-02-25': {'1. open': '180.1550', '2. high': '180.7600', '3. low': '176.7700', '4. close': '177.3700', '5. volume': '20832485'}, '2025-02-24': {'1. open': '183.8000', '2. high': '185.0900', '3. low': '180.8800', '4. close': '181.1900', '5. volume': '18734014'}, '2025-02-21': {'1. open': '187.2900', '2. high': '187.4700', '3. low': '181.1300', '4. close': '181.5800', '5. volume': '19520782'}, '2025-02-20': {'1. open': '186.5000', '2. high': '187.1200', '3. low': '184.6000', '4. close': '186.6400', '5. volume': '12063807'}, '2025-02-19': {'1. open': '186.1850', '2. high': '187.3600', '3. low': '185.5000', '4. close': '187.1300', '5. volume': '13120465'}, '2025-02-18': {'1. open': '187.4400', '2. high': '187.7800', '3. low': '183.5800', '4. close': '185.8000', '5. volume': '19796028'}, '2025-02-14': {'1. open': '186.8300', '2. high': '188.1500', '3. low': '186.1100', '4. close': '186.8700', '5. volume': '12714154'}, '2025-02-13': {'1. open': '185.9300', '2. high': '187.9900', '3. low': '184.8800', '4. close': '187.8800', '5. volume': '12729334'}, '2025-02-12': {'1. open': '185.2300', '2. high': '186.8300', '3. low': '183.6300', '4. close': '185.4300', '5. volume': '17632314'}, '2025-02-11': {'1. open': '186.8350', '2. high': '188.8000', '3. low': '186.0800', '4. close': '187.0700', '5. volume': '13028100'}, '2025-02-10': {'1. open': '189.0600', '2. high': '189.9900', '3. low': '187.6100', '4. close': '188.2000', '5. volume': '16606020'}, '2025-02-07': {'1. open': '192.7400', '2. high': '193.0150', '3. low': '185.1000', '4. close': '187.1400', '5. volume': '29565724'}, '2025-02-06': {'1. open': '190.9900', '2. high': '193.8300', '3. low': '190.4900', '4. close': '193.3100', '5. volume': '20816593'}, '2025-02-05': {'1. open': '193.1000', '2. high': '194.5499', '3. low': '189.9100', '4. close': '193.3000', '5. volume': '43719589'}, '2025-02-04': {'1. open': '204.5000', '2. high': '208.7000', '3. low': '204.2600', '4. close': '207.7100', '5. volume': '28285436'}, '2025-02-03': {'1. open': '202.2150', '2. high': '205.2200', '3. low': '201.6600', '4. close': '202.6400', '5. volume': '16719469'}, '2025-01-31': {'1. open': '203.7150', '2. high': '207.0800', '3. low': '203.5800', '4. close': '205.6000', '5. volume': '17087335'}, '2025-01-30': {'1. open': '199.7600', '2. high': '203.2384', '3. low': '199.4717', '4. close': '202.6300', '5. volume': '14571479'}, '2025-01-29': {'1. open': '197.3700', '2. high': '198.4595', '3. low': '195.1900', '4. close': '197.1800', '5. volume': '12287818'}, '2025-01-28': {'1. open': '194.6500', '2. high': '197.2300', '3. low': '192.6100', '4. close': '197.0700', '5. volume': '15939161'}, '2025-01-27': {'1. open': '194.1900', '2. high': '198.6700', '3. low': '192.7000', '4. close': '193.7700', '5. volume': '24970173'}, '2025-01-24': {'1. open': '199.8500', '2. high': '202.5700', '3. low': '199.7842', '4. close': '201.9000', '5. volume': '12732376'}, '2025-01-23': {'1. open': '199.9800', '2. high': '201.9400', '3. low': '196.8200', '4. close': '199.5800', '5. volume': '15170838'}, '2025-01-22': {'1. open': '200.5500', '2. high': '202.1200', '3. low': '199.2000', '4. close': '200.0300', '5. volume': '15477376'}, '2025-01-21': {'1. open': '200.5100', '2. high': '203.8400', '3. low': '199.4400', '4. close': '199.6300', '5. volume': '19005232'}, '2025-01-17': {'1. open': '198.0500', '2. high': '198.8100', '3. low': '195.3100', '4. close': '197.5500', '5. volume': '22109129'}, '2025-01-16': {'1. open': '195.8250', '2. high': '196.9799', '3. low': '194.3000', '4. close': '194.4100', '5. volume': '13449581'}, '2025-01-15': {'1. open': '194.3500', '2. high': '197.8000', '3. low': '193.3300', '4. close': '196.9800', '5. volume': '12894875'}, '2025-01-14': {'1. open': '192.5000', '2. high': '193.2700', '3. low': '189.6400', '4. close': '191.0500', '5. volume': '13651183'}, '2025-01-13': {'1. open': '191.3500', '2. high': '192.4900', '3. low': '188.6600', '4. close': '192.2900', '5. volume': '13169060'}, '2025-01-10': {'1. open': '195.4200', '2. high': '197.6200', '3. low': '191.6000', '4. close': '193.1700', '5. volume': '20753794'}, '2025-01-08': {'1. open': '193.9500', '2. high': '197.6400', '3. low': '193.7500', '4. close': '195.3900', '5. volume': '14335341'}, '2025-01-07': {'1. open': '198.2700', '2. high': '202.1400', '3. low': '195.9400', '4. close': '196.7100', '5. volume': '16966760'}, '2025-01-06': {'1. open': '195.1500', '2. high': '199.5600', '3. low': '195.0600', '4. close': '197.9600', '5. volume': '19483323'}, '2025-01-03': {'1. open': '192.7250', '2. high': '194.5000', '3. low': '191.3500', '4. close': '193.1300', '5. volume': '12874957'}, '2025-01-02': {'1. open': '191.4850', '2. high': '193.2000', '3. low': '188.7100', '4. close': '190.6300', '5. volume': '17545162'}, '2024-12-31': {'1. open': '192.4450', '2. high': '193.2500', '3. low': '189.5800', '4. close': '190.4400', '5. volume': '14355221'}, '2024-12-30': {'1. open': '190.8650', '2. high': '193.7800', '3. low': '190.3600', '4. close': '192.6900', '5. volume': '12209534'}, '2024-12-27': {'1. open': '196.4700', '2. high': '196.8000', '3. low': '191.9720', '4. close': '194.0400', '5. volume': '14692994'}, '2024-12-26': {'1. open': '196.7400', '2. high': '198.1600', '3. low': '195.8700', '4. close': '197.1000', '5. volume': '7918434'}, '2024-12-24': {'1. open': '196.1700', '2. high': '197.6700', '3. low': '195.1979', '4. close': '197.5700', '5. volume': '6809823'}, '2024-12-23': {'1. open': '194.0300', '2. high': '196.4900', '3. low': '191.6300', '4. close': '195.9900', '5. volume': '15235942'}, '2024-12-20': {'1. open': '187.0100', '2. high': '194.1354', '3. low': '186.3700', '4. close': '192.9600', '5. volume': '45319703'}, '2024-12-19': {'1. open': '193.2800', '2. high': '194.6000', '3. low': '189.5200', '4. close': '189.7000', '5. volume': '26981196'}, '2024-12-18': {'1. open': '196.8300', '2. high': '198.6899', '3. low': '189.2800', '4. close': '190.1500', '5. volume': '27638416'}, '2024-12-17': {'1. open': '198.5300', '2. high': '202.8800', '3. low': '196.6900', '4. close': '197.1200', '5. volume': '24129481'}, '2024-12-16': {'1. open': '194.3650', '2. high': '200.6400', '3. low': '194.1100', '4. close': '198.1600', '5. volume': '32248640'}, '2024-12-13': {'1. open': '192.7100', '2. high': '194.3400', '3. low': '191.2600', '4. close': '191.3800', '5. volume': '18883217'}, '2024-12-12': {'1. open': '196.3000', '2. high': '196.7053', '3. low': '193.2800', '4. close': '193.6300', '5. volume': '25197757'}, '2024-12-11': {'1. open': '186.7000', '2. high': '196.8900', '3. low': '186.2600', '4. close': '196.7100', '5. volume': '41664489'}, '2024-12-10': {'1. open': '184.5350', '2. high': '188.0300', '3. low': '182.6700', '4. close': '186.5300', '5. volume': '34317438'}, '2024-12-09': {'1. open': '175.7150', '2. high': '178.0400', '3. low': '175.4000', '4. close': '177.1000', '5. volume': '19887786'}, '2024-12-06': {'1. open': '173.8800', '2. high': '176.8389', '3. low': '173.5500', '4. close': '176.4900', '5. volume': '13319549'}, '2024-12-05': {'1. open': '177.3200', '2. high': '177.7100', '3. low': '174.0100', '4. close': '174.3100', '5. volume': '16145520'}, '2024-12-04': {'1. open': '172.7800', '2. high': '176.4300', '3. low': '172.7500', '4. close': '176.0900', '5. volume': '18239842'}, '2024-12-03': {'1. open': '173.1200', '2. high': '174.3200', '3. low': '172.5100', '4. close': '173.0200', '5. volume': '15721483'}, '2024-12-02': {'1. open': '170.3200', '2. high': '173.6000', '3. low': '170.2700', '4. close': '172.9800', '5. volume': '16593444'}, '2024-11-29': {'1. open': '170.0600', '2. high': '170.8700', '3. low': '168.7500', '4. close': '170.4900', '5. volume': '9250712'}, '2024-11-27': {'1. open': '170.6800', '2. high': '171.1400', '3. low': '169.6700', '4. close': '170.8200', '5. volume': '12433371'}, '2024-11-26': {'1. open': '169.4900', '2. high': '171.4950', '3. low': '169.4300', '4. close': '170.6200', '5. volume': '14937478'}, '2024-11-25': {'1. open': '167.9900', '2. high': '170.4600', '3. low': '167.4000', '4. close': '169.4300', '5. volume': '21395652'}, '2024-11-22': {'1. open': '167.1600', '2. high': '168.2645', '3. low': '165.7100', '4. close': '166.5700', '5. volume': '24497042'}, '2024-11-21': {'1. open': '175.4550', '2. high': '175.5800', '3. low': '165.3100', '4. close': '169.2400', '5. volume': '38839431'}, '2024-11-20': {'1. open': '178.8300', '2. high': '179.1100', '3. low': '175.3300', '4. close': '177.3300', '5. volume': '15729806'}, '2024-11-19': {'1. open': '175.2350', '2. high': '180.1700', '3. low': '175.1160', '4. close': '179.5800', '5. volume': '15392866'}, '2024-11-18': {'1. open': '174.9550', '2. high': '176.9100', '3. low': '174.4200', '4. close': '176.8000', '5. volume': '18725422'}, '2024-11-15': {'1. open': '175.6400', '2. high': '175.8800', '3. low': '172.7450', '4. close': '173.8900', '5. volume': '21708870'}, '2024-11-14': {'1. open': '179.7500', '2. high': '180.4450', '3. low': '176.0300', '4. close': '177.3500', '5. volume': '17925763'}, '2024-11-13': {'1. open': '182.1500', '2. high': '182.6150', '3. low': '180.1200', '4. close': '180.4900', '5. volume': '13969709'}, '2024-11-12': {'1. open': '181.3800', '2. high': '184.0250', '3. low': '180.9900', '4. close': '183.3200', '5. volume': '14065845'}, '2024-11-11': {'1. open': '180.0700', '2. high': '182.0850', '3. low': '179.9900', '4. close': '181.9700', '5. volume': '12503422'}, '2024-11-08': {'1. open': '182.0000', '2. high': '182.3500', '3. low': '179.5700', '4. close': '179.8600', '5. volume': '15021549'}, '2024-11-07': {'1. open': '179.1100', '2. high': '182.5800', '3. low': '178.8900', '4. close': '182.2800', '5. volume': '16730407'}, '2024-11-06': {'1. open': '175.3500', '2. high': '178.6400', '3. low': '175.0400', '4. close': '178.3300', '5. volume': '27061510'}, '2024-11-05': {'1. open': '170.8300', '2. high': '172.0973', '3. low': '170.3700', '4. close': '171.4100', '5. volume': '12518282'}, '2024-11-04': {'1. open': '171.2400', '2. high': '171.9200', '3. low': '169.4850', '4. close': '170.6800', '5. volume': '16193994'}, '2024-11-01': {'1. open': '171.5400', '2. high': '173.8200', '3. low': '170.3100', '4. close': '172.6500', '5. volume': '21752859'}, '2024-10-31': {'1. open': '174.7200', '2. high': '178.4200', '3. low': '172.5600', '4. close': '172.6900', '5. volume': '32801898'}, '2024-10-30': {'1. open': '182.4100', '2. high': '183.7900', '3. low': '175.7451', '4. close': '176.1400', '5. volume': '49698313'}, '2024-10-29': {'1. open': '169.3850', '2. high': '171.8600', '3. low': '168.6600', '4. close': '171.1400', '5. volume': '28916106'}, '2024-10-28': {'1. open': '170.5900', '2. high': '170.6060', '3. low': '165.7900', '4. close': '168.3400', '5. volume': '20858254'}, '2024-10-25': {'1. open': '165.3650', '2. high': '167.4000', '3. low': '165.2300', '4. close': '166.9900', '5. volume': '14566410'}, '2024-10-24': {'1. open': '164.5900', '2. high': '165.0500', '3. low': '162.7700', '4. close': '164.5300', '5. volume': '12764430'}, '2024-10-23': {'1. open': '166.4300', '2. high': '167.6000', '3. low': '163.6325', '4. close': '164.4800', '5. volume': '12754283'}, '2024-10-22': {'1. open': '164.7000', '2. high': '167.4700', '3. low': '164.6700', '4. close': '166.8200', '5. volume': '11958617'}}}\n",
      "JSON data loaded from file:\n",
      "{'Meta Data': {'1. Information': 'Daily Prices (open, high, low, close) and Volumes', '2. Symbol': 'GOOG', '3. Last Refreshed': '2025-03-18', '4. Output Size': 'Compact', '5. Time Zone': 'US/Eastern'}, 'Time Series (Daily)': {'2025-03-18': {'1. open': '165.9600', '2. high': '166.4400', '3. low': '158.8000', '4. close': '162.6700', '5. volume': '24616784'}, '2025-03-17': {'1. open': '167.3250', '2. high': '168.4600', '3. low': '165.8100', '4. close': '166.5700', '5. volume': '17839139'}, '2025-03-14': {'1. open': '165.3150', '2. high': '168.2500', '3. low': '164.5100', '4. close': '167.6200', '5. volume': '18611094'}, '2025-03-13': {'1. open': '167.9800', '2. high': '168.1200', '3. low': '164.0700', '4. close': '164.7300', '5. volume': '15206165'}, '2025-03-12': {'1. open': '168.4700', '2. high': '169.5300', '3. low': '165.4800', '4. close': '169.0000', '5. volume': '19880062'}, '2025-03-11': {'1. open': '166.6800', '2. high': '168.6550', '3. low': '163.2400', '4. close': '165.9800', '5. volume': '23705899'}, '2025-03-10': {'1. open': '170.1600', '2. high': '170.4500', '3. low': '165.5650', '4. close': '167.8100', '5. volume': '28335500'}, '2025-03-07': {'1. open': '173.2420', '2. high': '176.9000', '3. low': '172.2500', '4. close': '175.7500', '5. volume': '16395287'}, '2025-03-06': {'1. open': '172.5500', '2. high': '176.7300', '3. low': '172.5080', '4. close': '174.2100', '5. volume': '19082404'}, '2025-03-05': {'1. open': '172.3200', '2. high': '175.7500', '3. low': '170.9300', '4. close': '174.9900', '5. volume': '18848036'}, '2025-03-04': {'1. open': '167.9400', '2. high': '175.1650', '3. low': '167.5400', '4. close': '172.6100', '5. volume': '30711408'}, '2025-03-03': {'1. open': '173.7300', '2. high': '175.0000', '3. low': '167.6400', '4. close': '168.6600', '5. volume': '24121991'}, '2025-02-28': {'1. open': '170.3000', '2. high': '172.5000', '3. low': '168.3900', '4. close': '172.2200', '5. volume': '30049812'}, '2025-02-27': {'1. open': '175.9400', '2. high': '176.5900', '3. low': '169.7520', '4. close': '170.2100', '5. volume': '25930530'}, '2025-02-26': {'1. open': '176.9450', '2. high': '178.0800', '3. low': '173.5900', '4. close': '174.7000', '5. volume': '23693251'}, '2025-02-25': {'1. open': '180.1550', '2. high': '180.7600', '3. low': '176.7700', '4. close': '177.3700', '5. volume': '20832485'}, '2025-02-24': {'1. open': '183.8000', '2. high': '185.0900', '3. low': '180.8800', '4. close': '181.1900', '5. volume': '18734014'}, '2025-02-21': {'1. open': '187.2900', '2. high': '187.4700', '3. low': '181.1300', '4. close': '181.5800', '5. volume': '19520782'}, '2025-02-20': {'1. open': '186.5000', '2. high': '187.1200', '3. low': '184.6000', '4. close': '186.6400', '5. volume': '12063807'}, '2025-02-19': {'1. open': '186.1850', '2. high': '187.3600', '3. low': '185.5000', '4. close': '187.1300', '5. volume': '13120465'}, '2025-02-18': {'1. open': '187.4400', '2. high': '187.7800', '3. low': '183.5800', '4. close': '185.8000', '5. volume': '19796028'}, '2025-02-14': {'1. open': '186.8300', '2. high': '188.1500', '3. low': '186.1100', '4. close': '186.8700', '5. volume': '12714154'}, '2025-02-13': {'1. open': '185.9300', '2. high': '187.9900', '3. low': '184.8800', '4. close': '187.8800', '5. volume': '12729334'}, '2025-02-12': {'1. open': '185.2300', '2. high': '186.8300', '3. low': '183.6300', '4. close': '185.4300', '5. volume': '17632314'}, '2025-02-11': {'1. open': '186.8350', '2. high': '188.8000', '3. low': '186.0800', '4. close': '187.0700', '5. volume': '13028100'}, '2025-02-10': {'1. open': '189.0600', '2. high': '189.9900', '3. low': '187.6100', '4. close': '188.2000', '5. volume': '16606020'}, '2025-02-07': {'1. open': '192.7400', '2. high': '193.0150', '3. low': '185.1000', '4. close': '187.1400', '5. volume': '29565724'}, '2025-02-06': {'1. open': '190.9900', '2. high': '193.8300', '3. low': '190.4900', '4. close': '193.3100', '5. volume': '20816593'}, '2025-02-05': {'1. open': '193.1000', '2. high': '194.5499', '3. low': '189.9100', '4. close': '193.3000', '5. volume': '43719589'}, '2025-02-04': {'1. open': '204.5000', '2. high': '208.7000', '3. low': '204.2600', '4. close': '207.7100', '5. volume': '28285436'}, '2025-02-03': {'1. open': '202.2150', '2. high': '205.2200', '3. low': '201.6600', '4. close': '202.6400', '5. volume': '16719469'}, '2025-01-31': {'1. open': '203.7150', '2. high': '207.0800', '3. low': '203.5800', '4. close': '205.6000', '5. volume': '17087335'}, '2025-01-30': {'1. open': '199.7600', '2. high': '203.2384', '3. low': '199.4717', '4. close': '202.6300', '5. volume': '14571479'}, '2025-01-29': {'1. open': '197.3700', '2. high': '198.4595', '3. low': '195.1900', '4. close': '197.1800', '5. volume': '12287818'}, '2025-01-28': {'1. open': '194.6500', '2. high': '197.2300', '3. low': '192.6100', '4. close': '197.0700', '5. volume': '15939161'}, '2025-01-27': {'1. open': '194.1900', '2. high': '198.6700', '3. low': '192.7000', '4. close': '193.7700', '5. volume': '24970173'}, '2025-01-24': {'1. open': '199.8500', '2. high': '202.5700', '3. low': '199.7842', '4. close': '201.9000', '5. volume': '12732376'}, '2025-01-23': {'1. open': '199.9800', '2. high': '201.9400', '3. low': '196.8200', '4. close': '199.5800', '5. volume': '15170838'}, '2025-01-22': {'1. open': '200.5500', '2. high': '202.1200', '3. low': '199.2000', '4. close': '200.0300', '5. volume': '15477376'}, '2025-01-21': {'1. open': '200.5100', '2. high': '203.8400', '3. low': '199.4400', '4. close': '199.6300', '5. volume': '19005232'}, '2025-01-17': {'1. open': '198.0500', '2. high': '198.8100', '3. low': '195.3100', '4. close': '197.5500', '5. volume': '22109129'}, '2025-01-16': {'1. open': '195.8250', '2. high': '196.9799', '3. low': '194.3000', '4. close': '194.4100', '5. volume': '13449581'}, '2025-01-15': {'1. open': '194.3500', '2. high': '197.8000', '3. low': '193.3300', '4. close': '196.9800', '5. volume': '12894875'}, '2025-01-14': {'1. open': '192.5000', '2. high': '193.2700', '3. low': '189.6400', '4. close': '191.0500', '5. volume': '13651183'}, '2025-01-13': {'1. open': '191.3500', '2. high': '192.4900', '3. low': '188.6600', '4. close': '192.2900', '5. volume': '13169060'}, '2025-01-10': {'1. open': '195.4200', '2. high': '197.6200', '3. low': '191.6000', '4. close': '193.1700', '5. volume': '20753794'}, '2025-01-08': {'1. open': '193.9500', '2. high': '197.6400', '3. low': '193.7500', '4. close': '195.3900', '5. volume': '14335341'}, '2025-01-07': {'1. open': '198.2700', '2. high': '202.1400', '3. low': '195.9400', '4. close': '196.7100', '5. volume': '16966760'}, '2025-01-06': {'1. open': '195.1500', '2. high': '199.5600', '3. low': '195.0600', '4. close': '197.9600', '5. volume': '19483323'}, '2025-01-03': {'1. open': '192.7250', '2. high': '194.5000', '3. low': '191.3500', '4. close': '193.1300', '5. volume': '12874957'}, '2025-01-02': {'1. open': '191.4850', '2. high': '193.2000', '3. low': '188.7100', '4. close': '190.6300', '5. volume': '17545162'}, '2024-12-31': {'1. open': '192.4450', '2. high': '193.2500', '3. low': '189.5800', '4. close': '190.4400', '5. volume': '14355221'}, '2024-12-30': {'1. open': '190.8650', '2. high': '193.7800', '3. low': '190.3600', '4. close': '192.6900', '5. volume': '12209534'}, '2024-12-27': {'1. open': '196.4700', '2. high': '196.8000', '3. low': '191.9720', '4. close': '194.0400', '5. volume': '14692994'}, '2024-12-26': {'1. open': '196.7400', '2. high': '198.1600', '3. low': '195.8700', '4. close': '197.1000', '5. volume': '7918434'}, '2024-12-24': {'1. open': '196.1700', '2. high': '197.6700', '3. low': '195.1979', '4. close': '197.5700', '5. volume': '6809823'}, '2024-12-23': {'1. open': '194.0300', '2. high': '196.4900', '3. low': '191.6300', '4. close': '195.9900', '5. volume': '15235942'}, '2024-12-20': {'1. open': '187.0100', '2. high': '194.1354', '3. low': '186.3700', '4. close': '192.9600', '5. volume': '45319703'}, '2024-12-19': {'1. open': '193.2800', '2. high': '194.6000', '3. low': '189.5200', '4. close': '189.7000', '5. volume': '26981196'}, '2024-12-18': {'1. open': '196.8300', '2. high': '198.6899', '3. low': '189.2800', '4. close': '190.1500', '5. volume': '27638416'}, '2024-12-17': {'1. open': '198.5300', '2. high': '202.8800', '3. low': '196.6900', '4. close': '197.1200', '5. volume': '24129481'}, '2024-12-16': {'1. open': '194.3650', '2. high': '200.6400', '3. low': '194.1100', '4. close': '198.1600', '5. volume': '32248640'}, '2024-12-13': {'1. open': '192.7100', '2. high': '194.3400', '3. low': '191.2600', '4. close': '191.3800', '5. volume': '18883217'}, '2024-12-12': {'1. open': '196.3000', '2. high': '196.7053', '3. low': '193.2800', '4. close': '193.6300', '5. volume': '25197757'}, '2024-12-11': {'1. open': '186.7000', '2. high': '196.8900', '3. low': '186.2600', '4. close': '196.7100', '5. volume': '41664489'}, '2024-12-10': {'1. open': '184.5350', '2. high': '188.0300', '3. low': '182.6700', '4. close': '186.5300', '5. volume': '34317438'}, '2024-12-09': {'1. open': '175.7150', '2. high': '178.0400', '3. low': '175.4000', '4. close': '177.1000', '5. volume': '19887786'}, '2024-12-06': {'1. open': '173.8800', '2. high': '176.8389', '3. low': '173.5500', '4. close': '176.4900', '5. volume': '13319549'}, '2024-12-05': {'1. open': '177.3200', '2. high': '177.7100', '3. low': '174.0100', '4. close': '174.3100', '5. volume': '16145520'}, '2024-12-04': {'1. open': '172.7800', '2. high': '176.4300', '3. low': '172.7500', '4. close': '176.0900', '5. volume': '18239842'}, '2024-12-03': {'1. open': '173.1200', '2. high': '174.3200', '3. low': '172.5100', '4. close': '173.0200', '5. volume': '15721483'}, '2024-12-02': {'1. open': '170.3200', '2. high': '173.6000', '3. low': '170.2700', '4. close': '172.9800', '5. volume': '16593444'}, '2024-11-29': {'1. open': '170.0600', '2. high': '170.8700', '3. low': '168.7500', '4. close': '170.4900', '5. volume': '9250712'}, '2024-11-27': {'1. open': '170.6800', '2. high': '171.1400', '3. low': '169.6700', '4. close': '170.8200', '5. volume': '12433371'}, '2024-11-26': {'1. open': '169.4900', '2. high': '171.4950', '3. low': '169.4300', '4. close': '170.6200', '5. volume': '14937478'}, '2024-11-25': {'1. open': '167.9900', '2. high': '170.4600', '3. low': '167.4000', '4. close': '169.4300', '5. volume': '21395652'}, '2024-11-22': {'1. open': '167.1600', '2. high': '168.2645', '3. low': '165.7100', '4. close': '166.5700', '5. volume': '24497042'}, '2024-11-21': {'1. open': '175.4550', '2. high': '175.5800', '3. low': '165.3100', '4. close': '169.2400', '5. volume': '38839431'}, '2024-11-20': {'1. open': '178.8300', '2. high': '179.1100', '3. low': '175.3300', '4. close': '177.3300', '5. volume': '15729806'}, '2024-11-19': {'1. open': '175.2350', '2. high': '180.1700', '3. low': '175.1160', '4. close': '179.5800', '5. volume': '15392866'}, '2024-11-18': {'1. open': '174.9550', '2. high': '176.9100', '3. low': '174.4200', '4. close': '176.8000', '5. volume': '18725422'}, '2024-11-15': {'1. open': '175.6400', '2. high': '175.8800', '3. low': '172.7450', '4. close': '173.8900', '5. volume': '21708870'}, '2024-11-14': {'1. open': '179.7500', '2. high': '180.4450', '3. low': '176.0300', '4. close': '177.3500', '5. volume': '17925763'}, '2024-11-13': {'1. open': '182.1500', '2. high': '182.6150', '3. low': '180.1200', '4. close': '180.4900', '5. volume': '13969709'}, '2024-11-12': {'1. open': '181.3800', '2. high': '184.0250', '3. low': '180.9900', '4. close': '183.3200', '5. volume': '14065845'}, '2024-11-11': {'1. open': '180.0700', '2. high': '182.0850', '3. low': '179.9900', '4. close': '181.9700', '5. volume': '12503422'}, '2024-11-08': {'1. open': '182.0000', '2. high': '182.3500', '3. low': '179.5700', '4. close': '179.8600', '5. volume': '15021549'}, '2024-11-07': {'1. open': '179.1100', '2. high': '182.5800', '3. low': '178.8900', '4. close': '182.2800', '5. volume': '16730407'}, '2024-11-06': {'1. open': '175.3500', '2. high': '178.6400', '3. low': '175.0400', '4. close': '178.3300', '5. volume': '27061510'}, '2024-11-05': {'1. open': '170.8300', '2. high': '172.0973', '3. low': '170.3700', '4. close': '171.4100', '5. volume': '12518282'}, '2024-11-04': {'1. open': '171.2400', '2. high': '171.9200', '3. low': '169.4850', '4. close': '170.6800', '5. volume': '16193994'}, '2024-11-01': {'1. open': '171.5400', '2. high': '173.8200', '3. low': '170.3100', '4. close': '172.6500', '5. volume': '21752859'}, '2024-10-31': {'1. open': '174.7200', '2. high': '178.4200', '3. low': '172.5600', '4. close': '172.6900', '5. volume': '32801898'}, '2024-10-30': {'1. open': '182.4100', '2. high': '183.7900', '3. low': '175.7451', '4. close': '176.1400', '5. volume': '49698313'}, '2024-10-29': {'1. open': '169.3850', '2. high': '171.8600', '3. low': '168.6600', '4. close': '171.1400', '5. volume': '28916106'}, '2024-10-28': {'1. open': '170.5900', '2. high': '170.6060', '3. low': '165.7900', '4. close': '168.3400', '5. volume': '20858254'}, '2024-10-25': {'1. open': '165.3650', '2. high': '167.4000', '3. low': '165.2300', '4. close': '166.9900', '5. volume': '14566410'}, '2024-10-24': {'1. open': '164.5900', '2. high': '165.0500', '3. low': '162.7700', '4. close': '164.5300', '5. volume': '12764430'}, '2024-10-23': {'1. open': '166.4300', '2. high': '167.6000', '3. low': '163.6325', '4. close': '164.4800', '5. volume': '12754283'}, '2024-10-22': {'1. open': '164.7000', '2. high': '167.4700', '3. low': '164.6700', '4. close': '166.8200', '5. volume': '11958617'}}}\n"
     ]
    }
   ],
   "source": [
    "import requests\n",
    "import json\n",
    "\n",
    "ticker = 'GOOG'\n",
    "#api_key = 'Your key here'\n",
    "\n",
    "api_url = f'https://www.alphavantage.co/query?function=TIME_SERIES_DAILY&symbol={ticker}&apikey={api_key}'\n",
    "\n",
    "# Make API request\n",
    "response = requests.get(api_url)\n",
    "print(\"JSON from response:\")\n",
    "print(response.json())\n",
    "\n",
    "# Convert the response to a dictionary\n",
    "data = response.json()\n",
    "\n",
    "# Write the JSON data to a file\n",
    "with open('sample_GOOG.json', 'w') as f:\n",
    "    json.dump(data, f, indent=4)\n",
    "\n",
    "# Opening JSON file and loading the data back as a dictionary\n",
    "with open('sample_GOOG.json', 'r') as f:\n",
    "    data = json.load(f)\n",
    "\n",
    "print(\"JSON data loaded from file:\")\n",
    "print(data)\n"
   ]
  },
  {
   "cell_type": "code",
   "execution_count": 5,
   "id": "8edaa841",
   "metadata": {},
   "outputs": [
    {
     "data": {
      "text/plain": [
       "{'2025-03-18': {'1. open': '165.9600',\n",
       "  '2. high': '166.4400',\n",
       "  '3. low': '158.8000',\n",
       "  '4. close': '162.6700',\n",
       "  '5. volume': '24616784'},\n",
       " '2025-03-17': {'1. open': '167.3250',\n",
       "  '2. high': '168.4600',\n",
       "  '3. low': '165.8100',\n",
       "  '4. close': '166.5700',\n",
       "  '5. volume': '17839139'},\n",
       " '2025-03-14': {'1. open': '165.3150',\n",
       "  '2. high': '168.2500',\n",
       "  '3. low': '164.5100',\n",
       "  '4. close': '167.6200',\n",
       "  '5. volume': '18611094'},\n",
       " '2025-03-13': {'1. open': '167.9800',\n",
       "  '2. high': '168.1200',\n",
       "  '3. low': '164.0700',\n",
       "  '4. close': '164.7300',\n",
       "  '5. volume': '15206165'},\n",
       " '2025-03-12': {'1. open': '168.4700',\n",
       "  '2. high': '169.5300',\n",
       "  '3. low': '165.4800',\n",
       "  '4. close': '169.0000',\n",
       "  '5. volume': '19880062'},\n",
       " '2025-03-11': {'1. open': '166.6800',\n",
       "  '2. high': '168.6550',\n",
       "  '3. low': '163.2400',\n",
       "  '4. close': '165.9800',\n",
       "  '5. volume': '23705899'},\n",
       " '2025-03-10': {'1. open': '170.1600',\n",
       "  '2. high': '170.4500',\n",
       "  '3. low': '165.5650',\n",
       "  '4. close': '167.8100',\n",
       "  '5. volume': '28335500'},\n",
       " '2025-03-07': {'1. open': '173.2420',\n",
       "  '2. high': '176.9000',\n",
       "  '3. low': '172.2500',\n",
       "  '4. close': '175.7500',\n",
       "  '5. volume': '16395287'},\n",
       " '2025-03-06': {'1. open': '172.5500',\n",
       "  '2. high': '176.7300',\n",
       "  '3. low': '172.5080',\n",
       "  '4. close': '174.2100',\n",
       "  '5. volume': '19082404'},\n",
       " '2025-03-05': {'1. open': '172.3200',\n",
       "  '2. high': '175.7500',\n",
       "  '3. low': '170.9300',\n",
       "  '4. close': '174.9900',\n",
       "  '5. volume': '18848036'},\n",
       " '2025-03-04': {'1. open': '167.9400',\n",
       "  '2. high': '175.1650',\n",
       "  '3. low': '167.5400',\n",
       "  '4. close': '172.6100',\n",
       "  '5. volume': '30711408'},\n",
       " '2025-03-03': {'1. open': '173.7300',\n",
       "  '2. high': '175.0000',\n",
       "  '3. low': '167.6400',\n",
       "  '4. close': '168.6600',\n",
       "  '5. volume': '24121991'},\n",
       " '2025-02-28': {'1. open': '170.3000',\n",
       "  '2. high': '172.5000',\n",
       "  '3. low': '168.3900',\n",
       "  '4. close': '172.2200',\n",
       "  '5. volume': '30049812'},\n",
       " '2025-02-27': {'1. open': '175.9400',\n",
       "  '2. high': '176.5900',\n",
       "  '3. low': '169.7520',\n",
       "  '4. close': '170.2100',\n",
       "  '5. volume': '25930530'},\n",
       " '2025-02-26': {'1. open': '176.9450',\n",
       "  '2. high': '178.0800',\n",
       "  '3. low': '173.5900',\n",
       "  '4. close': '174.7000',\n",
       "  '5. volume': '23693251'},\n",
       " '2025-02-25': {'1. open': '180.1550',\n",
       "  '2. high': '180.7600',\n",
       "  '3. low': '176.7700',\n",
       "  '4. close': '177.3700',\n",
       "  '5. volume': '20832485'},\n",
       " '2025-02-24': {'1. open': '183.8000',\n",
       "  '2. high': '185.0900',\n",
       "  '3. low': '180.8800',\n",
       "  '4. close': '181.1900',\n",
       "  '5. volume': '18734014'},\n",
       " '2025-02-21': {'1. open': '187.2900',\n",
       "  '2. high': '187.4700',\n",
       "  '3. low': '181.1300',\n",
       "  '4. close': '181.5800',\n",
       "  '5. volume': '19520782'},\n",
       " '2025-02-20': {'1. open': '186.5000',\n",
       "  '2. high': '187.1200',\n",
       "  '3. low': '184.6000',\n",
       "  '4. close': '186.6400',\n",
       "  '5. volume': '12063807'},\n",
       " '2025-02-19': {'1. open': '186.1850',\n",
       "  '2. high': '187.3600',\n",
       "  '3. low': '185.5000',\n",
       "  '4. close': '187.1300',\n",
       "  '5. volume': '13120465'},\n",
       " '2025-02-18': {'1. open': '187.4400',\n",
       "  '2. high': '187.7800',\n",
       "  '3. low': '183.5800',\n",
       "  '4. close': '185.8000',\n",
       "  '5. volume': '19796028'},\n",
       " '2025-02-14': {'1. open': '186.8300',\n",
       "  '2. high': '188.1500',\n",
       "  '3. low': '186.1100',\n",
       "  '4. close': '186.8700',\n",
       "  '5. volume': '12714154'},\n",
       " '2025-02-13': {'1. open': '185.9300',\n",
       "  '2. high': '187.9900',\n",
       "  '3. low': '184.8800',\n",
       "  '4. close': '187.8800',\n",
       "  '5. volume': '12729334'},\n",
       " '2025-02-12': {'1. open': '185.2300',\n",
       "  '2. high': '186.8300',\n",
       "  '3. low': '183.6300',\n",
       "  '4. close': '185.4300',\n",
       "  '5. volume': '17632314'},\n",
       " '2025-02-11': {'1. open': '186.8350',\n",
       "  '2. high': '188.8000',\n",
       "  '3. low': '186.0800',\n",
       "  '4. close': '187.0700',\n",
       "  '5. volume': '13028100'},\n",
       " '2025-02-10': {'1. open': '189.0600',\n",
       "  '2. high': '189.9900',\n",
       "  '3. low': '187.6100',\n",
       "  '4. close': '188.2000',\n",
       "  '5. volume': '16606020'},\n",
       " '2025-02-07': {'1. open': '192.7400',\n",
       "  '2. high': '193.0150',\n",
       "  '3. low': '185.1000',\n",
       "  '4. close': '187.1400',\n",
       "  '5. volume': '29565724'},\n",
       " '2025-02-06': {'1. open': '190.9900',\n",
       "  '2. high': '193.8300',\n",
       "  '3. low': '190.4900',\n",
       "  '4. close': '193.3100',\n",
       "  '5. volume': '20816593'},\n",
       " '2025-02-05': {'1. open': '193.1000',\n",
       "  '2. high': '194.5499',\n",
       "  '3. low': '189.9100',\n",
       "  '4. close': '193.3000',\n",
       "  '5. volume': '43719589'},\n",
       " '2025-02-04': {'1. open': '204.5000',\n",
       "  '2. high': '208.7000',\n",
       "  '3. low': '204.2600',\n",
       "  '4. close': '207.7100',\n",
       "  '5. volume': '28285436'},\n",
       " '2025-02-03': {'1. open': '202.2150',\n",
       "  '2. high': '205.2200',\n",
       "  '3. low': '201.6600',\n",
       "  '4. close': '202.6400',\n",
       "  '5. volume': '16719469'},\n",
       " '2025-01-31': {'1. open': '203.7150',\n",
       "  '2. high': '207.0800',\n",
       "  '3. low': '203.5800',\n",
       "  '4. close': '205.6000',\n",
       "  '5. volume': '17087335'},\n",
       " '2025-01-30': {'1. open': '199.7600',\n",
       "  '2. high': '203.2384',\n",
       "  '3. low': '199.4717',\n",
       "  '4. close': '202.6300',\n",
       "  '5. volume': '14571479'},\n",
       " '2025-01-29': {'1. open': '197.3700',\n",
       "  '2. high': '198.4595',\n",
       "  '3. low': '195.1900',\n",
       "  '4. close': '197.1800',\n",
       "  '5. volume': '12287818'},\n",
       " '2025-01-28': {'1. open': '194.6500',\n",
       "  '2. high': '197.2300',\n",
       "  '3. low': '192.6100',\n",
       "  '4. close': '197.0700',\n",
       "  '5. volume': '15939161'},\n",
       " '2025-01-27': {'1. open': '194.1900',\n",
       "  '2. high': '198.6700',\n",
       "  '3. low': '192.7000',\n",
       "  '4. close': '193.7700',\n",
       "  '5. volume': '24970173'},\n",
       " '2025-01-24': {'1. open': '199.8500',\n",
       "  '2. high': '202.5700',\n",
       "  '3. low': '199.7842',\n",
       "  '4. close': '201.9000',\n",
       "  '5. volume': '12732376'},\n",
       " '2025-01-23': {'1. open': '199.9800',\n",
       "  '2. high': '201.9400',\n",
       "  '3. low': '196.8200',\n",
       "  '4. close': '199.5800',\n",
       "  '5. volume': '15170838'},\n",
       " '2025-01-22': {'1. open': '200.5500',\n",
       "  '2. high': '202.1200',\n",
       "  '3. low': '199.2000',\n",
       "  '4. close': '200.0300',\n",
       "  '5. volume': '15477376'},\n",
       " '2025-01-21': {'1. open': '200.5100',\n",
       "  '2. high': '203.8400',\n",
       "  '3. low': '199.4400',\n",
       "  '4. close': '199.6300',\n",
       "  '5. volume': '19005232'},\n",
       " '2025-01-17': {'1. open': '198.0500',\n",
       "  '2. high': '198.8100',\n",
       "  '3. low': '195.3100',\n",
       "  '4. close': '197.5500',\n",
       "  '5. volume': '22109129'},\n",
       " '2025-01-16': {'1. open': '195.8250',\n",
       "  '2. high': '196.9799',\n",
       "  '3. low': '194.3000',\n",
       "  '4. close': '194.4100',\n",
       "  '5. volume': '13449581'},\n",
       " '2025-01-15': {'1. open': '194.3500',\n",
       "  '2. high': '197.8000',\n",
       "  '3. low': '193.3300',\n",
       "  '4. close': '196.9800',\n",
       "  '5. volume': '12894875'},\n",
       " '2025-01-14': {'1. open': '192.5000',\n",
       "  '2. high': '193.2700',\n",
       "  '3. low': '189.6400',\n",
       "  '4. close': '191.0500',\n",
       "  '5. volume': '13651183'},\n",
       " '2025-01-13': {'1. open': '191.3500',\n",
       "  '2. high': '192.4900',\n",
       "  '3. low': '188.6600',\n",
       "  '4. close': '192.2900',\n",
       "  '5. volume': '13169060'},\n",
       " '2025-01-10': {'1. open': '195.4200',\n",
       "  '2. high': '197.6200',\n",
       "  '3. low': '191.6000',\n",
       "  '4. close': '193.1700',\n",
       "  '5. volume': '20753794'},\n",
       " '2025-01-08': {'1. open': '193.9500',\n",
       "  '2. high': '197.6400',\n",
       "  '3. low': '193.7500',\n",
       "  '4. close': '195.3900',\n",
       "  '5. volume': '14335341'},\n",
       " '2025-01-07': {'1. open': '198.2700',\n",
       "  '2. high': '202.1400',\n",
       "  '3. low': '195.9400',\n",
       "  '4. close': '196.7100',\n",
       "  '5. volume': '16966760'},\n",
       " '2025-01-06': {'1. open': '195.1500',\n",
       "  '2. high': '199.5600',\n",
       "  '3. low': '195.0600',\n",
       "  '4. close': '197.9600',\n",
       "  '5. volume': '19483323'},\n",
       " '2025-01-03': {'1. open': '192.7250',\n",
       "  '2. high': '194.5000',\n",
       "  '3. low': '191.3500',\n",
       "  '4. close': '193.1300',\n",
       "  '5. volume': '12874957'},\n",
       " '2025-01-02': {'1. open': '191.4850',\n",
       "  '2. high': '193.2000',\n",
       "  '3. low': '188.7100',\n",
       "  '4. close': '190.6300',\n",
       "  '5. volume': '17545162'},\n",
       " '2024-12-31': {'1. open': '192.4450',\n",
       "  '2. high': '193.2500',\n",
       "  '3. low': '189.5800',\n",
       "  '4. close': '190.4400',\n",
       "  '5. volume': '14355221'},\n",
       " '2024-12-30': {'1. open': '190.8650',\n",
       "  '2. high': '193.7800',\n",
       "  '3. low': '190.3600',\n",
       "  '4. close': '192.6900',\n",
       "  '5. volume': '12209534'},\n",
       " '2024-12-27': {'1. open': '196.4700',\n",
       "  '2. high': '196.8000',\n",
       "  '3. low': '191.9720',\n",
       "  '4. close': '194.0400',\n",
       "  '5. volume': '14692994'},\n",
       " '2024-12-26': {'1. open': '196.7400',\n",
       "  '2. high': '198.1600',\n",
       "  '3. low': '195.8700',\n",
       "  '4. close': '197.1000',\n",
       "  '5. volume': '7918434'},\n",
       " '2024-12-24': {'1. open': '196.1700',\n",
       "  '2. high': '197.6700',\n",
       "  '3. low': '195.1979',\n",
       "  '4. close': '197.5700',\n",
       "  '5. volume': '6809823'},\n",
       " '2024-12-23': {'1. open': '194.0300',\n",
       "  '2. high': '196.4900',\n",
       "  '3. low': '191.6300',\n",
       "  '4. close': '195.9900',\n",
       "  '5. volume': '15235942'},\n",
       " '2024-12-20': {'1. open': '187.0100',\n",
       "  '2. high': '194.1354',\n",
       "  '3. low': '186.3700',\n",
       "  '4. close': '192.9600',\n",
       "  '5. volume': '45319703'},\n",
       " '2024-12-19': {'1. open': '193.2800',\n",
       "  '2. high': '194.6000',\n",
       "  '3. low': '189.5200',\n",
       "  '4. close': '189.7000',\n",
       "  '5. volume': '26981196'},\n",
       " '2024-12-18': {'1. open': '196.8300',\n",
       "  '2. high': '198.6899',\n",
       "  '3. low': '189.2800',\n",
       "  '4. close': '190.1500',\n",
       "  '5. volume': '27638416'},\n",
       " '2024-12-17': {'1. open': '198.5300',\n",
       "  '2. high': '202.8800',\n",
       "  '3. low': '196.6900',\n",
       "  '4. close': '197.1200',\n",
       "  '5. volume': '24129481'},\n",
       " '2024-12-16': {'1. open': '194.3650',\n",
       "  '2. high': '200.6400',\n",
       "  '3. low': '194.1100',\n",
       "  '4. close': '198.1600',\n",
       "  '5. volume': '32248640'},\n",
       " '2024-12-13': {'1. open': '192.7100',\n",
       "  '2. high': '194.3400',\n",
       "  '3. low': '191.2600',\n",
       "  '4. close': '191.3800',\n",
       "  '5. volume': '18883217'},\n",
       " '2024-12-12': {'1. open': '196.3000',\n",
       "  '2. high': '196.7053',\n",
       "  '3. low': '193.2800',\n",
       "  '4. close': '193.6300',\n",
       "  '5. volume': '25197757'},\n",
       " '2024-12-11': {'1. open': '186.7000',\n",
       "  '2. high': '196.8900',\n",
       "  '3. low': '186.2600',\n",
       "  '4. close': '196.7100',\n",
       "  '5. volume': '41664489'},\n",
       " '2024-12-10': {'1. open': '184.5350',\n",
       "  '2. high': '188.0300',\n",
       "  '3. low': '182.6700',\n",
       "  '4. close': '186.5300',\n",
       "  '5. volume': '34317438'},\n",
       " '2024-12-09': {'1. open': '175.7150',\n",
       "  '2. high': '178.0400',\n",
       "  '3. low': '175.4000',\n",
       "  '4. close': '177.1000',\n",
       "  '5. volume': '19887786'},\n",
       " '2024-12-06': {'1. open': '173.8800',\n",
       "  '2. high': '176.8389',\n",
       "  '3. low': '173.5500',\n",
       "  '4. close': '176.4900',\n",
       "  '5. volume': '13319549'},\n",
       " '2024-12-05': {'1. open': '177.3200',\n",
       "  '2. high': '177.7100',\n",
       "  '3. low': '174.0100',\n",
       "  '4. close': '174.3100',\n",
       "  '5. volume': '16145520'},\n",
       " '2024-12-04': {'1. open': '172.7800',\n",
       "  '2. high': '176.4300',\n",
       "  '3. low': '172.7500',\n",
       "  '4. close': '176.0900',\n",
       "  '5. volume': '18239842'},\n",
       " '2024-12-03': {'1. open': '173.1200',\n",
       "  '2. high': '174.3200',\n",
       "  '3. low': '172.5100',\n",
       "  '4. close': '173.0200',\n",
       "  '5. volume': '15721483'},\n",
       " '2024-12-02': {'1. open': '170.3200',\n",
       "  '2. high': '173.6000',\n",
       "  '3. low': '170.2700',\n",
       "  '4. close': '172.9800',\n",
       "  '5. volume': '16593444'},\n",
       " '2024-11-29': {'1. open': '170.0600',\n",
       "  '2. high': '170.8700',\n",
       "  '3. low': '168.7500',\n",
       "  '4. close': '170.4900',\n",
       "  '5. volume': '9250712'},\n",
       " '2024-11-27': {'1. open': '170.6800',\n",
       "  '2. high': '171.1400',\n",
       "  '3. low': '169.6700',\n",
       "  '4. close': '170.8200',\n",
       "  '5. volume': '12433371'},\n",
       " '2024-11-26': {'1. open': '169.4900',\n",
       "  '2. high': '171.4950',\n",
       "  '3. low': '169.4300',\n",
       "  '4. close': '170.6200',\n",
       "  '5. volume': '14937478'},\n",
       " '2024-11-25': {'1. open': '167.9900',\n",
       "  '2. high': '170.4600',\n",
       "  '3. low': '167.4000',\n",
       "  '4. close': '169.4300',\n",
       "  '5. volume': '21395652'},\n",
       " '2024-11-22': {'1. open': '167.1600',\n",
       "  '2. high': '168.2645',\n",
       "  '3. low': '165.7100',\n",
       "  '4. close': '166.5700',\n",
       "  '5. volume': '24497042'},\n",
       " '2024-11-21': {'1. open': '175.4550',\n",
       "  '2. high': '175.5800',\n",
       "  '3. low': '165.3100',\n",
       "  '4. close': '169.2400',\n",
       "  '5. volume': '38839431'},\n",
       " '2024-11-20': {'1. open': '178.8300',\n",
       "  '2. high': '179.1100',\n",
       "  '3. low': '175.3300',\n",
       "  '4. close': '177.3300',\n",
       "  '5. volume': '15729806'},\n",
       " '2024-11-19': {'1. open': '175.2350',\n",
       "  '2. high': '180.1700',\n",
       "  '3. low': '175.1160',\n",
       "  '4. close': '179.5800',\n",
       "  '5. volume': '15392866'},\n",
       " '2024-11-18': {'1. open': '174.9550',\n",
       "  '2. high': '176.9100',\n",
       "  '3. low': '174.4200',\n",
       "  '4. close': '176.8000',\n",
       "  '5. volume': '18725422'},\n",
       " '2024-11-15': {'1. open': '175.6400',\n",
       "  '2. high': '175.8800',\n",
       "  '3. low': '172.7450',\n",
       "  '4. close': '173.8900',\n",
       "  '5. volume': '21708870'},\n",
       " '2024-11-14': {'1. open': '179.7500',\n",
       "  '2. high': '180.4450',\n",
       "  '3. low': '176.0300',\n",
       "  '4. close': '177.3500',\n",
       "  '5. volume': '17925763'},\n",
       " '2024-11-13': {'1. open': '182.1500',\n",
       "  '2. high': '182.6150',\n",
       "  '3. low': '180.1200',\n",
       "  '4. close': '180.4900',\n",
       "  '5. volume': '13969709'},\n",
       " '2024-11-12': {'1. open': '181.3800',\n",
       "  '2. high': '184.0250',\n",
       "  '3. low': '180.9900',\n",
       "  '4. close': '183.3200',\n",
       "  '5. volume': '14065845'},\n",
       " '2024-11-11': {'1. open': '180.0700',\n",
       "  '2. high': '182.0850',\n",
       "  '3. low': '179.9900',\n",
       "  '4. close': '181.9700',\n",
       "  '5. volume': '12503422'},\n",
       " '2024-11-08': {'1. open': '182.0000',\n",
       "  '2. high': '182.3500',\n",
       "  '3. low': '179.5700',\n",
       "  '4. close': '179.8600',\n",
       "  '5. volume': '15021549'},\n",
       " '2024-11-07': {'1. open': '179.1100',\n",
       "  '2. high': '182.5800',\n",
       "  '3. low': '178.8900',\n",
       "  '4. close': '182.2800',\n",
       "  '5. volume': '16730407'},\n",
       " '2024-11-06': {'1. open': '175.3500',\n",
       "  '2. high': '178.6400',\n",
       "  '3. low': '175.0400',\n",
       "  '4. close': '178.3300',\n",
       "  '5. volume': '27061510'},\n",
       " '2024-11-05': {'1. open': '170.8300',\n",
       "  '2. high': '172.0973',\n",
       "  '3. low': '170.3700',\n",
       "  '4. close': '171.4100',\n",
       "  '5. volume': '12518282'},\n",
       " '2024-11-04': {'1. open': '171.2400',\n",
       "  '2. high': '171.9200',\n",
       "  '3. low': '169.4850',\n",
       "  '4. close': '170.6800',\n",
       "  '5. volume': '16193994'},\n",
       " '2024-11-01': {'1. open': '171.5400',\n",
       "  '2. high': '173.8200',\n",
       "  '3. low': '170.3100',\n",
       "  '4. close': '172.6500',\n",
       "  '5. volume': '21752859'},\n",
       " '2024-10-31': {'1. open': '174.7200',\n",
       "  '2. high': '178.4200',\n",
       "  '3. low': '172.5600',\n",
       "  '4. close': '172.6900',\n",
       "  '5. volume': '32801898'},\n",
       " '2024-10-30': {'1. open': '182.4100',\n",
       "  '2. high': '183.7900',\n",
       "  '3. low': '175.7451',\n",
       "  '4. close': '176.1400',\n",
       "  '5. volume': '49698313'},\n",
       " '2024-10-29': {'1. open': '169.3850',\n",
       "  '2. high': '171.8600',\n",
       "  '3. low': '168.6600',\n",
       "  '4. close': '171.1400',\n",
       "  '5. volume': '28916106'},\n",
       " '2024-10-28': {'1. open': '170.5900',\n",
       "  '2. high': '170.6060',\n",
       "  '3. low': '165.7900',\n",
       "  '4. close': '168.3400',\n",
       "  '5. volume': '20858254'},\n",
       " '2024-10-25': {'1. open': '165.3650',\n",
       "  '2. high': '167.4000',\n",
       "  '3. low': '165.2300',\n",
       "  '4. close': '166.9900',\n",
       "  '5. volume': '14566410'},\n",
       " '2024-10-24': {'1. open': '164.5900',\n",
       "  '2. high': '165.0500',\n",
       "  '3. low': '162.7700',\n",
       "  '4. close': '164.5300',\n",
       "  '5. volume': '12764430'},\n",
       " '2024-10-23': {'1. open': '166.4300',\n",
       "  '2. high': '167.6000',\n",
       "  '3. low': '163.6325',\n",
       "  '4. close': '164.4800',\n",
       "  '5. volume': '12754283'},\n",
       " '2024-10-22': {'1. open': '164.7000',\n",
       "  '2. high': '167.4700',\n",
       "  '3. low': '164.6700',\n",
       "  '4. close': '166.8200',\n",
       "  '5. volume': '11958617'}}"
      ]
     },
     "execution_count": 5,
     "metadata": {},
     "output_type": "execute_result"
    }
   ],
   "source": [
    "loaded_data['Time Series (Daily)']\n"
   ]
  },
  {
   "cell_type": "code",
   "execution_count": 4,
   "id": "3f96b4c7",
   "metadata": {},
   "outputs": [
    {
     "name": "stdout",
     "output_type": "stream",
     "text": [
      "            date ticker   1. open   2. high    3. low  4. close 5. volume\n",
      "0     2025-03-18   GOOG  165.9600  166.4400  158.8000  162.6700  24564473\n",
      "1     2025-03-17   GOOG  167.3250  168.4600  165.8100  166.5700  17839139\n",
      "2     2025-03-14   GOOG  165.3150  168.2500  164.5100  167.6200  18611094\n",
      "3     2025-03-13   GOOG  167.9800  168.1200  164.0700  164.7300  15206165\n",
      "4     2025-03-12   GOOG  168.4700  169.5300  165.4800  169.0000  19880062\n",
      "...          ...    ...       ...       ...       ...       ...       ...\n",
      "1395  2024-10-28   META  582.0000  583.7499  574.1200  578.1600  10925131\n",
      "1396  2024-10-25   META  573.9350  581.2900  571.7200  573.2500  11337874\n",
      "1397  2024-10-24   META  567.1250  568.8799  561.5200  567.7800   7184651\n",
      "1398  2024-10-23   META  579.9700  585.0000  562.5000  563.6900  14248419\n",
      "1399  2024-10-22   META  574.2900  583.5300  572.1200  582.0100   8544463\n",
      "\n",
      "[1400 rows x 7 columns]\n"
     ]
    }
   ],
   "source": [
    "# Create a dictionary to hold all stocks' JSON data\n",
    "all_stock_data = {}\n",
    "\n",
    "for stock in stocks:\n",
    "    api_url = f'https://www.alphavantage.co/query?function=TIME_SERIES_DAILY&symbol={stock}&apikey={api_key}'\n",
    "    \n",
    "    # Make API request\n",
    "    response = requests.get(api_url)\n",
    "    if response.status_code == 200:\n",
    "        # Extract the time series data from the response\n",
    "        data = response.json()['Time Series (Daily)']\n",
    "        \n",
    "        # Store the JSON response for this stock in the combined dictionary\n",
    "        all_stock_data[stock] = data\n",
    "        \n",
    "    else:\n",
    "        print(f\"Error fetching data for {stock}: {response.status_code}\")\n",
    "\n",
    "# Write the combined JSON data to one file\n",
    "with open('sample_GOOG.json', 'w') as f:\n",
    "    json.dump(all_stock_data, f, indent=4)\n",
    "\n",
    "# Open the file in read mode and load the data into a dictionary\n",
    "with open('sample_GOOG.json', 'r') as f:\n",
    "    loaded_stock_data = json.load(f)\n",
    "\n",
    "# Now you can use loaded_stock_data as a regular Python dictionary\n",
    "print(loaded_stock_data)\n"
   ]
  },
  {
   "cell_type": "code",
   "execution_count": 6,
   "id": "2e9529ae-2158-40b0-8b87-72895381f01a",
   "metadata": {},
   "outputs": [
    {
     "data": {
      "text/html": [
       "<div>\n",
       "<style scoped>\n",
       "    .dataframe tbody tr th:only-of-type {\n",
       "        vertical-align: middle;\n",
       "    }\n",
       "\n",
       "    .dataframe tbody tr th {\n",
       "        vertical-align: top;\n",
       "    }\n",
       "\n",
       "    .dataframe thead th {\n",
       "        text-align: right;\n",
       "    }\n",
       "</style>\n",
       "<table border=\"1\" class=\"dataframe\">\n",
       "  <thead>\n",
       "    <tr style=\"text-align: right;\">\n",
       "      <th></th>\n",
       "      <th>date</th>\n",
       "      <th>ticker</th>\n",
       "      <th>open</th>\n",
       "      <th>high</th>\n",
       "      <th>low</th>\n",
       "      <th>close</th>\n",
       "      <th>volume</th>\n",
       "    </tr>\n",
       "  </thead>\n",
       "  <tbody>\n",
       "    <tr>\n",
       "      <th>0</th>\n",
       "      <td>2025-03-10</td>\n",
       "      <td>NVDA</td>\n",
       "      <td>109.9000</td>\n",
       "      <td>111.8500</td>\n",
       "      <td>105.4600</td>\n",
       "      <td>106.9800</td>\n",
       "      <td>361107562</td>\n",
       "    </tr>\n",
       "    <tr>\n",
       "      <th>1</th>\n",
       "      <td>2025-03-07</td>\n",
       "      <td>NVDA</td>\n",
       "      <td>111.2500</td>\n",
       "      <td>113.4800</td>\n",
       "      <td>107.5600</td>\n",
       "      <td>112.6900</td>\n",
       "      <td>341755468</td>\n",
       "    </tr>\n",
       "    <tr>\n",
       "      <th>2</th>\n",
       "      <td>2025-03-06</td>\n",
       "      <td>NVDA</td>\n",
       "      <td>113.5300</td>\n",
       "      <td>115.3500</td>\n",
       "      <td>110.2200</td>\n",
       "      <td>110.5700</td>\n",
       "      <td>321181861</td>\n",
       "    </tr>\n",
       "    <tr>\n",
       "      <th>3</th>\n",
       "      <td>2025-03-05</td>\n",
       "      <td>NVDA</td>\n",
       "      <td>117.5800</td>\n",
       "      <td>118.2781</td>\n",
       "      <td>114.5100</td>\n",
       "      <td>117.3000</td>\n",
       "      <td>284337886</td>\n",
       "    </tr>\n",
       "    <tr>\n",
       "      <th>4</th>\n",
       "      <td>2025-03-04</td>\n",
       "      <td>NVDA</td>\n",
       "      <td>110.6450</td>\n",
       "      <td>119.3100</td>\n",
       "      <td>110.1100</td>\n",
       "      <td>115.9900</td>\n",
       "      <td>398163305</td>\n",
       "    </tr>\n",
       "    <tr>\n",
       "      <th>...</th>\n",
       "      <td>...</td>\n",
       "      <td>...</td>\n",
       "      <td>...</td>\n",
       "      <td>...</td>\n",
       "      <td>...</td>\n",
       "      <td>...</td>\n",
       "      <td>...</td>\n",
       "    </tr>\n",
       "    <tr>\n",
       "      <th>295</th>\n",
       "      <td>2024-10-18</td>\n",
       "      <td>META</td>\n",
       "      <td>581.1000</td>\n",
       "      <td>583.9675</td>\n",
       "      <td>575.2500</td>\n",
       "      <td>576.4700</td>\n",
       "      <td>7694274</td>\n",
       "    </tr>\n",
       "    <tr>\n",
       "      <th>296</th>\n",
       "      <td>2024-10-17</td>\n",
       "      <td>META</td>\n",
       "      <td>583.3300</td>\n",
       "      <td>584.9700</td>\n",
       "      <td>575.2000</td>\n",
       "      <td>576.9300</td>\n",
       "      <td>8701158</td>\n",
       "    </tr>\n",
       "    <tr>\n",
       "      <th>297</th>\n",
       "      <td>2024-10-16</td>\n",
       "      <td>META</td>\n",
       "      <td>581.3950</td>\n",
       "      <td>582.0800</td>\n",
       "      <td>574.0300</td>\n",
       "      <td>576.7900</td>\n",
       "      <td>11268384</td>\n",
       "    </tr>\n",
       "    <tr>\n",
       "      <th>298</th>\n",
       "      <td>2024-10-15</td>\n",
       "      <td>META</td>\n",
       "      <td>590.1600</td>\n",
       "      <td>590.6100</td>\n",
       "      <td>580.1430</td>\n",
       "      <td>586.2700</td>\n",
       "      <td>9564236</td>\n",
       "    </tr>\n",
       "    <tr>\n",
       "      <th>299</th>\n",
       "      <td>2024-10-14</td>\n",
       "      <td>META</td>\n",
       "      <td>594.2200</td>\n",
       "      <td>600.1000</td>\n",
       "      <td>589.9600</td>\n",
       "      <td>590.4200</td>\n",
       "      <td>8251971</td>\n",
       "    </tr>\n",
       "  </tbody>\n",
       "</table>\n",
       "<p>300 rows × 7 columns</p>\n",
       "</div>"
      ],
      "text/plain": [
       "          date ticker      open      high       low     close     volume\n",
       "0   2025-03-10   NVDA  109.9000  111.8500  105.4600  106.9800  361107562\n",
       "1   2025-03-07   NVDA  111.2500  113.4800  107.5600  112.6900  341755468\n",
       "2   2025-03-06   NVDA  113.5300  115.3500  110.2200  110.5700  321181861\n",
       "3   2025-03-05   NVDA  117.5800  118.2781  114.5100  117.3000  284337886\n",
       "4   2025-03-04   NVDA  110.6450  119.3100  110.1100  115.9900  398163305\n",
       "..         ...    ...       ...       ...       ...       ...        ...\n",
       "295 2024-10-18   META  581.1000  583.9675  575.2500  576.4700    7694274\n",
       "296 2024-10-17   META  583.3300  584.9700  575.2000  576.9300    8701158\n",
       "297 2024-10-16   META  581.3950  582.0800  574.0300  576.7900   11268384\n",
       "298 2024-10-15   META  590.1600  590.6100  580.1430  586.2700    9564236\n",
       "299 2024-10-14   META  594.2200  600.1000  589.9600  590.4200    8251971\n",
       "\n",
       "[300 rows x 7 columns]"
      ]
     },
     "execution_count": 6,
     "metadata": {},
     "output_type": "execute_result"
    }
   ],
   "source": [
    "# Remove numbers and periods from column names and convert to lowercase\n",
    "df.columns = df.columns.str.replace('[0-9.]', '', regex=True).str.strip().str.lower()\n",
    "\n",
    "# Convert 'date' column to datetime type\n",
    "df['date'] = pd.to_datetime(df['date'])\n",
    "\n",
    "df"
   ]
  },
  {
   "cell_type": "markdown",
   "id": "c40304ca-6f87-462d-a398-ffa9d298c286",
   "metadata": {},
   "source": [
    "# Appendix 2: Generate Plots [Not part of Grading]"
   ]
  },
  {
   "cell_type": "markdown",
   "id": "ce39ad2a-3bc4-411f-8a5d-9fb24c621b25",
   "metadata": {},
   "source": [
    "# Generate Plots. Used ChatGPT with the following prompt. Visualization is not the scope of the lecture.\n",
    "\n",
    "**Prompt:**\n",
    "\n",
    "Generate individual interactive stock charts for each unique ticker symbol contained within a pandas DataFrame using Plotly in Python. Each stock chart should display the closing price and trading volume over time on the same plot, with the closing price on the primary y-axis and volume on the secondary y-axis. Both y-axes should start from zero to accurately reflect the scale of the data. The plots should be professional-looking, suitable for a business analytics presentation.\n",
    "\n",
    "**Code:**"
   ]
  },
  {
   "cell_type": "markdown",
   "id": "659e0fb3",
   "metadata": {},
   "source": [
    "Make sure you have *plotly* installed. You can install via Anaconda prompt by entering: *pip intall plotly* after activating your environment, or you can install by running the cell below (uncomment first)"
   ]
  },
  {
   "cell_type": "markdown",
   "id": "36f5d5df",
   "metadata": {},
   "source": [
    "#!pip install plotly"
   ]
  },
  {
   "cell_type": "code",
   "execution_count": 7,
   "id": "8fdf356e-3915-4735-86a5-a9e5e1218c68",
   "metadata": {},
   "outputs": [
    {
     "data": {
      "application/vnd.plotly.v1+json": {
       "config": {
        "plotlyServerURL": "https://plot.ly"
       },
       "data": [
        {
         "line": {
          "color": "royalblue"
         },
         "name": "AAPL Close Price",
         "type": "scatter",
         "x": [
          "2025-03-10T00:00:00.000000000",
          "2025-03-07T00:00:00.000000000",
          "2025-03-06T00:00:00.000000000",
          "2025-03-05T00:00:00.000000000",
          "2025-03-04T00:00:00.000000000",
          "2025-03-03T00:00:00.000000000",
          "2025-02-28T00:00:00.000000000",
          "2025-02-27T00:00:00.000000000",
          "2025-02-26T00:00:00.000000000",
          "2025-02-25T00:00:00.000000000",
          "2025-02-24T00:00:00.000000000",
          "2025-02-21T00:00:00.000000000",
          "2025-02-20T00:00:00.000000000",
          "2025-02-19T00:00:00.000000000",
          "2025-02-18T00:00:00.000000000",
          "2025-02-14T00:00:00.000000000",
          "2025-02-13T00:00:00.000000000",
          "2025-02-12T00:00:00.000000000",
          "2025-02-11T00:00:00.000000000",
          "2025-02-10T00:00:00.000000000",
          "2025-02-07T00:00:00.000000000",
          "2025-02-06T00:00:00.000000000",
          "2025-02-05T00:00:00.000000000",
          "2025-02-04T00:00:00.000000000",
          "2025-02-03T00:00:00.000000000",
          "2025-01-31T00:00:00.000000000",
          "2025-01-30T00:00:00.000000000",
          "2025-01-29T00:00:00.000000000",
          "2025-01-28T00:00:00.000000000",
          "2025-01-27T00:00:00.000000000",
          "2025-01-24T00:00:00.000000000",
          "2025-01-23T00:00:00.000000000",
          "2025-01-22T00:00:00.000000000",
          "2025-01-21T00:00:00.000000000",
          "2025-01-17T00:00:00.000000000",
          "2025-01-16T00:00:00.000000000",
          "2025-01-15T00:00:00.000000000",
          "2025-01-14T00:00:00.000000000",
          "2025-01-13T00:00:00.000000000",
          "2025-01-10T00:00:00.000000000",
          "2025-01-08T00:00:00.000000000",
          "2025-01-07T00:00:00.000000000",
          "2025-01-06T00:00:00.000000000",
          "2025-01-03T00:00:00.000000000",
          "2025-01-02T00:00:00.000000000",
          "2024-12-31T00:00:00.000000000",
          "2024-12-30T00:00:00.000000000",
          "2024-12-27T00:00:00.000000000",
          "2024-12-26T00:00:00.000000000",
          "2024-12-24T00:00:00.000000000",
          "2024-12-23T00:00:00.000000000",
          "2024-12-20T00:00:00.000000000",
          "2024-12-19T00:00:00.000000000",
          "2024-12-18T00:00:00.000000000",
          "2024-12-17T00:00:00.000000000",
          "2024-12-16T00:00:00.000000000",
          "2024-12-13T00:00:00.000000000",
          "2024-12-12T00:00:00.000000000",
          "2024-12-11T00:00:00.000000000",
          "2024-12-10T00:00:00.000000000",
          "2024-12-09T00:00:00.000000000",
          "2024-12-06T00:00:00.000000000",
          "2024-12-05T00:00:00.000000000",
          "2024-12-04T00:00:00.000000000",
          "2024-12-03T00:00:00.000000000",
          "2024-12-02T00:00:00.000000000",
          "2024-11-29T00:00:00.000000000",
          "2024-11-27T00:00:00.000000000",
          "2024-11-26T00:00:00.000000000",
          "2024-11-25T00:00:00.000000000",
          "2024-11-22T00:00:00.000000000",
          "2024-11-21T00:00:00.000000000",
          "2024-11-20T00:00:00.000000000",
          "2024-11-19T00:00:00.000000000",
          "2024-11-18T00:00:00.000000000",
          "2024-11-15T00:00:00.000000000",
          "2024-11-14T00:00:00.000000000",
          "2024-11-13T00:00:00.000000000",
          "2024-11-12T00:00:00.000000000",
          "2024-11-11T00:00:00.000000000",
          "2024-11-08T00:00:00.000000000",
          "2024-11-07T00:00:00.000000000",
          "2024-11-06T00:00:00.000000000",
          "2024-11-05T00:00:00.000000000",
          "2024-11-04T00:00:00.000000000",
          "2024-11-01T00:00:00.000000000",
          "2024-10-31T00:00:00.000000000",
          "2024-10-30T00:00:00.000000000",
          "2024-10-29T00:00:00.000000000",
          "2024-10-28T00:00:00.000000000",
          "2024-10-25T00:00:00.000000000",
          "2024-10-24T00:00:00.000000000",
          "2024-10-23T00:00:00.000000000",
          "2024-10-22T00:00:00.000000000",
          "2024-10-21T00:00:00.000000000",
          "2024-10-18T00:00:00.000000000",
          "2024-10-17T00:00:00.000000000",
          "2024-10-16T00:00:00.000000000",
          "2024-10-15T00:00:00.000000000",
          "2024-10-14T00:00:00.000000000"
         ],
         "xaxis": "x",
         "y": {
          "bdata": "j8L1KFxvbEAK16NwPeJtQMP1KFyPam1ASOF6FK53bUD2KFyPwn1tQClcj8L1wG1AexSuR+E6bkCamZmZmaltQOxRuB6FC25A4XoUrkfhbkAzMzMzM+NuQJqZmZmZsW5Aw/UoXI+6bkCkcD0K15tuQNejcD0Kj25AMzMzMzOTbkApXI/C9TBuQKRwPQrXm21ApHA9CtcTbUDNzMzMzHRsQFyPwvUodGxA16NwPQonbUDXo3A9Cg9tQJqZmZmZGW1AuB6F61GAbEAAAAAAAIBtQHsUrkfhsm1A7FG4HoXrbUC4HoXrUchtQOxRuB6Fu2xAKVyPwvXYa0CF61G4HvVrQMP1KFyP+mtAFK5H4XrUa0CPwvUoXL9sQLgehetRiGxApHA9Cte7bUApXI/C9ShtQM3MzMzMTG1AMzMzMzObbUBmZmZmZlZuQB+F61G4Rm5AAAAAAACgbkDsUbgehWtuQDMzMzMze25APQrXo3BNb0BmZmZmZoZvQHsUrkfh8m9AuB6F61EwcEAzMzMzMyNwQHE9Ctej6G9ASOF6FK7Pb0DhehSuRzlvQJqZmZmZAW9Aj8L1KFyvb0DhehSuR2FvQFyPwvUoBG9AH4XrUbj+bkBI4XoUrs9uQHE9Ctej+G5AAAAAAADYbkB7FK5H4VpuQOF6FK5HYW5AuB6F61FgbkDNzMzMzFRuQHsUrkfh8m1Aw/UoXI+qbUD2KFyPwl1tQFK4HoXrYW1ApHA9CtcbbUCkcD0K17tsQHE9CtejkGxAAAAAAACgbEApXI/C9YhsQHE9CtejgGxAAAAAAAAgbEDXo3A9CodsQKRwPQrXI2xAj8L1KFwHbECPwvUoXAdsQB+F61G4XmxAj8L1KFxvbEDXo3A9CtdrQGZmZmZm7mtAuB6F61HAa0CF61G4Ht1rQIXrUbgePWxAMzMzMzPDbEA9CtejcDVtQM3MzMzMLG1AhetRuB7tbEAK16NwPdJsQLgehetR2GxA7FG4HoV7bUCPwvUoXI9tQAAAAAAAYG1AzczMzMwEbUApXI/C9fhsQDMzMzMzO21AmpmZmZnpbEA=",
          "dtype": "f8"
         },
         "yaxis": "y"
        },
        {
         "line": {
          "color": "tomato",
          "dash": "dot"
         },
         "name": "AAPL Volume",
         "type": "scatter",
         "x": [
          "2025-03-10T00:00:00.000000000",
          "2025-03-07T00:00:00.000000000",
          "2025-03-06T00:00:00.000000000",
          "2025-03-05T00:00:00.000000000",
          "2025-03-04T00:00:00.000000000",
          "2025-03-03T00:00:00.000000000",
          "2025-02-28T00:00:00.000000000",
          "2025-02-27T00:00:00.000000000",
          "2025-02-26T00:00:00.000000000",
          "2025-02-25T00:00:00.000000000",
          "2025-02-24T00:00:00.000000000",
          "2025-02-21T00:00:00.000000000",
          "2025-02-20T00:00:00.000000000",
          "2025-02-19T00:00:00.000000000",
          "2025-02-18T00:00:00.000000000",
          "2025-02-14T00:00:00.000000000",
          "2025-02-13T00:00:00.000000000",
          "2025-02-12T00:00:00.000000000",
          "2025-02-11T00:00:00.000000000",
          "2025-02-10T00:00:00.000000000",
          "2025-02-07T00:00:00.000000000",
          "2025-02-06T00:00:00.000000000",
          "2025-02-05T00:00:00.000000000",
          "2025-02-04T00:00:00.000000000",
          "2025-02-03T00:00:00.000000000",
          "2025-01-31T00:00:00.000000000",
          "2025-01-30T00:00:00.000000000",
          "2025-01-29T00:00:00.000000000",
          "2025-01-28T00:00:00.000000000",
          "2025-01-27T00:00:00.000000000",
          "2025-01-24T00:00:00.000000000",
          "2025-01-23T00:00:00.000000000",
          "2025-01-22T00:00:00.000000000",
          "2025-01-21T00:00:00.000000000",
          "2025-01-17T00:00:00.000000000",
          "2025-01-16T00:00:00.000000000",
          "2025-01-15T00:00:00.000000000",
          "2025-01-14T00:00:00.000000000",
          "2025-01-13T00:00:00.000000000",
          "2025-01-10T00:00:00.000000000",
          "2025-01-08T00:00:00.000000000",
          "2025-01-07T00:00:00.000000000",
          "2025-01-06T00:00:00.000000000",
          "2025-01-03T00:00:00.000000000",
          "2025-01-02T00:00:00.000000000",
          "2024-12-31T00:00:00.000000000",
          "2024-12-30T00:00:00.000000000",
          "2024-12-27T00:00:00.000000000",
          "2024-12-26T00:00:00.000000000",
          "2024-12-24T00:00:00.000000000",
          "2024-12-23T00:00:00.000000000",
          "2024-12-20T00:00:00.000000000",
          "2024-12-19T00:00:00.000000000",
          "2024-12-18T00:00:00.000000000",
          "2024-12-17T00:00:00.000000000",
          "2024-12-16T00:00:00.000000000",
          "2024-12-13T00:00:00.000000000",
          "2024-12-12T00:00:00.000000000",
          "2024-12-11T00:00:00.000000000",
          "2024-12-10T00:00:00.000000000",
          "2024-12-09T00:00:00.000000000",
          "2024-12-06T00:00:00.000000000",
          "2024-12-05T00:00:00.000000000",
          "2024-12-04T00:00:00.000000000",
          "2024-12-03T00:00:00.000000000",
          "2024-12-02T00:00:00.000000000",
          "2024-11-29T00:00:00.000000000",
          "2024-11-27T00:00:00.000000000",
          "2024-11-26T00:00:00.000000000",
          "2024-11-25T00:00:00.000000000",
          "2024-11-22T00:00:00.000000000",
          "2024-11-21T00:00:00.000000000",
          "2024-11-20T00:00:00.000000000",
          "2024-11-19T00:00:00.000000000",
          "2024-11-18T00:00:00.000000000",
          "2024-11-15T00:00:00.000000000",
          "2024-11-14T00:00:00.000000000",
          "2024-11-13T00:00:00.000000000",
          "2024-11-12T00:00:00.000000000",
          "2024-11-11T00:00:00.000000000",
          "2024-11-08T00:00:00.000000000",
          "2024-11-07T00:00:00.000000000",
          "2024-11-06T00:00:00.000000000",
          "2024-11-05T00:00:00.000000000",
          "2024-11-04T00:00:00.000000000",
          "2024-11-01T00:00:00.000000000",
          "2024-10-31T00:00:00.000000000",
          "2024-10-30T00:00:00.000000000",
          "2024-10-29T00:00:00.000000000",
          "2024-10-28T00:00:00.000000000",
          "2024-10-25T00:00:00.000000000",
          "2024-10-24T00:00:00.000000000",
          "2024-10-23T00:00:00.000000000",
          "2024-10-22T00:00:00.000000000",
          "2024-10-21T00:00:00.000000000",
          "2024-10-18T00:00:00.000000000",
          "2024-10-17T00:00:00.000000000",
          "2024-10-16T00:00:00.000000000",
          "2024-10-15T00:00:00.000000000",
          "2024-10-14T00:00:00.000000000"
         ],
         "xaxis": "x",
         "y": {
          "bdata": "AAAARAoJkUEAAADooBCGQQAAAJj3iYVBAAAA2BeFhkEAAABwJaeJQQAAAIjDf4ZBAAAAgKoZi0EAAAA4o5+DQQAAAOAEMIVBAAAAwP7khkEAAADgbXmIQQAAALjTXYlBAAAAsN7RfkEAAABwW7Z+QQAAANjGR4dBAAAAGDeAg0EAAAAwr5CJQQAAAODckoVBAAAA0GqdiUEAAADQ35R/QQAAAMAS74JBAAAAUP6JfEEAAADo6umCQQAAAChhfYVBAAAAFG5rkUEAAADgIhmYQQAAADg5iopBAAAAoICwhUEAAADE0gySQQAAAOgAnpZBAAAAmP0UikEAAABA4LiMQQAAACDxk45BAAAAdL5hl0EAAAC0MVSQQQAAADDTG5FBAAAACE3+gkEAAADw4M2CQQAAAChwqodBAAAAQBBtjUEAAABgYPGBQQAAAMBMe4NBAAAAGLp6hUEAAACQnDCDQQAAANhJlIpBAAAAcGzTgkEAAAAwhfSAQQAAAMhTMoRBAAAAcAAAekEAAAAQiSh2QQAAALCke4NBAAAAxjKVoUEAAADA6geNQQAAAKhuEotBAAAAQBZ9iEEAAAAIZaaIQQAAAKCNnn9BAAAAwFNCf0EAAACwSY6FQQAAALAzmoFBAAAAgFhKhUEAAADYzpSBQQAAALDyFoNBAAAA+PUphUEAAADIxoeCQQAAAHgc9IZBAAAAEHYpe0EAAABwVPJ/QQAAAGiM7YVBAAAAAH5+lUEAAADgNTOCQQAAADgtFIRBAAAA8CjFgEEAAADwYUSBQQAAACDWToVBAAAAgA/ahkEAAAAo4WuFQQAAAEh+KIdBAAAA2G5Dg0EAAAAQoweEQQAAAMDPRoJBAAAA2MIXhEEAAAAISwSKQQAAAKAez3pBAAAAoGJuhUEAAAAoWiCPQQAAADCtsY5BAAAA2PVxhkEAAAD4ZOOAQQAAAPAqNYFBAAAAAJyAgkEAAADwF6t9QQAAABiw7ohBAAAAkAOGgkEAAAAwmEmBQQAAAIDnI4ZBAAAAICF3f0EAAAAAbkCAQQAAADg44I5BAAAAKGsEg0E=",
          "dtype": "f8"
         },
         "yaxis": "y2"
        }
       ],
       "layout": {
        "template": {
         "data": {
          "bar": [
           {
            "error_x": {
             "color": "#2a3f5f"
            },
            "error_y": {
             "color": "#2a3f5f"
            },
            "marker": {
             "line": {
              "color": "white",
              "width": 0.5
             },
             "pattern": {
              "fillmode": "overlay",
              "size": 10,
              "solidity": 0.2
             }
            },
            "type": "bar"
           }
          ],
          "barpolar": [
           {
            "marker": {
             "line": {
              "color": "white",
              "width": 0.5
             },
             "pattern": {
              "fillmode": "overlay",
              "size": 10,
              "solidity": 0.2
             }
            },
            "type": "barpolar"
           }
          ],
          "carpet": [
           {
            "aaxis": {
             "endlinecolor": "#2a3f5f",
             "gridcolor": "#C8D4E3",
             "linecolor": "#C8D4E3",
             "minorgridcolor": "#C8D4E3",
             "startlinecolor": "#2a3f5f"
            },
            "baxis": {
             "endlinecolor": "#2a3f5f",
             "gridcolor": "#C8D4E3",
             "linecolor": "#C8D4E3",
             "minorgridcolor": "#C8D4E3",
             "startlinecolor": "#2a3f5f"
            },
            "type": "carpet"
           }
          ],
          "choropleth": [
           {
            "colorbar": {
             "outlinewidth": 0,
             "ticks": ""
            },
            "type": "choropleth"
           }
          ],
          "contour": [
           {
            "colorbar": {
             "outlinewidth": 0,
             "ticks": ""
            },
            "colorscale": [
             [
              0,
              "#0d0887"
             ],
             [
              0.1111111111111111,
              "#46039f"
             ],
             [
              0.2222222222222222,
              "#7201a8"
             ],
             [
              0.3333333333333333,
              "#9c179e"
             ],
             [
              0.4444444444444444,
              "#bd3786"
             ],
             [
              0.5555555555555556,
              "#d8576b"
             ],
             [
              0.6666666666666666,
              "#ed7953"
             ],
             [
              0.7777777777777778,
              "#fb9f3a"
             ],
             [
              0.8888888888888888,
              "#fdca26"
             ],
             [
              1,
              "#f0f921"
             ]
            ],
            "type": "contour"
           }
          ],
          "contourcarpet": [
           {
            "colorbar": {
             "outlinewidth": 0,
             "ticks": ""
            },
            "type": "contourcarpet"
           }
          ],
          "heatmap": [
           {
            "colorbar": {
             "outlinewidth": 0,
             "ticks": ""
            },
            "colorscale": [
             [
              0,
              "#0d0887"
             ],
             [
              0.1111111111111111,
              "#46039f"
             ],
             [
              0.2222222222222222,
              "#7201a8"
             ],
             [
              0.3333333333333333,
              "#9c179e"
             ],
             [
              0.4444444444444444,
              "#bd3786"
             ],
             [
              0.5555555555555556,
              "#d8576b"
             ],
             [
              0.6666666666666666,
              "#ed7953"
             ],
             [
              0.7777777777777778,
              "#fb9f3a"
             ],
             [
              0.8888888888888888,
              "#fdca26"
             ],
             [
              1,
              "#f0f921"
             ]
            ],
            "type": "heatmap"
           }
          ],
          "histogram": [
           {
            "marker": {
             "pattern": {
              "fillmode": "overlay",
              "size": 10,
              "solidity": 0.2
             }
            },
            "type": "histogram"
           }
          ],
          "histogram2d": [
           {
            "colorbar": {
             "outlinewidth": 0,
             "ticks": ""
            },
            "colorscale": [
             [
              0,
              "#0d0887"
             ],
             [
              0.1111111111111111,
              "#46039f"
             ],
             [
              0.2222222222222222,
              "#7201a8"
             ],
             [
              0.3333333333333333,
              "#9c179e"
             ],
             [
              0.4444444444444444,
              "#bd3786"
             ],
             [
              0.5555555555555556,
              "#d8576b"
             ],
             [
              0.6666666666666666,
              "#ed7953"
             ],
             [
              0.7777777777777778,
              "#fb9f3a"
             ],
             [
              0.8888888888888888,
              "#fdca26"
             ],
             [
              1,
              "#f0f921"
             ]
            ],
            "type": "histogram2d"
           }
          ],
          "histogram2dcontour": [
           {
            "colorbar": {
             "outlinewidth": 0,
             "ticks": ""
            },
            "colorscale": [
             [
              0,
              "#0d0887"
             ],
             [
              0.1111111111111111,
              "#46039f"
             ],
             [
              0.2222222222222222,
              "#7201a8"
             ],
             [
              0.3333333333333333,
              "#9c179e"
             ],
             [
              0.4444444444444444,
              "#bd3786"
             ],
             [
              0.5555555555555556,
              "#d8576b"
             ],
             [
              0.6666666666666666,
              "#ed7953"
             ],
             [
              0.7777777777777778,
              "#fb9f3a"
             ],
             [
              0.8888888888888888,
              "#fdca26"
             ],
             [
              1,
              "#f0f921"
             ]
            ],
            "type": "histogram2dcontour"
           }
          ],
          "mesh3d": [
           {
            "colorbar": {
             "outlinewidth": 0,
             "ticks": ""
            },
            "type": "mesh3d"
           }
          ],
          "parcoords": [
           {
            "line": {
             "colorbar": {
              "outlinewidth": 0,
              "ticks": ""
             }
            },
            "type": "parcoords"
           }
          ],
          "pie": [
           {
            "automargin": true,
            "type": "pie"
           }
          ],
          "scatter": [
           {
            "fillpattern": {
             "fillmode": "overlay",
             "size": 10,
             "solidity": 0.2
            },
            "type": "scatter"
           }
          ],
          "scatter3d": [
           {
            "line": {
             "colorbar": {
              "outlinewidth": 0,
              "ticks": ""
             }
            },
            "marker": {
             "colorbar": {
              "outlinewidth": 0,
              "ticks": ""
             }
            },
            "type": "scatter3d"
           }
          ],
          "scattercarpet": [
           {
            "marker": {
             "colorbar": {
              "outlinewidth": 0,
              "ticks": ""
             }
            },
            "type": "scattercarpet"
           }
          ],
          "scattergeo": [
           {
            "marker": {
             "colorbar": {
              "outlinewidth": 0,
              "ticks": ""
             }
            },
            "type": "scattergeo"
           }
          ],
          "scattergl": [
           {
            "marker": {
             "colorbar": {
              "outlinewidth": 0,
              "ticks": ""
             }
            },
            "type": "scattergl"
           }
          ],
          "scattermap": [
           {
            "marker": {
             "colorbar": {
              "outlinewidth": 0,
              "ticks": ""
             }
            },
            "type": "scattermap"
           }
          ],
          "scattermapbox": [
           {
            "marker": {
             "colorbar": {
              "outlinewidth": 0,
              "ticks": ""
             }
            },
            "type": "scattermapbox"
           }
          ],
          "scatterpolar": [
           {
            "marker": {
             "colorbar": {
              "outlinewidth": 0,
              "ticks": ""
             }
            },
            "type": "scatterpolar"
           }
          ],
          "scatterpolargl": [
           {
            "marker": {
             "colorbar": {
              "outlinewidth": 0,
              "ticks": ""
             }
            },
            "type": "scatterpolargl"
           }
          ],
          "scatterternary": [
           {
            "marker": {
             "colorbar": {
              "outlinewidth": 0,
              "ticks": ""
             }
            },
            "type": "scatterternary"
           }
          ],
          "surface": [
           {
            "colorbar": {
             "outlinewidth": 0,
             "ticks": ""
            },
            "colorscale": [
             [
              0,
              "#0d0887"
             ],
             [
              0.1111111111111111,
              "#46039f"
             ],
             [
              0.2222222222222222,
              "#7201a8"
             ],
             [
              0.3333333333333333,
              "#9c179e"
             ],
             [
              0.4444444444444444,
              "#bd3786"
             ],
             [
              0.5555555555555556,
              "#d8576b"
             ],
             [
              0.6666666666666666,
              "#ed7953"
             ],
             [
              0.7777777777777778,
              "#fb9f3a"
             ],
             [
              0.8888888888888888,
              "#fdca26"
             ],
             [
              1,
              "#f0f921"
             ]
            ],
            "type": "surface"
           }
          ],
          "table": [
           {
            "cells": {
             "fill": {
              "color": "#EBF0F8"
             },
             "line": {
              "color": "white"
             }
            },
            "header": {
             "fill": {
              "color": "#C8D4E3"
             },
             "line": {
              "color": "white"
             }
            },
            "type": "table"
           }
          ]
         },
         "layout": {
          "annotationdefaults": {
           "arrowcolor": "#2a3f5f",
           "arrowhead": 0,
           "arrowwidth": 1
          },
          "autotypenumbers": "strict",
          "coloraxis": {
           "colorbar": {
            "outlinewidth": 0,
            "ticks": ""
           }
          },
          "colorscale": {
           "diverging": [
            [
             0,
             "#8e0152"
            ],
            [
             0.1,
             "#c51b7d"
            ],
            [
             0.2,
             "#de77ae"
            ],
            [
             0.3,
             "#f1b6da"
            ],
            [
             0.4,
             "#fde0ef"
            ],
            [
             0.5,
             "#f7f7f7"
            ],
            [
             0.6,
             "#e6f5d0"
            ],
            [
             0.7,
             "#b8e186"
            ],
            [
             0.8,
             "#7fbc41"
            ],
            [
             0.9,
             "#4d9221"
            ],
            [
             1,
             "#276419"
            ]
           ],
           "sequential": [
            [
             0,
             "#0d0887"
            ],
            [
             0.1111111111111111,
             "#46039f"
            ],
            [
             0.2222222222222222,
             "#7201a8"
            ],
            [
             0.3333333333333333,
             "#9c179e"
            ],
            [
             0.4444444444444444,
             "#bd3786"
            ],
            [
             0.5555555555555556,
             "#d8576b"
            ],
            [
             0.6666666666666666,
             "#ed7953"
            ],
            [
             0.7777777777777778,
             "#fb9f3a"
            ],
            [
             0.8888888888888888,
             "#fdca26"
            ],
            [
             1,
             "#f0f921"
            ]
           ],
           "sequentialminus": [
            [
             0,
             "#0d0887"
            ],
            [
             0.1111111111111111,
             "#46039f"
            ],
            [
             0.2222222222222222,
             "#7201a8"
            ],
            [
             0.3333333333333333,
             "#9c179e"
            ],
            [
             0.4444444444444444,
             "#bd3786"
            ],
            [
             0.5555555555555556,
             "#d8576b"
            ],
            [
             0.6666666666666666,
             "#ed7953"
            ],
            [
             0.7777777777777778,
             "#fb9f3a"
            ],
            [
             0.8888888888888888,
             "#fdca26"
            ],
            [
             1,
             "#f0f921"
            ]
           ]
          },
          "colorway": [
           "#636efa",
           "#EF553B",
           "#00cc96",
           "#ab63fa",
           "#FFA15A",
           "#19d3f3",
           "#FF6692",
           "#B6E880",
           "#FF97FF",
           "#FECB52"
          ],
          "font": {
           "color": "#2a3f5f"
          },
          "geo": {
           "bgcolor": "white",
           "lakecolor": "white",
           "landcolor": "white",
           "showlakes": true,
           "showland": true,
           "subunitcolor": "#C8D4E3"
          },
          "hoverlabel": {
           "align": "left"
          },
          "hovermode": "closest",
          "mapbox": {
           "style": "light"
          },
          "paper_bgcolor": "white",
          "plot_bgcolor": "white",
          "polar": {
           "angularaxis": {
            "gridcolor": "#EBF0F8",
            "linecolor": "#EBF0F8",
            "ticks": ""
           },
           "bgcolor": "white",
           "radialaxis": {
            "gridcolor": "#EBF0F8",
            "linecolor": "#EBF0F8",
            "ticks": ""
           }
          },
          "scene": {
           "xaxis": {
            "backgroundcolor": "white",
            "gridcolor": "#DFE8F3",
            "gridwidth": 2,
            "linecolor": "#EBF0F8",
            "showbackground": true,
            "ticks": "",
            "zerolinecolor": "#EBF0F8"
           },
           "yaxis": {
            "backgroundcolor": "white",
            "gridcolor": "#DFE8F3",
            "gridwidth": 2,
            "linecolor": "#EBF0F8",
            "showbackground": true,
            "ticks": "",
            "zerolinecolor": "#EBF0F8"
           },
           "zaxis": {
            "backgroundcolor": "white",
            "gridcolor": "#DFE8F3",
            "gridwidth": 2,
            "linecolor": "#EBF0F8",
            "showbackground": true,
            "ticks": "",
            "zerolinecolor": "#EBF0F8"
           }
          },
          "shapedefaults": {
           "line": {
            "color": "#2a3f5f"
           }
          },
          "ternary": {
           "aaxis": {
            "gridcolor": "#DFE8F3",
            "linecolor": "#A2B1C6",
            "ticks": ""
           },
           "baxis": {
            "gridcolor": "#DFE8F3",
            "linecolor": "#A2B1C6",
            "ticks": ""
           },
           "bgcolor": "white",
           "caxis": {
            "gridcolor": "#DFE8F3",
            "linecolor": "#A2B1C6",
            "ticks": ""
           }
          },
          "title": {
           "x": 0.05
          },
          "xaxis": {
           "automargin": true,
           "gridcolor": "#EBF0F8",
           "linecolor": "#EBF0F8",
           "ticks": "",
           "title": {
            "standoff": 15
           },
           "zerolinecolor": "#EBF0F8",
           "zerolinewidth": 2
          },
          "yaxis": {
           "automargin": true,
           "gridcolor": "#EBF0F8",
           "linecolor": "#EBF0F8",
           "ticks": "",
           "title": {
            "standoff": 15
           },
           "zerolinecolor": "#EBF0F8",
           "zerolinewidth": 2
          }
         }
        },
        "title": {
         "text": "AAPL Stock Closing Prices and Volume"
        },
        "xaxis": {
         "anchor": "y",
         "domain": [
          0,
          0.94
         ],
         "linecolor": "black",
         "linewidth": 2,
         "mirror": true,
         "showline": true,
         "title": {
          "text": "Date"
         }
        },
        "yaxis": {
         "anchor": "x",
         "domain": [
          0,
          1
         ],
         "linecolor": "blue",
         "linewidth": 2,
         "mirror": true,
         "rangemode": "tozero",
         "showline": true,
         "title": {
          "text": "<b>AAPL Close Price</b>"
         }
        },
        "yaxis2": {
         "anchor": "x",
         "linecolor": "red",
         "linewidth": 2,
         "mirror": true,
         "overlaying": "y",
         "rangemode": "tozero",
         "showline": true,
         "side": "right",
         "title": {
          "text": "<b>AAPL Volume</b>"
         }
        }
       }
      }
     },
     "metadata": {},
     "output_type": "display_data"
    },
    {
     "data": {
      "application/vnd.plotly.v1+json": {
       "config": {
        "plotlyServerURL": "https://plot.ly"
       },
       "data": [
        {
         "line": {
          "color": "royalblue"
         },
         "name": "META Close Price",
         "type": "scatter",
         "x": [
          "2025-03-10T00:00:00.000000000",
          "2025-03-07T00:00:00.000000000",
          "2025-03-06T00:00:00.000000000",
          "2025-03-05T00:00:00.000000000",
          "2025-03-04T00:00:00.000000000",
          "2025-03-03T00:00:00.000000000",
          "2025-02-28T00:00:00.000000000",
          "2025-02-27T00:00:00.000000000",
          "2025-02-26T00:00:00.000000000",
          "2025-02-25T00:00:00.000000000",
          "2025-02-24T00:00:00.000000000",
          "2025-02-21T00:00:00.000000000",
          "2025-02-20T00:00:00.000000000",
          "2025-02-19T00:00:00.000000000",
          "2025-02-18T00:00:00.000000000",
          "2025-02-14T00:00:00.000000000",
          "2025-02-13T00:00:00.000000000",
          "2025-02-12T00:00:00.000000000",
          "2025-02-11T00:00:00.000000000",
          "2025-02-10T00:00:00.000000000",
          "2025-02-07T00:00:00.000000000",
          "2025-02-06T00:00:00.000000000",
          "2025-02-05T00:00:00.000000000",
          "2025-02-04T00:00:00.000000000",
          "2025-02-03T00:00:00.000000000",
          "2025-01-31T00:00:00.000000000",
          "2025-01-30T00:00:00.000000000",
          "2025-01-29T00:00:00.000000000",
          "2025-01-28T00:00:00.000000000",
          "2025-01-27T00:00:00.000000000",
          "2025-01-24T00:00:00.000000000",
          "2025-01-23T00:00:00.000000000",
          "2025-01-22T00:00:00.000000000",
          "2025-01-21T00:00:00.000000000",
          "2025-01-17T00:00:00.000000000",
          "2025-01-16T00:00:00.000000000",
          "2025-01-15T00:00:00.000000000",
          "2025-01-14T00:00:00.000000000",
          "2025-01-13T00:00:00.000000000",
          "2025-01-10T00:00:00.000000000",
          "2025-01-08T00:00:00.000000000",
          "2025-01-07T00:00:00.000000000",
          "2025-01-06T00:00:00.000000000",
          "2025-01-03T00:00:00.000000000",
          "2025-01-02T00:00:00.000000000",
          "2024-12-31T00:00:00.000000000",
          "2024-12-30T00:00:00.000000000",
          "2024-12-27T00:00:00.000000000",
          "2024-12-26T00:00:00.000000000",
          "2024-12-24T00:00:00.000000000",
          "2024-12-23T00:00:00.000000000",
          "2024-12-20T00:00:00.000000000",
          "2024-12-19T00:00:00.000000000",
          "2024-12-18T00:00:00.000000000",
          "2024-12-17T00:00:00.000000000",
          "2024-12-16T00:00:00.000000000",
          "2024-12-13T00:00:00.000000000",
          "2024-12-12T00:00:00.000000000",
          "2024-12-11T00:00:00.000000000",
          "2024-12-10T00:00:00.000000000",
          "2024-12-09T00:00:00.000000000",
          "2024-12-06T00:00:00.000000000",
          "2024-12-05T00:00:00.000000000",
          "2024-12-04T00:00:00.000000000",
          "2024-12-03T00:00:00.000000000",
          "2024-12-02T00:00:00.000000000",
          "2024-11-29T00:00:00.000000000",
          "2024-11-27T00:00:00.000000000",
          "2024-11-26T00:00:00.000000000",
          "2024-11-25T00:00:00.000000000",
          "2024-11-22T00:00:00.000000000",
          "2024-11-21T00:00:00.000000000",
          "2024-11-20T00:00:00.000000000",
          "2024-11-19T00:00:00.000000000",
          "2024-11-18T00:00:00.000000000",
          "2024-11-15T00:00:00.000000000",
          "2024-11-14T00:00:00.000000000",
          "2024-11-13T00:00:00.000000000",
          "2024-11-12T00:00:00.000000000",
          "2024-11-11T00:00:00.000000000",
          "2024-11-08T00:00:00.000000000",
          "2024-11-07T00:00:00.000000000",
          "2024-11-06T00:00:00.000000000",
          "2024-11-05T00:00:00.000000000",
          "2024-11-04T00:00:00.000000000",
          "2024-11-01T00:00:00.000000000",
          "2024-10-31T00:00:00.000000000",
          "2024-10-30T00:00:00.000000000",
          "2024-10-29T00:00:00.000000000",
          "2024-10-28T00:00:00.000000000",
          "2024-10-25T00:00:00.000000000",
          "2024-10-24T00:00:00.000000000",
          "2024-10-23T00:00:00.000000000",
          "2024-10-22T00:00:00.000000000",
          "2024-10-21T00:00:00.000000000",
          "2024-10-18T00:00:00.000000000",
          "2024-10-17T00:00:00.000000000",
          "2024-10-16T00:00:00.000000000",
          "2024-10-15T00:00:00.000000000",
          "2024-10-14T00:00:00.000000000"
         ],
         "xaxis": "x",
         "y": {
          "bdata": "UrgeheuvgkDhehSuR42DQD0K16Nwn4NA9ihcj8KDhEAAAAAAAACEQGZmZmZmeIRAmpmZmZnhhEBSuB6F65GEQJqZmZmZDYVAAAAAAACMhEDXo3A9CuGEQGZmZmZmXIVAH4XrUbi2hUBcj8L1KP6FQClcj8L1YoZAj8L1KFwFh0AUrkfhesSGQNejcD0Kq4ZAZmZmZmZ+hkAzMzMzM2uGQFyPwvUoVIZAUrgehes/hkApXI/C9QaGQOxRuB6FAYZASOF6FK7LhUA9CtejcImFQAAAAAAAeIVAUrgehesjhUBxPQrXoxKFQNejcD0Kn4RAUrgehes7hECamZmZmeODQAAAAAAAfINASOF6FK5Dg0Bcj8L1KCaDQGZmZmZmGoNAKVyPwvVIg0AAAAAAAJKCQHE9CtejAoNAexSuR+E+g0D2KFyPwhWDQIXrUbgeT4NAmpmZmZmxg0DXo3A9CuWCQFK4HoXruYJArkfhehRMgkBSuB6F63mCQBSuR+F6voJAzczMzMzagkAAAAAAAP6CQM3MzMzMvoJAAAAAAABKgkDD9Shcj5yCQOxRuB6FqYJA7FG4HoVbg0BSuB6F64GDQM3MzMzMYoNAuB6F61G2g0A9CtejcMWDQMP1KFyPWoNAw/UoXI8sg0Bcj8L1KH6DQD0K16NwB4NACtejcD0ug0AzMzMzMy2DQHE9CtejhoJAw/UoXI/ygUCamZmZmcmBQLgehetR7IFAexSuR+GogUCF61G4HnmBQB+F61G4mIFAXI/C9SisgUAfhetRuIiBQDMzMzMzU4FAcT0K16NQgUDhehSuRwmCQAAAAAAAIIJAw/UoXI9GgkCPwvUoXDmCQB+F61G4aoJAmpmZmZl9gkBmZmZmZuCBQD0K16Nw44FAPQrXo3CFgUDhehSuR7mBQHE9CtejvIFAZmZmZmZ+gkAK16NwPYqCQOF6FK5HEYJAAAAAAADqgUAK16NwPb6BQOxRuB6FnYFArkfhehQwgkDhehSuR/mBQPYoXI/CA4JAPQrXo3AHgkC4HoXrUQaCQFyPwvUoUoJAj8L1KFxzgkA=",
          "dtype": "f8"
         },
         "yaxis": "y"
        },
        {
         "line": {
          "color": "tomato",
          "dash": "dot"
         },
         "name": "META Volume",
         "type": "scatter",
         "x": [
          "2025-03-10T00:00:00.000000000",
          "2025-03-07T00:00:00.000000000",
          "2025-03-06T00:00:00.000000000",
          "2025-03-05T00:00:00.000000000",
          "2025-03-04T00:00:00.000000000",
          "2025-03-03T00:00:00.000000000",
          "2025-02-28T00:00:00.000000000",
          "2025-02-27T00:00:00.000000000",
          "2025-02-26T00:00:00.000000000",
          "2025-02-25T00:00:00.000000000",
          "2025-02-24T00:00:00.000000000",
          "2025-02-21T00:00:00.000000000",
          "2025-02-20T00:00:00.000000000",
          "2025-02-19T00:00:00.000000000",
          "2025-02-18T00:00:00.000000000",
          "2025-02-14T00:00:00.000000000",
          "2025-02-13T00:00:00.000000000",
          "2025-02-12T00:00:00.000000000",
          "2025-02-11T00:00:00.000000000",
          "2025-02-10T00:00:00.000000000",
          "2025-02-07T00:00:00.000000000",
          "2025-02-06T00:00:00.000000000",
          "2025-02-05T00:00:00.000000000",
          "2025-02-04T00:00:00.000000000",
          "2025-02-03T00:00:00.000000000",
          "2025-01-31T00:00:00.000000000",
          "2025-01-30T00:00:00.000000000",
          "2025-01-29T00:00:00.000000000",
          "2025-01-28T00:00:00.000000000",
          "2025-01-27T00:00:00.000000000",
          "2025-01-24T00:00:00.000000000",
          "2025-01-23T00:00:00.000000000",
          "2025-01-22T00:00:00.000000000",
          "2025-01-21T00:00:00.000000000",
          "2025-01-17T00:00:00.000000000",
          "2025-01-16T00:00:00.000000000",
          "2025-01-15T00:00:00.000000000",
          "2025-01-14T00:00:00.000000000",
          "2025-01-13T00:00:00.000000000",
          "2025-01-10T00:00:00.000000000",
          "2025-01-08T00:00:00.000000000",
          "2025-01-07T00:00:00.000000000",
          "2025-01-06T00:00:00.000000000",
          "2025-01-03T00:00:00.000000000",
          "2025-01-02T00:00:00.000000000",
          "2024-12-31T00:00:00.000000000",
          "2024-12-30T00:00:00.000000000",
          "2024-12-27T00:00:00.000000000",
          "2024-12-26T00:00:00.000000000",
          "2024-12-24T00:00:00.000000000",
          "2024-12-23T00:00:00.000000000",
          "2024-12-20T00:00:00.000000000",
          "2024-12-19T00:00:00.000000000",
          "2024-12-18T00:00:00.000000000",
          "2024-12-17T00:00:00.000000000",
          "2024-12-16T00:00:00.000000000",
          "2024-12-13T00:00:00.000000000",
          "2024-12-12T00:00:00.000000000",
          "2024-12-11T00:00:00.000000000",
          "2024-12-10T00:00:00.000000000",
          "2024-12-09T00:00:00.000000000",
          "2024-12-06T00:00:00.000000000",
          "2024-12-05T00:00:00.000000000",
          "2024-12-04T00:00:00.000000000",
          "2024-12-03T00:00:00.000000000",
          "2024-12-02T00:00:00.000000000",
          "2024-11-29T00:00:00.000000000",
          "2024-11-27T00:00:00.000000000",
          "2024-11-26T00:00:00.000000000",
          "2024-11-25T00:00:00.000000000",
          "2024-11-22T00:00:00.000000000",
          "2024-11-21T00:00:00.000000000",
          "2024-11-20T00:00:00.000000000",
          "2024-11-19T00:00:00.000000000",
          "2024-11-18T00:00:00.000000000",
          "2024-11-15T00:00:00.000000000",
          "2024-11-14T00:00:00.000000000",
          "2024-11-13T00:00:00.000000000",
          "2024-11-12T00:00:00.000000000",
          "2024-11-11T00:00:00.000000000",
          "2024-11-08T00:00:00.000000000",
          "2024-11-07T00:00:00.000000000",
          "2024-11-06T00:00:00.000000000",
          "2024-11-05T00:00:00.000000000",
          "2024-11-04T00:00:00.000000000",
          "2024-11-01T00:00:00.000000000",
          "2024-10-31T00:00:00.000000000",
          "2024-10-30T00:00:00.000000000",
          "2024-10-29T00:00:00.000000000",
          "2024-10-28T00:00:00.000000000",
          "2024-10-25T00:00:00.000000000",
          "2024-10-24T00:00:00.000000000",
          "2024-10-23T00:00:00.000000000",
          "2024-10-22T00:00:00.000000000",
          "2024-10-21T00:00:00.000000000",
          "2024-10-18T00:00:00.000000000",
          "2024-10-17T00:00:00.000000000",
          "2024-10-16T00:00:00.000000000",
          "2024-10-15T00:00:00.000000000",
          "2024-10-14T00:00:00.000000000"
         ],
         "xaxis": "x",
         "y": {
          "bdata": "AAAAQKFndEEAAABwq2J0QQAAAMCmpWlBAAAAQKVDakEAAACA2n90QQAAAGDOrmRBAAAAgM24cEEAAACghddnQQAAACCQomtBAAAA4FSgc0EAAABAyOZtQQAAAGCo3m1BAAAAADICaEEAAACAH7lwQQAAAPAg7HRBAAAAEEgecEEAAAAAPflnQQAAAKBw62ZBAAAA4KjKaEEAAACg75xoQQAAAGAHVW9BAAAAQA7zaEEAAABgLvhwQQAAAMAbX2pBAAAAsHNsdEEAAADApG9yQQAAACDp9ntBAAAAwDFjdEEAAACwxfpzQQAAAGBlFXtBAAAAEJ8uckEAAABg8uZiQQAAAGAraWdBAAAAADREZkEAAACA5XpwQQAAAECF319BAAAAwDmcbUEAAAAApe9pQQAAAOAgkmRBAAAAQE9dckEAAADAujxjQQAAAOBGBmdBAAAAQL7Fa0EAAAAAXtBlQQAAAKCDMGhBAAAAAHD2VkEAAAAAMs1aQQAAAEDB1l5BAAAAwHk8V0EAAAAASgdSQQAAAMBGd2NBAAAAcCZch0EAAABAwIdsQQAAAIDRSHBBAAAAQMaZaEEAAAAgP8NkQQAAAKCcH2BBAAAAQIeDXEEAAACAnatkQQAAAMA83WRBAAAA4BvLZUEAAADwpCZwQQAAAADP015BAAAAwEUIbEEAAACA425sQQAAAGBw4mdBAAAAwGUzW0EAAAAAeXdbQQAAAMDowGNBAAAAwIrwaUEAAACAnHphQQAAAKCnRmVBAAAAYNuvYkEAAACgoSliQQAAAGA7XWtBAAAAAG7kcEEAAADgVRVlQQAAAOC5hGRBAAAAgP0Qb0EAAABg43hjQQAAAGCC9WFBAAAAgCHza0EAAABQGXVxQQAAAGAipWJBAAAAIOsCZ0EAAABgSDBtQQAAALBXmHlBAAAA0NGeeUEAAACA+tRoQQAAAGCJ1mRBAAAAQBKgZUEAAADAQmhbQQAAAGA8LWtBAAAA4BlMYEEAAADAWSxfQQAAAIDwWV1BAAAAwJyYYEEAAAAAJH5lQQAAAIAJPmJBAAAAwJB6X0E=",
          "dtype": "f8"
         },
         "yaxis": "y2"
        }
       ],
       "layout": {
        "template": {
         "data": {
          "bar": [
           {
            "error_x": {
             "color": "#2a3f5f"
            },
            "error_y": {
             "color": "#2a3f5f"
            },
            "marker": {
             "line": {
              "color": "white",
              "width": 0.5
             },
             "pattern": {
              "fillmode": "overlay",
              "size": 10,
              "solidity": 0.2
             }
            },
            "type": "bar"
           }
          ],
          "barpolar": [
           {
            "marker": {
             "line": {
              "color": "white",
              "width": 0.5
             },
             "pattern": {
              "fillmode": "overlay",
              "size": 10,
              "solidity": 0.2
             }
            },
            "type": "barpolar"
           }
          ],
          "carpet": [
           {
            "aaxis": {
             "endlinecolor": "#2a3f5f",
             "gridcolor": "#C8D4E3",
             "linecolor": "#C8D4E3",
             "minorgridcolor": "#C8D4E3",
             "startlinecolor": "#2a3f5f"
            },
            "baxis": {
             "endlinecolor": "#2a3f5f",
             "gridcolor": "#C8D4E3",
             "linecolor": "#C8D4E3",
             "minorgridcolor": "#C8D4E3",
             "startlinecolor": "#2a3f5f"
            },
            "type": "carpet"
           }
          ],
          "choropleth": [
           {
            "colorbar": {
             "outlinewidth": 0,
             "ticks": ""
            },
            "type": "choropleth"
           }
          ],
          "contour": [
           {
            "colorbar": {
             "outlinewidth": 0,
             "ticks": ""
            },
            "colorscale": [
             [
              0,
              "#0d0887"
             ],
             [
              0.1111111111111111,
              "#46039f"
             ],
             [
              0.2222222222222222,
              "#7201a8"
             ],
             [
              0.3333333333333333,
              "#9c179e"
             ],
             [
              0.4444444444444444,
              "#bd3786"
             ],
             [
              0.5555555555555556,
              "#d8576b"
             ],
             [
              0.6666666666666666,
              "#ed7953"
             ],
             [
              0.7777777777777778,
              "#fb9f3a"
             ],
             [
              0.8888888888888888,
              "#fdca26"
             ],
             [
              1,
              "#f0f921"
             ]
            ],
            "type": "contour"
           }
          ],
          "contourcarpet": [
           {
            "colorbar": {
             "outlinewidth": 0,
             "ticks": ""
            },
            "type": "contourcarpet"
           }
          ],
          "heatmap": [
           {
            "colorbar": {
             "outlinewidth": 0,
             "ticks": ""
            },
            "colorscale": [
             [
              0,
              "#0d0887"
             ],
             [
              0.1111111111111111,
              "#46039f"
             ],
             [
              0.2222222222222222,
              "#7201a8"
             ],
             [
              0.3333333333333333,
              "#9c179e"
             ],
             [
              0.4444444444444444,
              "#bd3786"
             ],
             [
              0.5555555555555556,
              "#d8576b"
             ],
             [
              0.6666666666666666,
              "#ed7953"
             ],
             [
              0.7777777777777778,
              "#fb9f3a"
             ],
             [
              0.8888888888888888,
              "#fdca26"
             ],
             [
              1,
              "#f0f921"
             ]
            ],
            "type": "heatmap"
           }
          ],
          "histogram": [
           {
            "marker": {
             "pattern": {
              "fillmode": "overlay",
              "size": 10,
              "solidity": 0.2
             }
            },
            "type": "histogram"
           }
          ],
          "histogram2d": [
           {
            "colorbar": {
             "outlinewidth": 0,
             "ticks": ""
            },
            "colorscale": [
             [
              0,
              "#0d0887"
             ],
             [
              0.1111111111111111,
              "#46039f"
             ],
             [
              0.2222222222222222,
              "#7201a8"
             ],
             [
              0.3333333333333333,
              "#9c179e"
             ],
             [
              0.4444444444444444,
              "#bd3786"
             ],
             [
              0.5555555555555556,
              "#d8576b"
             ],
             [
              0.6666666666666666,
              "#ed7953"
             ],
             [
              0.7777777777777778,
              "#fb9f3a"
             ],
             [
              0.8888888888888888,
              "#fdca26"
             ],
             [
              1,
              "#f0f921"
             ]
            ],
            "type": "histogram2d"
           }
          ],
          "histogram2dcontour": [
           {
            "colorbar": {
             "outlinewidth": 0,
             "ticks": ""
            },
            "colorscale": [
             [
              0,
              "#0d0887"
             ],
             [
              0.1111111111111111,
              "#46039f"
             ],
             [
              0.2222222222222222,
              "#7201a8"
             ],
             [
              0.3333333333333333,
              "#9c179e"
             ],
             [
              0.4444444444444444,
              "#bd3786"
             ],
             [
              0.5555555555555556,
              "#d8576b"
             ],
             [
              0.6666666666666666,
              "#ed7953"
             ],
             [
              0.7777777777777778,
              "#fb9f3a"
             ],
             [
              0.8888888888888888,
              "#fdca26"
             ],
             [
              1,
              "#f0f921"
             ]
            ],
            "type": "histogram2dcontour"
           }
          ],
          "mesh3d": [
           {
            "colorbar": {
             "outlinewidth": 0,
             "ticks": ""
            },
            "type": "mesh3d"
           }
          ],
          "parcoords": [
           {
            "line": {
             "colorbar": {
              "outlinewidth": 0,
              "ticks": ""
             }
            },
            "type": "parcoords"
           }
          ],
          "pie": [
           {
            "automargin": true,
            "type": "pie"
           }
          ],
          "scatter": [
           {
            "fillpattern": {
             "fillmode": "overlay",
             "size": 10,
             "solidity": 0.2
            },
            "type": "scatter"
           }
          ],
          "scatter3d": [
           {
            "line": {
             "colorbar": {
              "outlinewidth": 0,
              "ticks": ""
             }
            },
            "marker": {
             "colorbar": {
              "outlinewidth": 0,
              "ticks": ""
             }
            },
            "type": "scatter3d"
           }
          ],
          "scattercarpet": [
           {
            "marker": {
             "colorbar": {
              "outlinewidth": 0,
              "ticks": ""
             }
            },
            "type": "scattercarpet"
           }
          ],
          "scattergeo": [
           {
            "marker": {
             "colorbar": {
              "outlinewidth": 0,
              "ticks": ""
             }
            },
            "type": "scattergeo"
           }
          ],
          "scattergl": [
           {
            "marker": {
             "colorbar": {
              "outlinewidth": 0,
              "ticks": ""
             }
            },
            "type": "scattergl"
           }
          ],
          "scattermap": [
           {
            "marker": {
             "colorbar": {
              "outlinewidth": 0,
              "ticks": ""
             }
            },
            "type": "scattermap"
           }
          ],
          "scattermapbox": [
           {
            "marker": {
             "colorbar": {
              "outlinewidth": 0,
              "ticks": ""
             }
            },
            "type": "scattermapbox"
           }
          ],
          "scatterpolar": [
           {
            "marker": {
             "colorbar": {
              "outlinewidth": 0,
              "ticks": ""
             }
            },
            "type": "scatterpolar"
           }
          ],
          "scatterpolargl": [
           {
            "marker": {
             "colorbar": {
              "outlinewidth": 0,
              "ticks": ""
             }
            },
            "type": "scatterpolargl"
           }
          ],
          "scatterternary": [
           {
            "marker": {
             "colorbar": {
              "outlinewidth": 0,
              "ticks": ""
             }
            },
            "type": "scatterternary"
           }
          ],
          "surface": [
           {
            "colorbar": {
             "outlinewidth": 0,
             "ticks": ""
            },
            "colorscale": [
             [
              0,
              "#0d0887"
             ],
             [
              0.1111111111111111,
              "#46039f"
             ],
             [
              0.2222222222222222,
              "#7201a8"
             ],
             [
              0.3333333333333333,
              "#9c179e"
             ],
             [
              0.4444444444444444,
              "#bd3786"
             ],
             [
              0.5555555555555556,
              "#d8576b"
             ],
             [
              0.6666666666666666,
              "#ed7953"
             ],
             [
              0.7777777777777778,
              "#fb9f3a"
             ],
             [
              0.8888888888888888,
              "#fdca26"
             ],
             [
              1,
              "#f0f921"
             ]
            ],
            "type": "surface"
           }
          ],
          "table": [
           {
            "cells": {
             "fill": {
              "color": "#EBF0F8"
             },
             "line": {
              "color": "white"
             }
            },
            "header": {
             "fill": {
              "color": "#C8D4E3"
             },
             "line": {
              "color": "white"
             }
            },
            "type": "table"
           }
          ]
         },
         "layout": {
          "annotationdefaults": {
           "arrowcolor": "#2a3f5f",
           "arrowhead": 0,
           "arrowwidth": 1
          },
          "autotypenumbers": "strict",
          "coloraxis": {
           "colorbar": {
            "outlinewidth": 0,
            "ticks": ""
           }
          },
          "colorscale": {
           "diverging": [
            [
             0,
             "#8e0152"
            ],
            [
             0.1,
             "#c51b7d"
            ],
            [
             0.2,
             "#de77ae"
            ],
            [
             0.3,
             "#f1b6da"
            ],
            [
             0.4,
             "#fde0ef"
            ],
            [
             0.5,
             "#f7f7f7"
            ],
            [
             0.6,
             "#e6f5d0"
            ],
            [
             0.7,
             "#b8e186"
            ],
            [
             0.8,
             "#7fbc41"
            ],
            [
             0.9,
             "#4d9221"
            ],
            [
             1,
             "#276419"
            ]
           ],
           "sequential": [
            [
             0,
             "#0d0887"
            ],
            [
             0.1111111111111111,
             "#46039f"
            ],
            [
             0.2222222222222222,
             "#7201a8"
            ],
            [
             0.3333333333333333,
             "#9c179e"
            ],
            [
             0.4444444444444444,
             "#bd3786"
            ],
            [
             0.5555555555555556,
             "#d8576b"
            ],
            [
             0.6666666666666666,
             "#ed7953"
            ],
            [
             0.7777777777777778,
             "#fb9f3a"
            ],
            [
             0.8888888888888888,
             "#fdca26"
            ],
            [
             1,
             "#f0f921"
            ]
           ],
           "sequentialminus": [
            [
             0,
             "#0d0887"
            ],
            [
             0.1111111111111111,
             "#46039f"
            ],
            [
             0.2222222222222222,
             "#7201a8"
            ],
            [
             0.3333333333333333,
             "#9c179e"
            ],
            [
             0.4444444444444444,
             "#bd3786"
            ],
            [
             0.5555555555555556,
             "#d8576b"
            ],
            [
             0.6666666666666666,
             "#ed7953"
            ],
            [
             0.7777777777777778,
             "#fb9f3a"
            ],
            [
             0.8888888888888888,
             "#fdca26"
            ],
            [
             1,
             "#f0f921"
            ]
           ]
          },
          "colorway": [
           "#636efa",
           "#EF553B",
           "#00cc96",
           "#ab63fa",
           "#FFA15A",
           "#19d3f3",
           "#FF6692",
           "#B6E880",
           "#FF97FF",
           "#FECB52"
          ],
          "font": {
           "color": "#2a3f5f"
          },
          "geo": {
           "bgcolor": "white",
           "lakecolor": "white",
           "landcolor": "white",
           "showlakes": true,
           "showland": true,
           "subunitcolor": "#C8D4E3"
          },
          "hoverlabel": {
           "align": "left"
          },
          "hovermode": "closest",
          "mapbox": {
           "style": "light"
          },
          "paper_bgcolor": "white",
          "plot_bgcolor": "white",
          "polar": {
           "angularaxis": {
            "gridcolor": "#EBF0F8",
            "linecolor": "#EBF0F8",
            "ticks": ""
           },
           "bgcolor": "white",
           "radialaxis": {
            "gridcolor": "#EBF0F8",
            "linecolor": "#EBF0F8",
            "ticks": ""
           }
          },
          "scene": {
           "xaxis": {
            "backgroundcolor": "white",
            "gridcolor": "#DFE8F3",
            "gridwidth": 2,
            "linecolor": "#EBF0F8",
            "showbackground": true,
            "ticks": "",
            "zerolinecolor": "#EBF0F8"
           },
           "yaxis": {
            "backgroundcolor": "white",
            "gridcolor": "#DFE8F3",
            "gridwidth": 2,
            "linecolor": "#EBF0F8",
            "showbackground": true,
            "ticks": "",
            "zerolinecolor": "#EBF0F8"
           },
           "zaxis": {
            "backgroundcolor": "white",
            "gridcolor": "#DFE8F3",
            "gridwidth": 2,
            "linecolor": "#EBF0F8",
            "showbackground": true,
            "ticks": "",
            "zerolinecolor": "#EBF0F8"
           }
          },
          "shapedefaults": {
           "line": {
            "color": "#2a3f5f"
           }
          },
          "ternary": {
           "aaxis": {
            "gridcolor": "#DFE8F3",
            "linecolor": "#A2B1C6",
            "ticks": ""
           },
           "baxis": {
            "gridcolor": "#DFE8F3",
            "linecolor": "#A2B1C6",
            "ticks": ""
           },
           "bgcolor": "white",
           "caxis": {
            "gridcolor": "#DFE8F3",
            "linecolor": "#A2B1C6",
            "ticks": ""
           }
          },
          "title": {
           "x": 0.05
          },
          "xaxis": {
           "automargin": true,
           "gridcolor": "#EBF0F8",
           "linecolor": "#EBF0F8",
           "ticks": "",
           "title": {
            "standoff": 15
           },
           "zerolinecolor": "#EBF0F8",
           "zerolinewidth": 2
          },
          "yaxis": {
           "automargin": true,
           "gridcolor": "#EBF0F8",
           "linecolor": "#EBF0F8",
           "ticks": "",
           "title": {
            "standoff": 15
           },
           "zerolinecolor": "#EBF0F8",
           "zerolinewidth": 2
          }
         }
        },
        "title": {
         "text": "META Stock Closing Prices and Volume"
        },
        "xaxis": {
         "anchor": "y",
         "domain": [
          0,
          0.94
         ],
         "linecolor": "black",
         "linewidth": 2,
         "mirror": true,
         "showline": true,
         "title": {
          "text": "Date"
         }
        },
        "yaxis": {
         "anchor": "x",
         "domain": [
          0,
          1
         ],
         "linecolor": "blue",
         "linewidth": 2,
         "mirror": true,
         "rangemode": "tozero",
         "showline": true,
         "title": {
          "text": "<b>META Close Price</b>"
         }
        },
        "yaxis2": {
         "anchor": "x",
         "linecolor": "red",
         "linewidth": 2,
         "mirror": true,
         "overlaying": "y",
         "rangemode": "tozero",
         "showline": true,
         "side": "right",
         "title": {
          "text": "<b>META Volume</b>"
         }
        }
       }
      }
     },
     "metadata": {},
     "output_type": "display_data"
    },
    {
     "data": {
      "application/vnd.plotly.v1+json": {
       "config": {
        "plotlyServerURL": "https://plot.ly"
       },
       "data": [
        {
         "line": {
          "color": "royalblue"
         },
         "name": "NVDA Close Price",
         "type": "scatter",
         "x": [
          "2025-03-10T00:00:00.000000000",
          "2025-03-07T00:00:00.000000000",
          "2025-03-06T00:00:00.000000000",
          "2025-03-05T00:00:00.000000000",
          "2025-03-04T00:00:00.000000000",
          "2025-03-03T00:00:00.000000000",
          "2025-02-28T00:00:00.000000000",
          "2025-02-27T00:00:00.000000000",
          "2025-02-26T00:00:00.000000000",
          "2025-02-25T00:00:00.000000000",
          "2025-02-24T00:00:00.000000000",
          "2025-02-21T00:00:00.000000000",
          "2025-02-20T00:00:00.000000000",
          "2025-02-19T00:00:00.000000000",
          "2025-02-18T00:00:00.000000000",
          "2025-02-14T00:00:00.000000000",
          "2025-02-13T00:00:00.000000000",
          "2025-02-12T00:00:00.000000000",
          "2025-02-11T00:00:00.000000000",
          "2025-02-10T00:00:00.000000000",
          "2025-02-07T00:00:00.000000000",
          "2025-02-06T00:00:00.000000000",
          "2025-02-05T00:00:00.000000000",
          "2025-02-04T00:00:00.000000000",
          "2025-02-03T00:00:00.000000000",
          "2025-01-31T00:00:00.000000000",
          "2025-01-30T00:00:00.000000000",
          "2025-01-29T00:00:00.000000000",
          "2025-01-28T00:00:00.000000000",
          "2025-01-27T00:00:00.000000000",
          "2025-01-24T00:00:00.000000000",
          "2025-01-23T00:00:00.000000000",
          "2025-01-22T00:00:00.000000000",
          "2025-01-21T00:00:00.000000000",
          "2025-01-17T00:00:00.000000000",
          "2025-01-16T00:00:00.000000000",
          "2025-01-15T00:00:00.000000000",
          "2025-01-14T00:00:00.000000000",
          "2025-01-13T00:00:00.000000000",
          "2025-01-10T00:00:00.000000000",
          "2025-01-08T00:00:00.000000000",
          "2025-01-07T00:00:00.000000000",
          "2025-01-06T00:00:00.000000000",
          "2025-01-03T00:00:00.000000000",
          "2025-01-02T00:00:00.000000000",
          "2024-12-31T00:00:00.000000000",
          "2024-12-30T00:00:00.000000000",
          "2024-12-27T00:00:00.000000000",
          "2024-12-26T00:00:00.000000000",
          "2024-12-24T00:00:00.000000000",
          "2024-12-23T00:00:00.000000000",
          "2024-12-20T00:00:00.000000000",
          "2024-12-19T00:00:00.000000000",
          "2024-12-18T00:00:00.000000000",
          "2024-12-17T00:00:00.000000000",
          "2024-12-16T00:00:00.000000000",
          "2024-12-13T00:00:00.000000000",
          "2024-12-12T00:00:00.000000000",
          "2024-12-11T00:00:00.000000000",
          "2024-12-10T00:00:00.000000000",
          "2024-12-09T00:00:00.000000000",
          "2024-12-06T00:00:00.000000000",
          "2024-12-05T00:00:00.000000000",
          "2024-12-04T00:00:00.000000000",
          "2024-12-03T00:00:00.000000000",
          "2024-12-02T00:00:00.000000000",
          "2024-11-29T00:00:00.000000000",
          "2024-11-27T00:00:00.000000000",
          "2024-11-26T00:00:00.000000000",
          "2024-11-25T00:00:00.000000000",
          "2024-11-22T00:00:00.000000000",
          "2024-11-21T00:00:00.000000000",
          "2024-11-20T00:00:00.000000000",
          "2024-11-19T00:00:00.000000000",
          "2024-11-18T00:00:00.000000000",
          "2024-11-15T00:00:00.000000000",
          "2024-11-14T00:00:00.000000000",
          "2024-11-13T00:00:00.000000000",
          "2024-11-12T00:00:00.000000000",
          "2024-11-11T00:00:00.000000000",
          "2024-11-08T00:00:00.000000000",
          "2024-11-07T00:00:00.000000000",
          "2024-11-06T00:00:00.000000000",
          "2024-11-05T00:00:00.000000000",
          "2024-11-04T00:00:00.000000000",
          "2024-11-01T00:00:00.000000000",
          "2024-10-31T00:00:00.000000000",
          "2024-10-30T00:00:00.000000000",
          "2024-10-29T00:00:00.000000000",
          "2024-10-28T00:00:00.000000000",
          "2024-10-25T00:00:00.000000000",
          "2024-10-24T00:00:00.000000000",
          "2024-10-23T00:00:00.000000000",
          "2024-10-22T00:00:00.000000000",
          "2024-10-21T00:00:00.000000000",
          "2024-10-18T00:00:00.000000000",
          "2024-10-17T00:00:00.000000000",
          "2024-10-16T00:00:00.000000000",
          "2024-10-15T00:00:00.000000000",
          "2024-10-14T00:00:00.000000000"
         ],
         "xaxis": "x",
         "y": {
          "bdata": "H4XrUbi+WkBcj8L1KCxcQBSuR+F6pFtAMzMzMzNTXUCPwvUoXP9cQKRwPQrXg1xAexSuR+E6X0CamZmZmQleQClcj8L1aGBAuB6F61GoX0ApXI/C9UhgQPYoXI/CzWBA7FG4HoWDYUCPwvUoXGdhQM3MzMzMbGFAMzMzMzNbYUDhehSuR+lgQBSuR+F6ZGBAmpmZmZmZYEAK16NwPbJgQHsUrkfhOmBA9ihcj8IVYECF61G4HjVfQJqZmZmZqV1ACtejcD0qXUAUrkfhegReQJqZmZmZKV9AzczMzMzsXkBI4XoUrh9gQHsUrkfhml1ApHA9CtfTYUDXo3A9CmdiQArXo3A9YmJAw/UoXI+aYUAfhetRuDZhQArXo3A9smBASOF6FK4HYUC4HoXrUXhgQI/C9Shcp2BAhetRuB79YEDsUbgehYNhQBSuR+F6hGFA9ihcj8KtYkDXo3A9Cg9iQFK4HoXrSWFA4XoUrkfJYEBI4XoUri9hQLgehetRIGFA9ihcj8J9YUDXo3A9CodhQD0K16NwdWFAZmZmZmbWYED2KFyPwlVgQIXrUbgeHWBAFK5H4XpMYEAAAAAAAIBgQAAAAAAAyGBAexSuR+EqYUBSuB6F62lhQArXo3A94mBAUrgehetZYUCuR+F6FM5hQFK4HoXrIWJAFK5H4XokYkC4HoXrUYhhQFyPwvUoVGFAAAAAAABIYUB7FK5H4epgQD0K16NwHWFAcT0K16MAYUBmZmZmZr5hQD0K16NwVWJAFK5H4Xo8YkC4HoXrUWBiQM3MzMzMhGFAj8L1KFy/YUC4HoXrUVhiQHE9CtejSGJA4XoUrkeJYkC4HoXrUShiQFyPwvUodGJAXI/C9SicYkDsUbgehTNiQIXrUbgefWFAmpmZmZkBYUDNzMzMzOxgQLgehetRmGBAH4XrUbhqYUAAAAAAAKhhQHE9CtejkGFA4XoUrkexYUCF61G4Ho1hQFK4HoXrcWFAexSuR+HyYUAfhetRuPZhQAAAAAAAQGFA9ihcj8IdYUDXo3A9CvdgQDMzMzMzc2BACtejcD1CYUA=",
          "dtype": "f8"
         },
         "yaxis": "y"
        },
        {
         "line": {
          "color": "tomato",
          "dash": "dot"
         },
         "name": "NVDA Volume",
         "type": "scatter",
         "x": [
          "2025-03-10T00:00:00.000000000",
          "2025-03-07T00:00:00.000000000",
          "2025-03-06T00:00:00.000000000",
          "2025-03-05T00:00:00.000000000",
          "2025-03-04T00:00:00.000000000",
          "2025-03-03T00:00:00.000000000",
          "2025-02-28T00:00:00.000000000",
          "2025-02-27T00:00:00.000000000",
          "2025-02-26T00:00:00.000000000",
          "2025-02-25T00:00:00.000000000",
          "2025-02-24T00:00:00.000000000",
          "2025-02-21T00:00:00.000000000",
          "2025-02-20T00:00:00.000000000",
          "2025-02-19T00:00:00.000000000",
          "2025-02-18T00:00:00.000000000",
          "2025-02-14T00:00:00.000000000",
          "2025-02-13T00:00:00.000000000",
          "2025-02-12T00:00:00.000000000",
          "2025-02-11T00:00:00.000000000",
          "2025-02-10T00:00:00.000000000",
          "2025-02-07T00:00:00.000000000",
          "2025-02-06T00:00:00.000000000",
          "2025-02-05T00:00:00.000000000",
          "2025-02-04T00:00:00.000000000",
          "2025-02-03T00:00:00.000000000",
          "2025-01-31T00:00:00.000000000",
          "2025-01-30T00:00:00.000000000",
          "2025-01-29T00:00:00.000000000",
          "2025-01-28T00:00:00.000000000",
          "2025-01-27T00:00:00.000000000",
          "2025-01-24T00:00:00.000000000",
          "2025-01-23T00:00:00.000000000",
          "2025-01-22T00:00:00.000000000",
          "2025-01-21T00:00:00.000000000",
          "2025-01-17T00:00:00.000000000",
          "2025-01-16T00:00:00.000000000",
          "2025-01-15T00:00:00.000000000",
          "2025-01-14T00:00:00.000000000",
          "2025-01-13T00:00:00.000000000",
          "2025-01-10T00:00:00.000000000",
          "2025-01-08T00:00:00.000000000",
          "2025-01-07T00:00:00.000000000",
          "2025-01-06T00:00:00.000000000",
          "2025-01-03T00:00:00.000000000",
          "2025-01-02T00:00:00.000000000",
          "2024-12-31T00:00:00.000000000",
          "2024-12-30T00:00:00.000000000",
          "2024-12-27T00:00:00.000000000",
          "2024-12-26T00:00:00.000000000",
          "2024-12-24T00:00:00.000000000",
          "2024-12-23T00:00:00.000000000",
          "2024-12-20T00:00:00.000000000",
          "2024-12-19T00:00:00.000000000",
          "2024-12-18T00:00:00.000000000",
          "2024-12-17T00:00:00.000000000",
          "2024-12-16T00:00:00.000000000",
          "2024-12-13T00:00:00.000000000",
          "2024-12-12T00:00:00.000000000",
          "2024-12-11T00:00:00.000000000",
          "2024-12-10T00:00:00.000000000",
          "2024-12-09T00:00:00.000000000",
          "2024-12-06T00:00:00.000000000",
          "2024-12-05T00:00:00.000000000",
          "2024-12-04T00:00:00.000000000",
          "2024-12-03T00:00:00.000000000",
          "2024-12-02T00:00:00.000000000",
          "2024-11-29T00:00:00.000000000",
          "2024-11-27T00:00:00.000000000",
          "2024-11-26T00:00:00.000000000",
          "2024-11-25T00:00:00.000000000",
          "2024-11-22T00:00:00.000000000",
          "2024-11-21T00:00:00.000000000",
          "2024-11-20T00:00:00.000000000",
          "2024-11-19T00:00:00.000000000",
          "2024-11-18T00:00:00.000000000",
          "2024-11-15T00:00:00.000000000",
          "2024-11-14T00:00:00.000000000",
          "2024-11-13T00:00:00.000000000",
          "2024-11-12T00:00:00.000000000",
          "2024-11-11T00:00:00.000000000",
          "2024-11-08T00:00:00.000000000",
          "2024-11-07T00:00:00.000000000",
          "2024-11-06T00:00:00.000000000",
          "2024-11-05T00:00:00.000000000",
          "2024-11-04T00:00:00.000000000",
          "2024-11-01T00:00:00.000000000",
          "2024-10-31T00:00:00.000000000",
          "2024-10-30T00:00:00.000000000",
          "2024-10-29T00:00:00.000000000",
          "2024-10-28T00:00:00.000000000",
          "2024-10-25T00:00:00.000000000",
          "2024-10-24T00:00:00.000000000",
          "2024-10-23T00:00:00.000000000",
          "2024-10-22T00:00:00.000000000",
          "2024-10-21T00:00:00.000000000",
          "2024-10-18T00:00:00.000000000",
          "2024-10-17T00:00:00.000000000",
          "2024-10-16T00:00:00.000000000",
          "2024-10-15T00:00:00.000000000",
          "2024-10-14T00:00:00.000000000"
         ],
         "xaxis": "x",
         "y": {
          "bdata": "AAAAahCGtUEAAABMxl60QQAAAKXYJLNBAAAA3qbysEEAAABpfbu3QQAAAH0uhbhBAAAASQ8xt0EAAACmU2q6QQAAANbHObNBAAAAZ6wtsEEAAAAii/etQQAAAOKlNKtBAAAAvpYnoUEAAAAMy/ijQQAAAGa9IKpBAAAACpBNp0EAAACuFYmnQQAAADBQG6NBAAAA1qpTpUEAAAA8+92pQQAAAHSxM6tBAAAAbKv6rUEAAADKf12vQQAAADBJla5BAAAAXZsgtkEAAAAjnkS3QQAAAB2Ra7dBAAAAALLXu0EAAADXgEbBQQAAgBcvZ8hBAAAAxi75q0EAAAA6KpaiQQAAAIaLVKxBAAAA8tGSp0EAAAAwy/unQQAAAP5c8ahBAAAAdGIUpkEAAACq8lCnQQAAAKRFaqhBAAAApIa/qEEAAAB4KxqrQQAAAB7F97RBAAAAnqyir0EAAADcXVarQQAAAPwFoqdBAAAAlleOokEAAABY2/6jQQAAAJbEVaRBAAAAyMLHm0EAAAD0RRKZQQAAAAS6/KRBAAAAKUFFskEAAABUHwCpQQAAALV3ibBBAAAArpLsrkEAAAA0sV2sQQAAAAJGmatBAAAAAr/6okEAAADQ2wqmQQAAADBUCalBAAAAoj2RpkEAAADKu3imQQAAAPj6k6RBAAAAzmeQq0EAAAAahJmjQQAAALJXd6RBAAAA6FHpoEEAAADASvyqQQAAAEwer6ZBAAAAM2WPtEEAAAAUiy6sQQAAAIr15bdBAAAAJkR4skEAAABA+CirQQAAABLQcqpBAAAACnPRrUEAAACKjC6nQQAAAEZs4KZBAAAA5Nmtp0EAAADoIrylQQAAAEzl8KRBAAAATgG3qEEAAABSmNqsQQAAADo2I6NBAAAA2udapkEAAAA8CrGoQQAAAFl6GLBBAAAAxGdjpUEAAABEYMmiQQAAAHJysaRBAAAAetRzqEEAAACQ2oukQQAAADbyCrFBAAAASnv6qkEAAAAkkImvQQAAAJDY/aRBAAAAUddDskEAAADQfJOvQQAAAG0+hbZBAAAAKLCyq0E=",
          "dtype": "f8"
         },
         "yaxis": "y2"
        }
       ],
       "layout": {
        "template": {
         "data": {
          "bar": [
           {
            "error_x": {
             "color": "#2a3f5f"
            },
            "error_y": {
             "color": "#2a3f5f"
            },
            "marker": {
             "line": {
              "color": "white",
              "width": 0.5
             },
             "pattern": {
              "fillmode": "overlay",
              "size": 10,
              "solidity": 0.2
             }
            },
            "type": "bar"
           }
          ],
          "barpolar": [
           {
            "marker": {
             "line": {
              "color": "white",
              "width": 0.5
             },
             "pattern": {
              "fillmode": "overlay",
              "size": 10,
              "solidity": 0.2
             }
            },
            "type": "barpolar"
           }
          ],
          "carpet": [
           {
            "aaxis": {
             "endlinecolor": "#2a3f5f",
             "gridcolor": "#C8D4E3",
             "linecolor": "#C8D4E3",
             "minorgridcolor": "#C8D4E3",
             "startlinecolor": "#2a3f5f"
            },
            "baxis": {
             "endlinecolor": "#2a3f5f",
             "gridcolor": "#C8D4E3",
             "linecolor": "#C8D4E3",
             "minorgridcolor": "#C8D4E3",
             "startlinecolor": "#2a3f5f"
            },
            "type": "carpet"
           }
          ],
          "choropleth": [
           {
            "colorbar": {
             "outlinewidth": 0,
             "ticks": ""
            },
            "type": "choropleth"
           }
          ],
          "contour": [
           {
            "colorbar": {
             "outlinewidth": 0,
             "ticks": ""
            },
            "colorscale": [
             [
              0,
              "#0d0887"
             ],
             [
              0.1111111111111111,
              "#46039f"
             ],
             [
              0.2222222222222222,
              "#7201a8"
             ],
             [
              0.3333333333333333,
              "#9c179e"
             ],
             [
              0.4444444444444444,
              "#bd3786"
             ],
             [
              0.5555555555555556,
              "#d8576b"
             ],
             [
              0.6666666666666666,
              "#ed7953"
             ],
             [
              0.7777777777777778,
              "#fb9f3a"
             ],
             [
              0.8888888888888888,
              "#fdca26"
             ],
             [
              1,
              "#f0f921"
             ]
            ],
            "type": "contour"
           }
          ],
          "contourcarpet": [
           {
            "colorbar": {
             "outlinewidth": 0,
             "ticks": ""
            },
            "type": "contourcarpet"
           }
          ],
          "heatmap": [
           {
            "colorbar": {
             "outlinewidth": 0,
             "ticks": ""
            },
            "colorscale": [
             [
              0,
              "#0d0887"
             ],
             [
              0.1111111111111111,
              "#46039f"
             ],
             [
              0.2222222222222222,
              "#7201a8"
             ],
             [
              0.3333333333333333,
              "#9c179e"
             ],
             [
              0.4444444444444444,
              "#bd3786"
             ],
             [
              0.5555555555555556,
              "#d8576b"
             ],
             [
              0.6666666666666666,
              "#ed7953"
             ],
             [
              0.7777777777777778,
              "#fb9f3a"
             ],
             [
              0.8888888888888888,
              "#fdca26"
             ],
             [
              1,
              "#f0f921"
             ]
            ],
            "type": "heatmap"
           }
          ],
          "histogram": [
           {
            "marker": {
             "pattern": {
              "fillmode": "overlay",
              "size": 10,
              "solidity": 0.2
             }
            },
            "type": "histogram"
           }
          ],
          "histogram2d": [
           {
            "colorbar": {
             "outlinewidth": 0,
             "ticks": ""
            },
            "colorscale": [
             [
              0,
              "#0d0887"
             ],
             [
              0.1111111111111111,
              "#46039f"
             ],
             [
              0.2222222222222222,
              "#7201a8"
             ],
             [
              0.3333333333333333,
              "#9c179e"
             ],
             [
              0.4444444444444444,
              "#bd3786"
             ],
             [
              0.5555555555555556,
              "#d8576b"
             ],
             [
              0.6666666666666666,
              "#ed7953"
             ],
             [
              0.7777777777777778,
              "#fb9f3a"
             ],
             [
              0.8888888888888888,
              "#fdca26"
             ],
             [
              1,
              "#f0f921"
             ]
            ],
            "type": "histogram2d"
           }
          ],
          "histogram2dcontour": [
           {
            "colorbar": {
             "outlinewidth": 0,
             "ticks": ""
            },
            "colorscale": [
             [
              0,
              "#0d0887"
             ],
             [
              0.1111111111111111,
              "#46039f"
             ],
             [
              0.2222222222222222,
              "#7201a8"
             ],
             [
              0.3333333333333333,
              "#9c179e"
             ],
             [
              0.4444444444444444,
              "#bd3786"
             ],
             [
              0.5555555555555556,
              "#d8576b"
             ],
             [
              0.6666666666666666,
              "#ed7953"
             ],
             [
              0.7777777777777778,
              "#fb9f3a"
             ],
             [
              0.8888888888888888,
              "#fdca26"
             ],
             [
              1,
              "#f0f921"
             ]
            ],
            "type": "histogram2dcontour"
           }
          ],
          "mesh3d": [
           {
            "colorbar": {
             "outlinewidth": 0,
             "ticks": ""
            },
            "type": "mesh3d"
           }
          ],
          "parcoords": [
           {
            "line": {
             "colorbar": {
              "outlinewidth": 0,
              "ticks": ""
             }
            },
            "type": "parcoords"
           }
          ],
          "pie": [
           {
            "automargin": true,
            "type": "pie"
           }
          ],
          "scatter": [
           {
            "fillpattern": {
             "fillmode": "overlay",
             "size": 10,
             "solidity": 0.2
            },
            "type": "scatter"
           }
          ],
          "scatter3d": [
           {
            "line": {
             "colorbar": {
              "outlinewidth": 0,
              "ticks": ""
             }
            },
            "marker": {
             "colorbar": {
              "outlinewidth": 0,
              "ticks": ""
             }
            },
            "type": "scatter3d"
           }
          ],
          "scattercarpet": [
           {
            "marker": {
             "colorbar": {
              "outlinewidth": 0,
              "ticks": ""
             }
            },
            "type": "scattercarpet"
           }
          ],
          "scattergeo": [
           {
            "marker": {
             "colorbar": {
              "outlinewidth": 0,
              "ticks": ""
             }
            },
            "type": "scattergeo"
           }
          ],
          "scattergl": [
           {
            "marker": {
             "colorbar": {
              "outlinewidth": 0,
              "ticks": ""
             }
            },
            "type": "scattergl"
           }
          ],
          "scattermap": [
           {
            "marker": {
             "colorbar": {
              "outlinewidth": 0,
              "ticks": ""
             }
            },
            "type": "scattermap"
           }
          ],
          "scattermapbox": [
           {
            "marker": {
             "colorbar": {
              "outlinewidth": 0,
              "ticks": ""
             }
            },
            "type": "scattermapbox"
           }
          ],
          "scatterpolar": [
           {
            "marker": {
             "colorbar": {
              "outlinewidth": 0,
              "ticks": ""
             }
            },
            "type": "scatterpolar"
           }
          ],
          "scatterpolargl": [
           {
            "marker": {
             "colorbar": {
              "outlinewidth": 0,
              "ticks": ""
             }
            },
            "type": "scatterpolargl"
           }
          ],
          "scatterternary": [
           {
            "marker": {
             "colorbar": {
              "outlinewidth": 0,
              "ticks": ""
             }
            },
            "type": "scatterternary"
           }
          ],
          "surface": [
           {
            "colorbar": {
             "outlinewidth": 0,
             "ticks": ""
            },
            "colorscale": [
             [
              0,
              "#0d0887"
             ],
             [
              0.1111111111111111,
              "#46039f"
             ],
             [
              0.2222222222222222,
              "#7201a8"
             ],
             [
              0.3333333333333333,
              "#9c179e"
             ],
             [
              0.4444444444444444,
              "#bd3786"
             ],
             [
              0.5555555555555556,
              "#d8576b"
             ],
             [
              0.6666666666666666,
              "#ed7953"
             ],
             [
              0.7777777777777778,
              "#fb9f3a"
             ],
             [
              0.8888888888888888,
              "#fdca26"
             ],
             [
              1,
              "#f0f921"
             ]
            ],
            "type": "surface"
           }
          ],
          "table": [
           {
            "cells": {
             "fill": {
              "color": "#EBF0F8"
             },
             "line": {
              "color": "white"
             }
            },
            "header": {
             "fill": {
              "color": "#C8D4E3"
             },
             "line": {
              "color": "white"
             }
            },
            "type": "table"
           }
          ]
         },
         "layout": {
          "annotationdefaults": {
           "arrowcolor": "#2a3f5f",
           "arrowhead": 0,
           "arrowwidth": 1
          },
          "autotypenumbers": "strict",
          "coloraxis": {
           "colorbar": {
            "outlinewidth": 0,
            "ticks": ""
           }
          },
          "colorscale": {
           "diverging": [
            [
             0,
             "#8e0152"
            ],
            [
             0.1,
             "#c51b7d"
            ],
            [
             0.2,
             "#de77ae"
            ],
            [
             0.3,
             "#f1b6da"
            ],
            [
             0.4,
             "#fde0ef"
            ],
            [
             0.5,
             "#f7f7f7"
            ],
            [
             0.6,
             "#e6f5d0"
            ],
            [
             0.7,
             "#b8e186"
            ],
            [
             0.8,
             "#7fbc41"
            ],
            [
             0.9,
             "#4d9221"
            ],
            [
             1,
             "#276419"
            ]
           ],
           "sequential": [
            [
             0,
             "#0d0887"
            ],
            [
             0.1111111111111111,
             "#46039f"
            ],
            [
             0.2222222222222222,
             "#7201a8"
            ],
            [
             0.3333333333333333,
             "#9c179e"
            ],
            [
             0.4444444444444444,
             "#bd3786"
            ],
            [
             0.5555555555555556,
             "#d8576b"
            ],
            [
             0.6666666666666666,
             "#ed7953"
            ],
            [
             0.7777777777777778,
             "#fb9f3a"
            ],
            [
             0.8888888888888888,
             "#fdca26"
            ],
            [
             1,
             "#f0f921"
            ]
           ],
           "sequentialminus": [
            [
             0,
             "#0d0887"
            ],
            [
             0.1111111111111111,
             "#46039f"
            ],
            [
             0.2222222222222222,
             "#7201a8"
            ],
            [
             0.3333333333333333,
             "#9c179e"
            ],
            [
             0.4444444444444444,
             "#bd3786"
            ],
            [
             0.5555555555555556,
             "#d8576b"
            ],
            [
             0.6666666666666666,
             "#ed7953"
            ],
            [
             0.7777777777777778,
             "#fb9f3a"
            ],
            [
             0.8888888888888888,
             "#fdca26"
            ],
            [
             1,
             "#f0f921"
            ]
           ]
          },
          "colorway": [
           "#636efa",
           "#EF553B",
           "#00cc96",
           "#ab63fa",
           "#FFA15A",
           "#19d3f3",
           "#FF6692",
           "#B6E880",
           "#FF97FF",
           "#FECB52"
          ],
          "font": {
           "color": "#2a3f5f"
          },
          "geo": {
           "bgcolor": "white",
           "lakecolor": "white",
           "landcolor": "white",
           "showlakes": true,
           "showland": true,
           "subunitcolor": "#C8D4E3"
          },
          "hoverlabel": {
           "align": "left"
          },
          "hovermode": "closest",
          "mapbox": {
           "style": "light"
          },
          "paper_bgcolor": "white",
          "plot_bgcolor": "white",
          "polar": {
           "angularaxis": {
            "gridcolor": "#EBF0F8",
            "linecolor": "#EBF0F8",
            "ticks": ""
           },
           "bgcolor": "white",
           "radialaxis": {
            "gridcolor": "#EBF0F8",
            "linecolor": "#EBF0F8",
            "ticks": ""
           }
          },
          "scene": {
           "xaxis": {
            "backgroundcolor": "white",
            "gridcolor": "#DFE8F3",
            "gridwidth": 2,
            "linecolor": "#EBF0F8",
            "showbackground": true,
            "ticks": "",
            "zerolinecolor": "#EBF0F8"
           },
           "yaxis": {
            "backgroundcolor": "white",
            "gridcolor": "#DFE8F3",
            "gridwidth": 2,
            "linecolor": "#EBF0F8",
            "showbackground": true,
            "ticks": "",
            "zerolinecolor": "#EBF0F8"
           },
           "zaxis": {
            "backgroundcolor": "white",
            "gridcolor": "#DFE8F3",
            "gridwidth": 2,
            "linecolor": "#EBF0F8",
            "showbackground": true,
            "ticks": "",
            "zerolinecolor": "#EBF0F8"
           }
          },
          "shapedefaults": {
           "line": {
            "color": "#2a3f5f"
           }
          },
          "ternary": {
           "aaxis": {
            "gridcolor": "#DFE8F3",
            "linecolor": "#A2B1C6",
            "ticks": ""
           },
           "baxis": {
            "gridcolor": "#DFE8F3",
            "linecolor": "#A2B1C6",
            "ticks": ""
           },
           "bgcolor": "white",
           "caxis": {
            "gridcolor": "#DFE8F3",
            "linecolor": "#A2B1C6",
            "ticks": ""
           }
          },
          "title": {
           "x": 0.05
          },
          "xaxis": {
           "automargin": true,
           "gridcolor": "#EBF0F8",
           "linecolor": "#EBF0F8",
           "ticks": "",
           "title": {
            "standoff": 15
           },
           "zerolinecolor": "#EBF0F8",
           "zerolinewidth": 2
          },
          "yaxis": {
           "automargin": true,
           "gridcolor": "#EBF0F8",
           "linecolor": "#EBF0F8",
           "ticks": "",
           "title": {
            "standoff": 15
           },
           "zerolinecolor": "#EBF0F8",
           "zerolinewidth": 2
          }
         }
        },
        "title": {
         "text": "NVDA Stock Closing Prices and Volume"
        },
        "xaxis": {
         "anchor": "y",
         "domain": [
          0,
          0.94
         ],
         "linecolor": "black",
         "linewidth": 2,
         "mirror": true,
         "showline": true,
         "title": {
          "text": "Date"
         }
        },
        "yaxis": {
         "anchor": "x",
         "domain": [
          0,
          1
         ],
         "linecolor": "blue",
         "linewidth": 2,
         "mirror": true,
         "rangemode": "tozero",
         "showline": true,
         "title": {
          "text": "<b>NVDA Close Price</b>"
         }
        },
        "yaxis2": {
         "anchor": "x",
         "linecolor": "red",
         "linewidth": 2,
         "mirror": true,
         "overlaying": "y",
         "rangemode": "tozero",
         "showline": true,
         "side": "right",
         "title": {
          "text": "<b>NVDA Volume</b>"
         }
        }
       }
      }
     },
     "metadata": {},
     "output_type": "display_data"
    }
   ],
   "source": [
    "import plotly.graph_objects as go\n",
    "from plotly.subplots import make_subplots\n",
    "\n",
    "# Group the DataFrame by 'ticker'\n",
    "grouped = df.groupby('ticker')\n",
    "\n",
    "# Iterate over each group\n",
    "for ticker, data in grouped:\n",
    "    # Create a figure with secondary y-axis for each ticker\n",
    "    fig = make_subplots(specs=[[{\"secondary_y\": True}]])\n",
    "\n",
    "    # Add closing price trace\n",
    "    fig.add_trace(\n",
    "        go.Scatter(x=data['date'], y=data['close'].astype(float), name=f\"{ticker} Close Price\", line=dict(color='royalblue')),\n",
    "        secondary_y=False,\n",
    "    )\n",
    "\n",
    "    # Add volume trace\n",
    "    fig.add_trace(\n",
    "        go.Scatter(x=data['date'], y=data['volume'].astype(float), name=f\"{ticker} Volume\", line=dict(color='tomato', dash='dot')),\n",
    "        secondary_y=True,\n",
    "    )\n",
    "\n",
    "    # Add figure title and adjust layout for each ticker\n",
    "    fig.update_layout(\n",
    "        title_text=f\"{ticker} Stock Closing Prices and Volume\",\n",
    "        xaxis_title=\"Date\",\n",
    "        template=\"plotly_white\",\n",
    "    )\n",
    "\n",
    "    # Set x-axis properties\n",
    "    fig.update_xaxes(showline=True, linewidth=2, linecolor='black', mirror=True)\n",
    "\n",
    "    # Set y-axes titles and make them start from 0\n",
    "    fig.update_yaxes(title_text=f\"<b>{ticker} Close Price</b>\", secondary_y=False, showline=True, linewidth=2, linecolor='blue', mirror=True, rangemode='tozero')\n",
    "    fig.update_yaxes(title_text=f\"<b>{ticker} Volume</b>\", secondary_y=True, showline=True, linewidth=2, linecolor='red', mirror=True, rangemode='tozero')\n",
    "\n",
    "    # Show plot for each ticker\n",
    "    fig.show()\n"
   ]
  },
  {
   "cell_type": "markdown",
   "id": "4536198b",
   "metadata": {},
   "source": [
    "## Problem Statement: Part II – Storing Data in a Local Database\n",
    "\n",
    "### Overview\n",
    "In this part of the assignment, you will extend your solution from Part I by storing the stock market data (contained in a pandas DataFrame) into a MySQL database on your local machine. You will create a new database and table to hold the market data, insert the data from your DataFrame into the table, and then verify that the data has been stored correctly by querying the database.\n",
    "\n",
    "### Objectives\n",
    "1. **Database and Table Creation:**\n",
    "   - Connect to your local MySQL server using Python.\n",
    "   - Create a new database (e.g., `assignment2_alphavantage`). If the database already exists, you may choose to drop and recreate it to ensure a fresh start.\n",
    "   - Within the newly created database, create a table (e.g., `MarketData`) designed to store market information. The table should include columns for:\n",
    "     - A unique identifier (primary key)\n",
    "     - Stock ticker symbol\n",
    "     - Date\n",
    "     - Open, High, Low, Close prices (using an appropriate numeric data type)\n",
    "     - Volume (as a large integer)\n",
    "     - Additional fields if necessary (e.g., after-hours or pre-market prices, if applicable)\n",
    "\n",
    "2. **Storing Data into the Database:**\n",
    "   - Use SQLAlchemy to establish a connection to your MySQL database.\n",
    "   - Insert the data from your previously created DataFrame (from Part I) into the `MarketData` table using the DataFrame's `to_sql` method.\n",
    "   - Consider the appropriate option for the `if_exists` parameter (for example, `append` to add data to an existing table).\n",
    "\n",
    "3. **Data Verification:**\n",
    "   - Query the `MarketData` table to retrieve the stored data.\n",
    "   - Use pandas to load the query result into a DataFrame and display it, verifying that the data has been correctly stored in the database.\n",
    "\n",
    "### Hints and Considerations\n",
    "- **Database Connection:**\n",
    "  - Use the `pymysql` package in combination with SQLAlchemy to connect to your MySQL database.\n",
    "  - Make sure you have the necessary credentials (e.g., username, password) and that your MySQL server is running on `localhost`.\n",
    "\n",
    "- **Table Schema:**\n",
    "  - Ensure that the data types chosen for each column in your table align with the data types in your DataFrame (e.g., dates, decimals, integers).\n",
    "\n",
    "- **Error Handling:**\n",
    "  - Consider wrapping your database operations in try/finally blocks to ensure that connections are properly closed.\n",
    "\n",
    "- **Testing:**\n",
    "  - After inserting the data, run a simple SQL query (e.g., `SELECT * FROM MarketData`) to load the data into a DataFrame and verify that it matches your original dataset.\n",
    "\n",
    "### Deliverables\n",
    "- A Python script that:\n",
    "  1. Creates a MySQL database and a table for market data.\n",
    "  2. Inserts data from your DataFrame (obtained in Part I) into the database table.\n",
    "  3. Queries the database to retrieve and display the stored data.\n",
    "\n",
    "By completing Part II, you will demonstrate proficiency in integrating data processing with persistent storage, bridging the gap between data retrieval, manipulation, and database management.\n"
   ]
  },
  {
   "cell_type": "code",
   "execution_count": 9,
   "id": "aa6e94d5",
   "metadata": {},
   "outputs": [
    {
     "name": "stdout",
     "output_type": "stream",
     "text": [
      "Database and table for market data created successfully.\n"
     ]
    }
   ],
   "source": [
    "## 1. Connecting to database engine and creating the Database\n",
    "\n",
    "import pymysql.cursors\n",
    "\n",
    "# Configuration\n",
    "config = {\n",
    "    'host': 'localhost',\n",
    "    'user': 'root',  # Replace with your MySQL username\n",
    "    'password': 'root',  # Replace with your MySQL password\n",
    "    'db': 'mysql',  # Initially connect to the default 'mysql' database to create a new database\n",
    "    'charset': 'utf8mb4',\n",
    "    'cursorclass': pymysql.cursors.DictCursor\n",
    "}\n",
    "\n",
    "# Connect to the database\n",
    "connection = pymysql.connect(**config)\n",
    "\n",
    "try:\n",
    "    with connection.cursor() as cursor:\n",
    "        # Create a new database for financial data\n",
    "        #cursor.execute(\"DROP DATABASE finance_data\")\n",
    "        cursor.execute(\"CREATE DATABASE IF NOT EXISTS finance_data\")\n",
    "        cursor.execute(\"USE finance_data\")\n",
    "        \n",
    "        # Create MarketData table\n",
    "        cursor.execute(\"\"\"\n",
    "            CREATE TABLE IF NOT EXISTS MarketData (\n",
    "                id INT AUTO_INCREMENT PRIMARY KEY,\n",
    "                date DATE NOT NULL,\n",
    "                ticker VARCHAR(10) NOT NULL,\n",
    "                open DECIMAL(10, 4) NOT NULL,\n",
    "                high DECIMAL(10, 4) NOT NULL,\n",
    "                low DECIMAL(10, 4) NOT NULL,\n",
    "                close DECIMAL(10, 4) NOT NULL,\n",
    "                volume BIGINT NOT NULL,\n",
    "                UNIQUE KEY (ticker, date)\n",
    "            )\n",
    "        \"\"\")\n",
    "        \n",
    "    # Commit the changes\n",
    "    connection.commit()\n",
    "finally:\n",
    "    # Close the connection to ensure it's not left open\n",
    "    connection.close()\n",
    "\n",
    "print(\"Database and table for market data created successfully.\")"
   ]
  },
  {
   "cell_type": "code",
   "execution_count": null,
   "id": "5ee582ae",
   "metadata": {},
   "outputs": [
    {
     "name": "stdout",
     "output_type": "stream",
     "text": [
      "Database and table for market data created successfully.\n"
     ]
    }
   ],
   "source": [
    "# Output"
   ]
  },
  {
   "cell_type": "code",
   "execution_count": 17,
   "id": "da8ed21b",
   "metadata": {},
   "outputs": [
    {
     "name": "stderr",
     "output_type": "stream",
     "text": [
      "C:\\Users\\aacastellanosb\\AppData\\Local\\Temp\\ipykernel_52992\\3342325202.py:26: UserWarning:\n",
      "\n",
      "The provided table name 'MarketData' is not found exactly as such in the database after writing the table, possibly due to case sensitivity issues. Consider using lower case table names.\n",
      "\n"
     ]
    },
    {
     "data": {
      "text/plain": [
       "300"
      ]
     },
     "execution_count": 17,
     "metadata": {},
     "output_type": "execute_result"
    }
   ],
   "source": [
    "# 2. Insert Data into the Database\n",
    "# Assuming 'df' is your DataFrame containing the market data\n",
    "# Ensure you have the necessary libraries installed\n",
    "# pip install pandas sqlalchemy pymysql\n",
    "\n",
    "#To do: \n",
    "# \n",
    "# You just need to update the database connection details\n",
    "\n",
    "# Import necessary libraries\n",
    "import pandas as pd\n",
    "import pymysql\n",
    "from sqlalchemy import create_engine\n",
    "\n",
    "# Database connection details\n",
    "username = 'root'\n",
    "password = 'root'\n",
    "host = 'localhost'  # or your MySQL server address\n",
    "database_name = 'finance_data'\n",
    "table_name = 'marketdata'\n",
    "\n",
    "# SQLAlchemy engine for MySQL connection\n",
    "engine = create_engine(f'mysql+pymysql://{username}:{password}@{host}/{database_name}')\n",
    "\n",
    "# Use to_sql method to insert data into the MarketData table\n",
    "df.to_sql(name=table_name, con=engine, if_exists='append', index=False)\n",
    "\n",
    "# 'if_exists' parameter options:\n",
    "# 'fail': Raises an error if the table exists.\n",
    "# 'replace': Drops the table before inserting new values (be careful with this option).\n",
    "# 'append': Inserts new values into the existing table. Suitable for most use cases."
   ]
  },
  {
   "cell_type": "code",
   "execution_count": 5,
   "id": "0486f9a5",
   "metadata": {},
   "outputs": [
    {
     "name": "stdout",
     "output_type": "stream",
     "text": [
      "Data inserted into the MarketData table successfully.\n"
     ]
    }
   ],
   "source": [
    "# Output"
   ]
  },
  {
   "cell_type": "code",
   "execution_count": 19,
   "id": "c20f8fe4",
   "metadata": {},
   "outputs": [
    {
     "data": {
      "text/html": [
       "<div>\n",
       "<style scoped>\n",
       "    .dataframe tbody tr th:only-of-type {\n",
       "        vertical-align: middle;\n",
       "    }\n",
       "\n",
       "    .dataframe tbody tr th {\n",
       "        vertical-align: top;\n",
       "    }\n",
       "\n",
       "    .dataframe thead th {\n",
       "        text-align: right;\n",
       "    }\n",
       "</style>\n",
       "<table border=\"1\" class=\"dataframe\">\n",
       "  <thead>\n",
       "    <tr style=\"text-align: right;\">\n",
       "      <th></th>\n",
       "      <th>id</th>\n",
       "      <th>date</th>\n",
       "      <th>ticker</th>\n",
       "      <th>open</th>\n",
       "      <th>high</th>\n",
       "      <th>low</th>\n",
       "      <th>close</th>\n",
       "      <th>volume</th>\n",
       "    </tr>\n",
       "  </thead>\n",
       "  <tbody>\n",
       "    <tr>\n",
       "      <th>0</th>\n",
       "      <td>1</td>\n",
       "      <td>2025-03-10</td>\n",
       "      <td>NVDA</td>\n",
       "      <td>109.900</td>\n",
       "      <td>111.8500</td>\n",
       "      <td>105.460</td>\n",
       "      <td>106.98</td>\n",
       "      <td>361107562</td>\n",
       "    </tr>\n",
       "    <tr>\n",
       "      <th>1</th>\n",
       "      <td>2</td>\n",
       "      <td>2025-03-07</td>\n",
       "      <td>NVDA</td>\n",
       "      <td>111.250</td>\n",
       "      <td>113.4800</td>\n",
       "      <td>107.560</td>\n",
       "      <td>112.69</td>\n",
       "      <td>341755468</td>\n",
       "    </tr>\n",
       "    <tr>\n",
       "      <th>2</th>\n",
       "      <td>3</td>\n",
       "      <td>2025-03-06</td>\n",
       "      <td>NVDA</td>\n",
       "      <td>113.530</td>\n",
       "      <td>115.3500</td>\n",
       "      <td>110.220</td>\n",
       "      <td>110.57</td>\n",
       "      <td>321181861</td>\n",
       "    </tr>\n",
       "    <tr>\n",
       "      <th>3</th>\n",
       "      <td>4</td>\n",
       "      <td>2025-03-05</td>\n",
       "      <td>NVDA</td>\n",
       "      <td>117.580</td>\n",
       "      <td>118.2781</td>\n",
       "      <td>114.510</td>\n",
       "      <td>117.30</td>\n",
       "      <td>284337886</td>\n",
       "    </tr>\n",
       "    <tr>\n",
       "      <th>4</th>\n",
       "      <td>5</td>\n",
       "      <td>2025-03-04</td>\n",
       "      <td>NVDA</td>\n",
       "      <td>110.645</td>\n",
       "      <td>119.3100</td>\n",
       "      <td>110.110</td>\n",
       "      <td>115.99</td>\n",
       "      <td>398163305</td>\n",
       "    </tr>\n",
       "    <tr>\n",
       "      <th>...</th>\n",
       "      <td>...</td>\n",
       "      <td>...</td>\n",
       "      <td>...</td>\n",
       "      <td>...</td>\n",
       "      <td>...</td>\n",
       "      <td>...</td>\n",
       "      <td>...</td>\n",
       "      <td>...</td>\n",
       "    </tr>\n",
       "    <tr>\n",
       "      <th>295</th>\n",
       "      <td>296</td>\n",
       "      <td>2024-10-18</td>\n",
       "      <td>META</td>\n",
       "      <td>581.100</td>\n",
       "      <td>583.9675</td>\n",
       "      <td>575.250</td>\n",
       "      <td>576.47</td>\n",
       "      <td>7694274</td>\n",
       "    </tr>\n",
       "    <tr>\n",
       "      <th>296</th>\n",
       "      <td>297</td>\n",
       "      <td>2024-10-17</td>\n",
       "      <td>META</td>\n",
       "      <td>583.330</td>\n",
       "      <td>584.9700</td>\n",
       "      <td>575.200</td>\n",
       "      <td>576.93</td>\n",
       "      <td>8701158</td>\n",
       "    </tr>\n",
       "    <tr>\n",
       "      <th>297</th>\n",
       "      <td>298</td>\n",
       "      <td>2024-10-16</td>\n",
       "      <td>META</td>\n",
       "      <td>581.395</td>\n",
       "      <td>582.0800</td>\n",
       "      <td>574.030</td>\n",
       "      <td>576.79</td>\n",
       "      <td>11268384</td>\n",
       "    </tr>\n",
       "    <tr>\n",
       "      <th>298</th>\n",
       "      <td>299</td>\n",
       "      <td>2024-10-15</td>\n",
       "      <td>META</td>\n",
       "      <td>590.160</td>\n",
       "      <td>590.6100</td>\n",
       "      <td>580.143</td>\n",
       "      <td>586.27</td>\n",
       "      <td>9564236</td>\n",
       "    </tr>\n",
       "    <tr>\n",
       "      <th>299</th>\n",
       "      <td>300</td>\n",
       "      <td>2024-10-14</td>\n",
       "      <td>META</td>\n",
       "      <td>594.220</td>\n",
       "      <td>600.1000</td>\n",
       "      <td>589.960</td>\n",
       "      <td>590.42</td>\n",
       "      <td>8251971</td>\n",
       "    </tr>\n",
       "  </tbody>\n",
       "</table>\n",
       "<p>300 rows × 8 columns</p>\n",
       "</div>"
      ],
      "text/plain": [
       "      id        date ticker     open      high      low   close     volume\n",
       "0      1  2025-03-10   NVDA  109.900  111.8500  105.460  106.98  361107562\n",
       "1      2  2025-03-07   NVDA  111.250  113.4800  107.560  112.69  341755468\n",
       "2      3  2025-03-06   NVDA  113.530  115.3500  110.220  110.57  321181861\n",
       "3      4  2025-03-05   NVDA  117.580  118.2781  114.510  117.30  284337886\n",
       "4      5  2025-03-04   NVDA  110.645  119.3100  110.110  115.99  398163305\n",
       "..   ...         ...    ...      ...       ...      ...     ...        ...\n",
       "295  296  2024-10-18   META  581.100  583.9675  575.250  576.47    7694274\n",
       "296  297  2024-10-17   META  583.330  584.9700  575.200  576.93    8701158\n",
       "297  298  2024-10-16   META  581.395  582.0800  574.030  576.79   11268384\n",
       "298  299  2024-10-15   META  590.160  590.6100  580.143  586.27    9564236\n",
       "299  300  2024-10-14   META  594.220  600.1000  589.960  590.42    8251971\n",
       "\n",
       "[300 rows x 8 columns]"
      ]
     },
     "execution_count": 19,
     "metadata": {},
     "output_type": "execute_result"
    }
   ],
   "source": [
    "# 3. Querying the Database\n",
    "\n",
    "# Assuming you have a table named 'MarketData' structured for market information\n",
    "sql_query = 'select * from marketdata'\n",
    "\n",
    "# Use Pandas to query the database\n",
    "df = pd.read_sql(sql_query, engine)\n",
    "\n",
    "# Display the DataFrame\n",
    "df\n"
   ]
  },
  {
   "cell_type": "markdown",
   "id": "f7427813",
   "metadata": {},
   "source": [
    "**Done! Great job!**"
   ]
  },
  {
   "cell_type": "code",
   "execution_count": null,
   "id": "ea71e279",
   "metadata": {},
   "outputs": [],
   "source": []
  }
 ],
 "metadata": {
  "kernelspec": {
   "display_name": "Python 3 (ipykernel)",
   "language": "python",
   "name": "python3"
  },
  "language_info": {
   "codemirror_mode": {
    "name": "ipython",
    "version": 3
   },
   "file_extension": ".py",
   "mimetype": "text/x-python",
   "name": "python",
   "nbconvert_exporter": "python",
   "pygments_lexer": "ipython3",
   "version": "3.12.4"
  }
 },
 "nbformat": 4,
 "nbformat_minor": 5
}
