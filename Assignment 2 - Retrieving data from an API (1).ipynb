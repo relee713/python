{
 "cells": [
  {
   "cell_type": "markdown",
   "id": "3aad0bee-5905-4d07-bd70-f2f3cd432529",
   "metadata": {},
   "source": [
    "## Problem Statement: Analyzing Daily Stock Data with Alpha Vantage API\n",
    "\n",
    "### Overview\n",
    "In this assignment, you will write a Python script to fetch and analyze daily time series stock data from the Alpha Vantage API for a set of prominent technology stocks (the \"Mag 7\" tickers). You will then convert the collected data into a pandas DataFrame for further analysis.\n",
    "\n",
    "### Objectives\n",
    "- **Data Retrieval:**  \n",
    "  Use the `requests` library to retrieve daily stock data for the Mag 7 Tickers:\n",
    "\n",
    "  **Mag 7 Tickers:**\n",
    "\n",
    "**AAPL**: Apple Inc.\n",
    "**MSFT**: Microsoft Corporation\n",
    "**AMZN**: Amazon.com, Inc.\n",
    "**GOOGL**: Alphabet Inc.\n",
    "**META**: Meta Platforms, Inc.\n",
    "**TSLA**: Tesla, Inc.\n",
    "**NVDA**: Nvidia Corporation\n",
    "\n",
    "- **API Interaction:**  \n",
    "  For each stock ticker, construct the appropriate API URL using your Alpha Vantage API key and send an HTTP GET request.  \n",
    "  Ensure that the API response is successful (HTTP status code 200).\n",
    "\n",
    "- **Data Extraction:**  \n",
    "  Extract the \"Time Series (Daily)\" portion of the JSON response.  \n",
    "  Since the time series data is provided as a nested dictionary (with dates as keys), iterate over this dictionary.\n",
    "\n",
    "- **Data Transformation:**  [An example/tutorial with code is provided to do this]\n",
    "  For each date in the time series data:\n",
    "  - Create a dictionary that includes the date, the stock ticker, and the day's data (such as open, high, low, close, and volume).\n",
    "  - Use the dictionary `update` method to merge the date-specific data with the ticker information.\n",
    "  - Append each resulting dictionary to a list to accumulate all the records.\n",
    "\n",
    "- **Data Normalization:**  \n",
    "  Convert the list of dictionaries into a pandas DataFrame.  \n",
    "  This DataFrame will have columns corresponding to the date, ticker, and the daily stock data, making it easier to analyze the data further.\n",
    "\n",
    "### Final Deliverable\n",
    "Your final Python script should include:\n",
    "- Import statements for `pandas` and `requests`.\n",
    "- A defined list of stock tickers and your Alpha Vantage API key.\n",
    "- A loop that iterates over each ticker to:\n",
    "  - Construct the API URL.\n",
    "  - Send a request to the API.\n",
    "  - Process and transform the JSON response.\n",
    "- Code that converts the accumulated list of dictionaries into a pandas DataFrame. [Provided to you]\n",
    "\n",
    "By completing this assignment, you will demonstrate your ability to interact with APIs, process nested JSON data, and utilize pandas for data manipulation and analysis.\n"
   ]
  },
  {
   "cell_type": "markdown",
   "id": "bee34aec-be90-4172-a4c4-5cea25f97c4d",
   "metadata": {},
   "source": [
    "**get your API key from:** \n",
    "[https://www.alphavantage.co/support/#api-key](https://www.alphavantage.co/support/#api-key)"
   ]
  },
  {
   "cell_type": "markdown",
   "id": "675ee955-683e-4f60-aa10-97ee9dd20563",
   "metadata": {},
   "source": [
    "# 1: Import necessary modules\n",
    "\n",
    "We need to import the `pandas` module for data manipulation and the `requests` module for making HTTP requests.\n",
    "\n",
    "```python\n",
    "import pandas as pd\n",
    "import requests"
   ]
  },
  {
   "cell_type": "code",
   "execution_count": 3,
   "id": "c0eafbe3-c9ec-4897-bddc-6b5e9021a8c9",
   "metadata": {},
   "outputs": [],
   "source": [
    "import pandas as pd\n",
    "import requests "
   ]
  },
  {
   "cell_type": "markdown",
   "id": "09b550de-69e7-4df7-9088-69d5cf0658f5",
   "metadata": {},
   "source": [
    "# 2: Define the list of stocks and API key\n",
    "\n",
    "We need to define a list of stock symbols that we want to analyze and specify our Alpha Vantage API key.\n",
    "\n",
    "```python\n",
    "stocks = ['Ticker1', ... , 'Ticker7'] #Magnificent 7: Alphabet, Amazon, Apple, Meta, Microsoft, Nvidia, Tesla\n",
    "api_key = 'your_api_key' # Get it from: https://www.alphavantage.co/support/#api-key"
   ]
  },
  {
   "cell_type": "code",
   "execution_count": null,
   "id": "3af8767a-b35c-48aa-87f5-6018ca90e5c9",
   "metadata": {},
   "outputs": [],
   "source": []
  },
  {
   "cell_type": "markdown",
   "id": "4887b0ab-3381-4433-b4f4-b737ffe15220",
   "metadata": {},
   "source": [
    "# 3: Initialize an empty list\n",
    "\n",
    "We need to initialize an empty list `time_series_data` to store the time series data for each stock."
   ]
  },
  {
   "cell_type": "code",
   "execution_count": null,
   "id": "696ae4a4-cb22-47cb-b65b-fdbdd5a769ae",
   "metadata": {},
   "outputs": [],
   "source": [
    "time_series_data = []  # List to store data for all stocks\n"
   ]
  },
  {
   "cell_type": "markdown",
   "id": "2256df5f-16b8-4403-b744-eb3c69c1b2a4",
   "metadata": {},
   "source": [
    "\n",
    "# 4: Fetch time series data\n",
    "\n",
    "We need to loop over each stock symbol, construct the API URL, and make a GET request to that URL. If the response status is OK (200), we need to extract the time series data from the response and append it to `time_series_data`.\n",
    "\n",
    "### 4.1: Construct the API URL\n",
    "\n",
    "For each stock symbol, we need to construct the API URL.\n",
    "\n",
    "```python\n",
    "for stock in stocks:\n",
    "    api_url = # Go to https://www.alphavantage.co/documentation/ and identify the API endpoint that allows you to retrive the daily data. When you are constructing the url use parameters: {stock}&apikey={api_key}'\n",
    "```\n",
    "### 4.2: Make the API request\n",
    "\n",
    "We need to make a GET request to the API URL.\n",
    "\n",
    "response = requests.get(api_url)\n",
    "\n",
    "### 4.3: Check the response status\n",
    "\n",
    "Check if the response status is OK (200). If it's not, we print an error message.\n",
    "\n",
    "```python\n",
    "if response.status_code == 200:\n",
    "    ...\n",
    "else:\n",
    "    print(f\"Error fetching data for {stock}: {response.status_code}\")\n",
    "```\n",
    "\n",
    "### 4.4: Extract the time series data\n",
    "\n",
    "If the response status is OK (200), we need to extract the time series data from the response.\n",
    "\n",
    "```python\n",
    "data = response.json()['Time Series (Daily)']\n",
    "\n",
    "# Tutorial -- unrelated to the assignment but try to understand and adapt the following example to your use case. Note that the data structure is a dictionary and for each key, we have a dictionary as the value:\n",
    "\n",
    "student_data = {\n",
    "    '001': {'Big Data': 'A', 'Machine Learning': 'B', 'AI': 'A', 'Database Management': 'B'},\n",
    "    '002': {'Big Data': 'B', 'Machine Learning': 'A', 'AI': 'B', 'Database Management': 'A'},\n",
    "    '003': {'Big Data': 'A', 'Machine Learning': 'A', 'AI': 'B', 'Database Management': 'B'}\n",
    "}\n",
    "```\n",
    "\n",
    "#### This is how you can iterate over student_data:\n",
    "```python\n",
    "all_student_data = []\n",
    "for student_id, grades in student_data.items():b\n",
    "    row = {'student_id': student_id}\n",
    "    row.update(grades)\n",
    "    all_student_data.append(row)\n",
    "```\n",
    "\n",
    "The `update` method on a dictionary merges the key-value pairs from one dictionary into another. Here's what happens step by step:\n",
    "\n",
    "1. **Merging Dictionaries:**\n",
    "   - When you call `row.update(grades)`, Python takes every key-value pair from the `grades` dictionary and adds it to the `row` dictionary.\n",
    "   - If `row` already contains a key that exists in `grades`, the corresponding value in `row` will be overwritten by the value from `grades`.\n",
    "\n",
    "2. **Example:**\n",
    "\n",
    "   ```python\n",
    "   row = {'student_id': '001'}\n",
    "   grades = {'Big Data': 'A', 'Machine Learning': 'B', 'AI': 'A', 'Database Management': 'B'}\n",
    "   row.update(grades)\n",
    "   # Now, row becomes:\n",
    "   # {'student_id': '001', 'Big Data': 'A', 'Machine Learning': 'B', 'AI': 'A', 'Database Management': 'B'}\n",
    "    ```\n",
    "\n",
    "```python\n",
    "df = pd.DataFrame(all_student_data)\n",
    "df\n",
    "```\n",
    "\n",
    "Output:\n",
    "\n",
    "| student_id | Big Data | Machine Learning | AI | Database Management |\n",
    "|------------|----------|------------------|----|---------------------|\n",
    "| 001        | A        | B                | A  | B                   |\n",
    "| 002        | B        | A                | B  | A                   |\n",
    "| 003        | A        | A                | B  | B                   |\n",
    "\n"
   ]
  },
  {
   "cell_type": "code",
   "execution_count": 22,
   "id": "373d6956-0319-4aed-a44c-2a24760db042",
   "metadata": {},
   "outputs": [],
   "source": [
    "# Your solution here. Make sure to look at the examples discussed in class and also, it is very important you understand the student/grades example in the previous cell\n"
   ]
  },
  {
   "cell_type": "code",
   "execution_count": 24,
   "id": "8ac8d036",
   "metadata": {},
   "outputs": [
    {
     "data": {
      "text/html": [
       "<div>\n",
       "<style scoped>\n",
       "    .dataframe tbody tr th:only-of-type {\n",
       "        vertical-align: middle;\n",
       "    }\n",
       "\n",
       "    .dataframe tbody tr th {\n",
       "        vertical-align: top;\n",
       "    }\n",
       "\n",
       "    .dataframe thead th {\n",
       "        text-align: right;\n",
       "    }\n",
       "</style>\n",
       "<table border=\"1\" class=\"dataframe\">\n",
       "  <thead>\n",
       "    <tr style=\"text-align: right;\">\n",
       "      <th></th>\n",
       "      <th>date</th>\n",
       "      <th>ticker</th>\n",
       "      <th>1. open</th>\n",
       "      <th>2. high</th>\n",
       "      <th>3. low</th>\n",
       "      <th>4. close</th>\n",
       "      <th>5. volume</th>\n",
       "    </tr>\n",
       "  </thead>\n",
       "  <tbody>\n",
       "    <tr>\n",
       "      <th>0</th>\n",
       "      <td>2025-03-07</td>\n",
       "      <td>AAPL</td>\n",
       "      <td>235.2400</td>\n",
       "      <td>241.3700</td>\n",
       "      <td>234.7600</td>\n",
       "      <td>239.0700</td>\n",
       "      <td>46020966</td>\n",
       "    </tr>\n",
       "    <tr>\n",
       "      <th>1</th>\n",
       "      <td>2025-03-06</td>\n",
       "      <td>AAPL</td>\n",
       "      <td>234.4350</td>\n",
       "      <td>237.8600</td>\n",
       "      <td>233.1581</td>\n",
       "      <td>235.3300</td>\n",
       "      <td>45170419</td>\n",
       "    </tr>\n",
       "    <tr>\n",
       "      <th>2</th>\n",
       "      <td>2025-03-05</td>\n",
       "      <td>AAPL</td>\n",
       "      <td>235.4200</td>\n",
       "      <td>236.5500</td>\n",
       "      <td>229.2300</td>\n",
       "      <td>235.7400</td>\n",
       "      <td>47227643</td>\n",
       "    </tr>\n",
       "    <tr>\n",
       "      <th>3</th>\n",
       "      <td>2025-03-04</td>\n",
       "      <td>AAPL</td>\n",
       "      <td>237.7050</td>\n",
       "      <td>240.0700</td>\n",
       "      <td>234.6800</td>\n",
       "      <td>235.9300</td>\n",
       "      <td>53798062</td>\n",
       "    </tr>\n",
       "    <tr>\n",
       "      <th>4</th>\n",
       "      <td>2025-03-03</td>\n",
       "      <td>AAPL</td>\n",
       "      <td>241.7900</td>\n",
       "      <td>244.0272</td>\n",
       "      <td>236.1120</td>\n",
       "      <td>238.0300</td>\n",
       "      <td>47183985</td>\n",
       "    </tr>\n",
       "    <tr>\n",
       "      <th>...</th>\n",
       "      <td>...</td>\n",
       "      <td>...</td>\n",
       "      <td>...</td>\n",
       "      <td>...</td>\n",
       "      <td>...</td>\n",
       "      <td>...</td>\n",
       "      <td>...</td>\n",
       "    </tr>\n",
       "    <tr>\n",
       "      <th>195</th>\n",
       "      <td>2024-10-17</td>\n",
       "      <td>NVDA</td>\n",
       "      <td>139.3400</td>\n",
       "      <td>140.8900</td>\n",
       "      <td>136.8700</td>\n",
       "      <td>136.9300</td>\n",
       "      <td>306435921</td>\n",
       "    </tr>\n",
       "    <tr>\n",
       "      <th>196</th>\n",
       "      <td>2024-10-16</td>\n",
       "      <td>NVDA</td>\n",
       "      <td>133.9800</td>\n",
       "      <td>136.6200</td>\n",
       "      <td>131.5800</td>\n",
       "      <td>135.7200</td>\n",
       "      <td>264879720</td>\n",
       "    </tr>\n",
       "    <tr>\n",
       "      <th>197</th>\n",
       "      <td>2024-10-15</td>\n",
       "      <td>NVDA</td>\n",
       "      <td>137.8700</td>\n",
       "      <td>138.5700</td>\n",
       "      <td>128.7400</td>\n",
       "      <td>131.6000</td>\n",
       "      <td>377831021</td>\n",
       "    </tr>\n",
       "    <tr>\n",
       "      <th>198</th>\n",
       "      <td>2024-10-14</td>\n",
       "      <td>NVDA</td>\n",
       "      <td>136.4700</td>\n",
       "      <td>139.6000</td>\n",
       "      <td>136.3000</td>\n",
       "      <td>138.0700</td>\n",
       "      <td>232347668</td>\n",
       "    </tr>\n",
       "    <tr>\n",
       "      <th>199</th>\n",
       "      <td>2024-10-11</td>\n",
       "      <td>NVDA</td>\n",
       "      <td>134.0100</td>\n",
       "      <td>135.7800</td>\n",
       "      <td>133.6600</td>\n",
       "      <td>134.8000</td>\n",
       "      <td>170209474</td>\n",
       "    </tr>\n",
       "  </tbody>\n",
       "</table>\n",
       "<p>200 rows × 7 columns</p>\n",
       "</div>"
      ],
      "text/plain": [
       "           date ticker   1. open   2. high    3. low  4. close  5. volume\n",
       "0    2025-03-07   AAPL  235.2400  241.3700  234.7600  239.0700   46020966\n",
       "1    2025-03-06   AAPL  234.4350  237.8600  233.1581  235.3300   45170419\n",
       "2    2025-03-05   AAPL  235.4200  236.5500  229.2300  235.7400   47227643\n",
       "3    2025-03-04   AAPL  237.7050  240.0700  234.6800  235.9300   53798062\n",
       "4    2025-03-03   AAPL  241.7900  244.0272  236.1120  238.0300   47183985\n",
       "..          ...    ...       ...       ...       ...       ...        ...\n",
       "195  2024-10-17   NVDA  139.3400  140.8900  136.8700  136.9300  306435921\n",
       "196  2024-10-16   NVDA  133.9800  136.6200  131.5800  135.7200  264879720\n",
       "197  2024-10-15   NVDA  137.8700  138.5700  128.7400  131.6000  377831021\n",
       "198  2024-10-14   NVDA  136.4700  139.6000  136.3000  138.0700  232347668\n",
       "199  2024-10-11   NVDA  134.0100  135.7800  133.6600  134.8000  170209474\n",
       "\n",
       "[200 rows x 7 columns]"
      ]
     },
     "execution_count": 24,
     "metadata": {},
     "output_type": "execute_result"
    }
   ],
   "source": [
    "## This is how the final dataframe looks like. Note that the values for Date may vary depending on when you run the code."
   ]
  },
  {
   "cell_type": "code",
   "execution_count": 2,
   "id": "2e9529ae-2158-40b0-8b87-72895381f01a",
   "metadata": {},
   "outputs": [
    {
     "data": {
      "text/html": [
       "<div>\n",
       "<style scoped>\n",
       "    .dataframe tbody tr th:only-of-type {\n",
       "        vertical-align: middle;\n",
       "    }\n",
       "\n",
       "    .dataframe tbody tr th {\n",
       "        vertical-align: top;\n",
       "    }\n",
       "\n",
       "    .dataframe thead th {\n",
       "        text-align: right;\n",
       "    }\n",
       "</style>\n",
       "<table border=\"1\" class=\"dataframe\">\n",
       "  <thead>\n",
       "    <tr style=\"text-align: right;\">\n",
       "      <th></th>\n",
       "      <th>date</th>\n",
       "      <th>ticker</th>\n",
       "      <th>open</th>\n",
       "      <th>high</th>\n",
       "      <th>low</th>\n",
       "      <th>close</th>\n",
       "      <th>volume</th>\n",
       "    </tr>\n",
       "  </thead>\n",
       "  <tbody>\n",
       "    <tr>\n",
       "      <th>0</th>\n",
       "      <td>2025-03-07</td>\n",
       "      <td>AAPL</td>\n",
       "      <td>235.2400</td>\n",
       "      <td>241.3700</td>\n",
       "      <td>234.7600</td>\n",
       "      <td>239.0700</td>\n",
       "      <td>46207306</td>\n",
       "    </tr>\n",
       "    <tr>\n",
       "      <th>1</th>\n",
       "      <td>2025-03-06</td>\n",
       "      <td>AAPL</td>\n",
       "      <td>234.4350</td>\n",
       "      <td>237.8600</td>\n",
       "      <td>233.1581</td>\n",
       "      <td>235.3300</td>\n",
       "      <td>45170419</td>\n",
       "    </tr>\n",
       "    <tr>\n",
       "      <th>2</th>\n",
       "      <td>2025-03-05</td>\n",
       "      <td>AAPL</td>\n",
       "      <td>235.4200</td>\n",
       "      <td>236.5500</td>\n",
       "      <td>229.2300</td>\n",
       "      <td>235.7400</td>\n",
       "      <td>47227643</td>\n",
       "    </tr>\n",
       "    <tr>\n",
       "      <th>3</th>\n",
       "      <td>2025-03-04</td>\n",
       "      <td>AAPL</td>\n",
       "      <td>237.7050</td>\n",
       "      <td>240.0700</td>\n",
       "      <td>234.6800</td>\n",
       "      <td>235.9300</td>\n",
       "      <td>53798062</td>\n",
       "    </tr>\n",
       "    <tr>\n",
       "      <th>4</th>\n",
       "      <td>2025-03-03</td>\n",
       "      <td>AAPL</td>\n",
       "      <td>241.7900</td>\n",
       "      <td>244.0272</td>\n",
       "      <td>236.1120</td>\n",
       "      <td>238.0300</td>\n",
       "      <td>47183985</td>\n",
       "    </tr>\n",
       "    <tr>\n",
       "      <th>...</th>\n",
       "      <td>...</td>\n",
       "      <td>...</td>\n",
       "      <td>...</td>\n",
       "      <td>...</td>\n",
       "      <td>...</td>\n",
       "      <td>...</td>\n",
       "      <td>...</td>\n",
       "    </tr>\n",
       "    <tr>\n",
       "      <th>195</th>\n",
       "      <td>2024-10-17</td>\n",
       "      <td>NVDA</td>\n",
       "      <td>139.3400</td>\n",
       "      <td>140.8900</td>\n",
       "      <td>136.8700</td>\n",
       "      <td>136.9300</td>\n",
       "      <td>306435921</td>\n",
       "    </tr>\n",
       "    <tr>\n",
       "      <th>196</th>\n",
       "      <td>2024-10-16</td>\n",
       "      <td>NVDA</td>\n",
       "      <td>133.9800</td>\n",
       "      <td>136.6200</td>\n",
       "      <td>131.5800</td>\n",
       "      <td>135.7200</td>\n",
       "      <td>264879720</td>\n",
       "    </tr>\n",
       "    <tr>\n",
       "      <th>197</th>\n",
       "      <td>2024-10-15</td>\n",
       "      <td>NVDA</td>\n",
       "      <td>137.8700</td>\n",
       "      <td>138.5700</td>\n",
       "      <td>128.7400</td>\n",
       "      <td>131.6000</td>\n",
       "      <td>377831021</td>\n",
       "    </tr>\n",
       "    <tr>\n",
       "      <th>198</th>\n",
       "      <td>2024-10-14</td>\n",
       "      <td>NVDA</td>\n",
       "      <td>136.4700</td>\n",
       "      <td>139.6000</td>\n",
       "      <td>136.3000</td>\n",
       "      <td>138.0700</td>\n",
       "      <td>232347668</td>\n",
       "    </tr>\n",
       "    <tr>\n",
       "      <th>199</th>\n",
       "      <td>2024-10-11</td>\n",
       "      <td>NVDA</td>\n",
       "      <td>134.0100</td>\n",
       "      <td>135.7800</td>\n",
       "      <td>133.6600</td>\n",
       "      <td>134.8000</td>\n",
       "      <td>170209474</td>\n",
       "    </tr>\n",
       "  </tbody>\n",
       "</table>\n",
       "<p>200 rows × 7 columns</p>\n",
       "</div>"
      ],
      "text/plain": [
       "          date ticker      open      high       low     close     volume\n",
       "0   2025-03-07   AAPL  235.2400  241.3700  234.7600  239.0700   46207306\n",
       "1   2025-03-06   AAPL  234.4350  237.8600  233.1581  235.3300   45170419\n",
       "2   2025-03-05   AAPL  235.4200  236.5500  229.2300  235.7400   47227643\n",
       "3   2025-03-04   AAPL  237.7050  240.0700  234.6800  235.9300   53798062\n",
       "4   2025-03-03   AAPL  241.7900  244.0272  236.1120  238.0300   47183985\n",
       "..         ...    ...       ...       ...       ...       ...        ...\n",
       "195 2024-10-17   NVDA  139.3400  140.8900  136.8700  136.9300  306435921\n",
       "196 2024-10-16   NVDA  133.9800  136.6200  131.5800  135.7200  264879720\n",
       "197 2024-10-15   NVDA  137.8700  138.5700  128.7400  131.6000  377831021\n",
       "198 2024-10-14   NVDA  136.4700  139.6000  136.3000  138.0700  232347668\n",
       "199 2024-10-11   NVDA  134.0100  135.7800  133.6600  134.8000  170209474\n",
       "\n",
       "[200 rows x 7 columns]"
      ]
     },
     "execution_count": 2,
     "metadata": {},
     "output_type": "execute_result"
    }
   ],
   "source": [
    "# Remove numbers and periods from column names and convert to lowercase\n",
    "df.columns = df.columns.str.replace('[0-9.]', '', regex=True).str.strip().str.lower()\n",
    "\n",
    "# Convert 'date' column to datetime type\n",
    "df['date'] = pd.to_datetime(df['date'])\n",
    "\n",
    "df"
   ]
  },
  {
   "cell_type": "markdown",
   "id": "c40304ca-6f87-462d-a398-ffa9d298c286",
   "metadata": {},
   "source": [
    "# Appendix 2: Generate Plots [Not part of Grading]"
   ]
  },
  {
   "cell_type": "markdown",
   "id": "ce39ad2a-3bc4-411f-8a5d-9fb24c621b25",
   "metadata": {},
   "source": [
    "# Generate Plots. Used ChatGPT with the following prompt. Visualization is not the scope of the lecture.\n",
    "\n",
    "**Prompt:**\n",
    "\n",
    "Generate individual interactive stock charts for each unique ticker symbol contained within a pandas DataFrame using Plotly in Python. Each stock chart should display the closing price and trading volume over time on the same plot, with the closing price on the primary y-axis and volume on the secondary y-axis. Both y-axes should start from zero to accurately reflect the scale of the data. The plots should be professional-looking, suitable for a business analytics presentation.\n",
    "\n",
    "**Code:**"
   ]
  },
  {
   "cell_type": "markdown",
   "id": "659e0fb3",
   "metadata": {},
   "source": [
    "Make sure you have *plotly* installed. You can install via Anaconda prompt by entering: *pip intall plotly* after activating your environment, or you can install by running the cell below (uncomment first)"
   ]
  },
  {
   "cell_type": "markdown",
   "id": "36f5d5df",
   "metadata": {},
   "source": [
    "#!pip install plotly"
   ]
  },
  {
   "cell_type": "code",
   "execution_count": 3,
   "id": "8fdf356e-3915-4735-86a5-a9e5e1218c68",
   "metadata": {},
   "outputs": [
    {
     "data": {
      "application/vnd.plotly.v1+json": {
       "config": {
        "plotlyServerURL": "https://plot.ly"
       },
       "data": [
        {
         "line": {
          "color": "royalblue"
         },
         "name": "AAPL Close Price",
         "type": "scatter",
         "x": [
          "2025-03-07T00:00:00.000000000",
          "2025-03-06T00:00:00.000000000",
          "2025-03-05T00:00:00.000000000",
          "2025-03-04T00:00:00.000000000",
          "2025-03-03T00:00:00.000000000",
          "2025-02-28T00:00:00.000000000",
          "2025-02-27T00:00:00.000000000",
          "2025-02-26T00:00:00.000000000",
          "2025-02-25T00:00:00.000000000",
          "2025-02-24T00:00:00.000000000",
          "2025-02-21T00:00:00.000000000",
          "2025-02-20T00:00:00.000000000",
          "2025-02-19T00:00:00.000000000",
          "2025-02-18T00:00:00.000000000",
          "2025-02-14T00:00:00.000000000",
          "2025-02-13T00:00:00.000000000",
          "2025-02-12T00:00:00.000000000",
          "2025-02-11T00:00:00.000000000",
          "2025-02-10T00:00:00.000000000",
          "2025-02-07T00:00:00.000000000",
          "2025-02-06T00:00:00.000000000",
          "2025-02-05T00:00:00.000000000",
          "2025-02-04T00:00:00.000000000",
          "2025-02-03T00:00:00.000000000",
          "2025-01-31T00:00:00.000000000",
          "2025-01-30T00:00:00.000000000",
          "2025-01-29T00:00:00.000000000",
          "2025-01-28T00:00:00.000000000",
          "2025-01-27T00:00:00.000000000",
          "2025-01-24T00:00:00.000000000",
          "2025-01-23T00:00:00.000000000",
          "2025-01-22T00:00:00.000000000",
          "2025-01-21T00:00:00.000000000",
          "2025-01-17T00:00:00.000000000",
          "2025-01-16T00:00:00.000000000",
          "2025-01-15T00:00:00.000000000",
          "2025-01-14T00:00:00.000000000",
          "2025-01-13T00:00:00.000000000",
          "2025-01-10T00:00:00.000000000",
          "2025-01-08T00:00:00.000000000",
          "2025-01-07T00:00:00.000000000",
          "2025-01-06T00:00:00.000000000",
          "2025-01-03T00:00:00.000000000",
          "2025-01-02T00:00:00.000000000",
          "2024-12-31T00:00:00.000000000",
          "2024-12-30T00:00:00.000000000",
          "2024-12-27T00:00:00.000000000",
          "2024-12-26T00:00:00.000000000",
          "2024-12-24T00:00:00.000000000",
          "2024-12-23T00:00:00.000000000",
          "2024-12-20T00:00:00.000000000",
          "2024-12-19T00:00:00.000000000",
          "2024-12-18T00:00:00.000000000",
          "2024-12-17T00:00:00.000000000",
          "2024-12-16T00:00:00.000000000",
          "2024-12-13T00:00:00.000000000",
          "2024-12-12T00:00:00.000000000",
          "2024-12-11T00:00:00.000000000",
          "2024-12-10T00:00:00.000000000",
          "2024-12-09T00:00:00.000000000",
          "2024-12-06T00:00:00.000000000",
          "2024-12-05T00:00:00.000000000",
          "2024-12-04T00:00:00.000000000",
          "2024-12-03T00:00:00.000000000",
          "2024-12-02T00:00:00.000000000",
          "2024-11-29T00:00:00.000000000",
          "2024-11-27T00:00:00.000000000",
          "2024-11-26T00:00:00.000000000",
          "2024-11-25T00:00:00.000000000",
          "2024-11-22T00:00:00.000000000",
          "2024-11-21T00:00:00.000000000",
          "2024-11-20T00:00:00.000000000",
          "2024-11-19T00:00:00.000000000",
          "2024-11-18T00:00:00.000000000",
          "2024-11-15T00:00:00.000000000",
          "2024-11-14T00:00:00.000000000",
          "2024-11-13T00:00:00.000000000",
          "2024-11-12T00:00:00.000000000",
          "2024-11-11T00:00:00.000000000",
          "2024-11-08T00:00:00.000000000",
          "2024-11-07T00:00:00.000000000",
          "2024-11-06T00:00:00.000000000",
          "2024-11-05T00:00:00.000000000",
          "2024-11-04T00:00:00.000000000",
          "2024-11-01T00:00:00.000000000",
          "2024-10-31T00:00:00.000000000",
          "2024-10-30T00:00:00.000000000",
          "2024-10-29T00:00:00.000000000",
          "2024-10-28T00:00:00.000000000",
          "2024-10-25T00:00:00.000000000",
          "2024-10-24T00:00:00.000000000",
          "2024-10-23T00:00:00.000000000",
          "2024-10-22T00:00:00.000000000",
          "2024-10-21T00:00:00.000000000",
          "2024-10-18T00:00:00.000000000",
          "2024-10-17T00:00:00.000000000",
          "2024-10-16T00:00:00.000000000",
          "2024-10-15T00:00:00.000000000",
          "2024-10-14T00:00:00.000000000",
          "2024-10-11T00:00:00.000000000"
         ],
         "xaxis": "x",
         "y": {
          "bdata": "CtejcD3ibUDD9Shcj2ptQEjhehSud21A9ihcj8J9bUApXI/C9cBtQHsUrkfhOm5AmpmZmZmpbUDsUbgehQtuQOF6FK5H4W5AMzMzMzPjbkCamZmZmbFuQMP1KFyPum5ApHA9CtebbkDXo3A9Co9uQDMzMzMzk25AKVyPwvUwbkCkcD0K15ttQKRwPQrXE21AzczMzMx0bEBcj8L1KHRsQNejcD0KJ21A16NwPQoPbUCamZmZmRltQLgehetRgGxAAAAAAACAbUB7FK5H4bJtQOxRuB6F621AuB6F61HIbUDsUbgehbtsQClcj8L12GtAhetRuB71a0DD9Shcj/prQBSuR+F61GtAj8L1KFy/bEC4HoXrUYhsQKRwPQrXu21AKVyPwvUobUDNzMzMzExtQDMzMzMzm21AZmZmZmZWbkAfhetRuEZuQAAAAAAAoG5A7FG4HoVrbkAzMzMzM3tuQD0K16NwTW9AZmZmZmaGb0B7FK5H4fJvQLgehetRMHBAMzMzMzMjcEBxPQrXo+hvQEjhehSuz29A4XoUrkc5b0CamZmZmQFvQI/C9Shcr29A4XoUrkdhb0Bcj8L1KARvQB+F61G4/m5ASOF6FK7PbkBxPQrXo/huQAAAAAAA2G5AexSuR+FabkDhehSuR2FuQLgehetRYG5AzczMzMxUbkB7FK5H4fJtQMP1KFyPqm1A9ihcj8JdbUBSuB6F62FtQKRwPQrXG21ApHA9Cte7bEBxPQrXo5BsQAAAAAAAoGxAKVyPwvWIbEBxPQrXo4BsQAAAAAAAIGxA16NwPQqHbECkcD0K1yNsQI/C9ShcB2xAj8L1KFwHbEAfhetRuF5sQI/C9Shcb2xA16NwPQrXa0BmZmZmZu5rQLgehetRwGtAhetRuB7da0CF61G4Hj1sQDMzMzMzw2xAPQrXo3A1bUDNzMzMzCxtQIXrUbge7WxACtejcD3SbEC4HoXrUdhsQOxRuB6Fe21Aj8L1KFyPbUAAAAAAAGBtQM3MzMzMBG1AKVyPwvX4bEAzMzMzMzttQJqZmZmZ6WxAmpmZmZlxbEA=",
          "dtype": "f8"
         },
         "yaxis": "y"
        },
        {
         "line": {
          "color": "tomato",
          "dash": "dot"
         },
         "name": "AAPL Volume",
         "type": "scatter",
         "x": [
          "2025-03-07T00:00:00.000000000",
          "2025-03-06T00:00:00.000000000",
          "2025-03-05T00:00:00.000000000",
          "2025-03-04T00:00:00.000000000",
          "2025-03-03T00:00:00.000000000",
          "2025-02-28T00:00:00.000000000",
          "2025-02-27T00:00:00.000000000",
          "2025-02-26T00:00:00.000000000",
          "2025-02-25T00:00:00.000000000",
          "2025-02-24T00:00:00.000000000",
          "2025-02-21T00:00:00.000000000",
          "2025-02-20T00:00:00.000000000",
          "2025-02-19T00:00:00.000000000",
          "2025-02-18T00:00:00.000000000",
          "2025-02-14T00:00:00.000000000",
          "2025-02-13T00:00:00.000000000",
          "2025-02-12T00:00:00.000000000",
          "2025-02-11T00:00:00.000000000",
          "2025-02-10T00:00:00.000000000",
          "2025-02-07T00:00:00.000000000",
          "2025-02-06T00:00:00.000000000",
          "2025-02-05T00:00:00.000000000",
          "2025-02-04T00:00:00.000000000",
          "2025-02-03T00:00:00.000000000",
          "2025-01-31T00:00:00.000000000",
          "2025-01-30T00:00:00.000000000",
          "2025-01-29T00:00:00.000000000",
          "2025-01-28T00:00:00.000000000",
          "2025-01-27T00:00:00.000000000",
          "2025-01-24T00:00:00.000000000",
          "2025-01-23T00:00:00.000000000",
          "2025-01-22T00:00:00.000000000",
          "2025-01-21T00:00:00.000000000",
          "2025-01-17T00:00:00.000000000",
          "2025-01-16T00:00:00.000000000",
          "2025-01-15T00:00:00.000000000",
          "2025-01-14T00:00:00.000000000",
          "2025-01-13T00:00:00.000000000",
          "2025-01-10T00:00:00.000000000",
          "2025-01-08T00:00:00.000000000",
          "2025-01-07T00:00:00.000000000",
          "2025-01-06T00:00:00.000000000",
          "2025-01-03T00:00:00.000000000",
          "2025-01-02T00:00:00.000000000",
          "2024-12-31T00:00:00.000000000",
          "2024-12-30T00:00:00.000000000",
          "2024-12-27T00:00:00.000000000",
          "2024-12-26T00:00:00.000000000",
          "2024-12-24T00:00:00.000000000",
          "2024-12-23T00:00:00.000000000",
          "2024-12-20T00:00:00.000000000",
          "2024-12-19T00:00:00.000000000",
          "2024-12-18T00:00:00.000000000",
          "2024-12-17T00:00:00.000000000",
          "2024-12-16T00:00:00.000000000",
          "2024-12-13T00:00:00.000000000",
          "2024-12-12T00:00:00.000000000",
          "2024-12-11T00:00:00.000000000",
          "2024-12-10T00:00:00.000000000",
          "2024-12-09T00:00:00.000000000",
          "2024-12-06T00:00:00.000000000",
          "2024-12-05T00:00:00.000000000",
          "2024-12-04T00:00:00.000000000",
          "2024-12-03T00:00:00.000000000",
          "2024-12-02T00:00:00.000000000",
          "2024-11-29T00:00:00.000000000",
          "2024-11-27T00:00:00.000000000",
          "2024-11-26T00:00:00.000000000",
          "2024-11-25T00:00:00.000000000",
          "2024-11-22T00:00:00.000000000",
          "2024-11-21T00:00:00.000000000",
          "2024-11-20T00:00:00.000000000",
          "2024-11-19T00:00:00.000000000",
          "2024-11-18T00:00:00.000000000",
          "2024-11-15T00:00:00.000000000",
          "2024-11-14T00:00:00.000000000",
          "2024-11-13T00:00:00.000000000",
          "2024-11-12T00:00:00.000000000",
          "2024-11-11T00:00:00.000000000",
          "2024-11-08T00:00:00.000000000",
          "2024-11-07T00:00:00.000000000",
          "2024-11-06T00:00:00.000000000",
          "2024-11-05T00:00:00.000000000",
          "2024-11-04T00:00:00.000000000",
          "2024-11-01T00:00:00.000000000",
          "2024-10-31T00:00:00.000000000",
          "2024-10-30T00:00:00.000000000",
          "2024-10-29T00:00:00.000000000",
          "2024-10-28T00:00:00.000000000",
          "2024-10-25T00:00:00.000000000",
          "2024-10-24T00:00:00.000000000",
          "2024-10-23T00:00:00.000000000",
          "2024-10-22T00:00:00.000000000",
          "2024-10-21T00:00:00.000000000",
          "2024-10-18T00:00:00.000000000",
          "2024-10-17T00:00:00.000000000",
          "2024-10-16T00:00:00.000000000",
          "2024-10-15T00:00:00.000000000",
          "2024-10-14T00:00:00.000000000",
          "2024-10-11T00:00:00.000000000"
         ],
         "xaxis": "x",
         "y": {
          "bdata": "AAAAUIoIhkEAAACY94mFQQAAANgXhYZBAAAAcCWniUEAAACIw3+GQQAAAICqGYtBAAAAOKOfg0EAAADgBDCFQQAAAMD+5IZBAAAA4G15iEEAAAC4012JQQAAALDe0X5BAAAAcFu2fkEAAADYxkeHQQAAABg3gINBAAAAMK+QiUEAAADg3JKFQQAAANBqnYlBAAAA0N+Uf0EAAADAEu+CQQAAAFD+iXxBAAAA6OrpgkEAAAAoYX2FQQAAABRua5FBAAAA4CIZmEEAAAA4OYqKQQAAAKCAsIVBAAAAxNIMkkEAAADoAJ6WQQAAAJj9FIpBAAAAQOC4jEEAAAAg8ZOOQQAAAHS+YZdBAAAAtDFUkEEAAAAw0xuRQQAAAAhN/oJBAAAA8ODNgkEAAAAocKqHQQAAAEAQbY1BAAAAYGDxgUEAAADATHuDQQAAABi6eoVBAAAAkJwwg0EAAADYSZSKQQAAAHBs04JBAAAAMIX0gEEAAADIUzKEQQAAAHAAAHpBAAAAEIkodkEAAACwpHuDQQAAAMYylaFBAAAAwOoHjUEAAACobhKLQQAAAEAWfYhBAAAACGWmiEEAAACgjZ5/QQAAAMBTQn9BAAAAsEmOhUEAAACwM5qBQQAAAIBYSoVBAAAA2M6UgUEAAACw8haDQQAAAPj1KYVBAAAAyMaHgkEAAAB4HPSGQQAAABB2KXtBAAAAcFTyf0EAAABojO2FQQAAAAB+fpVBAAAA4DUzgkEAAAA4LRSEQQAAAPAoxYBBAAAA8GFEgUEAAAAg1k6FQQAAAIAP2oZBAAAAKOFrhUEAAABIfiiHQQAAANhuQ4NBAAAAEKMHhEEAAADAz0aCQQAAANjCF4RBAAAACEsEikEAAACgHs96QQAAAKBiboVBAAAAKFogj0EAAAAwrbGOQQAAANj1cYZBAAAA+GTjgEEAAADwKjWBQQAAAACcgIJBAAAA8BerfUEAAAAYsO6IQQAAAJADhoJBAAAAMJhJgUEAAACA5yOGQQAAACAhd39BAAAAAG5AgEEAAAA4OOCOQQAAAChrBINBAAAAQLVJfkE=",
          "dtype": "f8"
         },
         "yaxis": "y2"
        }
       ],
       "layout": {
        "template": {
         "data": {
          "bar": [
           {
            "error_x": {
             "color": "#2a3f5f"
            },
            "error_y": {
             "color": "#2a3f5f"
            },
            "marker": {
             "line": {
              "color": "white",
              "width": 0.5
             },
             "pattern": {
              "fillmode": "overlay",
              "size": 10,
              "solidity": 0.2
             }
            },
            "type": "bar"
           }
          ],
          "barpolar": [
           {
            "marker": {
             "line": {
              "color": "white",
              "width": 0.5
             },
             "pattern": {
              "fillmode": "overlay",
              "size": 10,
              "solidity": 0.2
             }
            },
            "type": "barpolar"
           }
          ],
          "carpet": [
           {
            "aaxis": {
             "endlinecolor": "#2a3f5f",
             "gridcolor": "#C8D4E3",
             "linecolor": "#C8D4E3",
             "minorgridcolor": "#C8D4E3",
             "startlinecolor": "#2a3f5f"
            },
            "baxis": {
             "endlinecolor": "#2a3f5f",
             "gridcolor": "#C8D4E3",
             "linecolor": "#C8D4E3",
             "minorgridcolor": "#C8D4E3",
             "startlinecolor": "#2a3f5f"
            },
            "type": "carpet"
           }
          ],
          "choropleth": [
           {
            "colorbar": {
             "outlinewidth": 0,
             "ticks": ""
            },
            "type": "choropleth"
           }
          ],
          "contour": [
           {
            "colorbar": {
             "outlinewidth": 0,
             "ticks": ""
            },
            "colorscale": [
             [
              0,
              "#0d0887"
             ],
             [
              0.1111111111111111,
              "#46039f"
             ],
             [
              0.2222222222222222,
              "#7201a8"
             ],
             [
              0.3333333333333333,
              "#9c179e"
             ],
             [
              0.4444444444444444,
              "#bd3786"
             ],
             [
              0.5555555555555556,
              "#d8576b"
             ],
             [
              0.6666666666666666,
              "#ed7953"
             ],
             [
              0.7777777777777778,
              "#fb9f3a"
             ],
             [
              0.8888888888888888,
              "#fdca26"
             ],
             [
              1,
              "#f0f921"
             ]
            ],
            "type": "contour"
           }
          ],
          "contourcarpet": [
           {
            "colorbar": {
             "outlinewidth": 0,
             "ticks": ""
            },
            "type": "contourcarpet"
           }
          ],
          "heatmap": [
           {
            "colorbar": {
             "outlinewidth": 0,
             "ticks": ""
            },
            "colorscale": [
             [
              0,
              "#0d0887"
             ],
             [
              0.1111111111111111,
              "#46039f"
             ],
             [
              0.2222222222222222,
              "#7201a8"
             ],
             [
              0.3333333333333333,
              "#9c179e"
             ],
             [
              0.4444444444444444,
              "#bd3786"
             ],
             [
              0.5555555555555556,
              "#d8576b"
             ],
             [
              0.6666666666666666,
              "#ed7953"
             ],
             [
              0.7777777777777778,
              "#fb9f3a"
             ],
             [
              0.8888888888888888,
              "#fdca26"
             ],
             [
              1,
              "#f0f921"
             ]
            ],
            "type": "heatmap"
           }
          ],
          "histogram": [
           {
            "marker": {
             "pattern": {
              "fillmode": "overlay",
              "size": 10,
              "solidity": 0.2
             }
            },
            "type": "histogram"
           }
          ],
          "histogram2d": [
           {
            "colorbar": {
             "outlinewidth": 0,
             "ticks": ""
            },
            "colorscale": [
             [
              0,
              "#0d0887"
             ],
             [
              0.1111111111111111,
              "#46039f"
             ],
             [
              0.2222222222222222,
              "#7201a8"
             ],
             [
              0.3333333333333333,
              "#9c179e"
             ],
             [
              0.4444444444444444,
              "#bd3786"
             ],
             [
              0.5555555555555556,
              "#d8576b"
             ],
             [
              0.6666666666666666,
              "#ed7953"
             ],
             [
              0.7777777777777778,
              "#fb9f3a"
             ],
             [
              0.8888888888888888,
              "#fdca26"
             ],
             [
              1,
              "#f0f921"
             ]
            ],
            "type": "histogram2d"
           }
          ],
          "histogram2dcontour": [
           {
            "colorbar": {
             "outlinewidth": 0,
             "ticks": ""
            },
            "colorscale": [
             [
              0,
              "#0d0887"
             ],
             [
              0.1111111111111111,
              "#46039f"
             ],
             [
              0.2222222222222222,
              "#7201a8"
             ],
             [
              0.3333333333333333,
              "#9c179e"
             ],
             [
              0.4444444444444444,
              "#bd3786"
             ],
             [
              0.5555555555555556,
              "#d8576b"
             ],
             [
              0.6666666666666666,
              "#ed7953"
             ],
             [
              0.7777777777777778,
              "#fb9f3a"
             ],
             [
              0.8888888888888888,
              "#fdca26"
             ],
             [
              1,
              "#f0f921"
             ]
            ],
            "type": "histogram2dcontour"
           }
          ],
          "mesh3d": [
           {
            "colorbar": {
             "outlinewidth": 0,
             "ticks": ""
            },
            "type": "mesh3d"
           }
          ],
          "parcoords": [
           {
            "line": {
             "colorbar": {
              "outlinewidth": 0,
              "ticks": ""
             }
            },
            "type": "parcoords"
           }
          ],
          "pie": [
           {
            "automargin": true,
            "type": "pie"
           }
          ],
          "scatter": [
           {
            "fillpattern": {
             "fillmode": "overlay",
             "size": 10,
             "solidity": 0.2
            },
            "type": "scatter"
           }
          ],
          "scatter3d": [
           {
            "line": {
             "colorbar": {
              "outlinewidth": 0,
              "ticks": ""
             }
            },
            "marker": {
             "colorbar": {
              "outlinewidth": 0,
              "ticks": ""
             }
            },
            "type": "scatter3d"
           }
          ],
          "scattercarpet": [
           {
            "marker": {
             "colorbar": {
              "outlinewidth": 0,
              "ticks": ""
             }
            },
            "type": "scattercarpet"
           }
          ],
          "scattergeo": [
           {
            "marker": {
             "colorbar": {
              "outlinewidth": 0,
              "ticks": ""
             }
            },
            "type": "scattergeo"
           }
          ],
          "scattergl": [
           {
            "marker": {
             "colorbar": {
              "outlinewidth": 0,
              "ticks": ""
             }
            },
            "type": "scattergl"
           }
          ],
          "scattermap": [
           {
            "marker": {
             "colorbar": {
              "outlinewidth": 0,
              "ticks": ""
             }
            },
            "type": "scattermap"
           }
          ],
          "scattermapbox": [
           {
            "marker": {
             "colorbar": {
              "outlinewidth": 0,
              "ticks": ""
             }
            },
            "type": "scattermapbox"
           }
          ],
          "scatterpolar": [
           {
            "marker": {
             "colorbar": {
              "outlinewidth": 0,
              "ticks": ""
             }
            },
            "type": "scatterpolar"
           }
          ],
          "scatterpolargl": [
           {
            "marker": {
             "colorbar": {
              "outlinewidth": 0,
              "ticks": ""
             }
            },
            "type": "scatterpolargl"
           }
          ],
          "scatterternary": [
           {
            "marker": {
             "colorbar": {
              "outlinewidth": 0,
              "ticks": ""
             }
            },
            "type": "scatterternary"
           }
          ],
          "surface": [
           {
            "colorbar": {
             "outlinewidth": 0,
             "ticks": ""
            },
            "colorscale": [
             [
              0,
              "#0d0887"
             ],
             [
              0.1111111111111111,
              "#46039f"
             ],
             [
              0.2222222222222222,
              "#7201a8"
             ],
             [
              0.3333333333333333,
              "#9c179e"
             ],
             [
              0.4444444444444444,
              "#bd3786"
             ],
             [
              0.5555555555555556,
              "#d8576b"
             ],
             [
              0.6666666666666666,
              "#ed7953"
             ],
             [
              0.7777777777777778,
              "#fb9f3a"
             ],
             [
              0.8888888888888888,
              "#fdca26"
             ],
             [
              1,
              "#f0f921"
             ]
            ],
            "type": "surface"
           }
          ],
          "table": [
           {
            "cells": {
             "fill": {
              "color": "#EBF0F8"
             },
             "line": {
              "color": "white"
             }
            },
            "header": {
             "fill": {
              "color": "#C8D4E3"
             },
             "line": {
              "color": "white"
             }
            },
            "type": "table"
           }
          ]
         },
         "layout": {
          "annotationdefaults": {
           "arrowcolor": "#2a3f5f",
           "arrowhead": 0,
           "arrowwidth": 1
          },
          "autotypenumbers": "strict",
          "coloraxis": {
           "colorbar": {
            "outlinewidth": 0,
            "ticks": ""
           }
          },
          "colorscale": {
           "diverging": [
            [
             0,
             "#8e0152"
            ],
            [
             0.1,
             "#c51b7d"
            ],
            [
             0.2,
             "#de77ae"
            ],
            [
             0.3,
             "#f1b6da"
            ],
            [
             0.4,
             "#fde0ef"
            ],
            [
             0.5,
             "#f7f7f7"
            ],
            [
             0.6,
             "#e6f5d0"
            ],
            [
             0.7,
             "#b8e186"
            ],
            [
             0.8,
             "#7fbc41"
            ],
            [
             0.9,
             "#4d9221"
            ],
            [
             1,
             "#276419"
            ]
           ],
           "sequential": [
            [
             0,
             "#0d0887"
            ],
            [
             0.1111111111111111,
             "#46039f"
            ],
            [
             0.2222222222222222,
             "#7201a8"
            ],
            [
             0.3333333333333333,
             "#9c179e"
            ],
            [
             0.4444444444444444,
             "#bd3786"
            ],
            [
             0.5555555555555556,
             "#d8576b"
            ],
            [
             0.6666666666666666,
             "#ed7953"
            ],
            [
             0.7777777777777778,
             "#fb9f3a"
            ],
            [
             0.8888888888888888,
             "#fdca26"
            ],
            [
             1,
             "#f0f921"
            ]
           ],
           "sequentialminus": [
            [
             0,
             "#0d0887"
            ],
            [
             0.1111111111111111,
             "#46039f"
            ],
            [
             0.2222222222222222,
             "#7201a8"
            ],
            [
             0.3333333333333333,
             "#9c179e"
            ],
            [
             0.4444444444444444,
             "#bd3786"
            ],
            [
             0.5555555555555556,
             "#d8576b"
            ],
            [
             0.6666666666666666,
             "#ed7953"
            ],
            [
             0.7777777777777778,
             "#fb9f3a"
            ],
            [
             0.8888888888888888,
             "#fdca26"
            ],
            [
             1,
             "#f0f921"
            ]
           ]
          },
          "colorway": [
           "#636efa",
           "#EF553B",
           "#00cc96",
           "#ab63fa",
           "#FFA15A",
           "#19d3f3",
           "#FF6692",
           "#B6E880",
           "#FF97FF",
           "#FECB52"
          ],
          "font": {
           "color": "#2a3f5f"
          },
          "geo": {
           "bgcolor": "white",
           "lakecolor": "white",
           "landcolor": "white",
           "showlakes": true,
           "showland": true,
           "subunitcolor": "#C8D4E3"
          },
          "hoverlabel": {
           "align": "left"
          },
          "hovermode": "closest",
          "mapbox": {
           "style": "light"
          },
          "paper_bgcolor": "white",
          "plot_bgcolor": "white",
          "polar": {
           "angularaxis": {
            "gridcolor": "#EBF0F8",
            "linecolor": "#EBF0F8",
            "ticks": ""
           },
           "bgcolor": "white",
           "radialaxis": {
            "gridcolor": "#EBF0F8",
            "linecolor": "#EBF0F8",
            "ticks": ""
           }
          },
          "scene": {
           "xaxis": {
            "backgroundcolor": "white",
            "gridcolor": "#DFE8F3",
            "gridwidth": 2,
            "linecolor": "#EBF0F8",
            "showbackground": true,
            "ticks": "",
            "zerolinecolor": "#EBF0F8"
           },
           "yaxis": {
            "backgroundcolor": "white",
            "gridcolor": "#DFE8F3",
            "gridwidth": 2,
            "linecolor": "#EBF0F8",
            "showbackground": true,
            "ticks": "",
            "zerolinecolor": "#EBF0F8"
           },
           "zaxis": {
            "backgroundcolor": "white",
            "gridcolor": "#DFE8F3",
            "gridwidth": 2,
            "linecolor": "#EBF0F8",
            "showbackground": true,
            "ticks": "",
            "zerolinecolor": "#EBF0F8"
           }
          },
          "shapedefaults": {
           "line": {
            "color": "#2a3f5f"
           }
          },
          "ternary": {
           "aaxis": {
            "gridcolor": "#DFE8F3",
            "linecolor": "#A2B1C6",
            "ticks": ""
           },
           "baxis": {
            "gridcolor": "#DFE8F3",
            "linecolor": "#A2B1C6",
            "ticks": ""
           },
           "bgcolor": "white",
           "caxis": {
            "gridcolor": "#DFE8F3",
            "linecolor": "#A2B1C6",
            "ticks": ""
           }
          },
          "title": {
           "x": 0.05
          },
          "xaxis": {
           "automargin": true,
           "gridcolor": "#EBF0F8",
           "linecolor": "#EBF0F8",
           "ticks": "",
           "title": {
            "standoff": 15
           },
           "zerolinecolor": "#EBF0F8",
           "zerolinewidth": 2
          },
          "yaxis": {
           "automargin": true,
           "gridcolor": "#EBF0F8",
           "linecolor": "#EBF0F8",
           "ticks": "",
           "title": {
            "standoff": 15
           },
           "zerolinecolor": "#EBF0F8",
           "zerolinewidth": 2
          }
         }
        },
        "title": {
         "text": "AAPL Stock Closing Prices and Volume"
        },
        "xaxis": {
         "anchor": "y",
         "domain": [
          0,
          0.94
         ],
         "linecolor": "black",
         "linewidth": 2,
         "mirror": true,
         "showline": true,
         "title": {
          "text": "Date"
         }
        },
        "yaxis": {
         "anchor": "x",
         "domain": [
          0,
          1
         ],
         "linecolor": "blue",
         "linewidth": 2,
         "mirror": true,
         "rangemode": "tozero",
         "showline": true,
         "title": {
          "text": "<b>AAPL Close Price</b>"
         }
        },
        "yaxis2": {
         "anchor": "x",
         "linecolor": "red",
         "linewidth": 2,
         "mirror": true,
         "overlaying": "y",
         "rangemode": "tozero",
         "showline": true,
         "side": "right",
         "title": {
          "text": "<b>AAPL Volume</b>"
         }
        }
       }
      }
     },
     "metadata": {},
     "output_type": "display_data"
    },
    {
     "data": {
      "application/vnd.plotly.v1+json": {
       "config": {
        "plotlyServerURL": "https://plot.ly"
       },
       "data": [
        {
         "line": {
          "color": "royalblue"
         },
         "name": "NVDA Close Price",
         "type": "scatter",
         "x": [
          "2025-03-07T00:00:00.000000000",
          "2025-03-06T00:00:00.000000000",
          "2025-03-05T00:00:00.000000000",
          "2025-03-04T00:00:00.000000000",
          "2025-03-03T00:00:00.000000000",
          "2025-02-28T00:00:00.000000000",
          "2025-02-27T00:00:00.000000000",
          "2025-02-26T00:00:00.000000000",
          "2025-02-25T00:00:00.000000000",
          "2025-02-24T00:00:00.000000000",
          "2025-02-21T00:00:00.000000000",
          "2025-02-20T00:00:00.000000000",
          "2025-02-19T00:00:00.000000000",
          "2025-02-18T00:00:00.000000000",
          "2025-02-14T00:00:00.000000000",
          "2025-02-13T00:00:00.000000000",
          "2025-02-12T00:00:00.000000000",
          "2025-02-11T00:00:00.000000000",
          "2025-02-10T00:00:00.000000000",
          "2025-02-07T00:00:00.000000000",
          "2025-02-06T00:00:00.000000000",
          "2025-02-05T00:00:00.000000000",
          "2025-02-04T00:00:00.000000000",
          "2025-02-03T00:00:00.000000000",
          "2025-01-31T00:00:00.000000000",
          "2025-01-30T00:00:00.000000000",
          "2025-01-29T00:00:00.000000000",
          "2025-01-28T00:00:00.000000000",
          "2025-01-27T00:00:00.000000000",
          "2025-01-24T00:00:00.000000000",
          "2025-01-23T00:00:00.000000000",
          "2025-01-22T00:00:00.000000000",
          "2025-01-21T00:00:00.000000000",
          "2025-01-17T00:00:00.000000000",
          "2025-01-16T00:00:00.000000000",
          "2025-01-15T00:00:00.000000000",
          "2025-01-14T00:00:00.000000000",
          "2025-01-13T00:00:00.000000000",
          "2025-01-10T00:00:00.000000000",
          "2025-01-08T00:00:00.000000000",
          "2025-01-07T00:00:00.000000000",
          "2025-01-06T00:00:00.000000000",
          "2025-01-03T00:00:00.000000000",
          "2025-01-02T00:00:00.000000000",
          "2024-12-31T00:00:00.000000000",
          "2024-12-30T00:00:00.000000000",
          "2024-12-27T00:00:00.000000000",
          "2024-12-26T00:00:00.000000000",
          "2024-12-24T00:00:00.000000000",
          "2024-12-23T00:00:00.000000000",
          "2024-12-20T00:00:00.000000000",
          "2024-12-19T00:00:00.000000000",
          "2024-12-18T00:00:00.000000000",
          "2024-12-17T00:00:00.000000000",
          "2024-12-16T00:00:00.000000000",
          "2024-12-13T00:00:00.000000000",
          "2024-12-12T00:00:00.000000000",
          "2024-12-11T00:00:00.000000000",
          "2024-12-10T00:00:00.000000000",
          "2024-12-09T00:00:00.000000000",
          "2024-12-06T00:00:00.000000000",
          "2024-12-05T00:00:00.000000000",
          "2024-12-04T00:00:00.000000000",
          "2024-12-03T00:00:00.000000000",
          "2024-12-02T00:00:00.000000000",
          "2024-11-29T00:00:00.000000000",
          "2024-11-27T00:00:00.000000000",
          "2024-11-26T00:00:00.000000000",
          "2024-11-25T00:00:00.000000000",
          "2024-11-22T00:00:00.000000000",
          "2024-11-21T00:00:00.000000000",
          "2024-11-20T00:00:00.000000000",
          "2024-11-19T00:00:00.000000000",
          "2024-11-18T00:00:00.000000000",
          "2024-11-15T00:00:00.000000000",
          "2024-11-14T00:00:00.000000000",
          "2024-11-13T00:00:00.000000000",
          "2024-11-12T00:00:00.000000000",
          "2024-11-11T00:00:00.000000000",
          "2024-11-08T00:00:00.000000000",
          "2024-11-07T00:00:00.000000000",
          "2024-11-06T00:00:00.000000000",
          "2024-11-05T00:00:00.000000000",
          "2024-11-04T00:00:00.000000000",
          "2024-11-01T00:00:00.000000000",
          "2024-10-31T00:00:00.000000000",
          "2024-10-30T00:00:00.000000000",
          "2024-10-29T00:00:00.000000000",
          "2024-10-28T00:00:00.000000000",
          "2024-10-25T00:00:00.000000000",
          "2024-10-24T00:00:00.000000000",
          "2024-10-23T00:00:00.000000000",
          "2024-10-22T00:00:00.000000000",
          "2024-10-21T00:00:00.000000000",
          "2024-10-18T00:00:00.000000000",
          "2024-10-17T00:00:00.000000000",
          "2024-10-16T00:00:00.000000000",
          "2024-10-15T00:00:00.000000000",
          "2024-10-14T00:00:00.000000000",
          "2024-10-11T00:00:00.000000000"
         ],
         "xaxis": "x",
         "y": {
          "bdata": "XI/C9SgsXEAUrkfheqRbQDMzMzMzU11Aj8L1KFz/XECkcD0K14NcQHsUrkfhOl9AmpmZmZkJXkApXI/C9WhgQLgehetRqF9AKVyPwvVIYED2KFyPws1gQOxRuB6Fg2FAj8L1KFxnYUDNzMzMzGxhQDMzMzMzW2FA4XoUrkfpYEAUrkfhemRgQJqZmZmZmWBACtejcD2yYEB7FK5H4TpgQPYoXI/CFWBAhetRuB41X0CamZmZmaldQArXo3A9Kl1AFK5H4XoEXkCamZmZmSlfQM3MzMzM7F5ASOF6FK4fYEB7FK5H4ZpdQKRwPQrX02FA16NwPQpnYkAK16NwPWJiQMP1KFyPmmFAH4XrUbg2YUAK16NwPbJgQEjhehSuB2FAuB6F61F4YECPwvUoXKdgQIXrUbge/WBA7FG4HoWDYUAUrkfheoRhQPYoXI/CrWJA16NwPQoPYkBSuB6F60lhQOF6FK5HyWBASOF6FK4vYUC4HoXrUSBhQPYoXI/CfWFA16NwPQqHYUA9CtejcHVhQGZmZmZm1mBA9ihcj8JVYECF61G4Hh1gQBSuR+F6TGBAAAAAAACAYEAAAAAAAMhgQHsUrkfhKmFAUrgehetpYUAK16NwPeJgQFK4HoXrWWFArkfhehTOYUBSuB6F6yFiQBSuR+F6JGJAuB6F61GIYUBcj8L1KFRhQAAAAAAASGFAexSuR+HqYEA9CtejcB1hQHE9CtejAGFAZmZmZma+YUA9CtejcFViQBSuR+F6PGJAuB6F61FgYkDNzMzMzIRhQI/C9Shcv2FAuB6F61FYYkBxPQrXo0hiQOF6FK5HiWJAuB6F61EoYkBcj8L1KHRiQFyPwvUonGJA7FG4HoUzYkCF61G4Hn1hQJqZmZmZAWFAzczMzMzsYEC4HoXrUZhgQB+F61G4amFAAAAAAACoYUBxPQrXo5BhQOF6FK5HsWFAhetRuB6NYUBSuB6F63FhQHsUrkfh8mFAH4XrUbj2YUAAAAAAAEBhQPYoXI/CHWFA16NwPQr3YEAzMzMzM3NgQArXo3A9QmFAmpmZmZnZYEA=",
          "dtype": "f8"
         },
         "yaxis": "y"
        },
        {
         "line": {
          "color": "tomato",
          "dash": "dot"
         },
         "name": "NVDA Volume",
         "type": "scatter",
         "x": [
          "2025-03-07T00:00:00.000000000",
          "2025-03-06T00:00:00.000000000",
          "2025-03-05T00:00:00.000000000",
          "2025-03-04T00:00:00.000000000",
          "2025-03-03T00:00:00.000000000",
          "2025-02-28T00:00:00.000000000",
          "2025-02-27T00:00:00.000000000",
          "2025-02-26T00:00:00.000000000",
          "2025-02-25T00:00:00.000000000",
          "2025-02-24T00:00:00.000000000",
          "2025-02-21T00:00:00.000000000",
          "2025-02-20T00:00:00.000000000",
          "2025-02-19T00:00:00.000000000",
          "2025-02-18T00:00:00.000000000",
          "2025-02-14T00:00:00.000000000",
          "2025-02-13T00:00:00.000000000",
          "2025-02-12T00:00:00.000000000",
          "2025-02-11T00:00:00.000000000",
          "2025-02-10T00:00:00.000000000",
          "2025-02-07T00:00:00.000000000",
          "2025-02-06T00:00:00.000000000",
          "2025-02-05T00:00:00.000000000",
          "2025-02-04T00:00:00.000000000",
          "2025-02-03T00:00:00.000000000",
          "2025-01-31T00:00:00.000000000",
          "2025-01-30T00:00:00.000000000",
          "2025-01-29T00:00:00.000000000",
          "2025-01-28T00:00:00.000000000",
          "2025-01-27T00:00:00.000000000",
          "2025-01-24T00:00:00.000000000",
          "2025-01-23T00:00:00.000000000",
          "2025-01-22T00:00:00.000000000",
          "2025-01-21T00:00:00.000000000",
          "2025-01-17T00:00:00.000000000",
          "2025-01-16T00:00:00.000000000",
          "2025-01-15T00:00:00.000000000",
          "2025-01-14T00:00:00.000000000",
          "2025-01-13T00:00:00.000000000",
          "2025-01-10T00:00:00.000000000",
          "2025-01-08T00:00:00.000000000",
          "2025-01-07T00:00:00.000000000",
          "2025-01-06T00:00:00.000000000",
          "2025-01-03T00:00:00.000000000",
          "2025-01-02T00:00:00.000000000",
          "2024-12-31T00:00:00.000000000",
          "2024-12-30T00:00:00.000000000",
          "2024-12-27T00:00:00.000000000",
          "2024-12-26T00:00:00.000000000",
          "2024-12-24T00:00:00.000000000",
          "2024-12-23T00:00:00.000000000",
          "2024-12-20T00:00:00.000000000",
          "2024-12-19T00:00:00.000000000",
          "2024-12-18T00:00:00.000000000",
          "2024-12-17T00:00:00.000000000",
          "2024-12-16T00:00:00.000000000",
          "2024-12-13T00:00:00.000000000",
          "2024-12-12T00:00:00.000000000",
          "2024-12-11T00:00:00.000000000",
          "2024-12-10T00:00:00.000000000",
          "2024-12-09T00:00:00.000000000",
          "2024-12-06T00:00:00.000000000",
          "2024-12-05T00:00:00.000000000",
          "2024-12-04T00:00:00.000000000",
          "2024-12-03T00:00:00.000000000",
          "2024-12-02T00:00:00.000000000",
          "2024-11-29T00:00:00.000000000",
          "2024-11-27T00:00:00.000000000",
          "2024-11-26T00:00:00.000000000",
          "2024-11-25T00:00:00.000000000",
          "2024-11-22T00:00:00.000000000",
          "2024-11-21T00:00:00.000000000",
          "2024-11-20T00:00:00.000000000",
          "2024-11-19T00:00:00.000000000",
          "2024-11-18T00:00:00.000000000",
          "2024-11-15T00:00:00.000000000",
          "2024-11-14T00:00:00.000000000",
          "2024-11-13T00:00:00.000000000",
          "2024-11-12T00:00:00.000000000",
          "2024-11-11T00:00:00.000000000",
          "2024-11-08T00:00:00.000000000",
          "2024-11-07T00:00:00.000000000",
          "2024-11-06T00:00:00.000000000",
          "2024-11-05T00:00:00.000000000",
          "2024-11-04T00:00:00.000000000",
          "2024-11-01T00:00:00.000000000",
          "2024-10-31T00:00:00.000000000",
          "2024-10-30T00:00:00.000000000",
          "2024-10-29T00:00:00.000000000",
          "2024-10-28T00:00:00.000000000",
          "2024-10-25T00:00:00.000000000",
          "2024-10-24T00:00:00.000000000",
          "2024-10-23T00:00:00.000000000",
          "2024-10-22T00:00:00.000000000",
          "2024-10-21T00:00:00.000000000",
          "2024-10-18T00:00:00.000000000",
          "2024-10-17T00:00:00.000000000",
          "2024-10-16T00:00:00.000000000",
          "2024-10-15T00:00:00.000000000",
          "2024-10-14T00:00:00.000000000",
          "2024-10-11T00:00:00.000000000"
         ],
         "xaxis": "x",
         "y": {
          "bdata": "AAAAiApMtEEAAACl2CSzQQAAAN6m8rBBAAAAaX27t0EAAAB9LoW4QQAAAEkPMbdBAAAAplNqukEAAADWxzmzQQAAAGesLbBBAAAAIov3rUEAAADipTSrQQAAAL6WJ6FBAAAADMv4o0EAAABmvSCqQQAAAAqQTadBAAAArhWJp0EAAAAwUBujQQAAANaqU6VBAAAAPPvdqUEAAAB0sTOrQQAAAGyr+q1BAAAAyn9dr0EAAAAwSZWuQQAAAF2bILZBAAAAI55Et0EAAAAdkWu3QQAAAACy17tBAAAA14BGwUEAAIAXL2fIQQAAAMYu+atBAAAAOiqWokEAAACGi1SsQQAAAPLRkqdBAAAAMMv7p0EAAAD+XPGoQQAAAHRiFKZBAAAAqvJQp0EAAACkRWqoQQAAAKSGv6hBAAAAeCsaq0EAAAAexfe0QQAAAJ6soq9BAAAA3F1Wq0EAAAD8BaKnQQAAAJZXjqJBAAAAWNv+o0EAAACWxFWkQQAAAMjCx5tBAAAA9EUSmUEAAAAEuvykQQAAAClBRbJBAAAAVB8AqUEAAAC1d4mwQQAAAK6S7K5BAAAANLFdrEEAAAACRpmrQQAAAAK/+qJBAAAA0NsKpkEAAAAwVAmpQQAAAKI9kaZBAAAAyrt4pkEAAAD4+pOkQQAAAM5nkKtBAAAAGoSZo0EAAACyV3ekQQAAAOhR6aBBAAAAwEr8qkEAAABMHq+mQQAAADNlj7RBAAAAFIsurEEAAACK9eW3QQAAACZEeLJBAAAAQPgoq0EAAAAS0HKqQQAAAApz0a1BAAAAiowup0EAAABGbOCmQQAAAOTZradBAAAA6CK8pUEAAABM5fCkQQAAAE4Bt6hBAAAAUpjarEEAAAA6NiOjQQAAANrnWqZBAAAAPAqxqEEAAABZehiwQQAAAMRnY6VBAAAARGDJokEAAABycrGkQQAAAHrUc6hBAAAAkNqLpEEAAAA28gqxQQAAAEp7+qpBAAAAJJCJr0EAAACQ2P2kQQAAAFHXQ7JBAAAA0HyTr0EAAABtPoW2QQAAACiwsqtBAAAAhGFKpEE=",
          "dtype": "f8"
         },
         "yaxis": "y2"
        }
       ],
       "layout": {
        "template": {
         "data": {
          "bar": [
           {
            "error_x": {
             "color": "#2a3f5f"
            },
            "error_y": {
             "color": "#2a3f5f"
            },
            "marker": {
             "line": {
              "color": "white",
              "width": 0.5
             },
             "pattern": {
              "fillmode": "overlay",
              "size": 10,
              "solidity": 0.2
             }
            },
            "type": "bar"
           }
          ],
          "barpolar": [
           {
            "marker": {
             "line": {
              "color": "white",
              "width": 0.5
             },
             "pattern": {
              "fillmode": "overlay",
              "size": 10,
              "solidity": 0.2
             }
            },
            "type": "barpolar"
           }
          ],
          "carpet": [
           {
            "aaxis": {
             "endlinecolor": "#2a3f5f",
             "gridcolor": "#C8D4E3",
             "linecolor": "#C8D4E3",
             "minorgridcolor": "#C8D4E3",
             "startlinecolor": "#2a3f5f"
            },
            "baxis": {
             "endlinecolor": "#2a3f5f",
             "gridcolor": "#C8D4E3",
             "linecolor": "#C8D4E3",
             "minorgridcolor": "#C8D4E3",
             "startlinecolor": "#2a3f5f"
            },
            "type": "carpet"
           }
          ],
          "choropleth": [
           {
            "colorbar": {
             "outlinewidth": 0,
             "ticks": ""
            },
            "type": "choropleth"
           }
          ],
          "contour": [
           {
            "colorbar": {
             "outlinewidth": 0,
             "ticks": ""
            },
            "colorscale": [
             [
              0,
              "#0d0887"
             ],
             [
              0.1111111111111111,
              "#46039f"
             ],
             [
              0.2222222222222222,
              "#7201a8"
             ],
             [
              0.3333333333333333,
              "#9c179e"
             ],
             [
              0.4444444444444444,
              "#bd3786"
             ],
             [
              0.5555555555555556,
              "#d8576b"
             ],
             [
              0.6666666666666666,
              "#ed7953"
             ],
             [
              0.7777777777777778,
              "#fb9f3a"
             ],
             [
              0.8888888888888888,
              "#fdca26"
             ],
             [
              1,
              "#f0f921"
             ]
            ],
            "type": "contour"
           }
          ],
          "contourcarpet": [
           {
            "colorbar": {
             "outlinewidth": 0,
             "ticks": ""
            },
            "type": "contourcarpet"
           }
          ],
          "heatmap": [
           {
            "colorbar": {
             "outlinewidth": 0,
             "ticks": ""
            },
            "colorscale": [
             [
              0,
              "#0d0887"
             ],
             [
              0.1111111111111111,
              "#46039f"
             ],
             [
              0.2222222222222222,
              "#7201a8"
             ],
             [
              0.3333333333333333,
              "#9c179e"
             ],
             [
              0.4444444444444444,
              "#bd3786"
             ],
             [
              0.5555555555555556,
              "#d8576b"
             ],
             [
              0.6666666666666666,
              "#ed7953"
             ],
             [
              0.7777777777777778,
              "#fb9f3a"
             ],
             [
              0.8888888888888888,
              "#fdca26"
             ],
             [
              1,
              "#f0f921"
             ]
            ],
            "type": "heatmap"
           }
          ],
          "histogram": [
           {
            "marker": {
             "pattern": {
              "fillmode": "overlay",
              "size": 10,
              "solidity": 0.2
             }
            },
            "type": "histogram"
           }
          ],
          "histogram2d": [
           {
            "colorbar": {
             "outlinewidth": 0,
             "ticks": ""
            },
            "colorscale": [
             [
              0,
              "#0d0887"
             ],
             [
              0.1111111111111111,
              "#46039f"
             ],
             [
              0.2222222222222222,
              "#7201a8"
             ],
             [
              0.3333333333333333,
              "#9c179e"
             ],
             [
              0.4444444444444444,
              "#bd3786"
             ],
             [
              0.5555555555555556,
              "#d8576b"
             ],
             [
              0.6666666666666666,
              "#ed7953"
             ],
             [
              0.7777777777777778,
              "#fb9f3a"
             ],
             [
              0.8888888888888888,
              "#fdca26"
             ],
             [
              1,
              "#f0f921"
             ]
            ],
            "type": "histogram2d"
           }
          ],
          "histogram2dcontour": [
           {
            "colorbar": {
             "outlinewidth": 0,
             "ticks": ""
            },
            "colorscale": [
             [
              0,
              "#0d0887"
             ],
             [
              0.1111111111111111,
              "#46039f"
             ],
             [
              0.2222222222222222,
              "#7201a8"
             ],
             [
              0.3333333333333333,
              "#9c179e"
             ],
             [
              0.4444444444444444,
              "#bd3786"
             ],
             [
              0.5555555555555556,
              "#d8576b"
             ],
             [
              0.6666666666666666,
              "#ed7953"
             ],
             [
              0.7777777777777778,
              "#fb9f3a"
             ],
             [
              0.8888888888888888,
              "#fdca26"
             ],
             [
              1,
              "#f0f921"
             ]
            ],
            "type": "histogram2dcontour"
           }
          ],
          "mesh3d": [
           {
            "colorbar": {
             "outlinewidth": 0,
             "ticks": ""
            },
            "type": "mesh3d"
           }
          ],
          "parcoords": [
           {
            "line": {
             "colorbar": {
              "outlinewidth": 0,
              "ticks": ""
             }
            },
            "type": "parcoords"
           }
          ],
          "pie": [
           {
            "automargin": true,
            "type": "pie"
           }
          ],
          "scatter": [
           {
            "fillpattern": {
             "fillmode": "overlay",
             "size": 10,
             "solidity": 0.2
            },
            "type": "scatter"
           }
          ],
          "scatter3d": [
           {
            "line": {
             "colorbar": {
              "outlinewidth": 0,
              "ticks": ""
             }
            },
            "marker": {
             "colorbar": {
              "outlinewidth": 0,
              "ticks": ""
             }
            },
            "type": "scatter3d"
           }
          ],
          "scattercarpet": [
           {
            "marker": {
             "colorbar": {
              "outlinewidth": 0,
              "ticks": ""
             }
            },
            "type": "scattercarpet"
           }
          ],
          "scattergeo": [
           {
            "marker": {
             "colorbar": {
              "outlinewidth": 0,
              "ticks": ""
             }
            },
            "type": "scattergeo"
           }
          ],
          "scattergl": [
           {
            "marker": {
             "colorbar": {
              "outlinewidth": 0,
              "ticks": ""
             }
            },
            "type": "scattergl"
           }
          ],
          "scattermap": [
           {
            "marker": {
             "colorbar": {
              "outlinewidth": 0,
              "ticks": ""
             }
            },
            "type": "scattermap"
           }
          ],
          "scattermapbox": [
           {
            "marker": {
             "colorbar": {
              "outlinewidth": 0,
              "ticks": ""
             }
            },
            "type": "scattermapbox"
           }
          ],
          "scatterpolar": [
           {
            "marker": {
             "colorbar": {
              "outlinewidth": 0,
              "ticks": ""
             }
            },
            "type": "scatterpolar"
           }
          ],
          "scatterpolargl": [
           {
            "marker": {
             "colorbar": {
              "outlinewidth": 0,
              "ticks": ""
             }
            },
            "type": "scatterpolargl"
           }
          ],
          "scatterternary": [
           {
            "marker": {
             "colorbar": {
              "outlinewidth": 0,
              "ticks": ""
             }
            },
            "type": "scatterternary"
           }
          ],
          "surface": [
           {
            "colorbar": {
             "outlinewidth": 0,
             "ticks": ""
            },
            "colorscale": [
             [
              0,
              "#0d0887"
             ],
             [
              0.1111111111111111,
              "#46039f"
             ],
             [
              0.2222222222222222,
              "#7201a8"
             ],
             [
              0.3333333333333333,
              "#9c179e"
             ],
             [
              0.4444444444444444,
              "#bd3786"
             ],
             [
              0.5555555555555556,
              "#d8576b"
             ],
             [
              0.6666666666666666,
              "#ed7953"
             ],
             [
              0.7777777777777778,
              "#fb9f3a"
             ],
             [
              0.8888888888888888,
              "#fdca26"
             ],
             [
              1,
              "#f0f921"
             ]
            ],
            "type": "surface"
           }
          ],
          "table": [
           {
            "cells": {
             "fill": {
              "color": "#EBF0F8"
             },
             "line": {
              "color": "white"
             }
            },
            "header": {
             "fill": {
              "color": "#C8D4E3"
             },
             "line": {
              "color": "white"
             }
            },
            "type": "table"
           }
          ]
         },
         "layout": {
          "annotationdefaults": {
           "arrowcolor": "#2a3f5f",
           "arrowhead": 0,
           "arrowwidth": 1
          },
          "autotypenumbers": "strict",
          "coloraxis": {
           "colorbar": {
            "outlinewidth": 0,
            "ticks": ""
           }
          },
          "colorscale": {
           "diverging": [
            [
             0,
             "#8e0152"
            ],
            [
             0.1,
             "#c51b7d"
            ],
            [
             0.2,
             "#de77ae"
            ],
            [
             0.3,
             "#f1b6da"
            ],
            [
             0.4,
             "#fde0ef"
            ],
            [
             0.5,
             "#f7f7f7"
            ],
            [
             0.6,
             "#e6f5d0"
            ],
            [
             0.7,
             "#b8e186"
            ],
            [
             0.8,
             "#7fbc41"
            ],
            [
             0.9,
             "#4d9221"
            ],
            [
             1,
             "#276419"
            ]
           ],
           "sequential": [
            [
             0,
             "#0d0887"
            ],
            [
             0.1111111111111111,
             "#46039f"
            ],
            [
             0.2222222222222222,
             "#7201a8"
            ],
            [
             0.3333333333333333,
             "#9c179e"
            ],
            [
             0.4444444444444444,
             "#bd3786"
            ],
            [
             0.5555555555555556,
             "#d8576b"
            ],
            [
             0.6666666666666666,
             "#ed7953"
            ],
            [
             0.7777777777777778,
             "#fb9f3a"
            ],
            [
             0.8888888888888888,
             "#fdca26"
            ],
            [
             1,
             "#f0f921"
            ]
           ],
           "sequentialminus": [
            [
             0,
             "#0d0887"
            ],
            [
             0.1111111111111111,
             "#46039f"
            ],
            [
             0.2222222222222222,
             "#7201a8"
            ],
            [
             0.3333333333333333,
             "#9c179e"
            ],
            [
             0.4444444444444444,
             "#bd3786"
            ],
            [
             0.5555555555555556,
             "#d8576b"
            ],
            [
             0.6666666666666666,
             "#ed7953"
            ],
            [
             0.7777777777777778,
             "#fb9f3a"
            ],
            [
             0.8888888888888888,
             "#fdca26"
            ],
            [
             1,
             "#f0f921"
            ]
           ]
          },
          "colorway": [
           "#636efa",
           "#EF553B",
           "#00cc96",
           "#ab63fa",
           "#FFA15A",
           "#19d3f3",
           "#FF6692",
           "#B6E880",
           "#FF97FF",
           "#FECB52"
          ],
          "font": {
           "color": "#2a3f5f"
          },
          "geo": {
           "bgcolor": "white",
           "lakecolor": "white",
           "landcolor": "white",
           "showlakes": true,
           "showland": true,
           "subunitcolor": "#C8D4E3"
          },
          "hoverlabel": {
           "align": "left"
          },
          "hovermode": "closest",
          "mapbox": {
           "style": "light"
          },
          "paper_bgcolor": "white",
          "plot_bgcolor": "white",
          "polar": {
           "angularaxis": {
            "gridcolor": "#EBF0F8",
            "linecolor": "#EBF0F8",
            "ticks": ""
           },
           "bgcolor": "white",
           "radialaxis": {
            "gridcolor": "#EBF0F8",
            "linecolor": "#EBF0F8",
            "ticks": ""
           }
          },
          "scene": {
           "xaxis": {
            "backgroundcolor": "white",
            "gridcolor": "#DFE8F3",
            "gridwidth": 2,
            "linecolor": "#EBF0F8",
            "showbackground": true,
            "ticks": "",
            "zerolinecolor": "#EBF0F8"
           },
           "yaxis": {
            "backgroundcolor": "white",
            "gridcolor": "#DFE8F3",
            "gridwidth": 2,
            "linecolor": "#EBF0F8",
            "showbackground": true,
            "ticks": "",
            "zerolinecolor": "#EBF0F8"
           },
           "zaxis": {
            "backgroundcolor": "white",
            "gridcolor": "#DFE8F3",
            "gridwidth": 2,
            "linecolor": "#EBF0F8",
            "showbackground": true,
            "ticks": "",
            "zerolinecolor": "#EBF0F8"
           }
          },
          "shapedefaults": {
           "line": {
            "color": "#2a3f5f"
           }
          },
          "ternary": {
           "aaxis": {
            "gridcolor": "#DFE8F3",
            "linecolor": "#A2B1C6",
            "ticks": ""
           },
           "baxis": {
            "gridcolor": "#DFE8F3",
            "linecolor": "#A2B1C6",
            "ticks": ""
           },
           "bgcolor": "white",
           "caxis": {
            "gridcolor": "#DFE8F3",
            "linecolor": "#A2B1C6",
            "ticks": ""
           }
          },
          "title": {
           "x": 0.05
          },
          "xaxis": {
           "automargin": true,
           "gridcolor": "#EBF0F8",
           "linecolor": "#EBF0F8",
           "ticks": "",
           "title": {
            "standoff": 15
           },
           "zerolinecolor": "#EBF0F8",
           "zerolinewidth": 2
          },
          "yaxis": {
           "automargin": true,
           "gridcolor": "#EBF0F8",
           "linecolor": "#EBF0F8",
           "ticks": "",
           "title": {
            "standoff": 15
           },
           "zerolinecolor": "#EBF0F8",
           "zerolinewidth": 2
          }
         }
        },
        "title": {
         "text": "NVDA Stock Closing Prices and Volume"
        },
        "xaxis": {
         "anchor": "y",
         "domain": [
          0,
          0.94
         ],
         "linecolor": "black",
         "linewidth": 2,
         "mirror": true,
         "showline": true,
         "title": {
          "text": "Date"
         }
        },
        "yaxis": {
         "anchor": "x",
         "domain": [
          0,
          1
         ],
         "linecolor": "blue",
         "linewidth": 2,
         "mirror": true,
         "rangemode": "tozero",
         "showline": true,
         "title": {
          "text": "<b>NVDA Close Price</b>"
         }
        },
        "yaxis2": {
         "anchor": "x",
         "linecolor": "red",
         "linewidth": 2,
         "mirror": true,
         "overlaying": "y",
         "rangemode": "tozero",
         "showline": true,
         "side": "right",
         "title": {
          "text": "<b>NVDA Volume</b>"
         }
        }
       }
      }
     },
     "metadata": {},
     "output_type": "display_data"
    }
   ],
   "source": [
    "import plotly.graph_objects as go\n",
    "from plotly.subplots import make_subplots\n",
    "\n",
    "# Group the DataFrame by 'ticker'\n",
    "grouped = df.groupby('ticker')\n",
    "\n",
    "# Iterate over each group\n",
    "for ticker, data in grouped:\n",
    "    # Create a figure with secondary y-axis for each ticker\n",
    "    fig = make_subplots(specs=[[{\"secondary_y\": True}]])\n",
    "\n",
    "    # Add closing price trace\n",
    "    fig.add_trace(\n",
    "        go.Scatter(x=data['date'], y=data['close'].astype(float), name=f\"{ticker} Close Price\", line=dict(color='royalblue')),\n",
    "        secondary_y=False,\n",
    "    )\n",
    "\n",
    "    # Add volume trace\n",
    "    fig.add_trace(\n",
    "        go.Scatter(x=data['date'], y=data['volume'].astype(float), name=f\"{ticker} Volume\", line=dict(color='tomato', dash='dot')),\n",
    "        secondary_y=True,\n",
    "    )\n",
    "\n",
    "    # Add figure title and adjust layout for each ticker\n",
    "    fig.update_layout(\n",
    "        title_text=f\"{ticker} Stock Closing Prices and Volume\",\n",
    "        xaxis_title=\"Date\",\n",
    "        template=\"plotly_white\",\n",
    "    )\n",
    "\n",
    "    # Set x-axis properties\n",
    "    fig.update_xaxes(showline=True, linewidth=2, linecolor='black', mirror=True)\n",
    "\n",
    "    # Set y-axes titles and make them start from 0\n",
    "    fig.update_yaxes(title_text=f\"<b>{ticker} Close Price</b>\", secondary_y=False, showline=True, linewidth=2, linecolor='blue', mirror=True, rangemode='tozero')\n",
    "    fig.update_yaxes(title_text=f\"<b>{ticker} Volume</b>\", secondary_y=True, showline=True, linewidth=2, linecolor='red', mirror=True, rangemode='tozero')\n",
    "\n",
    "    # Show plot for each ticker\n",
    "    fig.show()\n"
   ]
  },
  {
   "cell_type": "code",
   "execution_count": 3,
   "id": "3c3bd32d-202f-4772-8411-cd5d95ac46d9",
   "metadata": {},
   "outputs": [
    {
     "data": {
      "application/vnd.plotly.v1+json": {
       "config": {
        "plotlyServerURL": "https://plot.ly"
       },
       "data": [
        {
         "line": {
          "color": "royalblue"
         },
         "name": "AAPL Close Price",
         "type": "scatter",
         "x": [
          "2025-03-07T00:00:00.000000000",
          "2025-03-06T00:00:00.000000000",
          "2025-03-05T00:00:00.000000000",
          "2025-03-04T00:00:00.000000000",
          "2025-03-03T00:00:00.000000000",
          "2025-02-28T00:00:00.000000000",
          "2025-02-27T00:00:00.000000000",
          "2025-02-26T00:00:00.000000000",
          "2025-02-25T00:00:00.000000000",
          "2025-02-24T00:00:00.000000000",
          "2025-02-21T00:00:00.000000000",
          "2025-02-20T00:00:00.000000000",
          "2025-02-19T00:00:00.000000000",
          "2025-02-18T00:00:00.000000000",
          "2025-02-14T00:00:00.000000000",
          "2025-02-13T00:00:00.000000000",
          "2025-02-12T00:00:00.000000000",
          "2025-02-11T00:00:00.000000000",
          "2025-02-10T00:00:00.000000000",
          "2025-02-07T00:00:00.000000000",
          "2025-02-06T00:00:00.000000000",
          "2025-02-05T00:00:00.000000000",
          "2025-02-04T00:00:00.000000000",
          "2025-02-03T00:00:00.000000000",
          "2025-01-31T00:00:00.000000000",
          "2025-01-30T00:00:00.000000000",
          "2025-01-29T00:00:00.000000000",
          "2025-01-28T00:00:00.000000000",
          "2025-01-27T00:00:00.000000000",
          "2025-01-24T00:00:00.000000000",
          "2025-01-23T00:00:00.000000000",
          "2025-01-22T00:00:00.000000000",
          "2025-01-21T00:00:00.000000000",
          "2025-01-17T00:00:00.000000000",
          "2025-01-16T00:00:00.000000000",
          "2025-01-15T00:00:00.000000000",
          "2025-01-14T00:00:00.000000000",
          "2025-01-13T00:00:00.000000000",
          "2025-01-10T00:00:00.000000000",
          "2025-01-08T00:00:00.000000000",
          "2025-01-07T00:00:00.000000000",
          "2025-01-06T00:00:00.000000000",
          "2025-01-03T00:00:00.000000000",
          "2025-01-02T00:00:00.000000000",
          "2024-12-31T00:00:00.000000000",
          "2024-12-30T00:00:00.000000000",
          "2024-12-27T00:00:00.000000000",
          "2024-12-26T00:00:00.000000000",
          "2024-12-24T00:00:00.000000000",
          "2024-12-23T00:00:00.000000000",
          "2024-12-20T00:00:00.000000000",
          "2024-12-19T00:00:00.000000000",
          "2024-12-18T00:00:00.000000000",
          "2024-12-17T00:00:00.000000000",
          "2024-12-16T00:00:00.000000000",
          "2024-12-13T00:00:00.000000000",
          "2024-12-12T00:00:00.000000000",
          "2024-12-11T00:00:00.000000000",
          "2024-12-10T00:00:00.000000000",
          "2024-12-09T00:00:00.000000000",
          "2024-12-06T00:00:00.000000000",
          "2024-12-05T00:00:00.000000000",
          "2024-12-04T00:00:00.000000000",
          "2024-12-03T00:00:00.000000000",
          "2024-12-02T00:00:00.000000000",
          "2024-11-29T00:00:00.000000000",
          "2024-11-27T00:00:00.000000000",
          "2024-11-26T00:00:00.000000000",
          "2024-11-25T00:00:00.000000000",
          "2024-11-22T00:00:00.000000000",
          "2024-11-21T00:00:00.000000000",
          "2024-11-20T00:00:00.000000000",
          "2024-11-19T00:00:00.000000000",
          "2024-11-18T00:00:00.000000000",
          "2024-11-15T00:00:00.000000000",
          "2024-11-14T00:00:00.000000000",
          "2024-11-13T00:00:00.000000000",
          "2024-11-12T00:00:00.000000000",
          "2024-11-11T00:00:00.000000000",
          "2024-11-08T00:00:00.000000000",
          "2024-11-07T00:00:00.000000000",
          "2024-11-06T00:00:00.000000000",
          "2024-11-05T00:00:00.000000000",
          "2024-11-04T00:00:00.000000000",
          "2024-11-01T00:00:00.000000000",
          "2024-10-31T00:00:00.000000000",
          "2024-10-30T00:00:00.000000000",
          "2024-10-29T00:00:00.000000000",
          "2024-10-28T00:00:00.000000000",
          "2024-10-25T00:00:00.000000000",
          "2024-10-24T00:00:00.000000000",
          "2024-10-23T00:00:00.000000000",
          "2024-10-22T00:00:00.000000000",
          "2024-10-21T00:00:00.000000000",
          "2024-10-18T00:00:00.000000000",
          "2024-10-17T00:00:00.000000000",
          "2024-10-16T00:00:00.000000000",
          "2024-10-15T00:00:00.000000000",
          "2024-10-14T00:00:00.000000000",
          "2024-10-11T00:00:00.000000000"
         ],
         "xaxis": "x",
         "y": {
          "_inputArray": {
           "0": 239.07,
           "1": 235.33,
           "10": 245.55,
           "11": 245.83,
           "12": 244.87,
           "13": 244.47,
           "14": 244.6,
           "15": 241.53,
           "16": 236.87,
           "17": 232.62,
           "18": 227.65,
           "19": 227.63,
           "2": 235.74,
           "20": 233.22,
           "21": 232.47,
           "22": 232.8,
           "23": 228.01,
           "24": 236,
           "25": 237.59,
           "26": 239.36,
           "27": 238.26,
           "28": 229.86,
           "29": 222.78,
           "3": 235.93,
           "30": 223.66,
           "31": 223.83,
           "32": 222.64,
           "33": 229.98,
           "34": 228.26,
           "35": 237.87,
           "36": 233.28,
           "37": 234.4,
           "38": 236.85,
           "39": 242.7,
           "4": 238.03,
           "40": 242.21,
           "41": 245,
           "42": 243.36,
           "43": 243.85,
           "44": 250.42,
           "45": 252.2,
           "46": 255.59,
           "47": 259.02,
           "48": 258.2,
           "49": 255.27,
           "5": 241.84,
           "50": 254.49,
           "51": 249.79,
           "52": 248.05,
           "53": 253.48,
           "54": 251.04,
           "55": 248.13,
           "56": 247.96,
           "57": 246.49,
           "58": 247.77,
           "59": 246.75,
           "6": 237.3,
           "60": 242.84,
           "61": 243.04,
           "62": 243.01,
           "63": 242.65,
           "64": 239.59,
           "65": 237.33,
           "66": 234.93,
           "67": 235.06,
           "68": 232.87,
           "69": 229.87,
           "7": 240.36,
           "70": 228.52,
           "71": 229,
           "72": 228.28,
           "73": 228.02,
           "74": 225,
           "75": 228.22,
           "76": 225.12,
           "77": 224.23,
           "78": 224.23,
           "79": 226.96,
           "8": 247.04,
           "80": 227.48,
           "81": 222.72,
           "82": 223.45,
           "83": 222.01,
           "84": 222.91,
           "85": 225.91,
           "86": 230.1,
           "87": 233.67,
           "88": 233.4,
           "89": 231.41,
           "9": 247.1,
           "90": 230.57,
           "91": 230.76,
           "92": 235.86,
           "93": 236.48,
           "94": 235,
           "95": 232.15,
           "96": 231.78,
           "97": 233.85,
           "98": 231.3,
           "99": 227.55,
           "bdata": "CtejcD3ibUDD9Shcj2ptQEjhehSud21A9ihcj8J9bUApXI/C9cBtQHsUrkfhOm5AmpmZmZmpbUDsUbgehQtuQOF6FK5H4W5AMzMzMzPjbkCamZmZmbFuQMP1KFyPum5ApHA9CtebbkDXo3A9Co9uQDMzMzMzk25AKVyPwvUwbkCkcD0K15ttQKRwPQrXE21AzczMzMx0bEBcj8L1KHRsQNejcD0KJ21A16NwPQoPbUCamZmZmRltQLgehetRgGxAAAAAAACAbUB7FK5H4bJtQOxRuB6F621AuB6F61HIbUDsUbgehbtsQClcj8L12GtAhetRuB71a0DD9Shcj/prQBSuR+F61GtAj8L1KFy/bEC4HoXrUYhsQKRwPQrXu21AKVyPwvUobUDNzMzMzExtQDMzMzMzm21AZmZmZmZWbkAfhetRuEZuQAAAAAAAoG5A7FG4HoVrbkAzMzMzM3tuQD0K16NwTW9AZmZmZmaGb0B7FK5H4fJvQLgehetRMHBAMzMzMzMjcEBxPQrXo+hvQEjhehSuz29A4XoUrkc5b0CamZmZmQFvQI/C9Shcr29A4XoUrkdhb0Bcj8L1KARvQB+F61G4/m5ASOF6FK7PbkBxPQrXo/huQAAAAAAA2G5AexSuR+FabkDhehSuR2FuQLgehetRYG5AzczMzMxUbkB7FK5H4fJtQMP1KFyPqm1A9ihcj8JdbUBSuB6F62FtQKRwPQrXG21ApHA9Cte7bEBxPQrXo5BsQAAAAAAAoGxAKVyPwvWIbEBxPQrXo4BsQAAAAAAAIGxA16NwPQqHbECkcD0K1yNsQI/C9ShcB2xAj8L1KFwHbEAfhetRuF5sQI/C9Shcb2xA16NwPQrXa0BmZmZmZu5rQLgehetRwGtAhetRuB7da0CF61G4Hj1sQDMzMzMzw2xAPQrXo3A1bUDNzMzMzCxtQIXrUbge7WxACtejcD3SbEC4HoXrUdhsQOxRuB6Fe21Aj8L1KFyPbUAAAAAAAGBtQM3MzMzMBG1AKVyPwvX4bEAzMzMzMzttQJqZmZmZ6WxAmpmZmZlxbEA=",
           "dtype": "f8",
           "shape": "100"
          },
          "bdata": "CtejcD3ibUDD9Shcj2ptQEjhehSud21A9ihcj8J9bUApXI/C9cBtQHsUrkfhOm5AmpmZmZmpbUDsUbgehQtuQOF6FK5H4W5AMzMzMzPjbkCamZmZmbFuQMP1KFyPum5ApHA9CtebbkDXo3A9Co9uQDMzMzMzk25AKVyPwvUwbkCkcD0K15ttQKRwPQrXE21AzczMzMx0bEBcj8L1KHRsQNejcD0KJ21A16NwPQoPbUCamZmZmRltQLgehetRgGxAAAAAAACAbUB7FK5H4bJtQOxRuB6F621AuB6F61HIbUDsUbgehbtsQClcj8L12GtAhetRuB71a0DD9Shcj/prQBSuR+F61GtAj8L1KFy/bEC4HoXrUYhsQKRwPQrXu21AKVyPwvUobUDNzMzMzExtQDMzMzMzm21AZmZmZmZWbkAfhetRuEZuQAAAAAAAoG5A7FG4HoVrbkAzMzMzM3tuQD0K16NwTW9AZmZmZmaGb0B7FK5H4fJvQLgehetRMHBAMzMzMzMjcEBxPQrXo+hvQEjhehSuz29A4XoUrkc5b0CamZmZmQFvQI/C9Shcr29A4XoUrkdhb0Bcj8L1KARvQB+F61G4/m5ASOF6FK7PbkBxPQrXo/huQAAAAAAA2G5AexSuR+FabkDhehSuR2FuQLgehetRYG5AzczMzMxUbkB7FK5H4fJtQMP1KFyPqm1A9ihcj8JdbUBSuB6F62FtQKRwPQrXG21ApHA9Cte7bEBxPQrXo5BsQAAAAAAAoGxAKVyPwvWIbEBxPQrXo4BsQAAAAAAAIGxA16NwPQqHbECkcD0K1yNsQI/C9ShcB2xAj8L1KFwHbEAfhetRuF5sQI/C9Shcb2xA16NwPQrXa0BmZmZmZu5rQLgehetRwGtAhetRuB7da0CF61G4Hj1sQDMzMzMzw2xAPQrXo3A1bUDNzMzMzCxtQIXrUbge7WxACtejcD3SbEC4HoXrUdhsQOxRuB6Fe21Aj8L1KFyPbUAAAAAAAGBtQM3MzMzMBG1AKVyPwvX4bEAzMzMzMzttQJqZmZmZ6WxAmpmZmZlxbEA=",
          "dtype": "f8"
         },
         "yaxis": "y"
        },
        {
         "line": {
          "color": "tomato",
          "dash": "dot"
         },
         "name": "AAPL Volume",
         "type": "scatter",
         "x": [
          "2025-03-07T00:00:00.000000000",
          "2025-03-06T00:00:00.000000000",
          "2025-03-05T00:00:00.000000000",
          "2025-03-04T00:00:00.000000000",
          "2025-03-03T00:00:00.000000000",
          "2025-02-28T00:00:00.000000000",
          "2025-02-27T00:00:00.000000000",
          "2025-02-26T00:00:00.000000000",
          "2025-02-25T00:00:00.000000000",
          "2025-02-24T00:00:00.000000000",
          "2025-02-21T00:00:00.000000000",
          "2025-02-20T00:00:00.000000000",
          "2025-02-19T00:00:00.000000000",
          "2025-02-18T00:00:00.000000000",
          "2025-02-14T00:00:00.000000000",
          "2025-02-13T00:00:00.000000000",
          "2025-02-12T00:00:00.000000000",
          "2025-02-11T00:00:00.000000000",
          "2025-02-10T00:00:00.000000000",
          "2025-02-07T00:00:00.000000000",
          "2025-02-06T00:00:00.000000000",
          "2025-02-05T00:00:00.000000000",
          "2025-02-04T00:00:00.000000000",
          "2025-02-03T00:00:00.000000000",
          "2025-01-31T00:00:00.000000000",
          "2025-01-30T00:00:00.000000000",
          "2025-01-29T00:00:00.000000000",
          "2025-01-28T00:00:00.000000000",
          "2025-01-27T00:00:00.000000000",
          "2025-01-24T00:00:00.000000000",
          "2025-01-23T00:00:00.000000000",
          "2025-01-22T00:00:00.000000000",
          "2025-01-21T00:00:00.000000000",
          "2025-01-17T00:00:00.000000000",
          "2025-01-16T00:00:00.000000000",
          "2025-01-15T00:00:00.000000000",
          "2025-01-14T00:00:00.000000000",
          "2025-01-13T00:00:00.000000000",
          "2025-01-10T00:00:00.000000000",
          "2025-01-08T00:00:00.000000000",
          "2025-01-07T00:00:00.000000000",
          "2025-01-06T00:00:00.000000000",
          "2025-01-03T00:00:00.000000000",
          "2025-01-02T00:00:00.000000000",
          "2024-12-31T00:00:00.000000000",
          "2024-12-30T00:00:00.000000000",
          "2024-12-27T00:00:00.000000000",
          "2024-12-26T00:00:00.000000000",
          "2024-12-24T00:00:00.000000000",
          "2024-12-23T00:00:00.000000000",
          "2024-12-20T00:00:00.000000000",
          "2024-12-19T00:00:00.000000000",
          "2024-12-18T00:00:00.000000000",
          "2024-12-17T00:00:00.000000000",
          "2024-12-16T00:00:00.000000000",
          "2024-12-13T00:00:00.000000000",
          "2024-12-12T00:00:00.000000000",
          "2024-12-11T00:00:00.000000000",
          "2024-12-10T00:00:00.000000000",
          "2024-12-09T00:00:00.000000000",
          "2024-12-06T00:00:00.000000000",
          "2024-12-05T00:00:00.000000000",
          "2024-12-04T00:00:00.000000000",
          "2024-12-03T00:00:00.000000000",
          "2024-12-02T00:00:00.000000000",
          "2024-11-29T00:00:00.000000000",
          "2024-11-27T00:00:00.000000000",
          "2024-11-26T00:00:00.000000000",
          "2024-11-25T00:00:00.000000000",
          "2024-11-22T00:00:00.000000000",
          "2024-11-21T00:00:00.000000000",
          "2024-11-20T00:00:00.000000000",
          "2024-11-19T00:00:00.000000000",
          "2024-11-18T00:00:00.000000000",
          "2024-11-15T00:00:00.000000000",
          "2024-11-14T00:00:00.000000000",
          "2024-11-13T00:00:00.000000000",
          "2024-11-12T00:00:00.000000000",
          "2024-11-11T00:00:00.000000000",
          "2024-11-08T00:00:00.000000000",
          "2024-11-07T00:00:00.000000000",
          "2024-11-06T00:00:00.000000000",
          "2024-11-05T00:00:00.000000000",
          "2024-11-04T00:00:00.000000000",
          "2024-11-01T00:00:00.000000000",
          "2024-10-31T00:00:00.000000000",
          "2024-10-30T00:00:00.000000000",
          "2024-10-29T00:00:00.000000000",
          "2024-10-28T00:00:00.000000000",
          "2024-10-25T00:00:00.000000000",
          "2024-10-24T00:00:00.000000000",
          "2024-10-23T00:00:00.000000000",
          "2024-10-22T00:00:00.000000000",
          "2024-10-21T00:00:00.000000000",
          "2024-10-18T00:00:00.000000000",
          "2024-10-17T00:00:00.000000000",
          "2024-10-16T00:00:00.000000000",
          "2024-10-15T00:00:00.000000000",
          "2024-10-14T00:00:00.000000000",
          "2024-10-11T00:00:00.000000000"
         ],
         "xaxis": "x",
         "y": {
          "_inputArray": {
           "0": 46207306,
           "1": 45170419,
           "10": 53197431,
           "11": 32316907,
           "12": 32204215,
           "13": 48822491,
           "14": 40896227,
           "15": 53614054,
           "16": 45243292,
           "17": 53718362,
           "18": 33115645,
           "19": 39707224,
           "2": 47227643,
           "20": 29925349,
           "21": 39664989,
           "22": 45067301,
           "23": 73063301,
           "24": 101075128,
           "25": 55658279,
           "26": 45486100,
           "27": 75707569,
           "28": 94863418,
           "29": 54697907,
           "3": 53798062,
           "30": 60234760,
           "31": 64126500,
           "32": 98070429,
           "33": 68488301,
           "34": 71759052,
           "35": 39831969,
           "36": 39435294,
           "37": 49630725,
           "38": 61710856,
           "39": 37628940,
           "4": 47183985,
           "40": 40855960,
           "41": 45045571,
           "42": 40244114,
           "43": 55740731,
           "44": 39480718,
           "45": 35557542,
           "46": 42355321,
           "47": 27262983,
           "48": 23234705,
           "49": 40858774,
           "5": 56833360,
           "50": 147495267,
           "51": 60882264,
           "52": 56774101,
           "53": 51356360,
           "54": 51694753,
           "55": 33155290,
           "56": 32777532,
           "57": 45205814,
           "58": 36914806,
           "59": 44649232,
           "6": 41153639,
           "60": 36870619,
           "61": 40033878,
           "62": 44383935,
           "63": 38861017,
           "64": 48137103,
           "65": 28481377,
           "66": 33498439,
           "67": 45986189,
           "68": 90152832,
           "69": 38168252,
           "7": 44433564,
           "70": 42108327,
           "71": 35169566,
           "72": 36211774,
           "73": 44686020,
           "74": 47923696,
           "75": 44923941,
           "76": 48566217,
           "77": 40398299,
           "78": 42005602,
           "79": 38328824,
           "8": 48013272,
           "80": 42137691,
           "81": 54561121,
           "82": 28111338,
           "83": 44944468,
           "84": 65276741,
           "85": 64370086,
           "86": 47070907,
           "87": 35417247,
           "88": 36087134,
           "89": 38802304,
           "9": 51326396,
           "90": 31109503,
           "91": 52286979,
           "92": 38846578,
           "93": 36254470,
           "94": 46431472,
           "95": 32993810,
           "96": 34082240,
           "97": 64751367,
           "98": 39882085,
           "99": 31759188,
           "bdata": "AAAAUIoIhkEAAACY94mFQQAAANgXhYZBAAAAcCWniUEAAACIw3+GQQAAAICqGYtBAAAAOKOfg0EAAADgBDCFQQAAAMD+5IZBAAAA4G15iEEAAAC4012JQQAAALDe0X5BAAAAcFu2fkEAAADYxkeHQQAAABg3gINBAAAAMK+QiUEAAADg3JKFQQAAANBqnYlBAAAA0N+Uf0EAAADAEu+CQQAAAFD+iXxBAAAA6OrpgkEAAAAoYX2FQQAAABRua5FBAAAA4CIZmEEAAAA4OYqKQQAAAKCAsIVBAAAAxNIMkkEAAADoAJ6WQQAAAJj9FIpBAAAAQOC4jEEAAAAg8ZOOQQAAAHS+YZdBAAAAtDFUkEEAAAAw0xuRQQAAAAhN/oJBAAAA8ODNgkEAAAAocKqHQQAAAEAQbY1BAAAAYGDxgUEAAADATHuDQQAAABi6eoVBAAAAkJwwg0EAAADYSZSKQQAAAHBs04JBAAAAMIX0gEEAAADIUzKEQQAAAHAAAHpBAAAAEIkodkEAAACwpHuDQQAAAMYylaFBAAAAwOoHjUEAAACobhKLQQAAAEAWfYhBAAAACGWmiEEAAACgjZ5/QQAAAMBTQn9BAAAAsEmOhUEAAACwM5qBQQAAAIBYSoVBAAAA2M6UgUEAAACw8haDQQAAAPj1KYVBAAAAyMaHgkEAAAB4HPSGQQAAABB2KXtBAAAAcFTyf0EAAABojO2FQQAAAAB+fpVBAAAA4DUzgkEAAAA4LRSEQQAAAPAoxYBBAAAA8GFEgUEAAAAg1k6FQQAAAIAP2oZBAAAAKOFrhUEAAABIfiiHQQAAANhuQ4NBAAAAEKMHhEEAAADAz0aCQQAAANjCF4RBAAAACEsEikEAAACgHs96QQAAAKBiboVBAAAAKFogj0EAAAAwrbGOQQAAANj1cYZBAAAA+GTjgEEAAADwKjWBQQAAAACcgIJBAAAA8BerfUEAAAAYsO6IQQAAAJADhoJBAAAAMJhJgUEAAACA5yOGQQAAACAhd39BAAAAAG5AgEEAAAA4OOCOQQAAAChrBINBAAAAQLVJfkE=",
           "dtype": "f8",
           "shape": "100"
          },
          "bdata": "AAAAUIoIhkEAAACY94mFQQAAANgXhYZBAAAAcCWniUEAAACIw3+GQQAAAICqGYtBAAAAOKOfg0EAAADgBDCFQQAAAMD+5IZBAAAA4G15iEEAAAC4012JQQAAALDe0X5BAAAAcFu2fkEAAADYxkeHQQAAABg3gINBAAAAMK+QiUEAAADg3JKFQQAAANBqnYlBAAAA0N+Uf0EAAADAEu+CQQAAAFD+iXxBAAAA6OrpgkEAAAAoYX2FQQAAABRua5FBAAAA4CIZmEEAAAA4OYqKQQAAAKCAsIVBAAAAxNIMkkEAAADoAJ6WQQAAAJj9FIpBAAAAQOC4jEEAAAAg8ZOOQQAAAHS+YZdBAAAAtDFUkEEAAAAw0xuRQQAAAAhN/oJBAAAA8ODNgkEAAAAocKqHQQAAAEAQbY1BAAAAYGDxgUEAAADATHuDQQAAABi6eoVBAAAAkJwwg0EAAADYSZSKQQAAAHBs04JBAAAAMIX0gEEAAADIUzKEQQAAAHAAAHpBAAAAEIkodkEAAACwpHuDQQAAAMYylaFBAAAAwOoHjUEAAACobhKLQQAAAEAWfYhBAAAACGWmiEEAAACgjZ5/QQAAAMBTQn9BAAAAsEmOhUEAAACwM5qBQQAAAIBYSoVBAAAA2M6UgUEAAACw8haDQQAAAPj1KYVBAAAAyMaHgkEAAAB4HPSGQQAAABB2KXtBAAAAcFTyf0EAAABojO2FQQAAAAB+fpVBAAAA4DUzgkEAAAA4LRSEQQAAAPAoxYBBAAAA8GFEgUEAAAAg1k6FQQAAAIAP2oZBAAAAKOFrhUEAAABIfiiHQQAAANhuQ4NBAAAAEKMHhEEAAADAz0aCQQAAANjCF4RBAAAACEsEikEAAACgHs96QQAAAKBiboVBAAAAKFogj0EAAAAwrbGOQQAAANj1cYZBAAAA+GTjgEEAAADwKjWBQQAAAACcgIJBAAAA8BerfUEAAAAYsO6IQQAAAJADhoJBAAAAMJhJgUEAAACA5yOGQQAAACAhd39BAAAAAG5AgEEAAAA4OOCOQQAAAChrBINBAAAAQLVJfkE=",
          "dtype": "f8"
         },
         "yaxis": "y2"
        }
       ],
       "layout": {
        "height": 360,
        "template": {
         "data": {
          "bar": [
           {
            "error_x": {
             "color": "#2a3f5f"
            },
            "error_y": {
             "color": "#2a3f5f"
            },
            "marker": {
             "line": {
              "color": "white",
              "width": 0.5
             },
             "pattern": {
              "fillmode": "overlay",
              "size": 10,
              "solidity": 0.2
             }
            },
            "type": "bar"
           }
          ],
          "barpolar": [
           {
            "marker": {
             "line": {
              "color": "white",
              "width": 0.5
             },
             "pattern": {
              "fillmode": "overlay",
              "size": 10,
              "solidity": 0.2
             }
            },
            "type": "barpolar"
           }
          ],
          "carpet": [
           {
            "aaxis": {
             "endlinecolor": "#2a3f5f",
             "gridcolor": "#C8D4E3",
             "linecolor": "#C8D4E3",
             "minorgridcolor": "#C8D4E3",
             "startlinecolor": "#2a3f5f"
            },
            "baxis": {
             "endlinecolor": "#2a3f5f",
             "gridcolor": "#C8D4E3",
             "linecolor": "#C8D4E3",
             "minorgridcolor": "#C8D4E3",
             "startlinecolor": "#2a3f5f"
            },
            "type": "carpet"
           }
          ],
          "choropleth": [
           {
            "colorbar": {
             "outlinewidth": 0,
             "ticks": ""
            },
            "type": "choropleth"
           }
          ],
          "contour": [
           {
            "colorbar": {
             "outlinewidth": 0,
             "ticks": ""
            },
            "colorscale": [
             [
              0,
              "#0d0887"
             ],
             [
              0.1111111111111111,
              "#46039f"
             ],
             [
              0.2222222222222222,
              "#7201a8"
             ],
             [
              0.3333333333333333,
              "#9c179e"
             ],
             [
              0.4444444444444444,
              "#bd3786"
             ],
             [
              0.5555555555555556,
              "#d8576b"
             ],
             [
              0.6666666666666666,
              "#ed7953"
             ],
             [
              0.7777777777777778,
              "#fb9f3a"
             ],
             [
              0.8888888888888888,
              "#fdca26"
             ],
             [
              1,
              "#f0f921"
             ]
            ],
            "type": "contour"
           }
          ],
          "contourcarpet": [
           {
            "colorbar": {
             "outlinewidth": 0,
             "ticks": ""
            },
            "type": "contourcarpet"
           }
          ],
          "heatmap": [
           {
            "colorbar": {
             "outlinewidth": 0,
             "ticks": ""
            },
            "colorscale": [
             [
              0,
              "#0d0887"
             ],
             [
              0.1111111111111111,
              "#46039f"
             ],
             [
              0.2222222222222222,
              "#7201a8"
             ],
             [
              0.3333333333333333,
              "#9c179e"
             ],
             [
              0.4444444444444444,
              "#bd3786"
             ],
             [
              0.5555555555555556,
              "#d8576b"
             ],
             [
              0.6666666666666666,
              "#ed7953"
             ],
             [
              0.7777777777777778,
              "#fb9f3a"
             ],
             [
              0.8888888888888888,
              "#fdca26"
             ],
             [
              1,
              "#f0f921"
             ]
            ],
            "type": "heatmap"
           }
          ],
          "histogram": [
           {
            "marker": {
             "pattern": {
              "fillmode": "overlay",
              "size": 10,
              "solidity": 0.2
             }
            },
            "type": "histogram"
           }
          ],
          "histogram2d": [
           {
            "colorbar": {
             "outlinewidth": 0,
             "ticks": ""
            },
            "colorscale": [
             [
              0,
              "#0d0887"
             ],
             [
              0.1111111111111111,
              "#46039f"
             ],
             [
              0.2222222222222222,
              "#7201a8"
             ],
             [
              0.3333333333333333,
              "#9c179e"
             ],
             [
              0.4444444444444444,
              "#bd3786"
             ],
             [
              0.5555555555555556,
              "#d8576b"
             ],
             [
              0.6666666666666666,
              "#ed7953"
             ],
             [
              0.7777777777777778,
              "#fb9f3a"
             ],
             [
              0.8888888888888888,
              "#fdca26"
             ],
             [
              1,
              "#f0f921"
             ]
            ],
            "type": "histogram2d"
           }
          ],
          "histogram2dcontour": [
           {
            "colorbar": {
             "outlinewidth": 0,
             "ticks": ""
            },
            "colorscale": [
             [
              0,
              "#0d0887"
             ],
             [
              0.1111111111111111,
              "#46039f"
             ],
             [
              0.2222222222222222,
              "#7201a8"
             ],
             [
              0.3333333333333333,
              "#9c179e"
             ],
             [
              0.4444444444444444,
              "#bd3786"
             ],
             [
              0.5555555555555556,
              "#d8576b"
             ],
             [
              0.6666666666666666,
              "#ed7953"
             ],
             [
              0.7777777777777778,
              "#fb9f3a"
             ],
             [
              0.8888888888888888,
              "#fdca26"
             ],
             [
              1,
              "#f0f921"
             ]
            ],
            "type": "histogram2dcontour"
           }
          ],
          "mesh3d": [
           {
            "colorbar": {
             "outlinewidth": 0,
             "ticks": ""
            },
            "type": "mesh3d"
           }
          ],
          "parcoords": [
           {
            "line": {
             "colorbar": {
              "outlinewidth": 0,
              "ticks": ""
             }
            },
            "type": "parcoords"
           }
          ],
          "pie": [
           {
            "automargin": true,
            "type": "pie"
           }
          ],
          "scatter": [
           {
            "fillpattern": {
             "fillmode": "overlay",
             "size": 10,
             "solidity": 0.2
            },
            "type": "scatter"
           }
          ],
          "scatter3d": [
           {
            "line": {
             "colorbar": {
              "outlinewidth": 0,
              "ticks": ""
             }
            },
            "marker": {
             "colorbar": {
              "outlinewidth": 0,
              "ticks": ""
             }
            },
            "type": "scatter3d"
           }
          ],
          "scattercarpet": [
           {
            "marker": {
             "colorbar": {
              "outlinewidth": 0,
              "ticks": ""
             }
            },
            "type": "scattercarpet"
           }
          ],
          "scattergeo": [
           {
            "marker": {
             "colorbar": {
              "outlinewidth": 0,
              "ticks": ""
             }
            },
            "type": "scattergeo"
           }
          ],
          "scattergl": [
           {
            "marker": {
             "colorbar": {
              "outlinewidth": 0,
              "ticks": ""
             }
            },
            "type": "scattergl"
           }
          ],
          "scattermap": [
           {
            "marker": {
             "colorbar": {
              "outlinewidth": 0,
              "ticks": ""
             }
            },
            "type": "scattermap"
           }
          ],
          "scattermapbox": [
           {
            "marker": {
             "colorbar": {
              "outlinewidth": 0,
              "ticks": ""
             }
            },
            "type": "scattermapbox"
           }
          ],
          "scatterpolar": [
           {
            "marker": {
             "colorbar": {
              "outlinewidth": 0,
              "ticks": ""
             }
            },
            "type": "scatterpolar"
           }
          ],
          "scatterpolargl": [
           {
            "marker": {
             "colorbar": {
              "outlinewidth": 0,
              "ticks": ""
             }
            },
            "type": "scatterpolargl"
           }
          ],
          "scatterternary": [
           {
            "marker": {
             "colorbar": {
              "outlinewidth": 0,
              "ticks": ""
             }
            },
            "type": "scatterternary"
           }
          ],
          "surface": [
           {
            "colorbar": {
             "outlinewidth": 0,
             "ticks": ""
            },
            "colorscale": [
             [
              0,
              "#0d0887"
             ],
             [
              0.1111111111111111,
              "#46039f"
             ],
             [
              0.2222222222222222,
              "#7201a8"
             ],
             [
              0.3333333333333333,
              "#9c179e"
             ],
             [
              0.4444444444444444,
              "#bd3786"
             ],
             [
              0.5555555555555556,
              "#d8576b"
             ],
             [
              0.6666666666666666,
              "#ed7953"
             ],
             [
              0.7777777777777778,
              "#fb9f3a"
             ],
             [
              0.8888888888888888,
              "#fdca26"
             ],
             [
              1,
              "#f0f921"
             ]
            ],
            "type": "surface"
           }
          ],
          "table": [
           {
            "cells": {
             "fill": {
              "color": "#EBF0F8"
             },
             "line": {
              "color": "white"
             }
            },
            "header": {
             "fill": {
              "color": "#C8D4E3"
             },
             "line": {
              "color": "white"
             }
            },
            "type": "table"
           }
          ]
         },
         "layout": {
          "annotationdefaults": {
           "arrowcolor": "#2a3f5f",
           "arrowhead": 0,
           "arrowwidth": 1
          },
          "autotypenumbers": "strict",
          "coloraxis": {
           "colorbar": {
            "outlinewidth": 0,
            "ticks": ""
           }
          },
          "colorscale": {
           "diverging": [
            [
             0,
             "#8e0152"
            ],
            [
             0.1,
             "#c51b7d"
            ],
            [
             0.2,
             "#de77ae"
            ],
            [
             0.3,
             "#f1b6da"
            ],
            [
             0.4,
             "#fde0ef"
            ],
            [
             0.5,
             "#f7f7f7"
            ],
            [
             0.6,
             "#e6f5d0"
            ],
            [
             0.7,
             "#b8e186"
            ],
            [
             0.8,
             "#7fbc41"
            ],
            [
             0.9,
             "#4d9221"
            ],
            [
             1,
             "#276419"
            ]
           ],
           "sequential": [
            [
             0,
             "#0d0887"
            ],
            [
             0.1111111111111111,
             "#46039f"
            ],
            [
             0.2222222222222222,
             "#7201a8"
            ],
            [
             0.3333333333333333,
             "#9c179e"
            ],
            [
             0.4444444444444444,
             "#bd3786"
            ],
            [
             0.5555555555555556,
             "#d8576b"
            ],
            [
             0.6666666666666666,
             "#ed7953"
            ],
            [
             0.7777777777777778,
             "#fb9f3a"
            ],
            [
             0.8888888888888888,
             "#fdca26"
            ],
            [
             1,
             "#f0f921"
            ]
           ],
           "sequentialminus": [
            [
             0,
             "#0d0887"
            ],
            [
             0.1111111111111111,
             "#46039f"
            ],
            [
             0.2222222222222222,
             "#7201a8"
            ],
            [
             0.3333333333333333,
             "#9c179e"
            ],
            [
             0.4444444444444444,
             "#bd3786"
            ],
            [
             0.5555555555555556,
             "#d8576b"
            ],
            [
             0.6666666666666666,
             "#ed7953"
            ],
            [
             0.7777777777777778,
             "#fb9f3a"
            ],
            [
             0.8888888888888888,
             "#fdca26"
            ],
            [
             1,
             "#f0f921"
            ]
           ]
          },
          "colorway": [
           "#636efa",
           "#EF553B",
           "#00cc96",
           "#ab63fa",
           "#FFA15A",
           "#19d3f3",
           "#FF6692",
           "#B6E880",
           "#FF97FF",
           "#FECB52"
          ],
          "font": {
           "color": "#2a3f5f"
          },
          "geo": {
           "bgcolor": "white",
           "lakecolor": "white",
           "landcolor": "white",
           "showlakes": true,
           "showland": true,
           "subunitcolor": "#C8D4E3"
          },
          "hoverlabel": {
           "align": "left"
          },
          "hovermode": "closest",
          "mapbox": {
           "style": "light"
          },
          "paper_bgcolor": "white",
          "plot_bgcolor": "white",
          "polar": {
           "angularaxis": {
            "gridcolor": "#EBF0F8",
            "linecolor": "#EBF0F8",
            "ticks": ""
           },
           "bgcolor": "white",
           "radialaxis": {
            "gridcolor": "#EBF0F8",
            "linecolor": "#EBF0F8",
            "ticks": ""
           }
          },
          "scene": {
           "xaxis": {
            "backgroundcolor": "white",
            "gridcolor": "#DFE8F3",
            "gridwidth": 2,
            "linecolor": "#EBF0F8",
            "showbackground": true,
            "ticks": "",
            "zerolinecolor": "#EBF0F8"
           },
           "yaxis": {
            "backgroundcolor": "white",
            "gridcolor": "#DFE8F3",
            "gridwidth": 2,
            "linecolor": "#EBF0F8",
            "showbackground": true,
            "ticks": "",
            "zerolinecolor": "#EBF0F8"
           },
           "zaxis": {
            "backgroundcolor": "white",
            "gridcolor": "#DFE8F3",
            "gridwidth": 2,
            "linecolor": "#EBF0F8",
            "showbackground": true,
            "ticks": "",
            "zerolinecolor": "#EBF0F8"
           }
          },
          "shapedefaults": {
           "line": {
            "color": "#2a3f5f"
           }
          },
          "ternary": {
           "aaxis": {
            "gridcolor": "#DFE8F3",
            "linecolor": "#A2B1C6",
            "ticks": ""
           },
           "baxis": {
            "gridcolor": "#DFE8F3",
            "linecolor": "#A2B1C6",
            "ticks": ""
           },
           "bgcolor": "white",
           "caxis": {
            "gridcolor": "#DFE8F3",
            "linecolor": "#A2B1C6",
            "ticks": ""
           }
          },
          "title": {
           "x": 0.05
          },
          "xaxis": {
           "automargin": true,
           "gridcolor": "#EBF0F8",
           "linecolor": "#EBF0F8",
           "ticks": "",
           "title": {
            "standoff": 15
           },
           "zerolinecolor": "#EBF0F8",
           "zerolinewidth": 2
          },
          "yaxis": {
           "automargin": true,
           "gridcolor": "#EBF0F8",
           "linecolor": "#EBF0F8",
           "ticks": "",
           "title": {
            "standoff": 15
           },
           "zerolinecolor": "#EBF0F8",
           "zerolinewidth": 2
          }
         }
        },
        "title": {
         "text": "AAPL Stock Closing Prices and Volume"
        },
        "xaxis": {
         "anchor": "y",
         "autorange": true,
         "domain": [
          0,
          0.94
         ],
         "linecolor": "black",
         "linewidth": 2,
         "mirror": true,
         "range": [
          "2024-10-11",
          "2025-03-07"
         ],
         "showline": true,
         "title": {
          "text": "Date"
         },
         "type": "date"
        },
        "yaxis": {
         "anchor": "x",
         "autorange": true,
         "domain": [
          0,
          1
         ],
         "linecolor": "blue",
         "linewidth": 2,
         "mirror": true,
         "range": [
          0,
          272.65263157894736
         ],
         "rangemode": "tozero",
         "showline": true,
         "title": {
          "text": "<b>AAPL Close Price</b>"
         },
         "type": "linear"
        },
        "yaxis2": {
         "anchor": "x",
         "autorange": true,
         "linecolor": "red",
         "linewidth": 2,
         "mirror": true,
         "overlaying": "y",
         "range": [
          0,
          155258175.78947368
         ],
         "rangemode": "tozero",
         "showline": true,
         "side": "right",
         "title": {
          "text": "<b>AAPL Volume</b>"
         },
         "type": "linear"
        }
       }
      },
      "image/png": "[encoded data removed]"
     },
     "metadata": {},
     "output_type": "display_data"
    },
    {
     "data": {
      "application/vnd.plotly.v1+json": {
       "config": {
        "plotlyServerURL": "https://plot.ly"
       },
       "data": [
        {
         "line": {
          "color": "royalblue"
         },
         "name": "NVDA Close Price",
         "type": "scatter",
         "x": [
          "2025-03-07T00:00:00.000000000",
          "2025-03-06T00:00:00.000000000",
          "2025-03-05T00:00:00.000000000",
          "2025-03-04T00:00:00.000000000",
          "2025-03-03T00:00:00.000000000",
          "2025-02-28T00:00:00.000000000",
          "2025-02-27T00:00:00.000000000",
          "2025-02-26T00:00:00.000000000",
          "2025-02-25T00:00:00.000000000",
          "2025-02-24T00:00:00.000000000",
          "2025-02-21T00:00:00.000000000",
          "2025-02-20T00:00:00.000000000",
          "2025-02-19T00:00:00.000000000",
          "2025-02-18T00:00:00.000000000",
          "2025-02-14T00:00:00.000000000",
          "2025-02-13T00:00:00.000000000",
          "2025-02-12T00:00:00.000000000",
          "2025-02-11T00:00:00.000000000",
          "2025-02-10T00:00:00.000000000",
          "2025-02-07T00:00:00.000000000",
          "2025-02-06T00:00:00.000000000",
          "2025-02-05T00:00:00.000000000",
          "2025-02-04T00:00:00.000000000",
          "2025-02-03T00:00:00.000000000",
          "2025-01-31T00:00:00.000000000",
          "2025-01-30T00:00:00.000000000",
          "2025-01-29T00:00:00.000000000",
          "2025-01-28T00:00:00.000000000",
          "2025-01-27T00:00:00.000000000",
          "2025-01-24T00:00:00.000000000",
          "2025-01-23T00:00:00.000000000",
          "2025-01-22T00:00:00.000000000",
          "2025-01-21T00:00:00.000000000",
          "2025-01-17T00:00:00.000000000",
          "2025-01-16T00:00:00.000000000",
          "2025-01-15T00:00:00.000000000",
          "2025-01-14T00:00:00.000000000",
          "2025-01-13T00:00:00.000000000",
          "2025-01-10T00:00:00.000000000",
          "2025-01-08T00:00:00.000000000",
          "2025-01-07T00:00:00.000000000",
          "2025-01-06T00:00:00.000000000",
          "2025-01-03T00:00:00.000000000",
          "2025-01-02T00:00:00.000000000",
          "2024-12-31T00:00:00.000000000",
          "2024-12-30T00:00:00.000000000",
          "2024-12-27T00:00:00.000000000",
          "2024-12-26T00:00:00.000000000",
          "2024-12-24T00:00:00.000000000",
          "2024-12-23T00:00:00.000000000",
          "2024-12-20T00:00:00.000000000",
          "2024-12-19T00:00:00.000000000",
          "2024-12-18T00:00:00.000000000",
          "2024-12-17T00:00:00.000000000",
          "2024-12-16T00:00:00.000000000",
          "2024-12-13T00:00:00.000000000",
          "2024-12-12T00:00:00.000000000",
          "2024-12-11T00:00:00.000000000",
          "2024-12-10T00:00:00.000000000",
          "2024-12-09T00:00:00.000000000",
          "2024-12-06T00:00:00.000000000",
          "2024-12-05T00:00:00.000000000",
          "2024-12-04T00:00:00.000000000",
          "2024-12-03T00:00:00.000000000",
          "2024-12-02T00:00:00.000000000",
          "2024-11-29T00:00:00.000000000",
          "2024-11-27T00:00:00.000000000",
          "2024-11-26T00:00:00.000000000",
          "2024-11-25T00:00:00.000000000",
          "2024-11-22T00:00:00.000000000",
          "2024-11-21T00:00:00.000000000",
          "2024-11-20T00:00:00.000000000",
          "2024-11-19T00:00:00.000000000",
          "2024-11-18T00:00:00.000000000",
          "2024-11-15T00:00:00.000000000",
          "2024-11-14T00:00:00.000000000",
          "2024-11-13T00:00:00.000000000",
          "2024-11-12T00:00:00.000000000",
          "2024-11-11T00:00:00.000000000",
          "2024-11-08T00:00:00.000000000",
          "2024-11-07T00:00:00.000000000",
          "2024-11-06T00:00:00.000000000",
          "2024-11-05T00:00:00.000000000",
          "2024-11-04T00:00:00.000000000",
          "2024-11-01T00:00:00.000000000",
          "2024-10-31T00:00:00.000000000",
          "2024-10-30T00:00:00.000000000",
          "2024-10-29T00:00:00.000000000",
          "2024-10-28T00:00:00.000000000",
          "2024-10-25T00:00:00.000000000",
          "2024-10-24T00:00:00.000000000",
          "2024-10-23T00:00:00.000000000",
          "2024-10-22T00:00:00.000000000",
          "2024-10-21T00:00:00.000000000",
          "2024-10-18T00:00:00.000000000",
          "2024-10-17T00:00:00.000000000",
          "2024-10-16T00:00:00.000000000",
          "2024-10-15T00:00:00.000000000",
          "2024-10-14T00:00:00.000000000",
          "2024-10-11T00:00:00.000000000"
         ],
         "xaxis": "x",
         "y": {
          "_inputArray": {
           "0": 112.69,
           "1": 110.57,
           "10": 134.43,
           "11": 140.11,
           "12": 139.23,
           "13": 139.4,
           "14": 138.85,
           "15": 135.29,
           "16": 131.14,
           "17": 132.8,
           "18": 133.57,
           "19": 129.84,
           "2": 117.3,
           "20": 128.68,
           "21": 124.83,
           "22": 118.65,
           "23": 116.66,
           "24": 120.07,
           "25": 124.65,
           "26": 123.7,
           "27": 128.99,
           "28": 118.42,
           "29": 142.62,
           "3": 115.99,
           "30": 147.22,
           "31": 147.07,
           "32": 140.83,
           "33": 137.71,
           "34": 133.57,
           "35": 136.24,
           "36": 131.76,
           "37": 133.23,
           "38": 135.91,
           "39": 140.11,
           "4": 114.06,
           "40": 140.14,
           "41": 149.43,
           "42": 144.47,
           "43": 138.31,
           "44": 134.29,
           "45": 137.49,
           "46": 137.01,
           "47": 139.93,
           "48": 140.22,
           "49": 139.67,
           "5": 124.92,
           "50": 134.7,
           "51": 130.68,
           "52": 128.91,
           "53": 130.39,
           "54": 132,
           "55": 134.25,
           "56": 137.34,
           "57": 139.31,
           "58": 135.07,
           "59": 138.81,
           "6": 120.15,
           "60": 142.44,
           "61": 145.06,
           "62": 145.14,
           "63": 140.26,
           "64": 138.63,
           "65": 138.25,
           "66": 135.34,
           "67": 136.92,
           "68": 136.02,
           "69": 141.95,
           "7": 131.28,
           "70": 146.67,
           "71": 145.89,
           "72": 147.01,
           "73": 140.15,
           "74": 141.98,
           "75": 146.76,
           "76": 146.27,
           "77": 148.29,
           "78": 145.26,
           "79": 147.63,
           "8": 126.63,
           "80": 148.88,
           "81": 145.61,
           "82": 139.91,
           "83": 136.05,
           "84": 135.4,
           "85": 132.76,
           "86": 139.335,
           "87": 141.25,
           "88": 140.52,
           "89": 141.54,
           "9": 130.28,
           "90": 140.41,
           "91": 139.56,
           "92": 143.59,
           "93": 143.71,
           "94": 138,
           "95": 136.93,
           "96": 135.72,
           "97": 131.6,
           "98": 138.07,
           "99": 134.8,
           "bdata": "XI/C9SgsXEAUrkfheqRbQDMzMzMzU11Aj8L1KFz/XECkcD0K14NcQHsUrkfhOl9AmpmZmZkJXkApXI/C9WhgQLgehetRqF9AKVyPwvVIYED2KFyPws1gQOxRuB6Fg2FAj8L1KFxnYUDNzMzMzGxhQDMzMzMzW2FA4XoUrkfpYEAUrkfhemRgQJqZmZmZmWBACtejcD2yYEB7FK5H4TpgQPYoXI/CFWBAhetRuB41X0CamZmZmaldQArXo3A9Kl1AFK5H4XoEXkCamZmZmSlfQM3MzMzM7F5ASOF6FK4fYEB7FK5H4ZpdQKRwPQrX02FA16NwPQpnYkAK16NwPWJiQMP1KFyPmmFAH4XrUbg2YUAK16NwPbJgQEjhehSuB2FAuB6F61F4YECPwvUoXKdgQIXrUbge/WBA7FG4HoWDYUAUrkfheoRhQPYoXI/CrWJA16NwPQoPYkBSuB6F60lhQOF6FK5HyWBASOF6FK4vYUC4HoXrUSBhQPYoXI/CfWFA16NwPQqHYUA9CtejcHVhQGZmZmZm1mBA9ihcj8JVYECF61G4Hh1gQBSuR+F6TGBAAAAAAACAYEAAAAAAAMhgQHsUrkfhKmFAUrgehetpYUAK16NwPeJgQFK4HoXrWWFArkfhehTOYUBSuB6F6yFiQBSuR+F6JGJAuB6F61GIYUBcj8L1KFRhQAAAAAAASGFAexSuR+HqYEA9CtejcB1hQHE9CtejAGFAZmZmZma+YUA9CtejcFViQBSuR+F6PGJAuB6F61FgYkDNzMzMzIRhQI/C9Shcv2FAuB6F61FYYkBxPQrXo0hiQOF6FK5HiWJAuB6F61EoYkBcj8L1KHRiQFyPwvUonGJA7FG4HoUzYkCF61G4Hn1hQJqZmZmZAWFAzczMzMzsYEC4HoXrUZhgQB+F61G4amFAAAAAAACoYUBxPQrXo5BhQOF6FK5HsWFAhetRuB6NYUBSuB6F63FhQHsUrkfh8mFAH4XrUbj2YUAAAAAAAEBhQPYoXI/CHWFA16NwPQr3YEAzMzMzM3NgQArXo3A9QmFAmpmZmZnZYEA=",
           "dtype": "f8",
           "shape": "100"
          },
          "bdata": "XI/C9SgsXEAUrkfheqRbQDMzMzMzU11Aj8L1KFz/XECkcD0K14NcQHsUrkfhOl9AmpmZmZkJXkApXI/C9WhgQLgehetRqF9AKVyPwvVIYED2KFyPws1gQOxRuB6Fg2FAj8L1KFxnYUDNzMzMzGxhQDMzMzMzW2FA4XoUrkfpYEAUrkfhemRgQJqZmZmZmWBACtejcD2yYEB7FK5H4TpgQPYoXI/CFWBAhetRuB41X0CamZmZmaldQArXo3A9Kl1AFK5H4XoEXkCamZmZmSlfQM3MzMzM7F5ASOF6FK4fYEB7FK5H4ZpdQKRwPQrX02FA16NwPQpnYkAK16NwPWJiQMP1KFyPmmFAH4XrUbg2YUAK16NwPbJgQEjhehSuB2FAuB6F61F4YECPwvUoXKdgQIXrUbge/WBA7FG4HoWDYUAUrkfheoRhQPYoXI/CrWJA16NwPQoPYkBSuB6F60lhQOF6FK5HyWBASOF6FK4vYUC4HoXrUSBhQPYoXI/CfWFA16NwPQqHYUA9CtejcHVhQGZmZmZm1mBA9ihcj8JVYECF61G4Hh1gQBSuR+F6TGBAAAAAAACAYEAAAAAAAMhgQHsUrkfhKmFAUrgehetpYUAK16NwPeJgQFK4HoXrWWFArkfhehTOYUBSuB6F6yFiQBSuR+F6JGJAuB6F61GIYUBcj8L1KFRhQAAAAAAASGFAexSuR+HqYEA9CtejcB1hQHE9CtejAGFAZmZmZma+YUA9CtejcFViQBSuR+F6PGJAuB6F61FgYkDNzMzMzIRhQI/C9Shcv2FAuB6F61FYYkBxPQrXo0hiQOF6FK5HiWJAuB6F61EoYkBcj8L1KHRiQFyPwvUonGJA7FG4HoUzYkCF61G4Hn1hQJqZmZmZAWFAzczMzMzsYEC4HoXrUZhgQB+F61G4amFAAAAAAACoYUBxPQrXo5BhQOF6FK5HsWFAhetRuB6NYUBSuB6F63FhQHsUrkfh8mFAH4XrUbj2YUAAAAAAAEBhQPYoXI/CHWFA16NwPQr3YEAzMzMzM3NgQArXo3A9QmFAmpmZmZnZYEA=",
          "dtype": "f8"
         },
         "yaxis": "y"
        },
        {
         "line": {
          "color": "tomato",
          "dash": "dot"
         },
         "name": "NVDA Volume",
         "type": "scatter",
         "x": [
          "2025-03-07T00:00:00.000000000",
          "2025-03-06T00:00:00.000000000",
          "2025-03-05T00:00:00.000000000",
          "2025-03-04T00:00:00.000000000",
          "2025-03-03T00:00:00.000000000",
          "2025-02-28T00:00:00.000000000",
          "2025-02-27T00:00:00.000000000",
          "2025-02-26T00:00:00.000000000",
          "2025-02-25T00:00:00.000000000",
          "2025-02-24T00:00:00.000000000",
          "2025-02-21T00:00:00.000000000",
          "2025-02-20T00:00:00.000000000",
          "2025-02-19T00:00:00.000000000",
          "2025-02-18T00:00:00.000000000",
          "2025-02-14T00:00:00.000000000",
          "2025-02-13T00:00:00.000000000",
          "2025-02-12T00:00:00.000000000",
          "2025-02-11T00:00:00.000000000",
          "2025-02-10T00:00:00.000000000",
          "2025-02-07T00:00:00.000000000",
          "2025-02-06T00:00:00.000000000",
          "2025-02-05T00:00:00.000000000",
          "2025-02-04T00:00:00.000000000",
          "2025-02-03T00:00:00.000000000",
          "2025-01-31T00:00:00.000000000",
          "2025-01-30T00:00:00.000000000",
          "2025-01-29T00:00:00.000000000",
          "2025-01-28T00:00:00.000000000",
          "2025-01-27T00:00:00.000000000",
          "2025-01-24T00:00:00.000000000",
          "2025-01-23T00:00:00.000000000",
          "2025-01-22T00:00:00.000000000",
          "2025-01-21T00:00:00.000000000",
          "2025-01-17T00:00:00.000000000",
          "2025-01-16T00:00:00.000000000",
          "2025-01-15T00:00:00.000000000",
          "2025-01-14T00:00:00.000000000",
          "2025-01-13T00:00:00.000000000",
          "2025-01-10T00:00:00.000000000",
          "2025-01-08T00:00:00.000000000",
          "2025-01-07T00:00:00.000000000",
          "2025-01-06T00:00:00.000000000",
          "2025-01-03T00:00:00.000000000",
          "2025-01-02T00:00:00.000000000",
          "2024-12-31T00:00:00.000000000",
          "2024-12-30T00:00:00.000000000",
          "2024-12-27T00:00:00.000000000",
          "2024-12-26T00:00:00.000000000",
          "2024-12-24T00:00:00.000000000",
          "2024-12-23T00:00:00.000000000",
          "2024-12-20T00:00:00.000000000",
          "2024-12-19T00:00:00.000000000",
          "2024-12-18T00:00:00.000000000",
          "2024-12-17T00:00:00.000000000",
          "2024-12-16T00:00:00.000000000",
          "2024-12-13T00:00:00.000000000",
          "2024-12-12T00:00:00.000000000",
          "2024-12-11T00:00:00.000000000",
          "2024-12-10T00:00:00.000000000",
          "2024-12-09T00:00:00.000000000",
          "2024-12-06T00:00:00.000000000",
          "2024-12-05T00:00:00.000000000",
          "2024-12-04T00:00:00.000000000",
          "2024-12-03T00:00:00.000000000",
          "2024-12-02T00:00:00.000000000",
          "2024-11-29T00:00:00.000000000",
          "2024-11-27T00:00:00.000000000",
          "2024-11-26T00:00:00.000000000",
          "2024-11-25T00:00:00.000000000",
          "2024-11-22T00:00:00.000000000",
          "2024-11-21T00:00:00.000000000",
          "2024-11-20T00:00:00.000000000",
          "2024-11-19T00:00:00.000000000",
          "2024-11-18T00:00:00.000000000",
          "2024-11-15T00:00:00.000000000",
          "2024-11-14T00:00:00.000000000",
          "2024-11-13T00:00:00.000000000",
          "2024-11-12T00:00:00.000000000",
          "2024-11-11T00:00:00.000000000",
          "2024-11-08T00:00:00.000000000",
          "2024-11-07T00:00:00.000000000",
          "2024-11-06T00:00:00.000000000",
          "2024-11-05T00:00:00.000000000",
          "2024-11-04T00:00:00.000000000",
          "2024-11-01T00:00:00.000000000",
          "2024-10-31T00:00:00.000000000",
          "2024-10-30T00:00:00.000000000",
          "2024-10-29T00:00:00.000000000",
          "2024-10-28T00:00:00.000000000",
          "2024-10-25T00:00:00.000000000",
          "2024-10-24T00:00:00.000000000",
          "2024-10-23T00:00:00.000000000",
          "2024-10-22T00:00:00.000000000",
          "2024-10-21T00:00:00.000000000",
          "2024-10-18T00:00:00.000000000",
          "2024-10-17T00:00:00.000000000",
          "2024-10-16T00:00:00.000000000",
          "2024-10-15T00:00:00.000000000",
          "2024-10-14T00:00:00.000000000",
          "2024-10-11T00:00:00.000000000"
         ],
         "xaxis": "x",
         "y": {
          "_inputArray": {
           "0": 340527752,
           "1": 321181861,
           "10": 228217585,
           "11": 143903583,
           "12": 167536006,
           "13": 219176627,
           "14": 195479557,
           "15": 197429975,
           "16": 160278552,
           "17": 178902379,
           "18": 216989086,
           "19": 228186298,
           "2": 284337886,
           "20": 251483574,
           "21": 263110629,
           "22": 256550040,
           "23": 371235677,
           "24": 390372899,
           "25": 392925469,
           "26": 467120640,
           "27": 579666350,
           "28": 818830895,
           "29": 234657635,
           "3": 398163305,
           "30": 155915549,
           "31": 237651395,
           "32": 197748985,
           "33": 201188760,
           "34": 209235583,
           "35": 185217338,
           "36": 195590485,
           "37": 204808914,
           "38": 207602514,
           "39": 227349948,
           "4": 411381373,
           "40": 351782174,
           "41": 265377359,
           "42": 229322478,
           "43": 198247166,
           "44": 155659211,
           "45": 167734700,
           "46": 170582603,
           "47": 116519090,
           "48": 105156989,
           "49": 176053506,
           "5": 389091145,
           "50": 306528553,
           "51": 209719210,
           "52": 277444533,
           "53": 259410263,
           "54": 237951130,
           "55": 231514881,
           "56": 159211393,
           "57": 184905192,
           "58": 210020888,
           "59": 189308625,
           "6": 443175846,
           "60": 188505573,
           "61": 172621180,
           "62": 231224295,
           "63": 164413965,
           "64": 171682777,
           "65": 141863156,
           "66": 226370912,
           "67": 190287654,
           "68": 344941875,
           "69": 236406154,
           "7": 322553814,
           "70": 400946570,
           "71": 309871654,
           "72": 227834912,
           "73": 221865993,
           "74": 250132869,
           "75": 194463301,
           "76": 191903267,
           "77": 198634738,
           "78": 182325620,
           "79": 175665830,
           "8": 271428711,
           "80": 207323303,
           "81": 242043945,
           "82": 160537373,
           "83": 187528173,
           "84": 207127838,
           "85": 270039641,
           "86": 179418082,
           "87": 157593634,
           "88": 173586745,
           "89": 205122109,
           "9": 251381137,
           "90": 172354888,
           "91": 285930038,
           "92": 226311589,
           "93": 264554514,
           "94": 176090184,
           "95": 306435921,
           "96": 264879720,
           "97": 377831021,
           "98": 232347668,
           "99": 170209474,
           "bdata": "AAAAiApMtEEAAACl2CSzQQAAAN6m8rBBAAAAaX27t0EAAAB9LoW4QQAAAEkPMbdBAAAAplNqukEAAADWxzmzQQAAAGesLbBBAAAAIov3rUEAAADipTSrQQAAAL6WJ6FBAAAADMv4o0EAAABmvSCqQQAAAAqQTadBAAAArhWJp0EAAAAwUBujQQAAANaqU6VBAAAAPPvdqUEAAAB0sTOrQQAAAGyr+q1BAAAAyn9dr0EAAAAwSZWuQQAAAF2bILZBAAAAI55Et0EAAAAdkWu3QQAAAACy17tBAAAA14BGwUEAAIAXL2fIQQAAAMYu+atBAAAAOiqWokEAAACGi1SsQQAAAPLRkqdBAAAAMMv7p0EAAAD+XPGoQQAAAHRiFKZBAAAAqvJQp0EAAACkRWqoQQAAAKSGv6hBAAAAeCsaq0EAAAAexfe0QQAAAJ6soq9BAAAA3F1Wq0EAAAD8BaKnQQAAAJZXjqJBAAAAWNv+o0EAAACWxFWkQQAAAMjCx5tBAAAA9EUSmUEAAAAEuvykQQAAAClBRbJBAAAAVB8AqUEAAAC1d4mwQQAAAK6S7K5BAAAANLFdrEEAAAACRpmrQQAAAAK/+qJBAAAA0NsKpkEAAAAwVAmpQQAAAKI9kaZBAAAAyrt4pkEAAAD4+pOkQQAAAM5nkKtBAAAAGoSZo0EAAACyV3ekQQAAAOhR6aBBAAAAwEr8qkEAAABMHq+mQQAAADNlj7RBAAAAFIsurEEAAACK9eW3QQAAACZEeLJBAAAAQPgoq0EAAAAS0HKqQQAAAApz0a1BAAAAiowup0EAAABGbOCmQQAAAOTZradBAAAA6CK8pUEAAABM5fCkQQAAAE4Bt6hBAAAAUpjarEEAAAA6NiOjQQAAANrnWqZBAAAAPAqxqEEAAABZehiwQQAAAMRnY6VBAAAARGDJokEAAABycrGkQQAAAHrUc6hBAAAAkNqLpEEAAAA28gqxQQAAAEp7+qpBAAAAJJCJr0EAAACQ2P2kQQAAAFHXQ7JBAAAA0HyTr0EAAABtPoW2QQAAACiwsqtBAAAAhGFKpEE=",
           "dtype": "f8",
           "shape": "100"
          },
          "bdata": "AAAAiApMtEEAAACl2CSzQQAAAN6m8rBBAAAAaX27t0EAAAB9LoW4QQAAAEkPMbdBAAAAplNqukEAAADWxzmzQQAAAGesLbBBAAAAIov3rUEAAADipTSrQQAAAL6WJ6FBAAAADMv4o0EAAABmvSCqQQAAAAqQTadBAAAArhWJp0EAAAAwUBujQQAAANaqU6VBAAAAPPvdqUEAAAB0sTOrQQAAAGyr+q1BAAAAyn9dr0EAAAAwSZWuQQAAAF2bILZBAAAAI55Et0EAAAAdkWu3QQAAAACy17tBAAAA14BGwUEAAIAXL2fIQQAAAMYu+atBAAAAOiqWokEAAACGi1SsQQAAAPLRkqdBAAAAMMv7p0EAAAD+XPGoQQAAAHRiFKZBAAAAqvJQp0EAAACkRWqoQQAAAKSGv6hBAAAAeCsaq0EAAAAexfe0QQAAAJ6soq9BAAAA3F1Wq0EAAAD8BaKnQQAAAJZXjqJBAAAAWNv+o0EAAACWxFWkQQAAAMjCx5tBAAAA9EUSmUEAAAAEuvykQQAAAClBRbJBAAAAVB8AqUEAAAC1d4mwQQAAAK6S7K5BAAAANLFdrEEAAAACRpmrQQAAAAK/+qJBAAAA0NsKpkEAAAAwVAmpQQAAAKI9kaZBAAAAyrt4pkEAAAD4+pOkQQAAAM5nkKtBAAAAGoSZo0EAAACyV3ekQQAAAOhR6aBBAAAAwEr8qkEAAABMHq+mQQAAADNlj7RBAAAAFIsurEEAAACK9eW3QQAAACZEeLJBAAAAQPgoq0EAAAAS0HKqQQAAAApz0a1BAAAAiowup0EAAABGbOCmQQAAAOTZradBAAAA6CK8pUEAAABM5fCkQQAAAE4Bt6hBAAAAUpjarEEAAAA6NiOjQQAAANrnWqZBAAAAPAqxqEEAAABZehiwQQAAAMRnY6VBAAAARGDJokEAAABycrGkQQAAAHrUc6hBAAAAkNqLpEEAAAA28gqxQQAAAEp7+qpBAAAAJJCJr0EAAACQ2P2kQQAAAFHXQ7JBAAAA0HyTr0EAAABtPoW2QQAAACiwsqtBAAAAhGFKpEE=",
          "dtype": "f8"
         },
         "yaxis": "y2"
        }
       ],
       "layout": {
        "height": 360,
        "template": {
         "data": {
          "bar": [
           {
            "error_x": {
             "color": "#2a3f5f"
            },
            "error_y": {
             "color": "#2a3f5f"
            },
            "marker": {
             "line": {
              "color": "white",
              "width": 0.5
             },
             "pattern": {
              "fillmode": "overlay",
              "size": 10,
              "solidity": 0.2
             }
            },
            "type": "bar"
           }
          ],
          "barpolar": [
           {
            "marker": {
             "line": {
              "color": "white",
              "width": 0.5
             },
             "pattern": {
              "fillmode": "overlay",
              "size": 10,
              "solidity": 0.2
             }
            },
            "type": "barpolar"
           }
          ],
          "carpet": [
           {
            "aaxis": {
             "endlinecolor": "#2a3f5f",
             "gridcolor": "#C8D4E3",
             "linecolor": "#C8D4E3",
             "minorgridcolor": "#C8D4E3",
             "startlinecolor": "#2a3f5f"
            },
            "baxis": {
             "endlinecolor": "#2a3f5f",
             "gridcolor": "#C8D4E3",
             "linecolor": "#C8D4E3",
             "minorgridcolor": "#C8D4E3",
             "startlinecolor": "#2a3f5f"
            },
            "type": "carpet"
           }
          ],
          "choropleth": [
           {
            "colorbar": {
             "outlinewidth": 0,
             "ticks": ""
            },
            "type": "choropleth"
           }
          ],
          "contour": [
           {
            "colorbar": {
             "outlinewidth": 0,
             "ticks": ""
            },
            "colorscale": [
             [
              0,
              "#0d0887"
             ],
             [
              0.1111111111111111,
              "#46039f"
             ],
             [
              0.2222222222222222,
              "#7201a8"
             ],
             [
              0.3333333333333333,
              "#9c179e"
             ],
             [
              0.4444444444444444,
              "#bd3786"
             ],
             [
              0.5555555555555556,
              "#d8576b"
             ],
             [
              0.6666666666666666,
              "#ed7953"
             ],
             [
              0.7777777777777778,
              "#fb9f3a"
             ],
             [
              0.8888888888888888,
              "#fdca26"
             ],
             [
              1,
              "#f0f921"
             ]
            ],
            "type": "contour"
           }
          ],
          "contourcarpet": [
           {
            "colorbar": {
             "outlinewidth": 0,
             "ticks": ""
            },
            "type": "contourcarpet"
           }
          ],
          "heatmap": [
           {
            "colorbar": {
             "outlinewidth": 0,
             "ticks": ""
            },
            "colorscale": [
             [
              0,
              "#0d0887"
             ],
             [
              0.1111111111111111,
              "#46039f"
             ],
             [
              0.2222222222222222,
              "#7201a8"
             ],
             [
              0.3333333333333333,
              "#9c179e"
             ],
             [
              0.4444444444444444,
              "#bd3786"
             ],
             [
              0.5555555555555556,
              "#d8576b"
             ],
             [
              0.6666666666666666,
              "#ed7953"
             ],
             [
              0.7777777777777778,
              "#fb9f3a"
             ],
             [
              0.8888888888888888,
              "#fdca26"
             ],
             [
              1,
              "#f0f921"
             ]
            ],
            "type": "heatmap"
           }
          ],
          "histogram": [
           {
            "marker": {
             "pattern": {
              "fillmode": "overlay",
              "size": 10,
              "solidity": 0.2
             }
            },
            "type": "histogram"
           }
          ],
          "histogram2d": [
           {
            "colorbar": {
             "outlinewidth": 0,
             "ticks": ""
            },
            "colorscale": [
             [
              0,
              "#0d0887"
             ],
             [
              0.1111111111111111,
              "#46039f"
             ],
             [
              0.2222222222222222,
              "#7201a8"
             ],
             [
              0.3333333333333333,
              "#9c179e"
             ],
             [
              0.4444444444444444,
              "#bd3786"
             ],
             [
              0.5555555555555556,
              "#d8576b"
             ],
             [
              0.6666666666666666,
              "#ed7953"
             ],
             [
              0.7777777777777778,
              "#fb9f3a"
             ],
             [
              0.8888888888888888,
              "#fdca26"
             ],
             [
              1,
              "#f0f921"
             ]
            ],
            "type": "histogram2d"
           }
          ],
          "histogram2dcontour": [
           {
            "colorbar": {
             "outlinewidth": 0,
             "ticks": ""
            },
            "colorscale": [
             [
              0,
              "#0d0887"
             ],
             [
              0.1111111111111111,
              "#46039f"
             ],
             [
              0.2222222222222222,
              "#7201a8"
             ],
             [
              0.3333333333333333,
              "#9c179e"
             ],
             [
              0.4444444444444444,
              "#bd3786"
             ],
             [
              0.5555555555555556,
              "#d8576b"
             ],
             [
              0.6666666666666666,
              "#ed7953"
             ],
             [
              0.7777777777777778,
              "#fb9f3a"
             ],
             [
              0.8888888888888888,
              "#fdca26"
             ],
             [
              1,
              "#f0f921"
             ]
            ],
            "type": "histogram2dcontour"
           }
          ],
          "mesh3d": [
           {
            "colorbar": {
             "outlinewidth": 0,
             "ticks": ""
            },
            "type": "mesh3d"
           }
          ],
          "parcoords": [
           {
            "line": {
             "colorbar": {
              "outlinewidth": 0,
              "ticks": ""
             }
            },
            "type": "parcoords"
           }
          ],
          "pie": [
           {
            "automargin": true,
            "type": "pie"
           }
          ],
          "scatter": [
           {
            "fillpattern": {
             "fillmode": "overlay",
             "size": 10,
             "solidity": 0.2
            },
            "type": "scatter"
           }
          ],
          "scatter3d": [
           {
            "line": {
             "colorbar": {
              "outlinewidth": 0,
              "ticks": ""
             }
            },
            "marker": {
             "colorbar": {
              "outlinewidth": 0,
              "ticks": ""
             }
            },
            "type": "scatter3d"
           }
          ],
          "scattercarpet": [
           {
            "marker": {
             "colorbar": {
              "outlinewidth": 0,
              "ticks": ""
             }
            },
            "type": "scattercarpet"
           }
          ],
          "scattergeo": [
           {
            "marker": {
             "colorbar": {
              "outlinewidth": 0,
              "ticks": ""
             }
            },
            "type": "scattergeo"
           }
          ],
          "scattergl": [
           {
            "marker": {
             "colorbar": {
              "outlinewidth": 0,
              "ticks": ""
             }
            },
            "type": "scattergl"
           }
          ],
          "scattermap": [
           {
            "marker": {
             "colorbar": {
              "outlinewidth": 0,
              "ticks": ""
             }
            },
            "type": "scattermap"
           }
          ],
          "scattermapbox": [
           {
            "marker": {
             "colorbar": {
              "outlinewidth": 0,
              "ticks": ""
             }
            },
            "type": "scattermapbox"
           }
          ],
          "scatterpolar": [
           {
            "marker": {
             "colorbar": {
              "outlinewidth": 0,
              "ticks": ""
             }
            },
            "type": "scatterpolar"
           }
          ],
          "scatterpolargl": [
           {
            "marker": {
             "colorbar": {
              "outlinewidth": 0,
              "ticks": ""
             }
            },
            "type": "scatterpolargl"
           }
          ],
          "scatterternary": [
           {
            "marker": {
             "colorbar": {
              "outlinewidth": 0,
              "ticks": ""
             }
            },
            "type": "scatterternary"
           }
          ],
          "surface": [
           {
            "colorbar": {
             "outlinewidth": 0,
             "ticks": ""
            },
            "colorscale": [
             [
              0,
              "#0d0887"
             ],
             [
              0.1111111111111111,
              "#46039f"
             ],
             [
              0.2222222222222222,
              "#7201a8"
             ],
             [
              0.3333333333333333,
              "#9c179e"
             ],
             [
              0.4444444444444444,
              "#bd3786"
             ],
             [
              0.5555555555555556,
              "#d8576b"
             ],
             [
              0.6666666666666666,
              "#ed7953"
             ],
             [
              0.7777777777777778,
              "#fb9f3a"
             ],
             [
              0.8888888888888888,
              "#fdca26"
             ],
             [
              1,
              "#f0f921"
             ]
            ],
            "type": "surface"
           }
          ],
          "table": [
           {
            "cells": {
             "fill": {
              "color": "#EBF0F8"
             },
             "line": {
              "color": "white"
             }
            },
            "header": {
             "fill": {
              "color": "#C8D4E3"
             },
             "line": {
              "color": "white"
             }
            },
            "type": "table"
           }
          ]
         },
         "layout": {
          "annotationdefaults": {
           "arrowcolor": "#2a3f5f",
           "arrowhead": 0,
           "arrowwidth": 1
          },
          "autotypenumbers": "strict",
          "coloraxis": {
           "colorbar": {
            "outlinewidth": 0,
            "ticks": ""
           }
          },
          "colorscale": {
           "diverging": [
            [
             0,
             "#8e0152"
            ],
            [
             0.1,
             "#c51b7d"
            ],
            [
             0.2,
             "#de77ae"
            ],
            [
             0.3,
             "#f1b6da"
            ],
            [
             0.4,
             "#fde0ef"
            ],
            [
             0.5,
             "#f7f7f7"
            ],
            [
             0.6,
             "#e6f5d0"
            ],
            [
             0.7,
             "#b8e186"
            ],
            [
             0.8,
             "#7fbc41"
            ],
            [
             0.9,
             "#4d9221"
            ],
            [
             1,
             "#276419"
            ]
           ],
           "sequential": [
            [
             0,
             "#0d0887"
            ],
            [
             0.1111111111111111,
             "#46039f"
            ],
            [
             0.2222222222222222,
             "#7201a8"
            ],
            [
             0.3333333333333333,
             "#9c179e"
            ],
            [
             0.4444444444444444,
             "#bd3786"
            ],
            [
             0.5555555555555556,
             "#d8576b"
            ],
            [
             0.6666666666666666,
             "#ed7953"
            ],
            [
             0.7777777777777778,
             "#fb9f3a"
            ],
            [
             0.8888888888888888,
             "#fdca26"
            ],
            [
             1,
             "#f0f921"
            ]
           ],
           "sequentialminus": [
            [
             0,
             "#0d0887"
            ],
            [
             0.1111111111111111,
             "#46039f"
            ],
            [
             0.2222222222222222,
             "#7201a8"
            ],
            [
             0.3333333333333333,
             "#9c179e"
            ],
            [
             0.4444444444444444,
             "#bd3786"
            ],
            [
             0.5555555555555556,
             "#d8576b"
            ],
            [
             0.6666666666666666,
             "#ed7953"
            ],
            [
             0.7777777777777778,
             "#fb9f3a"
            ],
            [
             0.8888888888888888,
             "#fdca26"
            ],
            [
             1,
             "#f0f921"
            ]
           ]
          },
          "colorway": [
           "#636efa",
           "#EF553B",
           "#00cc96",
           "#ab63fa",
           "#FFA15A",
           "#19d3f3",
           "#FF6692",
           "#B6E880",
           "#FF97FF",
           "#FECB52"
          ],
          "font": {
           "color": "#2a3f5f"
          },
          "geo": {
           "bgcolor": "white",
           "lakecolor": "white",
           "landcolor": "white",
           "showlakes": true,
           "showland": true,
           "subunitcolor": "#C8D4E3"
          },
          "hoverlabel": {
           "align": "left"
          },
          "hovermode": "closest",
          "mapbox": {
           "style": "light"
          },
          "paper_bgcolor": "white",
          "plot_bgcolor": "white",
          "polar": {
           "angularaxis": {
            "gridcolor": "#EBF0F8",
            "linecolor": "#EBF0F8",
            "ticks": ""
           },
           "bgcolor": "white",
           "radialaxis": {
            "gridcolor": "#EBF0F8",
            "linecolor": "#EBF0F8",
            "ticks": ""
           }
          },
          "scene": {
           "xaxis": {
            "backgroundcolor": "white",
            "gridcolor": "#DFE8F3",
            "gridwidth": 2,
            "linecolor": "#EBF0F8",
            "showbackground": true,
            "ticks": "",
            "zerolinecolor": "#EBF0F8"
           },
           "yaxis": {
            "backgroundcolor": "white",
            "gridcolor": "#DFE8F3",
            "gridwidth": 2,
            "linecolor": "#EBF0F8",
            "showbackground": true,
            "ticks": "",
            "zerolinecolor": "#EBF0F8"
           },
           "zaxis": {
            "backgroundcolor": "white",
            "gridcolor": "#DFE8F3",
            "gridwidth": 2,
            "linecolor": "#EBF0F8",
            "showbackground": true,
            "ticks": "",
            "zerolinecolor": "#EBF0F8"
           }
          },
          "shapedefaults": {
           "line": {
            "color": "#2a3f5f"
           }
          },
          "ternary": {
           "aaxis": {
            "gridcolor": "#DFE8F3",
            "linecolor": "#A2B1C6",
            "ticks": ""
           },
           "baxis": {
            "gridcolor": "#DFE8F3",
            "linecolor": "#A2B1C6",
            "ticks": ""
           },
           "bgcolor": "white",
           "caxis": {
            "gridcolor": "#DFE8F3",
            "linecolor": "#A2B1C6",
            "ticks": ""
           }
          },
          "title": {
           "x": 0.05
          },
          "xaxis": {
           "automargin": true,
           "gridcolor": "#EBF0F8",
           "linecolor": "#EBF0F8",
           "ticks": "",
           "title": {
            "standoff": 15
           },
           "zerolinecolor": "#EBF0F8",
           "zerolinewidth": 2
          },
          "yaxis": {
           "automargin": true,
           "gridcolor": "#EBF0F8",
           "linecolor": "#EBF0F8",
           "ticks": "",
           "title": {
            "standoff": 15
           },
           "zerolinecolor": "#EBF0F8",
           "zerolinewidth": 2
          }
         }
        },
        "title": {
         "text": "NVDA Stock Closing Prices and Volume"
        },
        "xaxis": {
         "anchor": "y",
         "autorange": true,
         "domain": [
          0,
          0.94
         ],
         "linecolor": "black",
         "linewidth": 2,
         "mirror": true,
         "range": [
          "2024-10-11",
          "2025-03-07"
         ],
         "showline": true,
         "title": {
          "text": "Date"
         },
         "type": "date"
        },
        "yaxis": {
         "anchor": "x",
         "autorange": true,
         "domain": [
          0,
          1
         ],
         "linecolor": "blue",
         "linewidth": 2,
         "mirror": true,
         "range": [
          0,
          157.29473684210527
         ],
         "rangemode": "tozero",
         "showline": true,
         "title": {
          "text": "<b>NVDA Close Price</b>"
         },
         "type": "linear"
        },
        "yaxis2": {
         "anchor": "x",
         "autorange": true,
         "linecolor": "red",
         "linewidth": 2,
         "mirror": true,
         "overlaying": "y",
         "range": [
          0,
          861927257.8947369
         ],
         "rangemode": "tozero",
         "showline": true,
         "side": "right",
         "title": {
          "text": "<b>NVDA Volume</b>"
         },
         "type": "linear"
        }
       }
      },
      "image/png": "[encoded data removed]"
     },
     "metadata": {},
     "output_type": "display_data"
    }
   ],
   "source": [
    "import plotly.graph_objects as go\n",
    "from plotly.subplots import make_subplots\n",
    "\n",
    "# Group the DataFrame by 'ticker'\n",
    "grouped = df.groupby('ticker')\n",
    "\n",
    "# Iterate over each group\n",
    "for ticker, data in grouped:\n",
    "    # Create a figure with secondary y-axis for each ticker\n",
    "    fig = make_subplots(specs=[[{\"secondary_y\": True}]])\n",
    "\n",
    "    # Add closing price trace\n",
    "    fig.add_trace(\n",
    "        go.Scatter(x=data['date'], y=data['close'].astype(float), name=f\"{ticker} Close Price\", line=dict(color='royalblue')),\n",
    "        secondary_y=False,\n",
    "    )\n",
    "\n",
    "    # Add volume trace\n",
    "    fig.add_trace(\n",
    "        go.Scatter(x=data['date'], y=data['volume'].astype(float), name=f\"{ticker} Volume\", line=dict(color='tomato', dash='dot')),\n",
    "        secondary_y=True,\n",
    "    )\n",
    "\n",
    "    # Add figure title and adjust layout for each ticker\n",
    "    fig.update_layout(\n",
    "        title_text=f\"{ticker} Stock Closing Prices and Volume\",\n",
    "        xaxis_title=\"Date\",\n",
    "        template=\"plotly_white\",\n",
    "    )\n",
    "\n",
    "    # Set x-axis properties\n",
    "    fig.update_xaxes(showline=True, linewidth=2, linecolor='black', mirror=True)\n",
    "\n",
    "    # Set y-axes titles and make them start from 0\n",
    "    fig.update_yaxes(title_text=f\"<b>{ticker} Close Price</b>\", secondary_y=False, showline=True, linewidth=2, linecolor='blue', mirror=True, rangemode='tozero')\n",
    "    fig.update_yaxes(title_text=f\"<b>{ticker} Volume</b>\", secondary_y=True, showline=True, linewidth=2, linecolor='red', mirror=True, rangemode='tozero')\n",
    "\n",
    "    # Show plot for each ticker\n",
    "    fig.show()\n"
   ]
  },
  {
   "cell_type": "code",
   "execution_count": 3,
   "id": "f1ceda2b-04cc-4b3e-9548-896854c1216e",
   "metadata": {},
   "outputs": [
    {
     "data": {
      "application/vnd.plotly.v1+json": {
       "config": {
        "plotlyServerURL": "https://plot.ly"
       },
       "data": [
        {
         "line": {
          "color": "royalblue"
         },
         "name": "AAPL Close Price",
         "type": "scatter",
         "x": [
          "2025-03-07T00:00:00.000000000",
          "2025-03-06T00:00:00.000000000",
          "2025-03-05T00:00:00.000000000",
          "2025-03-04T00:00:00.000000000",
          "2025-03-03T00:00:00.000000000",
          "2025-02-28T00:00:00.000000000",
          "2025-02-27T00:00:00.000000000",
          "2025-02-26T00:00:00.000000000",
          "2025-02-25T00:00:00.000000000",
          "2025-02-24T00:00:00.000000000",
          "2025-02-21T00:00:00.000000000",
          "2025-02-20T00:00:00.000000000",
          "2025-02-19T00:00:00.000000000",
          "2025-02-18T00:00:00.000000000",
          "2025-02-14T00:00:00.000000000",
          "2025-02-13T00:00:00.000000000",
          "2025-02-12T00:00:00.000000000",
          "2025-02-11T00:00:00.000000000",
          "2025-02-10T00:00:00.000000000",
          "2025-02-07T00:00:00.000000000",
          "2025-02-06T00:00:00.000000000",
          "2025-02-05T00:00:00.000000000",
          "2025-02-04T00:00:00.000000000",
          "2025-02-03T00:00:00.000000000",
          "2025-01-31T00:00:00.000000000",
          "2025-01-30T00:00:00.000000000",
          "2025-01-29T00:00:00.000000000",
          "2025-01-28T00:00:00.000000000",
          "2025-01-27T00:00:00.000000000",
          "2025-01-24T00:00:00.000000000",
          "2025-01-23T00:00:00.000000000",
          "2025-01-22T00:00:00.000000000",
          "2025-01-21T00:00:00.000000000",
          "2025-01-17T00:00:00.000000000",
          "2025-01-16T00:00:00.000000000",
          "2025-01-15T00:00:00.000000000",
          "2025-01-14T00:00:00.000000000",
          "2025-01-13T00:00:00.000000000",
          "2025-01-10T00:00:00.000000000",
          "2025-01-08T00:00:00.000000000",
          "2025-01-07T00:00:00.000000000",
          "2025-01-06T00:00:00.000000000",
          "2025-01-03T00:00:00.000000000",
          "2025-01-02T00:00:00.000000000",
          "2024-12-31T00:00:00.000000000",
          "2024-12-30T00:00:00.000000000",
          "2024-12-27T00:00:00.000000000",
          "2024-12-26T00:00:00.000000000",
          "2024-12-24T00:00:00.000000000",
          "2024-12-23T00:00:00.000000000",
          "2024-12-20T00:00:00.000000000",
          "2024-12-19T00:00:00.000000000",
          "2024-12-18T00:00:00.000000000",
          "2024-12-17T00:00:00.000000000",
          "2024-12-16T00:00:00.000000000",
          "2024-12-13T00:00:00.000000000",
          "2024-12-12T00:00:00.000000000",
          "2024-12-11T00:00:00.000000000",
          "2024-12-10T00:00:00.000000000",
          "2024-12-09T00:00:00.000000000",
          "2024-12-06T00:00:00.000000000",
          "2024-12-05T00:00:00.000000000",
          "2024-12-04T00:00:00.000000000",
          "2024-12-03T00:00:00.000000000",
          "2024-12-02T00:00:00.000000000",
          "2024-11-29T00:00:00.000000000",
          "2024-11-27T00:00:00.000000000",
          "2024-11-26T00:00:00.000000000",
          "2024-11-25T00:00:00.000000000",
          "2024-11-22T00:00:00.000000000",
          "2024-11-21T00:00:00.000000000",
          "2024-11-20T00:00:00.000000000",
          "2024-11-19T00:00:00.000000000",
          "2024-11-18T00:00:00.000000000",
          "2024-11-15T00:00:00.000000000",
          "2024-11-14T00:00:00.000000000",
          "2024-11-13T00:00:00.000000000",
          "2024-11-12T00:00:00.000000000",
          "2024-11-11T00:00:00.000000000",
          "2024-11-08T00:00:00.000000000",
          "2024-11-07T00:00:00.000000000",
          "2024-11-06T00:00:00.000000000",
          "2024-11-05T00:00:00.000000000",
          "2024-11-04T00:00:00.000000000",
          "2024-11-01T00:00:00.000000000",
          "2024-10-31T00:00:00.000000000",
          "2024-10-30T00:00:00.000000000",
          "2024-10-29T00:00:00.000000000",
          "2024-10-28T00:00:00.000000000",
          "2024-10-25T00:00:00.000000000",
          "2024-10-24T00:00:00.000000000",
          "2024-10-23T00:00:00.000000000",
          "2024-10-22T00:00:00.000000000",
          "2024-10-21T00:00:00.000000000",
          "2024-10-18T00:00:00.000000000",
          "2024-10-17T00:00:00.000000000",
          "2024-10-16T00:00:00.000000000",
          "2024-10-15T00:00:00.000000000",
          "2024-10-14T00:00:00.000000000",
          "2024-10-11T00:00:00.000000000"
         ],
         "xaxis": "x",
         "y": {
          "_inputArray": {
           "0": 239.07,
           "1": 235.33,
           "10": 245.55,
           "11": 245.83,
           "12": 244.87,
           "13": 244.47,
           "14": 244.6,
           "15": 241.53,
           "16": 236.87,
           "17": 232.62,
           "18": 227.65,
           "19": 227.63,
           "2": 235.74,
           "20": 233.22,
           "21": 232.47,
           "22": 232.8,
           "23": 228.01,
           "24": 236,
           "25": 237.59,
           "26": 239.36,
           "27": 238.26,
           "28": 229.86,
           "29": 222.78,
           "3": 235.93,
           "30": 223.66,
           "31": 223.83,
           "32": 222.64,
           "33": 229.98,
           "34": 228.26,
           "35": 237.87,
           "36": 233.28,
           "37": 234.4,
           "38": 236.85,
           "39": 242.7,
           "4": 238.03,
           "40": 242.21,
           "41": 245,
           "42": 243.36,
           "43": 243.85,
           "44": 250.42,
           "45": 252.2,
           "46": 255.59,
           "47": 259.02,
           "48": 258.2,
           "49": 255.27,
           "5": 241.84,
           "50": 254.49,
           "51": 249.79,
           "52": 248.05,
           "53": 253.48,
           "54": 251.04,
           "55": 248.13,
           "56": 247.96,
           "57": 246.49,
           "58": 247.77,
           "59": 246.75,
           "6": 237.3,
           "60": 242.84,
           "61": 243.04,
           "62": 243.01,
           "63": 242.65,
           "64": 239.59,
           "65": 237.33,
           "66": 234.93,
           "67": 235.06,
           "68": 232.87,
           "69": 229.87,
           "7": 240.36,
           "70": 228.52,
           "71": 229,
           "72": 228.28,
           "73": 228.02,
           "74": 225,
           "75": 228.22,
           "76": 225.12,
           "77": 224.23,
           "78": 224.23,
           "79": 226.96,
           "8": 247.04,
           "80": 227.48,
           "81": 222.72,
           "82": 223.45,
           "83": 222.01,
           "84": 222.91,
           "85": 225.91,
           "86": 230.1,
           "87": 233.67,
           "88": 233.4,
           "89": 231.41,
           "9": 247.1,
           "90": 230.57,
           "91": 230.76,
           "92": 235.86,
           "93": 236.48,
           "94": 235,
           "95": 232.15,
           "96": 231.78,
           "97": 233.85,
           "98": 231.3,
           "99": 227.55,
           "bdata": "CtejcD3ibUDD9Shcj2ptQEjhehSud21A9ihcj8J9bUApXI/C9cBtQHsUrkfhOm5AmpmZmZmpbUDsUbgehQtuQOF6FK5H4W5AMzMzMzPjbkCamZmZmbFuQMP1KFyPum5ApHA9CtebbkDXo3A9Co9uQDMzMzMzk25AKVyPwvUwbkCkcD0K15ttQKRwPQrXE21AzczMzMx0bEBcj8L1KHRsQNejcD0KJ21A16NwPQoPbUCamZmZmRltQLgehetRgGxAAAAAAACAbUB7FK5H4bJtQOxRuB6F621AuB6F61HIbUDsUbgehbtsQClcj8L12GtAhetRuB71a0DD9Shcj/prQBSuR+F61GtAj8L1KFy/bEC4HoXrUYhsQKRwPQrXu21AKVyPwvUobUDNzMzMzExtQDMzMzMzm21AZmZmZmZWbkAfhetRuEZuQAAAAAAAoG5A7FG4HoVrbkAzMzMzM3tuQD0K16NwTW9AZmZmZmaGb0B7FK5H4fJvQLgehetRMHBAMzMzMzMjcEBxPQrXo+hvQEjhehSuz29A4XoUrkc5b0CamZmZmQFvQI/C9Shcr29A4XoUrkdhb0Bcj8L1KARvQB+F61G4/m5ASOF6FK7PbkBxPQrXo/huQAAAAAAA2G5AexSuR+FabkDhehSuR2FuQLgehetRYG5AzczMzMxUbkB7FK5H4fJtQMP1KFyPqm1A9ihcj8JdbUBSuB6F62FtQKRwPQrXG21ApHA9Cte7bEBxPQrXo5BsQAAAAAAAoGxAKVyPwvWIbEBxPQrXo4BsQAAAAAAAIGxA16NwPQqHbECkcD0K1yNsQI/C9ShcB2xAj8L1KFwHbEAfhetRuF5sQI/C9Shcb2xA16NwPQrXa0BmZmZmZu5rQLgehetRwGtAhetRuB7da0CF61G4Hj1sQDMzMzMzw2xAPQrXo3A1bUDNzMzMzCxtQIXrUbge7WxACtejcD3SbEC4HoXrUdhsQOxRuB6Fe21Aj8L1KFyPbUAAAAAAAGBtQM3MzMzMBG1AKVyPwvX4bEAzMzMzMzttQJqZmZmZ6WxAmpmZmZlxbEA=",
           "dtype": "f8",
           "shape": "100"
          },
          "bdata": "CtejcD3ibUDD9Shcj2ptQEjhehSud21A9ihcj8J9bUApXI/C9cBtQHsUrkfhOm5AmpmZmZmpbUDsUbgehQtuQOF6FK5H4W5AMzMzMzPjbkCamZmZmbFuQMP1KFyPum5ApHA9CtebbkDXo3A9Co9uQDMzMzMzk25AKVyPwvUwbkCkcD0K15ttQKRwPQrXE21AzczMzMx0bEBcj8L1KHRsQNejcD0KJ21A16NwPQoPbUCamZmZmRltQLgehetRgGxAAAAAAACAbUB7FK5H4bJtQOxRuB6F621AuB6F61HIbUDsUbgehbtsQClcj8L12GtAhetRuB71a0DD9Shcj/prQBSuR+F61GtAj8L1KFy/bEC4HoXrUYhsQKRwPQrXu21AKVyPwvUobUDNzMzMzExtQDMzMzMzm21AZmZmZmZWbkAfhetRuEZuQAAAAAAAoG5A7FG4HoVrbkAzMzMzM3tuQD0K16NwTW9AZmZmZmaGb0B7FK5H4fJvQLgehetRMHBAMzMzMzMjcEBxPQrXo+hvQEjhehSuz29A4XoUrkc5b0CamZmZmQFvQI/C9Shcr29A4XoUrkdhb0Bcj8L1KARvQB+F61G4/m5ASOF6FK7PbkBxPQrXo/huQAAAAAAA2G5AexSuR+FabkDhehSuR2FuQLgehetRYG5AzczMzMxUbkB7FK5H4fJtQMP1KFyPqm1A9ihcj8JdbUBSuB6F62FtQKRwPQrXG21ApHA9Cte7bEBxPQrXo5BsQAAAAAAAoGxAKVyPwvWIbEBxPQrXo4BsQAAAAAAAIGxA16NwPQqHbECkcD0K1yNsQI/C9ShcB2xAj8L1KFwHbEAfhetRuF5sQI/C9Shcb2xA16NwPQrXa0BmZmZmZu5rQLgehetRwGtAhetRuB7da0CF61G4Hj1sQDMzMzMzw2xAPQrXo3A1bUDNzMzMzCxtQIXrUbge7WxACtejcD3SbEC4HoXrUdhsQOxRuB6Fe21Aj8L1KFyPbUAAAAAAAGBtQM3MzMzMBG1AKVyPwvX4bEAzMzMzMzttQJqZmZmZ6WxAmpmZmZlxbEA=",
          "dtype": "f8"
         },
         "yaxis": "y"
        },
        {
         "line": {
          "color": "tomato",
          "dash": "dot"
         },
         "name": "AAPL Volume",
         "type": "scatter",
         "x": [
          "2025-03-07T00:00:00.000000000",
          "2025-03-06T00:00:00.000000000",
          "2025-03-05T00:00:00.000000000",
          "2025-03-04T00:00:00.000000000",
          "2025-03-03T00:00:00.000000000",
          "2025-02-28T00:00:00.000000000",
          "2025-02-27T00:00:00.000000000",
          "2025-02-26T00:00:00.000000000",
          "2025-02-25T00:00:00.000000000",
          "2025-02-24T00:00:00.000000000",
          "2025-02-21T00:00:00.000000000",
          "2025-02-20T00:00:00.000000000",
          "2025-02-19T00:00:00.000000000",
          "2025-02-18T00:00:00.000000000",
          "2025-02-14T00:00:00.000000000",
          "2025-02-13T00:00:00.000000000",
          "2025-02-12T00:00:00.000000000",
          "2025-02-11T00:00:00.000000000",
          "2025-02-10T00:00:00.000000000",
          "2025-02-07T00:00:00.000000000",
          "2025-02-06T00:00:00.000000000",
          "2025-02-05T00:00:00.000000000",
          "2025-02-04T00:00:00.000000000",
          "2025-02-03T00:00:00.000000000",
          "2025-01-31T00:00:00.000000000",
          "2025-01-30T00:00:00.000000000",
          "2025-01-29T00:00:00.000000000",
          "2025-01-28T00:00:00.000000000",
          "2025-01-27T00:00:00.000000000",
          "2025-01-24T00:00:00.000000000",
          "2025-01-23T00:00:00.000000000",
          "2025-01-22T00:00:00.000000000",
          "2025-01-21T00:00:00.000000000",
          "2025-01-17T00:00:00.000000000",
          "2025-01-16T00:00:00.000000000",
          "2025-01-15T00:00:00.000000000",
          "2025-01-14T00:00:00.000000000",
          "2025-01-13T00:00:00.000000000",
          "2025-01-10T00:00:00.000000000",
          "2025-01-08T00:00:00.000000000",
          "2025-01-07T00:00:00.000000000",
          "2025-01-06T00:00:00.000000000",
          "2025-01-03T00:00:00.000000000",
          "2025-01-02T00:00:00.000000000",
          "2024-12-31T00:00:00.000000000",
          "2024-12-30T00:00:00.000000000",
          "2024-12-27T00:00:00.000000000",
          "2024-12-26T00:00:00.000000000",
          "2024-12-24T00:00:00.000000000",
          "2024-12-23T00:00:00.000000000",
          "2024-12-20T00:00:00.000000000",
          "2024-12-19T00:00:00.000000000",
          "2024-12-18T00:00:00.000000000",
          "2024-12-17T00:00:00.000000000",
          "2024-12-16T00:00:00.000000000",
          "2024-12-13T00:00:00.000000000",
          "2024-12-12T00:00:00.000000000",
          "2024-12-11T00:00:00.000000000",
          "2024-12-10T00:00:00.000000000",
          "2024-12-09T00:00:00.000000000",
          "2024-12-06T00:00:00.000000000",
          "2024-12-05T00:00:00.000000000",
          "2024-12-04T00:00:00.000000000",
          "2024-12-03T00:00:00.000000000",
          "2024-12-02T00:00:00.000000000",
          "2024-11-29T00:00:00.000000000",
          "2024-11-27T00:00:00.000000000",
          "2024-11-26T00:00:00.000000000",
          "2024-11-25T00:00:00.000000000",
          "2024-11-22T00:00:00.000000000",
          "2024-11-21T00:00:00.000000000",
          "2024-11-20T00:00:00.000000000",
          "2024-11-19T00:00:00.000000000",
          "2024-11-18T00:00:00.000000000",
          "2024-11-15T00:00:00.000000000",
          "2024-11-14T00:00:00.000000000",
          "2024-11-13T00:00:00.000000000",
          "2024-11-12T00:00:00.000000000",
          "2024-11-11T00:00:00.000000000",
          "2024-11-08T00:00:00.000000000",
          "2024-11-07T00:00:00.000000000",
          "2024-11-06T00:00:00.000000000",
          "2024-11-05T00:00:00.000000000",
          "2024-11-04T00:00:00.000000000",
          "2024-11-01T00:00:00.000000000",
          "2024-10-31T00:00:00.000000000",
          "2024-10-30T00:00:00.000000000",
          "2024-10-29T00:00:00.000000000",
          "2024-10-28T00:00:00.000000000",
          "2024-10-25T00:00:00.000000000",
          "2024-10-24T00:00:00.000000000",
          "2024-10-23T00:00:00.000000000",
          "2024-10-22T00:00:00.000000000",
          "2024-10-21T00:00:00.000000000",
          "2024-10-18T00:00:00.000000000",
          "2024-10-17T00:00:00.000000000",
          "2024-10-16T00:00:00.000000000",
          "2024-10-15T00:00:00.000000000",
          "2024-10-14T00:00:00.000000000",
          "2024-10-11T00:00:00.000000000"
         ],
         "xaxis": "x",
         "y": {
          "_inputArray": {
           "0": 46207306,
           "1": 45170419,
           "10": 53197431,
           "11": 32316907,
           "12": 32204215,
           "13": 48822491,
           "14": 40896227,
           "15": 53614054,
           "16": 45243292,
           "17": 53718362,
           "18": 33115645,
           "19": 39707224,
           "2": 47227643,
           "20": 29925349,
           "21": 39664989,
           "22": 45067301,
           "23": 73063301,
           "24": 101075128,
           "25": 55658279,
           "26": 45486100,
           "27": 75707569,
           "28": 94863418,
           "29": 54697907,
           "3": 53798062,
           "30": 60234760,
           "31": 64126500,
           "32": 98070429,
           "33": 68488301,
           "34": 71759052,
           "35": 39831969,
           "36": 39435294,
           "37": 49630725,
           "38": 61710856,
           "39": 37628940,
           "4": 47183985,
           "40": 40855960,
           "41": 45045571,
           "42": 40244114,
           "43": 55740731,
           "44": 39480718,
           "45": 35557542,
           "46": 42355321,
           "47": 27262983,
           "48": 23234705,
           "49": 40858774,
           "5": 56833360,
           "50": 147495267,
           "51": 60882264,
           "52": 56774101,
           "53": 51356360,
           "54": 51694753,
           "55": 33155290,
           "56": 32777532,
           "57": 45205814,
           "58": 36914806,
           "59": 44649232,
           "6": 41153639,
           "60": 36870619,
           "61": 40033878,
           "62": 44383935,
           "63": 38861017,
           "64": 48137103,
           "65": 28481377,
           "66": 33498439,
           "67": 45986189,
           "68": 90152832,
           "69": 38168252,
           "7": 44433564,
           "70": 42108327,
           "71": 35169566,
           "72": 36211774,
           "73": 44686020,
           "74": 47923696,
           "75": 44923941,
           "76": 48566217,
           "77": 40398299,
           "78": 42005602,
           "79": 38328824,
           "8": 48013272,
           "80": 42137691,
           "81": 54561121,
           "82": 28111338,
           "83": 44944468,
           "84": 65276741,
           "85": 64370086,
           "86": 47070907,
           "87": 35417247,
           "88": 36087134,
           "89": 38802304,
           "9": 51326396,
           "90": 31109503,
           "91": 52286979,
           "92": 38846578,
           "93": 36254470,
           "94": 46431472,
           "95": 32993810,
           "96": 34082240,
           "97": 64751367,
           "98": 39882085,
           "99": 31759188,
           "bdata": "AAAAUIoIhkEAAACY94mFQQAAANgXhYZBAAAAcCWniUEAAACIw3+GQQAAAICqGYtBAAAAOKOfg0EAAADgBDCFQQAAAMD+5IZBAAAA4G15iEEAAAC4012JQQAAALDe0X5BAAAAcFu2fkEAAADYxkeHQQAAABg3gINBAAAAMK+QiUEAAADg3JKFQQAAANBqnYlBAAAA0N+Uf0EAAADAEu+CQQAAAFD+iXxBAAAA6OrpgkEAAAAoYX2FQQAAABRua5FBAAAA4CIZmEEAAAA4OYqKQQAAAKCAsIVBAAAAxNIMkkEAAADoAJ6WQQAAAJj9FIpBAAAAQOC4jEEAAAAg8ZOOQQAAAHS+YZdBAAAAtDFUkEEAAAAw0xuRQQAAAAhN/oJBAAAA8ODNgkEAAAAocKqHQQAAAEAQbY1BAAAAYGDxgUEAAADATHuDQQAAABi6eoVBAAAAkJwwg0EAAADYSZSKQQAAAHBs04JBAAAAMIX0gEEAAADIUzKEQQAAAHAAAHpBAAAAEIkodkEAAACwpHuDQQAAAMYylaFBAAAAwOoHjUEAAACobhKLQQAAAEAWfYhBAAAACGWmiEEAAACgjZ5/QQAAAMBTQn9BAAAAsEmOhUEAAACwM5qBQQAAAIBYSoVBAAAA2M6UgUEAAACw8haDQQAAAPj1KYVBAAAAyMaHgkEAAAB4HPSGQQAAABB2KXtBAAAAcFTyf0EAAABojO2FQQAAAAB+fpVBAAAA4DUzgkEAAAA4LRSEQQAAAPAoxYBBAAAA8GFEgUEAAAAg1k6FQQAAAIAP2oZBAAAAKOFrhUEAAABIfiiHQQAAANhuQ4NBAAAAEKMHhEEAAADAz0aCQQAAANjCF4RBAAAACEsEikEAAACgHs96QQAAAKBiboVBAAAAKFogj0EAAAAwrbGOQQAAANj1cYZBAAAA+GTjgEEAAADwKjWBQQAAAACcgIJBAAAA8BerfUEAAAAYsO6IQQAAAJADhoJBAAAAMJhJgUEAAACA5yOGQQAAACAhd39BAAAAAG5AgEEAAAA4OOCOQQAAAChrBINBAAAAQLVJfkE=",
           "dtype": "f8",
           "shape": "100"
          },
          "bdata": "AAAAUIoIhkEAAACY94mFQQAAANgXhYZBAAAAcCWniUEAAACIw3+GQQAAAICqGYtBAAAAOKOfg0EAAADgBDCFQQAAAMD+5IZBAAAA4G15iEEAAAC4012JQQAAALDe0X5BAAAAcFu2fkEAAADYxkeHQQAAABg3gINBAAAAMK+QiUEAAADg3JKFQQAAANBqnYlBAAAA0N+Uf0EAAADAEu+CQQAAAFD+iXxBAAAA6OrpgkEAAAAoYX2FQQAAABRua5FBAAAA4CIZmEEAAAA4OYqKQQAAAKCAsIVBAAAAxNIMkkEAAADoAJ6WQQAAAJj9FIpBAAAAQOC4jEEAAAAg8ZOOQQAAAHS+YZdBAAAAtDFUkEEAAAAw0xuRQQAAAAhN/oJBAAAA8ODNgkEAAAAocKqHQQAAAEAQbY1BAAAAYGDxgUEAAADATHuDQQAAABi6eoVBAAAAkJwwg0EAAADYSZSKQQAAAHBs04JBAAAAMIX0gEEAAADIUzKEQQAAAHAAAHpBAAAAEIkodkEAAACwpHuDQQAAAMYylaFBAAAAwOoHjUEAAACobhKLQQAAAEAWfYhBAAAACGWmiEEAAACgjZ5/QQAAAMBTQn9BAAAAsEmOhUEAAACwM5qBQQAAAIBYSoVBAAAA2M6UgUEAAACw8haDQQAAAPj1KYVBAAAAyMaHgkEAAAB4HPSGQQAAABB2KXtBAAAAcFTyf0EAAABojO2FQQAAAAB+fpVBAAAA4DUzgkEAAAA4LRSEQQAAAPAoxYBBAAAA8GFEgUEAAAAg1k6FQQAAAIAP2oZBAAAAKOFrhUEAAABIfiiHQQAAANhuQ4NBAAAAEKMHhEEAAADAz0aCQQAAANjCF4RBAAAACEsEikEAAACgHs96QQAAAKBiboVBAAAAKFogj0EAAAAwrbGOQQAAANj1cYZBAAAA+GTjgEEAAADwKjWBQQAAAACcgIJBAAAA8BerfUEAAAAYsO6IQQAAAJADhoJBAAAAMJhJgUEAAACA5yOGQQAAACAhd39BAAAAAG5AgEEAAAA4OOCOQQAAAChrBINBAAAAQLVJfkE=",
          "dtype": "f8"
         },
         "yaxis": "y2"
        }
       ],
       "layout": {
        "autosize": true,
        "template": {
         "data": {
          "bar": [
           {
            "error_x": {
             "color": "#2a3f5f"
            },
            "error_y": {
             "color": "#2a3f5f"
            },
            "marker": {
             "line": {
              "color": "white",
              "width": 0.5
             },
             "pattern": {
              "fillmode": "overlay",
              "size": 10,
              "solidity": 0.2
             }
            },
            "type": "bar"
           }
          ],
          "barpolar": [
           {
            "marker": {
             "line": {
              "color": "white",
              "width": 0.5
             },
             "pattern": {
              "fillmode": "overlay",
              "size": 10,
              "solidity": 0.2
             }
            },
            "type": "barpolar"
           }
          ],
          "carpet": [
           {
            "aaxis": {
             "endlinecolor": "#2a3f5f",
             "gridcolor": "#C8D4E3",
             "linecolor": "#C8D4E3",
             "minorgridcolor": "#C8D4E3",
             "startlinecolor": "#2a3f5f"
            },
            "baxis": {
             "endlinecolor": "#2a3f5f",
             "gridcolor": "#C8D4E3",
             "linecolor": "#C8D4E3",
             "minorgridcolor": "#C8D4E3",
             "startlinecolor": "#2a3f5f"
            },
            "type": "carpet"
           }
          ],
          "choropleth": [
           {
            "colorbar": {
             "outlinewidth": 0,
             "ticks": ""
            },
            "type": "choropleth"
           }
          ],
          "contour": [
           {
            "colorbar": {
             "outlinewidth": 0,
             "ticks": ""
            },
            "colorscale": [
             [
              0,
              "#0d0887"
             ],
             [
              0.1111111111111111,
              "#46039f"
             ],
             [
              0.2222222222222222,
              "#7201a8"
             ],
             [
              0.3333333333333333,
              "#9c179e"
             ],
             [
              0.4444444444444444,
              "#bd3786"
             ],
             [
              0.5555555555555556,
              "#d8576b"
             ],
             [
              0.6666666666666666,
              "#ed7953"
             ],
             [
              0.7777777777777778,
              "#fb9f3a"
             ],
             [
              0.8888888888888888,
              "#fdca26"
             ],
             [
              1,
              "#f0f921"
             ]
            ],
            "type": "contour"
           }
          ],
          "contourcarpet": [
           {
            "colorbar": {
             "outlinewidth": 0,
             "ticks": ""
            },
            "type": "contourcarpet"
           }
          ],
          "heatmap": [
           {
            "colorbar": {
             "outlinewidth": 0,
             "ticks": ""
            },
            "colorscale": [
             [
              0,
              "#0d0887"
             ],
             [
              0.1111111111111111,
              "#46039f"
             ],
             [
              0.2222222222222222,
              "#7201a8"
             ],
             [
              0.3333333333333333,
              "#9c179e"
             ],
             [
              0.4444444444444444,
              "#bd3786"
             ],
             [
              0.5555555555555556,
              "#d8576b"
             ],
             [
              0.6666666666666666,
              "#ed7953"
             ],
             [
              0.7777777777777778,
              "#fb9f3a"
             ],
             [
              0.8888888888888888,
              "#fdca26"
             ],
             [
              1,
              "#f0f921"
             ]
            ],
            "type": "heatmap"
           }
          ],
          "histogram": [
           {
            "marker": {
             "pattern": {
              "fillmode": "overlay",
              "size": 10,
              "solidity": 0.2
             }
            },
            "type": "histogram"
           }
          ],
          "histogram2d": [
           {
            "colorbar": {
             "outlinewidth": 0,
             "ticks": ""
            },
            "colorscale": [
             [
              0,
              "#0d0887"
             ],
             [
              0.1111111111111111,
              "#46039f"
             ],
             [
              0.2222222222222222,
              "#7201a8"
             ],
             [
              0.3333333333333333,
              "#9c179e"
             ],
             [
              0.4444444444444444,
              "#bd3786"
             ],
             [
              0.5555555555555556,
              "#d8576b"
             ],
             [
              0.6666666666666666,
              "#ed7953"
             ],
             [
              0.7777777777777778,
              "#fb9f3a"
             ],
             [
              0.8888888888888888,
              "#fdca26"
             ],
             [
              1,
              "#f0f921"
             ]
            ],
            "type": "histogram2d"
           }
          ],
          "histogram2dcontour": [
           {
            "colorbar": {
             "outlinewidth": 0,
             "ticks": ""
            },
            "colorscale": [
             [
              0,
              "#0d0887"
             ],
             [
              0.1111111111111111,
              "#46039f"
             ],
             [
              0.2222222222222222,
              "#7201a8"
             ],
             [
              0.3333333333333333,
              "#9c179e"
             ],
             [
              0.4444444444444444,
              "#bd3786"
             ],
             [
              0.5555555555555556,
              "#d8576b"
             ],
             [
              0.6666666666666666,
              "#ed7953"
             ],
             [
              0.7777777777777778,
              "#fb9f3a"
             ],
             [
              0.8888888888888888,
              "#fdca26"
             ],
             [
              1,
              "#f0f921"
             ]
            ],
            "type": "histogram2dcontour"
           }
          ],
          "mesh3d": [
           {
            "colorbar": {
             "outlinewidth": 0,
             "ticks": ""
            },
            "type": "mesh3d"
           }
          ],
          "parcoords": [
           {
            "line": {
             "colorbar": {
              "outlinewidth": 0,
              "ticks": ""
             }
            },
            "type": "parcoords"
           }
          ],
          "pie": [
           {
            "automargin": true,
            "type": "pie"
           }
          ],
          "scatter": [
           {
            "fillpattern": {
             "fillmode": "overlay",
             "size": 10,
             "solidity": 0.2
            },
            "type": "scatter"
           }
          ],
          "scatter3d": [
           {
            "line": {
             "colorbar": {
              "outlinewidth": 0,
              "ticks": ""
             }
            },
            "marker": {
             "colorbar": {
              "outlinewidth": 0,
              "ticks": ""
             }
            },
            "type": "scatter3d"
           }
          ],
          "scattercarpet": [
           {
            "marker": {
             "colorbar": {
              "outlinewidth": 0,
              "ticks": ""
             }
            },
            "type": "scattercarpet"
           }
          ],
          "scattergeo": [
           {
            "marker": {
             "colorbar": {
              "outlinewidth": 0,
              "ticks": ""
             }
            },
            "type": "scattergeo"
           }
          ],
          "scattergl": [
           {
            "marker": {
             "colorbar": {
              "outlinewidth": 0,
              "ticks": ""
             }
            },
            "type": "scattergl"
           }
          ],
          "scattermap": [
           {
            "marker": {
             "colorbar": {
              "outlinewidth": 0,
              "ticks": ""
             }
            },
            "type": "scattermap"
           }
          ],
          "scattermapbox": [
           {
            "marker": {
             "colorbar": {
              "outlinewidth": 0,
              "ticks": ""
             }
            },
            "type": "scattermapbox"
           }
          ],
          "scatterpolar": [
           {
            "marker": {
             "colorbar": {
              "outlinewidth": 0,
              "ticks": ""
             }
            },
            "type": "scatterpolar"
           }
          ],
          "scatterpolargl": [
           {
            "marker": {
             "colorbar": {
              "outlinewidth": 0,
              "ticks": ""
             }
            },
            "type": "scatterpolargl"
           }
          ],
          "scatterternary": [
           {
            "marker": {
             "colorbar": {
              "outlinewidth": 0,
              "ticks": ""
             }
            },
            "type": "scatterternary"
           }
          ],
          "surface": [
           {
            "colorbar": {
             "outlinewidth": 0,
             "ticks": ""
            },
            "colorscale": [
             [
              0,
              "#0d0887"
             ],
             [
              0.1111111111111111,
              "#46039f"
             ],
             [
              0.2222222222222222,
              "#7201a8"
             ],
             [
              0.3333333333333333,
              "#9c179e"
             ],
             [
              0.4444444444444444,
              "#bd3786"
             ],
             [
              0.5555555555555556,
              "#d8576b"
             ],
             [
              0.6666666666666666,
              "#ed7953"
             ],
             [
              0.7777777777777778,
              "#fb9f3a"
             ],
             [
              0.8888888888888888,
              "#fdca26"
             ],
             [
              1,
              "#f0f921"
             ]
            ],
            "type": "surface"
           }
          ],
          "table": [
           {
            "cells": {
             "fill": {
              "color": "#EBF0F8"
             },
             "line": {
              "color": "white"
             }
            },
            "header": {
             "fill": {
              "color": "#C8D4E3"
             },
             "line": {
              "color": "white"
             }
            },
            "type": "table"
           }
          ]
         },
         "layout": {
          "annotationdefaults": {
           "arrowcolor": "#2a3f5f",
           "arrowhead": 0,
           "arrowwidth": 1
          },
          "autotypenumbers": "strict",
          "coloraxis": {
           "colorbar": {
            "outlinewidth": 0,
            "ticks": ""
           }
          },
          "colorscale": {
           "diverging": [
            [
             0,
             "#8e0152"
            ],
            [
             0.1,
             "#c51b7d"
            ],
            [
             0.2,
             "#de77ae"
            ],
            [
             0.3,
             "#f1b6da"
            ],
            [
             0.4,
             "#fde0ef"
            ],
            [
             0.5,
             "#f7f7f7"
            ],
            [
             0.6,
             "#e6f5d0"
            ],
            [
             0.7,
             "#b8e186"
            ],
            [
             0.8,
             "#7fbc41"
            ],
            [
             0.9,
             "#4d9221"
            ],
            [
             1,
             "#276419"
            ]
           ],
           "sequential": [
            [
             0,
             "#0d0887"
            ],
            [
             0.1111111111111111,
             "#46039f"
            ],
            [
             0.2222222222222222,
             "#7201a8"
            ],
            [
             0.3333333333333333,
             "#9c179e"
            ],
            [
             0.4444444444444444,
             "#bd3786"
            ],
            [
             0.5555555555555556,
             "#d8576b"
            ],
            [
             0.6666666666666666,
             "#ed7953"
            ],
            [
             0.7777777777777778,
             "#fb9f3a"
            ],
            [
             0.8888888888888888,
             "#fdca26"
            ],
            [
             1,
             "#f0f921"
            ]
           ],
           "sequentialminus": [
            [
             0,
             "#0d0887"
            ],
            [
             0.1111111111111111,
             "#46039f"
            ],
            [
             0.2222222222222222,
             "#7201a8"
            ],
            [
             0.3333333333333333,
             "#9c179e"
            ],
            [
             0.4444444444444444,
             "#bd3786"
            ],
            [
             0.5555555555555556,
             "#d8576b"
            ],
            [
             0.6666666666666666,
             "#ed7953"
            ],
            [
             0.7777777777777778,
             "#fb9f3a"
            ],
            [
             0.8888888888888888,
             "#fdca26"
            ],
            [
             1,
             "#f0f921"
            ]
           ]
          },
          "colorway": [
           "#636efa",
           "#EF553B",
           "#00cc96",
           "#ab63fa",
           "#FFA15A",
           "#19d3f3",
           "#FF6692",
           "#B6E880",
           "#FF97FF",
           "#FECB52"
          ],
          "font": {
           "color": "#2a3f5f"
          },
          "geo": {
           "bgcolor": "white",
           "lakecolor": "white",
           "landcolor": "white",
           "showlakes": true,
           "showland": true,
           "subunitcolor": "#C8D4E3"
          },
          "hoverlabel": {
           "align": "left"
          },
          "hovermode": "closest",
          "mapbox": {
           "style": "light"
          },
          "paper_bgcolor": "white",
          "plot_bgcolor": "white",
          "polar": {
           "angularaxis": {
            "gridcolor": "#EBF0F8",
            "linecolor": "#EBF0F8",
            "ticks": ""
           },
           "bgcolor": "white",
           "radialaxis": {
            "gridcolor": "#EBF0F8",
            "linecolor": "#EBF0F8",
            "ticks": ""
           }
          },
          "scene": {
           "xaxis": {
            "backgroundcolor": "white",
            "gridcolor": "#DFE8F3",
            "gridwidth": 2,
            "linecolor": "#EBF0F8",
            "showbackground": true,
            "ticks": "",
            "zerolinecolor": "#EBF0F8"
           },
           "yaxis": {
            "backgroundcolor": "white",
            "gridcolor": "#DFE8F3",
            "gridwidth": 2,
            "linecolor": "#EBF0F8",
            "showbackground": true,
            "ticks": "",
            "zerolinecolor": "#EBF0F8"
           },
           "zaxis": {
            "backgroundcolor": "white",
            "gridcolor": "#DFE8F3",
            "gridwidth": 2,
            "linecolor": "#EBF0F8",
            "showbackground": true,
            "ticks": "",
            "zerolinecolor": "#EBF0F8"
           }
          },
          "shapedefaults": {
           "line": {
            "color": "#2a3f5f"
           }
          },
          "ternary": {
           "aaxis": {
            "gridcolor": "#DFE8F3",
            "linecolor": "#A2B1C6",
            "ticks": ""
           },
           "baxis": {
            "gridcolor": "#DFE8F3",
            "linecolor": "#A2B1C6",
            "ticks": ""
           },
           "bgcolor": "white",
           "caxis": {
            "gridcolor": "#DFE8F3",
            "linecolor": "#A2B1C6",
            "ticks": ""
           }
          },
          "title": {
           "x": 0.05
          },
          "xaxis": {
           "automargin": true,
           "gridcolor": "#EBF0F8",
           "linecolor": "#EBF0F8",
           "ticks": "",
           "title": {
            "standoff": 15
           },
           "zerolinecolor": "#EBF0F8",
           "zerolinewidth": 2
          },
          "yaxis": {
           "automargin": true,
           "gridcolor": "#EBF0F8",
           "linecolor": "#EBF0F8",
           "ticks": "",
           "title": {
            "standoff": 15
           },
           "zerolinecolor": "#EBF0F8",
           "zerolinewidth": 2
          }
         }
        },
        "title": {
         "text": "AAPL Stock Closing Prices and Volume"
        },
        "xaxis": {
         "anchor": "y",
         "autorange": true,
         "domain": [
          0,
          0.94
         ],
         "linecolor": "black",
         "linewidth": 2,
         "mirror": true,
         "range": [
          "2024-10-11",
          "2025-03-07"
         ],
         "showline": true,
         "title": {
          "text": "Date"
         },
         "type": "date"
        },
        "yaxis": {
         "anchor": "x",
         "autorange": true,
         "domain": [
          0,
          1
         ],
         "linecolor": "blue",
         "linewidth": 2,
         "mirror": true,
         "range": [
          0,
          272.65263157894736
         ],
         "rangemode": "tozero",
         "showline": true,
         "title": {
          "text": "<b>AAPL Close Price</b>"
         },
         "type": "linear"
        },
        "yaxis2": {
         "anchor": "x",
         "autorange": true,
         "linecolor": "red",
         "linewidth": 2,
         "mirror": true,
         "overlaying": "y",
         "range": [
          0,
          155258175.78947368
         ],
         "rangemode": "tozero",
         "showline": true,
         "side": "right",
         "title": {
          "text": "<b>AAPL Volume</b>"
         },
         "type": "linear"
        }
       }
      },
      "image/png": "[encoded data removed]"
     },
     "metadata": {},
     "output_type": "display_data"
    },
    {
     "data": {
      "application/vnd.plotly.v1+json": {
       "config": {
        "plotlyServerURL": "https://plot.ly"
       },
       "data": [
        {
         "line": {
          "color": "royalblue"
         },
         "name": "NVDA Close Price",
         "type": "scatter",
         "x": [
          "2025-03-07T00:00:00.000000000",
          "2025-03-06T00:00:00.000000000",
          "2025-03-05T00:00:00.000000000",
          "2025-03-04T00:00:00.000000000",
          "2025-03-03T00:00:00.000000000",
          "2025-02-28T00:00:00.000000000",
          "2025-02-27T00:00:00.000000000",
          "2025-02-26T00:00:00.000000000",
          "2025-02-25T00:00:00.000000000",
          "2025-02-24T00:00:00.000000000",
          "2025-02-21T00:00:00.000000000",
          "2025-02-20T00:00:00.000000000",
          "2025-02-19T00:00:00.000000000",
          "2025-02-18T00:00:00.000000000",
          "2025-02-14T00:00:00.000000000",
          "2025-02-13T00:00:00.000000000",
          "2025-02-12T00:00:00.000000000",
          "2025-02-11T00:00:00.000000000",
          "2025-02-10T00:00:00.000000000",
          "2025-02-07T00:00:00.000000000",
          "2025-02-06T00:00:00.000000000",
          "2025-02-05T00:00:00.000000000",
          "2025-02-04T00:00:00.000000000",
          "2025-02-03T00:00:00.000000000",
          "2025-01-31T00:00:00.000000000",
          "2025-01-30T00:00:00.000000000",
          "2025-01-29T00:00:00.000000000",
          "2025-01-28T00:00:00.000000000",
          "2025-01-27T00:00:00.000000000",
          "2025-01-24T00:00:00.000000000",
          "2025-01-23T00:00:00.000000000",
          "2025-01-22T00:00:00.000000000",
          "2025-01-21T00:00:00.000000000",
          "2025-01-17T00:00:00.000000000",
          "2025-01-16T00:00:00.000000000",
          "2025-01-15T00:00:00.000000000",
          "2025-01-14T00:00:00.000000000",
          "2025-01-13T00:00:00.000000000",
          "2025-01-10T00:00:00.000000000",
          "2025-01-08T00:00:00.000000000",
          "2025-01-07T00:00:00.000000000",
          "2025-01-06T00:00:00.000000000",
          "2025-01-03T00:00:00.000000000",
          "2025-01-02T00:00:00.000000000",
          "2024-12-31T00:00:00.000000000",
          "2024-12-30T00:00:00.000000000",
          "2024-12-27T00:00:00.000000000",
          "2024-12-26T00:00:00.000000000",
          "2024-12-24T00:00:00.000000000",
          "2024-12-23T00:00:00.000000000",
          "2024-12-20T00:00:00.000000000",
          "2024-12-19T00:00:00.000000000",
          "2024-12-18T00:00:00.000000000",
          "2024-12-17T00:00:00.000000000",
          "2024-12-16T00:00:00.000000000",
          "2024-12-13T00:00:00.000000000",
          "2024-12-12T00:00:00.000000000",
          "2024-12-11T00:00:00.000000000",
          "2024-12-10T00:00:00.000000000",
          "2024-12-09T00:00:00.000000000",
          "2024-12-06T00:00:00.000000000",
          "2024-12-05T00:00:00.000000000",
          "2024-12-04T00:00:00.000000000",
          "2024-12-03T00:00:00.000000000",
          "2024-12-02T00:00:00.000000000",
          "2024-11-29T00:00:00.000000000",
          "2024-11-27T00:00:00.000000000",
          "2024-11-26T00:00:00.000000000",
          "2024-11-25T00:00:00.000000000",
          "2024-11-22T00:00:00.000000000",
          "2024-11-21T00:00:00.000000000",
          "2024-11-20T00:00:00.000000000",
          "2024-11-19T00:00:00.000000000",
          "2024-11-18T00:00:00.000000000",
          "2024-11-15T00:00:00.000000000",
          "2024-11-14T00:00:00.000000000",
          "2024-11-13T00:00:00.000000000",
          "2024-11-12T00:00:00.000000000",
          "2024-11-11T00:00:00.000000000",
          "2024-11-08T00:00:00.000000000",
          "2024-11-07T00:00:00.000000000",
          "2024-11-06T00:00:00.000000000",
          "2024-11-05T00:00:00.000000000",
          "2024-11-04T00:00:00.000000000",
          "2024-11-01T00:00:00.000000000",
          "2024-10-31T00:00:00.000000000",
          "2024-10-30T00:00:00.000000000",
          "2024-10-29T00:00:00.000000000",
          "2024-10-28T00:00:00.000000000",
          "2024-10-25T00:00:00.000000000",
          "2024-10-24T00:00:00.000000000",
          "2024-10-23T00:00:00.000000000",
          "2024-10-22T00:00:00.000000000",
          "2024-10-21T00:00:00.000000000",
          "2024-10-18T00:00:00.000000000",
          "2024-10-17T00:00:00.000000000",
          "2024-10-16T00:00:00.000000000",
          "2024-10-15T00:00:00.000000000",
          "2024-10-14T00:00:00.000000000",
          "2024-10-11T00:00:00.000000000"
         ],
         "xaxis": "x",
         "y": {
          "_inputArray": {
           "0": 112.69,
           "1": 110.57,
           "10": 134.43,
           "11": 140.11,
           "12": 139.23,
           "13": 139.4,
           "14": 138.85,
           "15": 135.29,
           "16": 131.14,
           "17": 132.8,
           "18": 133.57,
           "19": 129.84,
           "2": 117.3,
           "20": 128.68,
           "21": 124.83,
           "22": 118.65,
           "23": 116.66,
           "24": 120.07,
           "25": 124.65,
           "26": 123.7,
           "27": 128.99,
           "28": 118.42,
           "29": 142.62,
           "3": 115.99,
           "30": 147.22,
           "31": 147.07,
           "32": 140.83,
           "33": 137.71,
           "34": 133.57,
           "35": 136.24,
           "36": 131.76,
           "37": 133.23,
           "38": 135.91,
           "39": 140.11,
           "4": 114.06,
           "40": 140.14,
           "41": 149.43,
           "42": 144.47,
           "43": 138.31,
           "44": 134.29,
           "45": 137.49,
           "46": 137.01,
           "47": 139.93,
           "48": 140.22,
           "49": 139.67,
           "5": 124.92,
           "50": 134.7,
           "51": 130.68,
           "52": 128.91,
           "53": 130.39,
           "54": 132,
           "55": 134.25,
           "56": 137.34,
           "57": 139.31,
           "58": 135.07,
           "59": 138.81,
           "6": 120.15,
           "60": 142.44,
           "61": 145.06,
           "62": 145.14,
           "63": 140.26,
           "64": 138.63,
           "65": 138.25,
           "66": 135.34,
           "67": 136.92,
           "68": 136.02,
           "69": 141.95,
           "7": 131.28,
           "70": 146.67,
           "71": 145.89,
           "72": 147.01,
           "73": 140.15,
           "74": 141.98,
           "75": 146.76,
           "76": 146.27,
           "77": 148.29,
           "78": 145.26,
           "79": 147.63,
           "8": 126.63,
           "80": 148.88,
           "81": 145.61,
           "82": 139.91,
           "83": 136.05,
           "84": 135.4,
           "85": 132.76,
           "86": 139.335,
           "87": 141.25,
           "88": 140.52,
           "89": 141.54,
           "9": 130.28,
           "90": 140.41,
           "91": 139.56,
           "92": 143.59,
           "93": 143.71,
           "94": 138,
           "95": 136.93,
           "96": 135.72,
           "97": 131.6,
           "98": 138.07,
           "99": 134.8,
           "bdata": "XI/C9SgsXEAUrkfheqRbQDMzMzMzU11Aj8L1KFz/XECkcD0K14NcQHsUrkfhOl9AmpmZmZkJXkApXI/C9WhgQLgehetRqF9AKVyPwvVIYED2KFyPws1gQOxRuB6Fg2FAj8L1KFxnYUDNzMzMzGxhQDMzMzMzW2FA4XoUrkfpYEAUrkfhemRgQJqZmZmZmWBACtejcD2yYEB7FK5H4TpgQPYoXI/CFWBAhetRuB41X0CamZmZmaldQArXo3A9Kl1AFK5H4XoEXkCamZmZmSlfQM3MzMzM7F5ASOF6FK4fYEB7FK5H4ZpdQKRwPQrX02FA16NwPQpnYkAK16NwPWJiQMP1KFyPmmFAH4XrUbg2YUAK16NwPbJgQEjhehSuB2FAuB6F61F4YECPwvUoXKdgQIXrUbge/WBA7FG4HoWDYUAUrkfheoRhQPYoXI/CrWJA16NwPQoPYkBSuB6F60lhQOF6FK5HyWBASOF6FK4vYUC4HoXrUSBhQPYoXI/CfWFA16NwPQqHYUA9CtejcHVhQGZmZmZm1mBA9ihcj8JVYECF61G4Hh1gQBSuR+F6TGBAAAAAAACAYEAAAAAAAMhgQHsUrkfhKmFAUrgehetpYUAK16NwPeJgQFK4HoXrWWFArkfhehTOYUBSuB6F6yFiQBSuR+F6JGJAuB6F61GIYUBcj8L1KFRhQAAAAAAASGFAexSuR+HqYEA9CtejcB1hQHE9CtejAGFAZmZmZma+YUA9CtejcFViQBSuR+F6PGJAuB6F61FgYkDNzMzMzIRhQI/C9Shcv2FAuB6F61FYYkBxPQrXo0hiQOF6FK5HiWJAuB6F61EoYkBcj8L1KHRiQFyPwvUonGJA7FG4HoUzYkCF61G4Hn1hQJqZmZmZAWFAzczMzMzsYEC4HoXrUZhgQB+F61G4amFAAAAAAACoYUBxPQrXo5BhQOF6FK5HsWFAhetRuB6NYUBSuB6F63FhQHsUrkfh8mFAH4XrUbj2YUAAAAAAAEBhQPYoXI/CHWFA16NwPQr3YEAzMzMzM3NgQArXo3A9QmFAmpmZmZnZYEA=",
           "dtype": "f8",
           "shape": "100"
          },
          "bdata": "XI/C9SgsXEAUrkfheqRbQDMzMzMzU11Aj8L1KFz/XECkcD0K14NcQHsUrkfhOl9AmpmZmZkJXkApXI/C9WhgQLgehetRqF9AKVyPwvVIYED2KFyPws1gQOxRuB6Fg2FAj8L1KFxnYUDNzMzMzGxhQDMzMzMzW2FA4XoUrkfpYEAUrkfhemRgQJqZmZmZmWBACtejcD2yYEB7FK5H4TpgQPYoXI/CFWBAhetRuB41X0CamZmZmaldQArXo3A9Kl1AFK5H4XoEXkCamZmZmSlfQM3MzMzM7F5ASOF6FK4fYEB7FK5H4ZpdQKRwPQrX02FA16NwPQpnYkAK16NwPWJiQMP1KFyPmmFAH4XrUbg2YUAK16NwPbJgQEjhehSuB2FAuB6F61F4YECPwvUoXKdgQIXrUbge/WBA7FG4HoWDYUAUrkfheoRhQPYoXI/CrWJA16NwPQoPYkBSuB6F60lhQOF6FK5HyWBASOF6FK4vYUC4HoXrUSBhQPYoXI/CfWFA16NwPQqHYUA9CtejcHVhQGZmZmZm1mBA9ihcj8JVYECF61G4Hh1gQBSuR+F6TGBAAAAAAACAYEAAAAAAAMhgQHsUrkfhKmFAUrgehetpYUAK16NwPeJgQFK4HoXrWWFArkfhehTOYUBSuB6F6yFiQBSuR+F6JGJAuB6F61GIYUBcj8L1KFRhQAAAAAAASGFAexSuR+HqYEA9CtejcB1hQHE9CtejAGFAZmZmZma+YUA9CtejcFViQBSuR+F6PGJAuB6F61FgYkDNzMzMzIRhQI/C9Shcv2FAuB6F61FYYkBxPQrXo0hiQOF6FK5HiWJAuB6F61EoYkBcj8L1KHRiQFyPwvUonGJA7FG4HoUzYkCF61G4Hn1hQJqZmZmZAWFAzczMzMzsYEC4HoXrUZhgQB+F61G4amFAAAAAAACoYUBxPQrXo5BhQOF6FK5HsWFAhetRuB6NYUBSuB6F63FhQHsUrkfh8mFAH4XrUbj2YUAAAAAAAEBhQPYoXI/CHWFA16NwPQr3YEAzMzMzM3NgQArXo3A9QmFAmpmZmZnZYEA=",
          "dtype": "f8"
         },
         "yaxis": "y"
        },
        {
         "line": {
          "color": "tomato",
          "dash": "dot"
         },
         "name": "NVDA Volume",
         "type": "scatter",
         "x": [
          "2025-03-07T00:00:00.000000000",
          "2025-03-06T00:00:00.000000000",
          "2025-03-05T00:00:00.000000000",
          "2025-03-04T00:00:00.000000000",
          "2025-03-03T00:00:00.000000000",
          "2025-02-28T00:00:00.000000000",
          "2025-02-27T00:00:00.000000000",
          "2025-02-26T00:00:00.000000000",
          "2025-02-25T00:00:00.000000000",
          "2025-02-24T00:00:00.000000000",
          "2025-02-21T00:00:00.000000000",
          "2025-02-20T00:00:00.000000000",
          "2025-02-19T00:00:00.000000000",
          "2025-02-18T00:00:00.000000000",
          "2025-02-14T00:00:00.000000000",
          "2025-02-13T00:00:00.000000000",
          "2025-02-12T00:00:00.000000000",
          "2025-02-11T00:00:00.000000000",
          "2025-02-10T00:00:00.000000000",
          "2025-02-07T00:00:00.000000000",
          "2025-02-06T00:00:00.000000000",
          "2025-02-05T00:00:00.000000000",
          "2025-02-04T00:00:00.000000000",
          "2025-02-03T00:00:00.000000000",
          "2025-01-31T00:00:00.000000000",
          "2025-01-30T00:00:00.000000000",
          "2025-01-29T00:00:00.000000000",
          "2025-01-28T00:00:00.000000000",
          "2025-01-27T00:00:00.000000000",
          "2025-01-24T00:00:00.000000000",
          "2025-01-23T00:00:00.000000000",
          "2025-01-22T00:00:00.000000000",
          "2025-01-21T00:00:00.000000000",
          "2025-01-17T00:00:00.000000000",
          "2025-01-16T00:00:00.000000000",
          "2025-01-15T00:00:00.000000000",
          "2025-01-14T00:00:00.000000000",
          "2025-01-13T00:00:00.000000000",
          "2025-01-10T00:00:00.000000000",
          "2025-01-08T00:00:00.000000000",
          "2025-01-07T00:00:00.000000000",
          "2025-01-06T00:00:00.000000000",
          "2025-01-03T00:00:00.000000000",
          "2025-01-02T00:00:00.000000000",
          "2024-12-31T00:00:00.000000000",
          "2024-12-30T00:00:00.000000000",
          "2024-12-27T00:00:00.000000000",
          "2024-12-26T00:00:00.000000000",
          "2024-12-24T00:00:00.000000000",
          "2024-12-23T00:00:00.000000000",
          "2024-12-20T00:00:00.000000000",
          "2024-12-19T00:00:00.000000000",
          "2024-12-18T00:00:00.000000000",
          "2024-12-17T00:00:00.000000000",
          "2024-12-16T00:00:00.000000000",
          "2024-12-13T00:00:00.000000000",
          "2024-12-12T00:00:00.000000000",
          "2024-12-11T00:00:00.000000000",
          "2024-12-10T00:00:00.000000000",
          "2024-12-09T00:00:00.000000000",
          "2024-12-06T00:00:00.000000000",
          "2024-12-05T00:00:00.000000000",
          "2024-12-04T00:00:00.000000000",
          "2024-12-03T00:00:00.000000000",
          "2024-12-02T00:00:00.000000000",
          "2024-11-29T00:00:00.000000000",
          "2024-11-27T00:00:00.000000000",
          "2024-11-26T00:00:00.000000000",
          "2024-11-25T00:00:00.000000000",
          "2024-11-22T00:00:00.000000000",
          "2024-11-21T00:00:00.000000000",
          "2024-11-20T00:00:00.000000000",
          "2024-11-19T00:00:00.000000000",
          "2024-11-18T00:00:00.000000000",
          "2024-11-15T00:00:00.000000000",
          "2024-11-14T00:00:00.000000000",
          "2024-11-13T00:00:00.000000000",
          "2024-11-12T00:00:00.000000000",
          "2024-11-11T00:00:00.000000000",
          "2024-11-08T00:00:00.000000000",
          "2024-11-07T00:00:00.000000000",
          "2024-11-06T00:00:00.000000000",
          "2024-11-05T00:00:00.000000000",
          "2024-11-04T00:00:00.000000000",
          "2024-11-01T00:00:00.000000000",
          "2024-10-31T00:00:00.000000000",
          "2024-10-30T00:00:00.000000000",
          "2024-10-29T00:00:00.000000000",
          "2024-10-28T00:00:00.000000000",
          "2024-10-25T00:00:00.000000000",
          "2024-10-24T00:00:00.000000000",
          "2024-10-23T00:00:00.000000000",
          "2024-10-22T00:00:00.000000000",
          "2024-10-21T00:00:00.000000000",
          "2024-10-18T00:00:00.000000000",
          "2024-10-17T00:00:00.000000000",
          "2024-10-16T00:00:00.000000000",
          "2024-10-15T00:00:00.000000000",
          "2024-10-14T00:00:00.000000000",
          "2024-10-11T00:00:00.000000000"
         ],
         "xaxis": "x",
         "y": {
          "_inputArray": {
           "0": 340527752,
           "1": 321181861,
           "10": 228217585,
           "11": 143903583,
           "12": 167536006,
           "13": 219176627,
           "14": 195479557,
           "15": 197429975,
           "16": 160278552,
           "17": 178902379,
           "18": 216989086,
           "19": 228186298,
           "2": 284337886,
           "20": 251483574,
           "21": 263110629,
           "22": 256550040,
           "23": 371235677,
           "24": 390372899,
           "25": 392925469,
           "26": 467120640,
           "27": 579666350,
           "28": 818830895,
           "29": 234657635,
           "3": 398163305,
           "30": 155915549,
           "31": 237651395,
           "32": 197748985,
           "33": 201188760,
           "34": 209235583,
           "35": 185217338,
           "36": 195590485,
           "37": 204808914,
           "38": 207602514,
           "39": 227349948,
           "4": 411381373,
           "40": 351782174,
           "41": 265377359,
           "42": 229322478,
           "43": 198247166,
           "44": 155659211,
           "45": 167734700,
           "46": 170582603,
           "47": 116519090,
           "48": 105156989,
           "49": 176053506,
           "5": 389091145,
           "50": 306528553,
           "51": 209719210,
           "52": 277444533,
           "53": 259410263,
           "54": 237951130,
           "55": 231514881,
           "56": 159211393,
           "57": 184905192,
           "58": 210020888,
           "59": 189308625,
           "6": 443175846,
           "60": 188505573,
           "61": 172621180,
           "62": 231224295,
           "63": 164413965,
           "64": 171682777,
           "65": 141863156,
           "66": 226370912,
           "67": 190287654,
           "68": 344941875,
           "69": 236406154,
           "7": 322553814,
           "70": 400946570,
           "71": 309871654,
           "72": 227834912,
           "73": 221865993,
           "74": 250132869,
           "75": 194463301,
           "76": 191903267,
           "77": 198634738,
           "78": 182325620,
           "79": 175665830,
           "8": 271428711,
           "80": 207323303,
           "81": 242043945,
           "82": 160537373,
           "83": 187528173,
           "84": 207127838,
           "85": 270039641,
           "86": 179418082,
           "87": 157593634,
           "88": 173586745,
           "89": 205122109,
           "9": 251381137,
           "90": 172354888,
           "91": 285930038,
           "92": 226311589,
           "93": 264554514,
           "94": 176090184,
           "95": 306435921,
           "96": 264879720,
           "97": 377831021,
           "98": 232347668,
           "99": 170209474,
           "bdata": "AAAAiApMtEEAAACl2CSzQQAAAN6m8rBBAAAAaX27t0EAAAB9LoW4QQAAAEkPMbdBAAAAplNqukEAAADWxzmzQQAAAGesLbBBAAAAIov3rUEAAADipTSrQQAAAL6WJ6FBAAAADMv4o0EAAABmvSCqQQAAAAqQTadBAAAArhWJp0EAAAAwUBujQQAAANaqU6VBAAAAPPvdqUEAAAB0sTOrQQAAAGyr+q1BAAAAyn9dr0EAAAAwSZWuQQAAAF2bILZBAAAAI55Et0EAAAAdkWu3QQAAAACy17tBAAAA14BGwUEAAIAXL2fIQQAAAMYu+atBAAAAOiqWokEAAACGi1SsQQAAAPLRkqdBAAAAMMv7p0EAAAD+XPGoQQAAAHRiFKZBAAAAqvJQp0EAAACkRWqoQQAAAKSGv6hBAAAAeCsaq0EAAAAexfe0QQAAAJ6soq9BAAAA3F1Wq0EAAAD8BaKnQQAAAJZXjqJBAAAAWNv+o0EAAACWxFWkQQAAAMjCx5tBAAAA9EUSmUEAAAAEuvykQQAAAClBRbJBAAAAVB8AqUEAAAC1d4mwQQAAAK6S7K5BAAAANLFdrEEAAAACRpmrQQAAAAK/+qJBAAAA0NsKpkEAAAAwVAmpQQAAAKI9kaZBAAAAyrt4pkEAAAD4+pOkQQAAAM5nkKtBAAAAGoSZo0EAAACyV3ekQQAAAOhR6aBBAAAAwEr8qkEAAABMHq+mQQAAADNlj7RBAAAAFIsurEEAAACK9eW3QQAAACZEeLJBAAAAQPgoq0EAAAAS0HKqQQAAAApz0a1BAAAAiowup0EAAABGbOCmQQAAAOTZradBAAAA6CK8pUEAAABM5fCkQQAAAE4Bt6hBAAAAUpjarEEAAAA6NiOjQQAAANrnWqZBAAAAPAqxqEEAAABZehiwQQAAAMRnY6VBAAAARGDJokEAAABycrGkQQAAAHrUc6hBAAAAkNqLpEEAAAA28gqxQQAAAEp7+qpBAAAAJJCJr0EAAACQ2P2kQQAAAFHXQ7JBAAAA0HyTr0EAAABtPoW2QQAAACiwsqtBAAAAhGFKpEE=",
           "dtype": "f8",
           "shape": "100"
          },
          "bdata": "AAAAiApMtEEAAACl2CSzQQAAAN6m8rBBAAAAaX27t0EAAAB9LoW4QQAAAEkPMbdBAAAAplNqukEAAADWxzmzQQAAAGesLbBBAAAAIov3rUEAAADipTSrQQAAAL6WJ6FBAAAADMv4o0EAAABmvSCqQQAAAAqQTadBAAAArhWJp0EAAAAwUBujQQAAANaqU6VBAAAAPPvdqUEAAAB0sTOrQQAAAGyr+q1BAAAAyn9dr0EAAAAwSZWuQQAAAF2bILZBAAAAI55Et0EAAAAdkWu3QQAAAACy17tBAAAA14BGwUEAAIAXL2fIQQAAAMYu+atBAAAAOiqWokEAAACGi1SsQQAAAPLRkqdBAAAAMMv7p0EAAAD+XPGoQQAAAHRiFKZBAAAAqvJQp0EAAACkRWqoQQAAAKSGv6hBAAAAeCsaq0EAAAAexfe0QQAAAJ6soq9BAAAA3F1Wq0EAAAD8BaKnQQAAAJZXjqJBAAAAWNv+o0EAAACWxFWkQQAAAMjCx5tBAAAA9EUSmUEAAAAEuvykQQAAAClBRbJBAAAAVB8AqUEAAAC1d4mwQQAAAK6S7K5BAAAANLFdrEEAAAACRpmrQQAAAAK/+qJBAAAA0NsKpkEAAAAwVAmpQQAAAKI9kaZBAAAAyrt4pkEAAAD4+pOkQQAAAM5nkKtBAAAAGoSZo0EAAACyV3ekQQAAAOhR6aBBAAAAwEr8qkEAAABMHq+mQQAAADNlj7RBAAAAFIsurEEAAACK9eW3QQAAACZEeLJBAAAAQPgoq0EAAAAS0HKqQQAAAApz0a1BAAAAiowup0EAAABGbOCmQQAAAOTZradBAAAA6CK8pUEAAABM5fCkQQAAAE4Bt6hBAAAAUpjarEEAAAA6NiOjQQAAANrnWqZBAAAAPAqxqEEAAABZehiwQQAAAMRnY6VBAAAARGDJokEAAABycrGkQQAAAHrUc6hBAAAAkNqLpEEAAAA28gqxQQAAAEp7+qpBAAAAJJCJr0EAAACQ2P2kQQAAAFHXQ7JBAAAA0HyTr0EAAABtPoW2QQAAACiwsqtBAAAAhGFKpEE=",
          "dtype": "f8"
         },
         "yaxis": "y2"
        }
       ],
       "layout": {
        "autosize": true,
        "template": {
         "data": {
          "bar": [
           {
            "error_x": {
             "color": "#2a3f5f"
            },
            "error_y": {
             "color": "#2a3f5f"
            },
            "marker": {
             "line": {
              "color": "white",
              "width": 0.5
             },
             "pattern": {
              "fillmode": "overlay",
              "size": 10,
              "solidity": 0.2
             }
            },
            "type": "bar"
           }
          ],
          "barpolar": [
           {
            "marker": {
             "line": {
              "color": "white",
              "width": 0.5
             },
             "pattern": {
              "fillmode": "overlay",
              "size": 10,
              "solidity": 0.2
             }
            },
            "type": "barpolar"
           }
          ],
          "carpet": [
           {
            "aaxis": {
             "endlinecolor": "#2a3f5f",
             "gridcolor": "#C8D4E3",
             "linecolor": "#C8D4E3",
             "minorgridcolor": "#C8D4E3",
             "startlinecolor": "#2a3f5f"
            },
            "baxis": {
             "endlinecolor": "#2a3f5f",
             "gridcolor": "#C8D4E3",
             "linecolor": "#C8D4E3",
             "minorgridcolor": "#C8D4E3",
             "startlinecolor": "#2a3f5f"
            },
            "type": "carpet"
           }
          ],
          "choropleth": [
           {
            "colorbar": {
             "outlinewidth": 0,
             "ticks": ""
            },
            "type": "choropleth"
           }
          ],
          "contour": [
           {
            "colorbar": {
             "outlinewidth": 0,
             "ticks": ""
            },
            "colorscale": [
             [
              0,
              "#0d0887"
             ],
             [
              0.1111111111111111,
              "#46039f"
             ],
             [
              0.2222222222222222,
              "#7201a8"
             ],
             [
              0.3333333333333333,
              "#9c179e"
             ],
             [
              0.4444444444444444,
              "#bd3786"
             ],
             [
              0.5555555555555556,
              "#d8576b"
             ],
             [
              0.6666666666666666,
              "#ed7953"
             ],
             [
              0.7777777777777778,
              "#fb9f3a"
             ],
             [
              0.8888888888888888,
              "#fdca26"
             ],
             [
              1,
              "#f0f921"
             ]
            ],
            "type": "contour"
           }
          ],
          "contourcarpet": [
           {
            "colorbar": {
             "outlinewidth": 0,
             "ticks": ""
            },
            "type": "contourcarpet"
           }
          ],
          "heatmap": [
           {
            "colorbar": {
             "outlinewidth": 0,
             "ticks": ""
            },
            "colorscale": [
             [
              0,
              "#0d0887"
             ],
             [
              0.1111111111111111,
              "#46039f"
             ],
             [
              0.2222222222222222,
              "#7201a8"
             ],
             [
              0.3333333333333333,
              "#9c179e"
             ],
             [
              0.4444444444444444,
              "#bd3786"
             ],
             [
              0.5555555555555556,
              "#d8576b"
             ],
             [
              0.6666666666666666,
              "#ed7953"
             ],
             [
              0.7777777777777778,
              "#fb9f3a"
             ],
             [
              0.8888888888888888,
              "#fdca26"
             ],
             [
              1,
              "#f0f921"
             ]
            ],
            "type": "heatmap"
           }
          ],
          "histogram": [
           {
            "marker": {
             "pattern": {
              "fillmode": "overlay",
              "size": 10,
              "solidity": 0.2
             }
            },
            "type": "histogram"
           }
          ],
          "histogram2d": [
           {
            "colorbar": {
             "outlinewidth": 0,
             "ticks": ""
            },
            "colorscale": [
             [
              0,
              "#0d0887"
             ],
             [
              0.1111111111111111,
              "#46039f"
             ],
             [
              0.2222222222222222,
              "#7201a8"
             ],
             [
              0.3333333333333333,
              "#9c179e"
             ],
             [
              0.4444444444444444,
              "#bd3786"
             ],
             [
              0.5555555555555556,
              "#d8576b"
             ],
             [
              0.6666666666666666,
              "#ed7953"
             ],
             [
              0.7777777777777778,
              "#fb9f3a"
             ],
             [
              0.8888888888888888,
              "#fdca26"
             ],
             [
              1,
              "#f0f921"
             ]
            ],
            "type": "histogram2d"
           }
          ],
          "histogram2dcontour": [
           {
            "colorbar": {
             "outlinewidth": 0,
             "ticks": ""
            },
            "colorscale": [
             [
              0,
              "#0d0887"
             ],
             [
              0.1111111111111111,
              "#46039f"
             ],
             [
              0.2222222222222222,
              "#7201a8"
             ],
             [
              0.3333333333333333,
              "#9c179e"
             ],
             [
              0.4444444444444444,
              "#bd3786"
             ],
             [
              0.5555555555555556,
              "#d8576b"
             ],
             [
              0.6666666666666666,
              "#ed7953"
             ],
             [
              0.7777777777777778,
              "#fb9f3a"
             ],
             [
              0.8888888888888888,
              "#fdca26"
             ],
             [
              1,
              "#f0f921"
             ]
            ],
            "type": "histogram2dcontour"
           }
          ],
          "mesh3d": [
           {
            "colorbar": {
             "outlinewidth": 0,
             "ticks": ""
            },
            "type": "mesh3d"
           }
          ],
          "parcoords": [
           {
            "line": {
             "colorbar": {
              "outlinewidth": 0,
              "ticks": ""
             }
            },
            "type": "parcoords"
           }
          ],
          "pie": [
           {
            "automargin": true,
            "type": "pie"
           }
          ],
          "scatter": [
           {
            "fillpattern": {
             "fillmode": "overlay",
             "size": 10,
             "solidity": 0.2
            },
            "type": "scatter"
           }
          ],
          "scatter3d": [
           {
            "line": {
             "colorbar": {
              "outlinewidth": 0,
              "ticks": ""
             }
            },
            "marker": {
             "colorbar": {
              "outlinewidth": 0,
              "ticks": ""
             }
            },
            "type": "scatter3d"
           }
          ],
          "scattercarpet": [
           {
            "marker": {
             "colorbar": {
              "outlinewidth": 0,
              "ticks": ""
             }
            },
            "type": "scattercarpet"
           }
          ],
          "scattergeo": [
           {
            "marker": {
             "colorbar": {
              "outlinewidth": 0,
              "ticks": ""
             }
            },
            "type": "scattergeo"
           }
          ],
          "scattergl": [
           {
            "marker": {
             "colorbar": {
              "outlinewidth": 0,
              "ticks": ""
             }
            },
            "type": "scattergl"
           }
          ],
          "scattermap": [
           {
            "marker": {
             "colorbar": {
              "outlinewidth": 0,
              "ticks": ""
             }
            },
            "type": "scattermap"
           }
          ],
          "scattermapbox": [
           {
            "marker": {
             "colorbar": {
              "outlinewidth": 0,
              "ticks": ""
             }
            },
            "type": "scattermapbox"
           }
          ],
          "scatterpolar": [
           {
            "marker": {
             "colorbar": {
              "outlinewidth": 0,
              "ticks": ""
             }
            },
            "type": "scatterpolar"
           }
          ],
          "scatterpolargl": [
           {
            "marker": {
             "colorbar": {
              "outlinewidth": 0,
              "ticks": ""
             }
            },
            "type": "scatterpolargl"
           }
          ],
          "scatterternary": [
           {
            "marker": {
             "colorbar": {
              "outlinewidth": 0,
              "ticks": ""
             }
            },
            "type": "scatterternary"
           }
          ],
          "surface": [
           {
            "colorbar": {
             "outlinewidth": 0,
             "ticks": ""
            },
            "colorscale": [
             [
              0,
              "#0d0887"
             ],
             [
              0.1111111111111111,
              "#46039f"
             ],
             [
              0.2222222222222222,
              "#7201a8"
             ],
             [
              0.3333333333333333,
              "#9c179e"
             ],
             [
              0.4444444444444444,
              "#bd3786"
             ],
             [
              0.5555555555555556,
              "#d8576b"
             ],
             [
              0.6666666666666666,
              "#ed7953"
             ],
             [
              0.7777777777777778,
              "#fb9f3a"
             ],
             [
              0.8888888888888888,
              "#fdca26"
             ],
             [
              1,
              "#f0f921"
             ]
            ],
            "type": "surface"
           }
          ],
          "table": [
           {
            "cells": {
             "fill": {
              "color": "#EBF0F8"
             },
             "line": {
              "color": "white"
             }
            },
            "header": {
             "fill": {
              "color": "#C8D4E3"
             },
             "line": {
              "color": "white"
             }
            },
            "type": "table"
           }
          ]
         },
         "layout": {
          "annotationdefaults": {
           "arrowcolor": "#2a3f5f",
           "arrowhead": 0,
           "arrowwidth": 1
          },
          "autotypenumbers": "strict",
          "coloraxis": {
           "colorbar": {
            "outlinewidth": 0,
            "ticks": ""
           }
          },
          "colorscale": {
           "diverging": [
            [
             0,
             "#8e0152"
            ],
            [
             0.1,
             "#c51b7d"
            ],
            [
             0.2,
             "#de77ae"
            ],
            [
             0.3,
             "#f1b6da"
            ],
            [
             0.4,
             "#fde0ef"
            ],
            [
             0.5,
             "#f7f7f7"
            ],
            [
             0.6,
             "#e6f5d0"
            ],
            [
             0.7,
             "#b8e186"
            ],
            [
             0.8,
             "#7fbc41"
            ],
            [
             0.9,
             "#4d9221"
            ],
            [
             1,
             "#276419"
            ]
           ],
           "sequential": [
            [
             0,
             "#0d0887"
            ],
            [
             0.1111111111111111,
             "#46039f"
            ],
            [
             0.2222222222222222,
             "#7201a8"
            ],
            [
             0.3333333333333333,
             "#9c179e"
            ],
            [
             0.4444444444444444,
             "#bd3786"
            ],
            [
             0.5555555555555556,
             "#d8576b"
            ],
            [
             0.6666666666666666,
             "#ed7953"
            ],
            [
             0.7777777777777778,
             "#fb9f3a"
            ],
            [
             0.8888888888888888,
             "#fdca26"
            ],
            [
             1,
             "#f0f921"
            ]
           ],
           "sequentialminus": [
            [
             0,
             "#0d0887"
            ],
            [
             0.1111111111111111,
             "#46039f"
            ],
            [
             0.2222222222222222,
             "#7201a8"
            ],
            [
             0.3333333333333333,
             "#9c179e"
            ],
            [
             0.4444444444444444,
             "#bd3786"
            ],
            [
             0.5555555555555556,
             "#d8576b"
            ],
            [
             0.6666666666666666,
             "#ed7953"
            ],
            [
             0.7777777777777778,
             "#fb9f3a"
            ],
            [
             0.8888888888888888,
             "#fdca26"
            ],
            [
             1,
             "#f0f921"
            ]
           ]
          },
          "colorway": [
           "#636efa",
           "#EF553B",
           "#00cc96",
           "#ab63fa",
           "#FFA15A",
           "#19d3f3",
           "#FF6692",
           "#B6E880",
           "#FF97FF",
           "#FECB52"
          ],
          "font": {
           "color": "#2a3f5f"
          },
          "geo": {
           "bgcolor": "white",
           "lakecolor": "white",
           "landcolor": "white",
           "showlakes": true,
           "showland": true,
           "subunitcolor": "#C8D4E3"
          },
          "hoverlabel": {
           "align": "left"
          },
          "hovermode": "closest",
          "mapbox": {
           "style": "light"
          },
          "paper_bgcolor": "white",
          "plot_bgcolor": "white",
          "polar": {
           "angularaxis": {
            "gridcolor": "#EBF0F8",
            "linecolor": "#EBF0F8",
            "ticks": ""
           },
           "bgcolor": "white",
           "radialaxis": {
            "gridcolor": "#EBF0F8",
            "linecolor": "#EBF0F8",
            "ticks": ""
           }
          },
          "scene": {
           "xaxis": {
            "backgroundcolor": "white",
            "gridcolor": "#DFE8F3",
            "gridwidth": 2,
            "linecolor": "#EBF0F8",
            "showbackground": true,
            "ticks": "",
            "zerolinecolor": "#EBF0F8"
           },
           "yaxis": {
            "backgroundcolor": "white",
            "gridcolor": "#DFE8F3",
            "gridwidth": 2,
            "linecolor": "#EBF0F8",
            "showbackground": true,
            "ticks": "",
            "zerolinecolor": "#EBF0F8"
           },
           "zaxis": {
            "backgroundcolor": "white",
            "gridcolor": "#DFE8F3",
            "gridwidth": 2,
            "linecolor": "#EBF0F8",
            "showbackground": true,
            "ticks": "",
            "zerolinecolor": "#EBF0F8"
           }
          },
          "shapedefaults": {
           "line": {
            "color": "#2a3f5f"
           }
          },
          "ternary": {
           "aaxis": {
            "gridcolor": "#DFE8F3",
            "linecolor": "#A2B1C6",
            "ticks": ""
           },
           "baxis": {
            "gridcolor": "#DFE8F3",
            "linecolor": "#A2B1C6",
            "ticks": ""
           },
           "bgcolor": "white",
           "caxis": {
            "gridcolor": "#DFE8F3",
            "linecolor": "#A2B1C6",
            "ticks": ""
           }
          },
          "title": {
           "x": 0.05
          },
          "xaxis": {
           "automargin": true,
           "gridcolor": "#EBF0F8",
           "linecolor": "#EBF0F8",
           "ticks": "",
           "title": {
            "standoff": 15
           },
           "zerolinecolor": "#EBF0F8",
           "zerolinewidth": 2
          },
          "yaxis": {
           "automargin": true,
           "gridcolor": "#EBF0F8",
           "linecolor": "#EBF0F8",
           "ticks": "",
           "title": {
            "standoff": 15
           },
           "zerolinecolor": "#EBF0F8",
           "zerolinewidth": 2
          }
         }
        },
        "title": {
         "text": "NVDA Stock Closing Prices and Volume"
        },
        "xaxis": {
         "anchor": "y",
         "autorange": true,
         "domain": [
          0,
          0.94
         ],
         "linecolor": "black",
         "linewidth": 2,
         "mirror": true,
         "range": [
          "2024-10-11",
          "2025-03-07"
         ],
         "showline": true,
         "title": {
          "text": "Date"
         },
         "type": "date"
        },
        "yaxis": {
         "anchor": "x",
         "autorange": true,
         "domain": [
          0,
          1
         ],
         "linecolor": "blue",
         "linewidth": 2,
         "mirror": true,
         "range": [
          0,
          157.29473684210527
         ],
         "rangemode": "tozero",
         "showline": true,
         "title": {
          "text": "<b>NVDA Close Price</b>"
         },
         "type": "linear"
        },
        "yaxis2": {
         "anchor": "x",
         "autorange": true,
         "linecolor": "red",
         "linewidth": 2,
         "mirror": true,
         "overlaying": "y",
         "range": [
          0,
          861927257.8947369
         ],
         "rangemode": "tozero",
         "showline": true,
         "side": "right",
         "title": {
          "text": "<b>NVDA Volume</b>"
         },
         "type": "linear"
        }
       }
      },
      "image/png": "[encoded data removed]"
     },
     "metadata": {},
     "output_type": "display_data"
    }
   ],
   "source": [
    "import plotly.graph_objects as go\n",
    "from plotly.subplots import make_subplots\n",
    "\n",
    "# Group the DataFrame by 'ticker'\n",
    "grouped = df.groupby('ticker')\n",
    "\n",
    "# Iterate over each group\n",
    "for ticker, data in grouped:\n",
    "    # Create a figure with secondary y-axis for each ticker\n",
    "    fig = make_subplots(specs=[[{\"secondary_y\": True}]])\n",
    "\n",
    "    # Add closing price trace\n",
    "    fig.add_trace(\n",
    "        go.Scatter(x=data['date'], y=data['close'].astype(float), name=f\"{ticker} Close Price\", line=dict(color='royalblue')),\n",
    "        secondary_y=False,\n",
    "    )\n",
    "\n",
    "    # Add volume trace\n",
    "    fig.add_trace(\n",
    "        go.Scatter(x=data['date'], y=data['volume'].astype(float), name=f\"{ticker} Volume\", line=dict(color='tomato', dash='dot')),\n",
    "        secondary_y=True,\n",
    "    )\n",
    "\n",
    "    # Add figure title and adjust layout for each ticker\n",
    "    fig.update_layout(\n",
    "        title_text=f\"{ticker} Stock Closing Prices and Volume\",\n",
    "        xaxis_title=\"Date\",\n",
    "        template=\"plotly_white\",\n",
    "    )\n",
    "\n",
    "    # Set x-axis properties\n",
    "    fig.update_xaxes(showline=True, linewidth=2, linecolor='black', mirror=True)\n",
    "\n",
    "    # Set y-axes titles and make them start from 0\n",
    "    fig.update_yaxes(title_text=f\"<b>{ticker} Close Price</b>\", secondary_y=False, showline=True, linewidth=2, linecolor='blue', mirror=True, rangemode='tozero')\n",
    "    fig.update_yaxes(title_text=f\"<b>{ticker} Volume</b>\", secondary_y=True, showline=True, linewidth=2, linecolor='red', mirror=True, rangemode='tozero')\n",
    "\n",
    "    # Show plot for each ticker\n",
    "    fig.show()\n"
   ]
  },
  {
   "cell_type": "code",
   "execution_count": 3,
   "id": "8a5b04d1-860e-4ddf-ac4b-eb2067cc7b8a",
   "metadata": {},
   "outputs": [
    {
     "data": {
      "application/vnd.plotly.v1+json": {
       "config": {
        "plotlyServerURL": "https://plot.ly"
       },
       "data": [
        {
         "line": {
          "color": "royalblue"
         },
         "name": "AAPL Close Price",
         "type": "scatter",
         "x": [
          "2025-03-07T00:00:00.000000000",
          "2025-03-06T00:00:00.000000000",
          "2025-03-05T00:00:00.000000000",
          "2025-03-04T00:00:00.000000000",
          "2025-03-03T00:00:00.000000000",
          "2025-02-28T00:00:00.000000000",
          "2025-02-27T00:00:00.000000000",
          "2025-02-26T00:00:00.000000000",
          "2025-02-25T00:00:00.000000000",
          "2025-02-24T00:00:00.000000000",
          "2025-02-21T00:00:00.000000000",
          "2025-02-20T00:00:00.000000000",
          "2025-02-19T00:00:00.000000000",
          "2025-02-18T00:00:00.000000000",
          "2025-02-14T00:00:00.000000000",
          "2025-02-13T00:00:00.000000000",
          "2025-02-12T00:00:00.000000000",
          "2025-02-11T00:00:00.000000000",
          "2025-02-10T00:00:00.000000000",
          "2025-02-07T00:00:00.000000000",
          "2025-02-06T00:00:00.000000000",
          "2025-02-05T00:00:00.000000000",
          "2025-02-04T00:00:00.000000000",
          "2025-02-03T00:00:00.000000000",
          "2025-01-31T00:00:00.000000000",
          "2025-01-30T00:00:00.000000000",
          "2025-01-29T00:00:00.000000000",
          "2025-01-28T00:00:00.000000000",
          "2025-01-27T00:00:00.000000000",
          "2025-01-24T00:00:00.000000000",
          "2025-01-23T00:00:00.000000000",
          "2025-01-22T00:00:00.000000000",
          "2025-01-21T00:00:00.000000000",
          "2025-01-17T00:00:00.000000000",
          "2025-01-16T00:00:00.000000000",
          "2025-01-15T00:00:00.000000000",
          "2025-01-14T00:00:00.000000000",
          "2025-01-13T00:00:00.000000000",
          "2025-01-10T00:00:00.000000000",
          "2025-01-08T00:00:00.000000000",
          "2025-01-07T00:00:00.000000000",
          "2025-01-06T00:00:00.000000000",
          "2025-01-03T00:00:00.000000000",
          "2025-01-02T00:00:00.000000000",
          "2024-12-31T00:00:00.000000000",
          "2024-12-30T00:00:00.000000000",
          "2024-12-27T00:00:00.000000000",
          "2024-12-26T00:00:00.000000000",
          "2024-12-24T00:00:00.000000000",
          "2024-12-23T00:00:00.000000000",
          "2024-12-20T00:00:00.000000000",
          "2024-12-19T00:00:00.000000000",
          "2024-12-18T00:00:00.000000000",
          "2024-12-17T00:00:00.000000000",
          "2024-12-16T00:00:00.000000000",
          "2024-12-13T00:00:00.000000000",
          "2024-12-12T00:00:00.000000000",
          "2024-12-11T00:00:00.000000000",
          "2024-12-10T00:00:00.000000000",
          "2024-12-09T00:00:00.000000000",
          "2024-12-06T00:00:00.000000000",
          "2024-12-05T00:00:00.000000000",
          "2024-12-04T00:00:00.000000000",
          "2024-12-03T00:00:00.000000000",
          "2024-12-02T00:00:00.000000000",
          "2024-11-29T00:00:00.000000000",
          "2024-11-27T00:00:00.000000000",
          "2024-11-26T00:00:00.000000000",
          "2024-11-25T00:00:00.000000000",
          "2024-11-22T00:00:00.000000000",
          "2024-11-21T00:00:00.000000000",
          "2024-11-20T00:00:00.000000000",
          "2024-11-19T00:00:00.000000000",
          "2024-11-18T00:00:00.000000000",
          "2024-11-15T00:00:00.000000000",
          "2024-11-14T00:00:00.000000000",
          "2024-11-13T00:00:00.000000000",
          "2024-11-12T00:00:00.000000000",
          "2024-11-11T00:00:00.000000000",
          "2024-11-08T00:00:00.000000000",
          "2024-11-07T00:00:00.000000000",
          "2024-11-06T00:00:00.000000000",
          "2024-11-05T00:00:00.000000000",
          "2024-11-04T00:00:00.000000000",
          "2024-11-01T00:00:00.000000000",
          "2024-10-31T00:00:00.000000000",
          "2024-10-30T00:00:00.000000000",
          "2024-10-29T00:00:00.000000000",
          "2024-10-28T00:00:00.000000000",
          "2024-10-25T00:00:00.000000000",
          "2024-10-24T00:00:00.000000000",
          "2024-10-23T00:00:00.000000000",
          "2024-10-22T00:00:00.000000000",
          "2024-10-21T00:00:00.000000000",
          "2024-10-18T00:00:00.000000000",
          "2024-10-17T00:00:00.000000000",
          "2024-10-16T00:00:00.000000000",
          "2024-10-15T00:00:00.000000000",
          "2024-10-14T00:00:00.000000000",
          "2024-10-11T00:00:00.000000000"
         ],
         "xaxis": "x",
         "y": {
          "_inputArray": {
           "0": 239.07,
           "1": 235.33,
           "10": 245.55,
           "11": 245.83,
           "12": 244.87,
           "13": 244.47,
           "14": 244.6,
           "15": 241.53,
           "16": 236.87,
           "17": 232.62,
           "18": 227.65,
           "19": 227.63,
           "2": 235.74,
           "20": 233.22,
           "21": 232.47,
           "22": 232.8,
           "23": 228.01,
           "24": 236,
           "25": 237.59,
           "26": 239.36,
           "27": 238.26,
           "28": 229.86,
           "29": 222.78,
           "3": 235.93,
           "30": 223.66,
           "31": 223.83,
           "32": 222.64,
           "33": 229.98,
           "34": 228.26,
           "35": 237.87,
           "36": 233.28,
           "37": 234.4,
           "38": 236.85,
           "39": 242.7,
           "4": 238.03,
           "40": 242.21,
           "41": 245,
           "42": 243.36,
           "43": 243.85,
           "44": 250.42,
           "45": 252.2,
           "46": 255.59,
           "47": 259.02,
           "48": 258.2,
           "49": 255.27,
           "5": 241.84,
           "50": 254.49,
           "51": 249.79,
           "52": 248.05,
           "53": 253.48,
           "54": 251.04,
           "55": 248.13,
           "56": 247.96,
           "57": 246.49,
           "58": 247.77,
           "59": 246.75,
           "6": 237.3,
           "60": 242.84,
           "61": 243.04,
           "62": 243.01,
           "63": 242.65,
           "64": 239.59,
           "65": 237.33,
           "66": 234.93,
           "67": 235.06,
           "68": 232.87,
           "69": 229.87,
           "7": 240.36,
           "70": 228.52,
           "71": 229,
           "72": 228.28,
           "73": 228.02,
           "74": 225,
           "75": 228.22,
           "76": 225.12,
           "77": 224.23,
           "78": 224.23,
           "79": 226.96,
           "8": 247.04,
           "80": 227.48,
           "81": 222.72,
           "82": 223.45,
           "83": 222.01,
           "84": 222.91,
           "85": 225.91,
           "86": 230.1,
           "87": 233.67,
           "88": 233.4,
           "89": 231.41,
           "9": 247.1,
           "90": 230.57,
           "91": 230.76,
           "92": 235.86,
           "93": 236.48,
           "94": 235,
           "95": 232.15,
           "96": 231.78,
           "97": 233.85,
           "98": 231.3,
           "99": 227.55,
           "bdata": "CtejcD3ibUDD9Shcj2ptQEjhehSud21A9ihcj8J9bUApXI/C9cBtQHsUrkfhOm5AmpmZmZmpbUDsUbgehQtuQOF6FK5H4W5AMzMzMzPjbkCamZmZmbFuQMP1KFyPum5ApHA9CtebbkDXo3A9Co9uQDMzMzMzk25AKVyPwvUwbkCkcD0K15ttQKRwPQrXE21AzczMzMx0bEBcj8L1KHRsQNejcD0KJ21A16NwPQoPbUCamZmZmRltQLgehetRgGxAAAAAAACAbUB7FK5H4bJtQOxRuB6F621AuB6F61HIbUDsUbgehbtsQClcj8L12GtAhetRuB71a0DD9Shcj/prQBSuR+F61GtAj8L1KFy/bEC4HoXrUYhsQKRwPQrXu21AKVyPwvUobUDNzMzMzExtQDMzMzMzm21AZmZmZmZWbkAfhetRuEZuQAAAAAAAoG5A7FG4HoVrbkAzMzMzM3tuQD0K16NwTW9AZmZmZmaGb0B7FK5H4fJvQLgehetRMHBAMzMzMzMjcEBxPQrXo+hvQEjhehSuz29A4XoUrkc5b0CamZmZmQFvQI/C9Shcr29A4XoUrkdhb0Bcj8L1KARvQB+F61G4/m5ASOF6FK7PbkBxPQrXo/huQAAAAAAA2G5AexSuR+FabkDhehSuR2FuQLgehetRYG5AzczMzMxUbkB7FK5H4fJtQMP1KFyPqm1A9ihcj8JdbUBSuB6F62FtQKRwPQrXG21ApHA9Cte7bEBxPQrXo5BsQAAAAAAAoGxAKVyPwvWIbEBxPQrXo4BsQAAAAAAAIGxA16NwPQqHbECkcD0K1yNsQI/C9ShcB2xAj8L1KFwHbEAfhetRuF5sQI/C9Shcb2xA16NwPQrXa0BmZmZmZu5rQLgehetRwGtAhetRuB7da0CF61G4Hj1sQDMzMzMzw2xAPQrXo3A1bUDNzMzMzCxtQIXrUbge7WxACtejcD3SbEC4HoXrUdhsQOxRuB6Fe21Aj8L1KFyPbUAAAAAAAGBtQM3MzMzMBG1AKVyPwvX4bEAzMzMzMzttQJqZmZmZ6WxAmpmZmZlxbEA=",
           "dtype": "f8",
           "shape": "100"
          },
          "bdata": "CtejcD3ibUDD9Shcj2ptQEjhehSud21A9ihcj8J9bUApXI/C9cBtQHsUrkfhOm5AmpmZmZmpbUDsUbgehQtuQOF6FK5H4W5AMzMzMzPjbkCamZmZmbFuQMP1KFyPum5ApHA9CtebbkDXo3A9Co9uQDMzMzMzk25AKVyPwvUwbkCkcD0K15ttQKRwPQrXE21AzczMzMx0bEBcj8L1KHRsQNejcD0KJ21A16NwPQoPbUCamZmZmRltQLgehetRgGxAAAAAAACAbUB7FK5H4bJtQOxRuB6F621AuB6F61HIbUDsUbgehbtsQClcj8L12GtAhetRuB71a0DD9Shcj/prQBSuR+F61GtAj8L1KFy/bEC4HoXrUYhsQKRwPQrXu21AKVyPwvUobUDNzMzMzExtQDMzMzMzm21AZmZmZmZWbkAfhetRuEZuQAAAAAAAoG5A7FG4HoVrbkAzMzMzM3tuQD0K16NwTW9AZmZmZmaGb0B7FK5H4fJvQLgehetRMHBAMzMzMzMjcEBxPQrXo+hvQEjhehSuz29A4XoUrkc5b0CamZmZmQFvQI/C9Shcr29A4XoUrkdhb0Bcj8L1KARvQB+F61G4/m5ASOF6FK7PbkBxPQrXo/huQAAAAAAA2G5AexSuR+FabkDhehSuR2FuQLgehetRYG5AzczMzMxUbkB7FK5H4fJtQMP1KFyPqm1A9ihcj8JdbUBSuB6F62FtQKRwPQrXG21ApHA9Cte7bEBxPQrXo5BsQAAAAAAAoGxAKVyPwvWIbEBxPQrXo4BsQAAAAAAAIGxA16NwPQqHbECkcD0K1yNsQI/C9ShcB2xAj8L1KFwHbEAfhetRuF5sQI/C9Shcb2xA16NwPQrXa0BmZmZmZu5rQLgehetRwGtAhetRuB7da0CF61G4Hj1sQDMzMzMzw2xAPQrXo3A1bUDNzMzMzCxtQIXrUbge7WxACtejcD3SbEC4HoXrUdhsQOxRuB6Fe21Aj8L1KFyPbUAAAAAAAGBtQM3MzMzMBG1AKVyPwvX4bEAzMzMzMzttQJqZmZmZ6WxAmpmZmZlxbEA=",
          "dtype": "f8"
         },
         "yaxis": "y"
        },
        {
         "line": {
          "color": "tomato",
          "dash": "dot"
         },
         "name": "AAPL Volume",
         "type": "scatter",
         "x": [
          "2025-03-07T00:00:00.000000000",
          "2025-03-06T00:00:00.000000000",
          "2025-03-05T00:00:00.000000000",
          "2025-03-04T00:00:00.000000000",
          "2025-03-03T00:00:00.000000000",
          "2025-02-28T00:00:00.000000000",
          "2025-02-27T00:00:00.000000000",
          "2025-02-26T00:00:00.000000000",
          "2025-02-25T00:00:00.000000000",
          "2025-02-24T00:00:00.000000000",
          "2025-02-21T00:00:00.000000000",
          "2025-02-20T00:00:00.000000000",
          "2025-02-19T00:00:00.000000000",
          "2025-02-18T00:00:00.000000000",
          "2025-02-14T00:00:00.000000000",
          "2025-02-13T00:00:00.000000000",
          "2025-02-12T00:00:00.000000000",
          "2025-02-11T00:00:00.000000000",
          "2025-02-10T00:00:00.000000000",
          "2025-02-07T00:00:00.000000000",
          "2025-02-06T00:00:00.000000000",
          "2025-02-05T00:00:00.000000000",
          "2025-02-04T00:00:00.000000000",
          "2025-02-03T00:00:00.000000000",
          "2025-01-31T00:00:00.000000000",
          "2025-01-30T00:00:00.000000000",
          "2025-01-29T00:00:00.000000000",
          "2025-01-28T00:00:00.000000000",
          "2025-01-27T00:00:00.000000000",
          "2025-01-24T00:00:00.000000000",
          "2025-01-23T00:00:00.000000000",
          "2025-01-22T00:00:00.000000000",
          "2025-01-21T00:00:00.000000000",
          "2025-01-17T00:00:00.000000000",
          "2025-01-16T00:00:00.000000000",
          "2025-01-15T00:00:00.000000000",
          "2025-01-14T00:00:00.000000000",
          "2025-01-13T00:00:00.000000000",
          "2025-01-10T00:00:00.000000000",
          "2025-01-08T00:00:00.000000000",
          "2025-01-07T00:00:00.000000000",
          "2025-01-06T00:00:00.000000000",
          "2025-01-03T00:00:00.000000000",
          "2025-01-02T00:00:00.000000000",
          "2024-12-31T00:00:00.000000000",
          "2024-12-30T00:00:00.000000000",
          "2024-12-27T00:00:00.000000000",
          "2024-12-26T00:00:00.000000000",
          "2024-12-24T00:00:00.000000000",
          "2024-12-23T00:00:00.000000000",
          "2024-12-20T00:00:00.000000000",
          "2024-12-19T00:00:00.000000000",
          "2024-12-18T00:00:00.000000000",
          "2024-12-17T00:00:00.000000000",
          "2024-12-16T00:00:00.000000000",
          "2024-12-13T00:00:00.000000000",
          "2024-12-12T00:00:00.000000000",
          "2024-12-11T00:00:00.000000000",
          "2024-12-10T00:00:00.000000000",
          "2024-12-09T00:00:00.000000000",
          "2024-12-06T00:00:00.000000000",
          "2024-12-05T00:00:00.000000000",
          "2024-12-04T00:00:00.000000000",
          "2024-12-03T00:00:00.000000000",
          "2024-12-02T00:00:00.000000000",
          "2024-11-29T00:00:00.000000000",
          "2024-11-27T00:00:00.000000000",
          "2024-11-26T00:00:00.000000000",
          "2024-11-25T00:00:00.000000000",
          "2024-11-22T00:00:00.000000000",
          "2024-11-21T00:00:00.000000000",
          "2024-11-20T00:00:00.000000000",
          "2024-11-19T00:00:00.000000000",
          "2024-11-18T00:00:00.000000000",
          "2024-11-15T00:00:00.000000000",
          "2024-11-14T00:00:00.000000000",
          "2024-11-13T00:00:00.000000000",
          "2024-11-12T00:00:00.000000000",
          "2024-11-11T00:00:00.000000000",
          "2024-11-08T00:00:00.000000000",
          "2024-11-07T00:00:00.000000000",
          "2024-11-06T00:00:00.000000000",
          "2024-11-05T00:00:00.000000000",
          "2024-11-04T00:00:00.000000000",
          "2024-11-01T00:00:00.000000000",
          "2024-10-31T00:00:00.000000000",
          "2024-10-30T00:00:00.000000000",
          "2024-10-29T00:00:00.000000000",
          "2024-10-28T00:00:00.000000000",
          "2024-10-25T00:00:00.000000000",
          "2024-10-24T00:00:00.000000000",
          "2024-10-23T00:00:00.000000000",
          "2024-10-22T00:00:00.000000000",
          "2024-10-21T00:00:00.000000000",
          "2024-10-18T00:00:00.000000000",
          "2024-10-17T00:00:00.000000000",
          "2024-10-16T00:00:00.000000000",
          "2024-10-15T00:00:00.000000000",
          "2024-10-14T00:00:00.000000000",
          "2024-10-11T00:00:00.000000000"
         ],
         "xaxis": "x",
         "y": {
          "_inputArray": {
           "0": 46207306,
           "1": 45170419,
           "10": 53197431,
           "11": 32316907,
           "12": 32204215,
           "13": 48822491,
           "14": 40896227,
           "15": 53614054,
           "16": 45243292,
           "17": 53718362,
           "18": 33115645,
           "19": 39707224,
           "2": 47227643,
           "20": 29925349,
           "21": 39664989,
           "22": 45067301,
           "23": 73063301,
           "24": 101075128,
           "25": 55658279,
           "26": 45486100,
           "27": 75707569,
           "28": 94863418,
           "29": 54697907,
           "3": 53798062,
           "30": 60234760,
           "31": 64126500,
           "32": 98070429,
           "33": 68488301,
           "34": 71759052,
           "35": 39831969,
           "36": 39435294,
           "37": 49630725,
           "38": 61710856,
           "39": 37628940,
           "4": 47183985,
           "40": 40855960,
           "41": 45045571,
           "42": 40244114,
           "43": 55740731,
           "44": 39480718,
           "45": 35557542,
           "46": 42355321,
           "47": 27262983,
           "48": 23234705,
           "49": 40858774,
           "5": 56833360,
           "50": 147495267,
           "51": 60882264,
           "52": 56774101,
           "53": 51356360,
           "54": 51694753,
           "55": 33155290,
           "56": 32777532,
           "57": 45205814,
           "58": 36914806,
           "59": 44649232,
           "6": 41153639,
           "60": 36870619,
           "61": 40033878,
           "62": 44383935,
           "63": 38861017,
           "64": 48137103,
           "65": 28481377,
           "66": 33498439,
           "67": 45986189,
           "68": 90152832,
           "69": 38168252,
           "7": 44433564,
           "70": 42108327,
           "71": 35169566,
           "72": 36211774,
           "73": 44686020,
           "74": 47923696,
           "75": 44923941,
           "76": 48566217,
           "77": 40398299,
           "78": 42005602,
           "79": 38328824,
           "8": 48013272,
           "80": 42137691,
           "81": 54561121,
           "82": 28111338,
           "83": 44944468,
           "84": 65276741,
           "85": 64370086,
           "86": 47070907,
           "87": 35417247,
           "88": 36087134,
           "89": 38802304,
           "9": 51326396,
           "90": 31109503,
           "91": 52286979,
           "92": 38846578,
           "93": 36254470,
           "94": 46431472,
           "95": 32993810,
           "96": 34082240,
           "97": 64751367,
           "98": 39882085,
           "99": 31759188,
           "bdata": "AAAAUIoIhkEAAACY94mFQQAAANgXhYZBAAAAcCWniUEAAACIw3+GQQAAAICqGYtBAAAAOKOfg0EAAADgBDCFQQAAAMD+5IZBAAAA4G15iEEAAAC4012JQQAAALDe0X5BAAAAcFu2fkEAAADYxkeHQQAAABg3gINBAAAAMK+QiUEAAADg3JKFQQAAANBqnYlBAAAA0N+Uf0EAAADAEu+CQQAAAFD+iXxBAAAA6OrpgkEAAAAoYX2FQQAAABRua5FBAAAA4CIZmEEAAAA4OYqKQQAAAKCAsIVBAAAAxNIMkkEAAADoAJ6WQQAAAJj9FIpBAAAAQOC4jEEAAAAg8ZOOQQAAAHS+YZdBAAAAtDFUkEEAAAAw0xuRQQAAAAhN/oJBAAAA8ODNgkEAAAAocKqHQQAAAEAQbY1BAAAAYGDxgUEAAADATHuDQQAAABi6eoVBAAAAkJwwg0EAAADYSZSKQQAAAHBs04JBAAAAMIX0gEEAAADIUzKEQQAAAHAAAHpBAAAAEIkodkEAAACwpHuDQQAAAMYylaFBAAAAwOoHjUEAAACobhKLQQAAAEAWfYhBAAAACGWmiEEAAACgjZ5/QQAAAMBTQn9BAAAAsEmOhUEAAACwM5qBQQAAAIBYSoVBAAAA2M6UgUEAAACw8haDQQAAAPj1KYVBAAAAyMaHgkEAAAB4HPSGQQAAABB2KXtBAAAAcFTyf0EAAABojO2FQQAAAAB+fpVBAAAA4DUzgkEAAAA4LRSEQQAAAPAoxYBBAAAA8GFEgUEAAAAg1k6FQQAAAIAP2oZBAAAAKOFrhUEAAABIfiiHQQAAANhuQ4NBAAAAEKMHhEEAAADAz0aCQQAAANjCF4RBAAAACEsEikEAAACgHs96QQAAAKBiboVBAAAAKFogj0EAAAAwrbGOQQAAANj1cYZBAAAA+GTjgEEAAADwKjWBQQAAAACcgIJBAAAA8BerfUEAAAAYsO6IQQAAAJADhoJBAAAAMJhJgUEAAACA5yOGQQAAACAhd39BAAAAAG5AgEEAAAA4OOCOQQAAAChrBINBAAAAQLVJfkE=",
           "dtype": "f8",
           "shape": "100"
          },
          "bdata": "AAAAUIoIhkEAAACY94mFQQAAANgXhYZBAAAAcCWniUEAAACIw3+GQQAAAICqGYtBAAAAOKOfg0EAAADgBDCFQQAAAMD+5IZBAAAA4G15iEEAAAC4012JQQAAALDe0X5BAAAAcFu2fkEAAADYxkeHQQAAABg3gINBAAAAMK+QiUEAAADg3JKFQQAAANBqnYlBAAAA0N+Uf0EAAADAEu+CQQAAAFD+iXxBAAAA6OrpgkEAAAAoYX2FQQAAABRua5FBAAAA4CIZmEEAAAA4OYqKQQAAAKCAsIVBAAAAxNIMkkEAAADoAJ6WQQAAAJj9FIpBAAAAQOC4jEEAAAAg8ZOOQQAAAHS+YZdBAAAAtDFUkEEAAAAw0xuRQQAAAAhN/oJBAAAA8ODNgkEAAAAocKqHQQAAAEAQbY1BAAAAYGDxgUEAAADATHuDQQAAABi6eoVBAAAAkJwwg0EAAADYSZSKQQAAAHBs04JBAAAAMIX0gEEAAADIUzKEQQAAAHAAAHpBAAAAEIkodkEAAACwpHuDQQAAAMYylaFBAAAAwOoHjUEAAACobhKLQQAAAEAWfYhBAAAACGWmiEEAAACgjZ5/QQAAAMBTQn9BAAAAsEmOhUEAAACwM5qBQQAAAIBYSoVBAAAA2M6UgUEAAACw8haDQQAAAPj1KYVBAAAAyMaHgkEAAAB4HPSGQQAAABB2KXtBAAAAcFTyf0EAAABojO2FQQAAAAB+fpVBAAAA4DUzgkEAAAA4LRSEQQAAAPAoxYBBAAAA8GFEgUEAAAAg1k6FQQAAAIAP2oZBAAAAKOFrhUEAAABIfiiHQQAAANhuQ4NBAAAAEKMHhEEAAADAz0aCQQAAANjCF4RBAAAACEsEikEAAACgHs96QQAAAKBiboVBAAAAKFogj0EAAAAwrbGOQQAAANj1cYZBAAAA+GTjgEEAAADwKjWBQQAAAACcgIJBAAAA8BerfUEAAAAYsO6IQQAAAJADhoJBAAAAMJhJgUEAAACA5yOGQQAAACAhd39BAAAAAG5AgEEAAAA4OOCOQQAAAChrBINBAAAAQLVJfkE=",
          "dtype": "f8"
         },
         "yaxis": "y2"
        }
       ],
       "layout": {
        "autosize": true,
        "template": {
         "data": {
          "bar": [
           {
            "error_x": {
             "color": "#2a3f5f"
            },
            "error_y": {
             "color": "#2a3f5f"
            },
            "marker": {
             "line": {
              "color": "white",
              "width": 0.5
             },
             "pattern": {
              "fillmode": "overlay",
              "size": 10,
              "solidity": 0.2
             }
            },
            "type": "bar"
           }
          ],
          "barpolar": [
           {
            "marker": {
             "line": {
              "color": "white",
              "width": 0.5
             },
             "pattern": {
              "fillmode": "overlay",
              "size": 10,
              "solidity": 0.2
             }
            },
            "type": "barpolar"
           }
          ],
          "carpet": [
           {
            "aaxis": {
             "endlinecolor": "#2a3f5f",
             "gridcolor": "#C8D4E3",
             "linecolor": "#C8D4E3",
             "minorgridcolor": "#C8D4E3",
             "startlinecolor": "#2a3f5f"
            },
            "baxis": {
             "endlinecolor": "#2a3f5f",
             "gridcolor": "#C8D4E3",
             "linecolor": "#C8D4E3",
             "minorgridcolor": "#C8D4E3",
             "startlinecolor": "#2a3f5f"
            },
            "type": "carpet"
           }
          ],
          "choropleth": [
           {
            "colorbar": {
             "outlinewidth": 0,
             "ticks": ""
            },
            "type": "choropleth"
           }
          ],
          "contour": [
           {
            "colorbar": {
             "outlinewidth": 0,
             "ticks": ""
            },
            "colorscale": [
             [
              0,
              "#0d0887"
             ],
             [
              0.1111111111111111,
              "#46039f"
             ],
             [
              0.2222222222222222,
              "#7201a8"
             ],
             [
              0.3333333333333333,
              "#9c179e"
             ],
             [
              0.4444444444444444,
              "#bd3786"
             ],
             [
              0.5555555555555556,
              "#d8576b"
             ],
             [
              0.6666666666666666,
              "#ed7953"
             ],
             [
              0.7777777777777778,
              "#fb9f3a"
             ],
             [
              0.8888888888888888,
              "#fdca26"
             ],
             [
              1,
              "#f0f921"
             ]
            ],
            "type": "contour"
           }
          ],
          "contourcarpet": [
           {
            "colorbar": {
             "outlinewidth": 0,
             "ticks": ""
            },
            "type": "contourcarpet"
           }
          ],
          "heatmap": [
           {
            "colorbar": {
             "outlinewidth": 0,
             "ticks": ""
            },
            "colorscale": [
             [
              0,
              "#0d0887"
             ],
             [
              0.1111111111111111,
              "#46039f"
             ],
             [
              0.2222222222222222,
              "#7201a8"
             ],
             [
              0.3333333333333333,
              "#9c179e"
             ],
             [
              0.4444444444444444,
              "#bd3786"
             ],
             [
              0.5555555555555556,
              "#d8576b"
             ],
             [
              0.6666666666666666,
              "#ed7953"
             ],
             [
              0.7777777777777778,
              "#fb9f3a"
             ],
             [
              0.8888888888888888,
              "#fdca26"
             ],
             [
              1,
              "#f0f921"
             ]
            ],
            "type": "heatmap"
           }
          ],
          "histogram": [
           {
            "marker": {
             "pattern": {
              "fillmode": "overlay",
              "size": 10,
              "solidity": 0.2
             }
            },
            "type": "histogram"
           }
          ],
          "histogram2d": [
           {
            "colorbar": {
             "outlinewidth": 0,
             "ticks": ""
            },
            "colorscale": [
             [
              0,
              "#0d0887"
             ],
             [
              0.1111111111111111,
              "#46039f"
             ],
             [
              0.2222222222222222,
              "#7201a8"
             ],
             [
              0.3333333333333333,
              "#9c179e"
             ],
             [
              0.4444444444444444,
              "#bd3786"
             ],
             [
              0.5555555555555556,
              "#d8576b"
             ],
             [
              0.6666666666666666,
              "#ed7953"
             ],
             [
              0.7777777777777778,
              "#fb9f3a"
             ],
             [
              0.8888888888888888,
              "#fdca26"
             ],
             [
              1,
              "#f0f921"
             ]
            ],
            "type": "histogram2d"
           }
          ],
          "histogram2dcontour": [
           {
            "colorbar": {
             "outlinewidth": 0,
             "ticks": ""
            },
            "colorscale": [
             [
              0,
              "#0d0887"
             ],
             [
              0.1111111111111111,
              "#46039f"
             ],
             [
              0.2222222222222222,
              "#7201a8"
             ],
             [
              0.3333333333333333,
              "#9c179e"
             ],
             [
              0.4444444444444444,
              "#bd3786"
             ],
             [
              0.5555555555555556,
              "#d8576b"
             ],
             [
              0.6666666666666666,
              "#ed7953"
             ],
             [
              0.7777777777777778,
              "#fb9f3a"
             ],
             [
              0.8888888888888888,
              "#fdca26"
             ],
             [
              1,
              "#f0f921"
             ]
            ],
            "type": "histogram2dcontour"
           }
          ],
          "mesh3d": [
           {
            "colorbar": {
             "outlinewidth": 0,
             "ticks": ""
            },
            "type": "mesh3d"
           }
          ],
          "parcoords": [
           {
            "line": {
             "colorbar": {
              "outlinewidth": 0,
              "ticks": ""
             }
            },
            "type": "parcoords"
           }
          ],
          "pie": [
           {
            "automargin": true,
            "type": "pie"
           }
          ],
          "scatter": [
           {
            "fillpattern": {
             "fillmode": "overlay",
             "size": 10,
             "solidity": 0.2
            },
            "type": "scatter"
           }
          ],
          "scatter3d": [
           {
            "line": {
             "colorbar": {
              "outlinewidth": 0,
              "ticks": ""
             }
            },
            "marker": {
             "colorbar": {
              "outlinewidth": 0,
              "ticks": ""
             }
            },
            "type": "scatter3d"
           }
          ],
          "scattercarpet": [
           {
            "marker": {
             "colorbar": {
              "outlinewidth": 0,
              "ticks": ""
             }
            },
            "type": "scattercarpet"
           }
          ],
          "scattergeo": [
           {
            "marker": {
             "colorbar": {
              "outlinewidth": 0,
              "ticks": ""
             }
            },
            "type": "scattergeo"
           }
          ],
          "scattergl": [
           {
            "marker": {
             "colorbar": {
              "outlinewidth": 0,
              "ticks": ""
             }
            },
            "type": "scattergl"
           }
          ],
          "scattermap": [
           {
            "marker": {
             "colorbar": {
              "outlinewidth": 0,
              "ticks": ""
             }
            },
            "type": "scattermap"
           }
          ],
          "scattermapbox": [
           {
            "marker": {
             "colorbar": {
              "outlinewidth": 0,
              "ticks": ""
             }
            },
            "type": "scattermapbox"
           }
          ],
          "scatterpolar": [
           {
            "marker": {
             "colorbar": {
              "outlinewidth": 0,
              "ticks": ""
             }
            },
            "type": "scatterpolar"
           }
          ],
          "scatterpolargl": [
           {
            "marker": {
             "colorbar": {
              "outlinewidth": 0,
              "ticks": ""
             }
            },
            "type": "scatterpolargl"
           }
          ],
          "scatterternary": [
           {
            "marker": {
             "colorbar": {
              "outlinewidth": 0,
              "ticks": ""
             }
            },
            "type": "scatterternary"
           }
          ],
          "surface": [
           {
            "colorbar": {
             "outlinewidth": 0,
             "ticks": ""
            },
            "colorscale": [
             [
              0,
              "#0d0887"
             ],
             [
              0.1111111111111111,
              "#46039f"
             ],
             [
              0.2222222222222222,
              "#7201a8"
             ],
             [
              0.3333333333333333,
              "#9c179e"
             ],
             [
              0.4444444444444444,
              "#bd3786"
             ],
             [
              0.5555555555555556,
              "#d8576b"
             ],
             [
              0.6666666666666666,
              "#ed7953"
             ],
             [
              0.7777777777777778,
              "#fb9f3a"
             ],
             [
              0.8888888888888888,
              "#fdca26"
             ],
             [
              1,
              "#f0f921"
             ]
            ],
            "type": "surface"
           }
          ],
          "table": [
           {
            "cells": {
             "fill": {
              "color": "#EBF0F8"
             },
             "line": {
              "color": "white"
             }
            },
            "header": {
             "fill": {
              "color": "#C8D4E3"
             },
             "line": {
              "color": "white"
             }
            },
            "type": "table"
           }
          ]
         },
         "layout": {
          "annotationdefaults": {
           "arrowcolor": "#2a3f5f",
           "arrowhead": 0,
           "arrowwidth": 1
          },
          "autotypenumbers": "strict",
          "coloraxis": {
           "colorbar": {
            "outlinewidth": 0,
            "ticks": ""
           }
          },
          "colorscale": {
           "diverging": [
            [
             0,
             "#8e0152"
            ],
            [
             0.1,
             "#c51b7d"
            ],
            [
             0.2,
             "#de77ae"
            ],
            [
             0.3,
             "#f1b6da"
            ],
            [
             0.4,
             "#fde0ef"
            ],
            [
             0.5,
             "#f7f7f7"
            ],
            [
             0.6,
             "#e6f5d0"
            ],
            [
             0.7,
             "#b8e186"
            ],
            [
             0.8,
             "#7fbc41"
            ],
            [
             0.9,
             "#4d9221"
            ],
            [
             1,
             "#276419"
            ]
           ],
           "sequential": [
            [
             0,
             "#0d0887"
            ],
            [
             0.1111111111111111,
             "#46039f"
            ],
            [
             0.2222222222222222,
             "#7201a8"
            ],
            [
             0.3333333333333333,
             "#9c179e"
            ],
            [
             0.4444444444444444,
             "#bd3786"
            ],
            [
             0.5555555555555556,
             "#d8576b"
            ],
            [
             0.6666666666666666,
             "#ed7953"
            ],
            [
             0.7777777777777778,
             "#fb9f3a"
            ],
            [
             0.8888888888888888,
             "#fdca26"
            ],
            [
             1,
             "#f0f921"
            ]
           ],
           "sequentialminus": [
            [
             0,
             "#0d0887"
            ],
            [
             0.1111111111111111,
             "#46039f"
            ],
            [
             0.2222222222222222,
             "#7201a8"
            ],
            [
             0.3333333333333333,
             "#9c179e"
            ],
            [
             0.4444444444444444,
             "#bd3786"
            ],
            [
             0.5555555555555556,
             "#d8576b"
            ],
            [
             0.6666666666666666,
             "#ed7953"
            ],
            [
             0.7777777777777778,
             "#fb9f3a"
            ],
            [
             0.8888888888888888,
             "#fdca26"
            ],
            [
             1,
             "#f0f921"
            ]
           ]
          },
          "colorway": [
           "#636efa",
           "#EF553B",
           "#00cc96",
           "#ab63fa",
           "#FFA15A",
           "#19d3f3",
           "#FF6692",
           "#B6E880",
           "#FF97FF",
           "#FECB52"
          ],
          "font": {
           "color": "#2a3f5f"
          },
          "geo": {
           "bgcolor": "white",
           "lakecolor": "white",
           "landcolor": "white",
           "showlakes": true,
           "showland": true,
           "subunitcolor": "#C8D4E3"
          },
          "hoverlabel": {
           "align": "left"
          },
          "hovermode": "closest",
          "mapbox": {
           "style": "light"
          },
          "paper_bgcolor": "white",
          "plot_bgcolor": "white",
          "polar": {
           "angularaxis": {
            "gridcolor": "#EBF0F8",
            "linecolor": "#EBF0F8",
            "ticks": ""
           },
           "bgcolor": "white",
           "radialaxis": {
            "gridcolor": "#EBF0F8",
            "linecolor": "#EBF0F8",
            "ticks": ""
           }
          },
          "scene": {
           "xaxis": {
            "backgroundcolor": "white",
            "gridcolor": "#DFE8F3",
            "gridwidth": 2,
            "linecolor": "#EBF0F8",
            "showbackground": true,
            "ticks": "",
            "zerolinecolor": "#EBF0F8"
           },
           "yaxis": {
            "backgroundcolor": "white",
            "gridcolor": "#DFE8F3",
            "gridwidth": 2,
            "linecolor": "#EBF0F8",
            "showbackground": true,
            "ticks": "",
            "zerolinecolor": "#EBF0F8"
           },
           "zaxis": {
            "backgroundcolor": "white",
            "gridcolor": "#DFE8F3",
            "gridwidth": 2,
            "linecolor": "#EBF0F8",
            "showbackground": true,
            "ticks": "",
            "zerolinecolor": "#EBF0F8"
           }
          },
          "shapedefaults": {
           "line": {
            "color": "#2a3f5f"
           }
          },
          "ternary": {
           "aaxis": {
            "gridcolor": "#DFE8F3",
            "linecolor": "#A2B1C6",
            "ticks": ""
           },
           "baxis": {
            "gridcolor": "#DFE8F3",
            "linecolor": "#A2B1C6",
            "ticks": ""
           },
           "bgcolor": "white",
           "caxis": {
            "gridcolor": "#DFE8F3",
            "linecolor": "#A2B1C6",
            "ticks": ""
           }
          },
          "title": {
           "x": 0.05
          },
          "xaxis": {
           "automargin": true,
           "gridcolor": "#EBF0F8",
           "linecolor": "#EBF0F8",
           "ticks": "",
           "title": {
            "standoff": 15
           },
           "zerolinecolor": "#EBF0F8",
           "zerolinewidth": 2
          },
          "yaxis": {
           "automargin": true,
           "gridcolor": "#EBF0F8",
           "linecolor": "#EBF0F8",
           "ticks": "",
           "title": {
            "standoff": 15
           },
           "zerolinecolor": "#EBF0F8",
           "zerolinewidth": 2
          }
         }
        },
        "title": {
         "text": "AAPL Stock Closing Prices and Volume"
        },
        "xaxis": {
         "anchor": "y",
         "autorange": true,
         "domain": [
          0,
          0.94
         ],
         "linecolor": "black",
         "linewidth": 2,
         "mirror": true,
         "range": [
          "2024-10-11",
          "2025-03-07"
         ],
         "showline": true,
         "title": {
          "text": "Date"
         },
         "type": "date"
        },
        "yaxis": {
         "anchor": "x",
         "autorange": true,
         "domain": [
          0,
          1
         ],
         "linecolor": "blue",
         "linewidth": 2,
         "mirror": true,
         "range": [
          0,
          272.65263157894736
         ],
         "rangemode": "tozero",
         "showline": true,
         "title": {
          "text": "<b>AAPL Close Price</b>"
         },
         "type": "linear"
        },
        "yaxis2": {
         "anchor": "x",
         "autorange": true,
         "linecolor": "red",
         "linewidth": 2,
         "mirror": true,
         "overlaying": "y",
         "range": [
          0,
          155258175.78947368
         ],
         "rangemode": "tozero",
         "showline": true,
         "side": "right",
         "title": {
          "text": "<b>AAPL Volume</b>"
         },
         "type": "linear"
        }
       }
      },
      "image/png": "[encoded data removed]"
     },
     "metadata": {},
     "output_type": "display_data"
    },
    {
     "data": {
      "application/vnd.plotly.v1+json": {
       "config": {
        "plotlyServerURL": "https://plot.ly"
       },
       "data": [
        {
         "line": {
          "color": "royalblue"
         },
         "name": "NVDA Close Price",
         "type": "scatter",
         "x": [
          "2025-03-07T00:00:00.000000000",
          "2025-03-06T00:00:00.000000000",
          "2025-03-05T00:00:00.000000000",
          "2025-03-04T00:00:00.000000000",
          "2025-03-03T00:00:00.000000000",
          "2025-02-28T00:00:00.000000000",
          "2025-02-27T00:00:00.000000000",
          "2025-02-26T00:00:00.000000000",
          "2025-02-25T00:00:00.000000000",
          "2025-02-24T00:00:00.000000000",
          "2025-02-21T00:00:00.000000000",
          "2025-02-20T00:00:00.000000000",
          "2025-02-19T00:00:00.000000000",
          "2025-02-18T00:00:00.000000000",
          "2025-02-14T00:00:00.000000000",
          "2025-02-13T00:00:00.000000000",
          "2025-02-12T00:00:00.000000000",
          "2025-02-11T00:00:00.000000000",
          "2025-02-10T00:00:00.000000000",
          "2025-02-07T00:00:00.000000000",
          "2025-02-06T00:00:00.000000000",
          "2025-02-05T00:00:00.000000000",
          "2025-02-04T00:00:00.000000000",
          "2025-02-03T00:00:00.000000000",
          "2025-01-31T00:00:00.000000000",
          "2025-01-30T00:00:00.000000000",
          "2025-01-29T00:00:00.000000000",
          "2025-01-28T00:00:00.000000000",
          "2025-01-27T00:00:00.000000000",
          "2025-01-24T00:00:00.000000000",
          "2025-01-23T00:00:00.000000000",
          "2025-01-22T00:00:00.000000000",
          "2025-01-21T00:00:00.000000000",
          "2025-01-17T00:00:00.000000000",
          "2025-01-16T00:00:00.000000000",
          "2025-01-15T00:00:00.000000000",
          "2025-01-14T00:00:00.000000000",
          "2025-01-13T00:00:00.000000000",
          "2025-01-10T00:00:00.000000000",
          "2025-01-08T00:00:00.000000000",
          "2025-01-07T00:00:00.000000000",
          "2025-01-06T00:00:00.000000000",
          "2025-01-03T00:00:00.000000000",
          "2025-01-02T00:00:00.000000000",
          "2024-12-31T00:00:00.000000000",
          "2024-12-30T00:00:00.000000000",
          "2024-12-27T00:00:00.000000000",
          "2024-12-26T00:00:00.000000000",
          "2024-12-24T00:00:00.000000000",
          "2024-12-23T00:00:00.000000000",
          "2024-12-20T00:00:00.000000000",
          "2024-12-19T00:00:00.000000000",
          "2024-12-18T00:00:00.000000000",
          "2024-12-17T00:00:00.000000000",
          "2024-12-16T00:00:00.000000000",
          "2024-12-13T00:00:00.000000000",
          "2024-12-12T00:00:00.000000000",
          "2024-12-11T00:00:00.000000000",
          "2024-12-10T00:00:00.000000000",
          "2024-12-09T00:00:00.000000000",
          "2024-12-06T00:00:00.000000000",
          "2024-12-05T00:00:00.000000000",
          "2024-12-04T00:00:00.000000000",
          "2024-12-03T00:00:00.000000000",
          "2024-12-02T00:00:00.000000000",
          "2024-11-29T00:00:00.000000000",
          "2024-11-27T00:00:00.000000000",
          "2024-11-26T00:00:00.000000000",
          "2024-11-25T00:00:00.000000000",
          "2024-11-22T00:00:00.000000000",
          "2024-11-21T00:00:00.000000000",
          "2024-11-20T00:00:00.000000000",
          "2024-11-19T00:00:00.000000000",
          "2024-11-18T00:00:00.000000000",
          "2024-11-15T00:00:00.000000000",
          "2024-11-14T00:00:00.000000000",
          "2024-11-13T00:00:00.000000000",
          "2024-11-12T00:00:00.000000000",
          "2024-11-11T00:00:00.000000000",
          "2024-11-08T00:00:00.000000000",
          "2024-11-07T00:00:00.000000000",
          "2024-11-06T00:00:00.000000000",
          "2024-11-05T00:00:00.000000000",
          "2024-11-04T00:00:00.000000000",
          "2024-11-01T00:00:00.000000000",
          "2024-10-31T00:00:00.000000000",
          "2024-10-30T00:00:00.000000000",
          "2024-10-29T00:00:00.000000000",
          "2024-10-28T00:00:00.000000000",
          "2024-10-25T00:00:00.000000000",
          "2024-10-24T00:00:00.000000000",
          "2024-10-23T00:00:00.000000000",
          "2024-10-22T00:00:00.000000000",
          "2024-10-21T00:00:00.000000000",
          "2024-10-18T00:00:00.000000000",
          "2024-10-17T00:00:00.000000000",
          "2024-10-16T00:00:00.000000000",
          "2024-10-15T00:00:00.000000000",
          "2024-10-14T00:00:00.000000000",
          "2024-10-11T00:00:00.000000000"
         ],
         "xaxis": "x",
         "y": {
          "_inputArray": {
           "0": 112.69,
           "1": 110.57,
           "10": 134.43,
           "11": 140.11,
           "12": 139.23,
           "13": 139.4,
           "14": 138.85,
           "15": 135.29,
           "16": 131.14,
           "17": 132.8,
           "18": 133.57,
           "19": 129.84,
           "2": 117.3,
           "20": 128.68,
           "21": 124.83,
           "22": 118.65,
           "23": 116.66,
           "24": 120.07,
           "25": 124.65,
           "26": 123.7,
           "27": 128.99,
           "28": 118.42,
           "29": 142.62,
           "3": 115.99,
           "30": 147.22,
           "31": 147.07,
           "32": 140.83,
           "33": 137.71,
           "34": 133.57,
           "35": 136.24,
           "36": 131.76,
           "37": 133.23,
           "38": 135.91,
           "39": 140.11,
           "4": 114.06,
           "40": 140.14,
           "41": 149.43,
           "42": 144.47,
           "43": 138.31,
           "44": 134.29,
           "45": 137.49,
           "46": 137.01,
           "47": 139.93,
           "48": 140.22,
           "49": 139.67,
           "5": 124.92,
           "50": 134.7,
           "51": 130.68,
           "52": 128.91,
           "53": 130.39,
           "54": 132,
           "55": 134.25,
           "56": 137.34,
           "57": 139.31,
           "58": 135.07,
           "59": 138.81,
           "6": 120.15,
           "60": 142.44,
           "61": 145.06,
           "62": 145.14,
           "63": 140.26,
           "64": 138.63,
           "65": 138.25,
           "66": 135.34,
           "67": 136.92,
           "68": 136.02,
           "69": 141.95,
           "7": 131.28,
           "70": 146.67,
           "71": 145.89,
           "72": 147.01,
           "73": 140.15,
           "74": 141.98,
           "75": 146.76,
           "76": 146.27,
           "77": 148.29,
           "78": 145.26,
           "79": 147.63,
           "8": 126.63,
           "80": 148.88,
           "81": 145.61,
           "82": 139.91,
           "83": 136.05,
           "84": 135.4,
           "85": 132.76,
           "86": 139.335,
           "87": 141.25,
           "88": 140.52,
           "89": 141.54,
           "9": 130.28,
           "90": 140.41,
           "91": 139.56,
           "92": 143.59,
           "93": 143.71,
           "94": 138,
           "95": 136.93,
           "96": 135.72,
           "97": 131.6,
           "98": 138.07,
           "99": 134.8,
           "bdata": "XI/C9SgsXEAUrkfheqRbQDMzMzMzU11Aj8L1KFz/XECkcD0K14NcQHsUrkfhOl9AmpmZmZkJXkApXI/C9WhgQLgehetRqF9AKVyPwvVIYED2KFyPws1gQOxRuB6Fg2FAj8L1KFxnYUDNzMzMzGxhQDMzMzMzW2FA4XoUrkfpYEAUrkfhemRgQJqZmZmZmWBACtejcD2yYEB7FK5H4TpgQPYoXI/CFWBAhetRuB41X0CamZmZmaldQArXo3A9Kl1AFK5H4XoEXkCamZmZmSlfQM3MzMzM7F5ASOF6FK4fYEB7FK5H4ZpdQKRwPQrX02FA16NwPQpnYkAK16NwPWJiQMP1KFyPmmFAH4XrUbg2YUAK16NwPbJgQEjhehSuB2FAuB6F61F4YECPwvUoXKdgQIXrUbge/WBA7FG4HoWDYUAUrkfheoRhQPYoXI/CrWJA16NwPQoPYkBSuB6F60lhQOF6FK5HyWBASOF6FK4vYUC4HoXrUSBhQPYoXI/CfWFA16NwPQqHYUA9CtejcHVhQGZmZmZm1mBA9ihcj8JVYECF61G4Hh1gQBSuR+F6TGBAAAAAAACAYEAAAAAAAMhgQHsUrkfhKmFAUrgehetpYUAK16NwPeJgQFK4HoXrWWFArkfhehTOYUBSuB6F6yFiQBSuR+F6JGJAuB6F61GIYUBcj8L1KFRhQAAAAAAASGFAexSuR+HqYEA9CtejcB1hQHE9CtejAGFAZmZmZma+YUA9CtejcFViQBSuR+F6PGJAuB6F61FgYkDNzMzMzIRhQI/C9Shcv2FAuB6F61FYYkBxPQrXo0hiQOF6FK5HiWJAuB6F61EoYkBcj8L1KHRiQFyPwvUonGJA7FG4HoUzYkCF61G4Hn1hQJqZmZmZAWFAzczMzMzsYEC4HoXrUZhgQB+F61G4amFAAAAAAACoYUBxPQrXo5BhQOF6FK5HsWFAhetRuB6NYUBSuB6F63FhQHsUrkfh8mFAH4XrUbj2YUAAAAAAAEBhQPYoXI/CHWFA16NwPQr3YEAzMzMzM3NgQArXo3A9QmFAmpmZmZnZYEA=",
           "dtype": "f8",
           "shape": "100"
          },
          "bdata": "XI/C9SgsXEAUrkfheqRbQDMzMzMzU11Aj8L1KFz/XECkcD0K14NcQHsUrkfhOl9AmpmZmZkJXkApXI/C9WhgQLgehetRqF9AKVyPwvVIYED2KFyPws1gQOxRuB6Fg2FAj8L1KFxnYUDNzMzMzGxhQDMzMzMzW2FA4XoUrkfpYEAUrkfhemRgQJqZmZmZmWBACtejcD2yYEB7FK5H4TpgQPYoXI/CFWBAhetRuB41X0CamZmZmaldQArXo3A9Kl1AFK5H4XoEXkCamZmZmSlfQM3MzMzM7F5ASOF6FK4fYEB7FK5H4ZpdQKRwPQrX02FA16NwPQpnYkAK16NwPWJiQMP1KFyPmmFAH4XrUbg2YUAK16NwPbJgQEjhehSuB2FAuB6F61F4YECPwvUoXKdgQIXrUbge/WBA7FG4HoWDYUAUrkfheoRhQPYoXI/CrWJA16NwPQoPYkBSuB6F60lhQOF6FK5HyWBASOF6FK4vYUC4HoXrUSBhQPYoXI/CfWFA16NwPQqHYUA9CtejcHVhQGZmZmZm1mBA9ihcj8JVYECF61G4Hh1gQBSuR+F6TGBAAAAAAACAYEAAAAAAAMhgQHsUrkfhKmFAUrgehetpYUAK16NwPeJgQFK4HoXrWWFArkfhehTOYUBSuB6F6yFiQBSuR+F6JGJAuB6F61GIYUBcj8L1KFRhQAAAAAAASGFAexSuR+HqYEA9CtejcB1hQHE9CtejAGFAZmZmZma+YUA9CtejcFViQBSuR+F6PGJAuB6F61FgYkDNzMzMzIRhQI/C9Shcv2FAuB6F61FYYkBxPQrXo0hiQOF6FK5HiWJAuB6F61EoYkBcj8L1KHRiQFyPwvUonGJA7FG4HoUzYkCF61G4Hn1hQJqZmZmZAWFAzczMzMzsYEC4HoXrUZhgQB+F61G4amFAAAAAAACoYUBxPQrXo5BhQOF6FK5HsWFAhetRuB6NYUBSuB6F63FhQHsUrkfh8mFAH4XrUbj2YUAAAAAAAEBhQPYoXI/CHWFA16NwPQr3YEAzMzMzM3NgQArXo3A9QmFAmpmZmZnZYEA=",
          "dtype": "f8"
         },
         "yaxis": "y"
        },
        {
         "line": {
          "color": "tomato",
          "dash": "dot"
         },
         "name": "NVDA Volume",
         "type": "scatter",
         "x": [
          "2025-03-07T00:00:00.000000000",
          "2025-03-06T00:00:00.000000000",
          "2025-03-05T00:00:00.000000000",
          "2025-03-04T00:00:00.000000000",
          "2025-03-03T00:00:00.000000000",
          "2025-02-28T00:00:00.000000000",
          "2025-02-27T00:00:00.000000000",
          "2025-02-26T00:00:00.000000000",
          "2025-02-25T00:00:00.000000000",
          "2025-02-24T00:00:00.000000000",
          "2025-02-21T00:00:00.000000000",
          "2025-02-20T00:00:00.000000000",
          "2025-02-19T00:00:00.000000000",
          "2025-02-18T00:00:00.000000000",
          "2025-02-14T00:00:00.000000000",
          "2025-02-13T00:00:00.000000000",
          "2025-02-12T00:00:00.000000000",
          "2025-02-11T00:00:00.000000000",
          "2025-02-10T00:00:00.000000000",
          "2025-02-07T00:00:00.000000000",
          "2025-02-06T00:00:00.000000000",
          "2025-02-05T00:00:00.000000000",
          "2025-02-04T00:00:00.000000000",
          "2025-02-03T00:00:00.000000000",
          "2025-01-31T00:00:00.000000000",
          "2025-01-30T00:00:00.000000000",
          "2025-01-29T00:00:00.000000000",
          "2025-01-28T00:00:00.000000000",
          "2025-01-27T00:00:00.000000000",
          "2025-01-24T00:00:00.000000000",
          "2025-01-23T00:00:00.000000000",
          "2025-01-22T00:00:00.000000000",
          "2025-01-21T00:00:00.000000000",
          "2025-01-17T00:00:00.000000000",
          "2025-01-16T00:00:00.000000000",
          "2025-01-15T00:00:00.000000000",
          "2025-01-14T00:00:00.000000000",
          "2025-01-13T00:00:00.000000000",
          "2025-01-10T00:00:00.000000000",
          "2025-01-08T00:00:00.000000000",
          "2025-01-07T00:00:00.000000000",
          "2025-01-06T00:00:00.000000000",
          "2025-01-03T00:00:00.000000000",
          "2025-01-02T00:00:00.000000000",
          "2024-12-31T00:00:00.000000000",
          "2024-12-30T00:00:00.000000000",
          "2024-12-27T00:00:00.000000000",
          "2024-12-26T00:00:00.000000000",
          "2024-12-24T00:00:00.000000000",
          "2024-12-23T00:00:00.000000000",
          "2024-12-20T00:00:00.000000000",
          "2024-12-19T00:00:00.000000000",
          "2024-12-18T00:00:00.000000000",
          "2024-12-17T00:00:00.000000000",
          "2024-12-16T00:00:00.000000000",
          "2024-12-13T00:00:00.000000000",
          "2024-12-12T00:00:00.000000000",
          "2024-12-11T00:00:00.000000000",
          "2024-12-10T00:00:00.000000000",
          "2024-12-09T00:00:00.000000000",
          "2024-12-06T00:00:00.000000000",
          "2024-12-05T00:00:00.000000000",
          "2024-12-04T00:00:00.000000000",
          "2024-12-03T00:00:00.000000000",
          "2024-12-02T00:00:00.000000000",
          "2024-11-29T00:00:00.000000000",
          "2024-11-27T00:00:00.000000000",
          "2024-11-26T00:00:00.000000000",
          "2024-11-25T00:00:00.000000000",
          "2024-11-22T00:00:00.000000000",
          "2024-11-21T00:00:00.000000000",
          "2024-11-20T00:00:00.000000000",
          "2024-11-19T00:00:00.000000000",
          "2024-11-18T00:00:00.000000000",
          "2024-11-15T00:00:00.000000000",
          "2024-11-14T00:00:00.000000000",
          "2024-11-13T00:00:00.000000000",
          "2024-11-12T00:00:00.000000000",
          "2024-11-11T00:00:00.000000000",
          "2024-11-08T00:00:00.000000000",
          "2024-11-07T00:00:00.000000000",
          "2024-11-06T00:00:00.000000000",
          "2024-11-05T00:00:00.000000000",
          "2024-11-04T00:00:00.000000000",
          "2024-11-01T00:00:00.000000000",
          "2024-10-31T00:00:00.000000000",
          "2024-10-30T00:00:00.000000000",
          "2024-10-29T00:00:00.000000000",
          "2024-10-28T00:00:00.000000000",
          "2024-10-25T00:00:00.000000000",
          "2024-10-24T00:00:00.000000000",
          "2024-10-23T00:00:00.000000000",
          "2024-10-22T00:00:00.000000000",
          "2024-10-21T00:00:00.000000000",
          "2024-10-18T00:00:00.000000000",
          "2024-10-17T00:00:00.000000000",
          "2024-10-16T00:00:00.000000000",
          "2024-10-15T00:00:00.000000000",
          "2024-10-14T00:00:00.000000000",
          "2024-10-11T00:00:00.000000000"
         ],
         "xaxis": "x",
         "y": {
          "_inputArray": {
           "0": 340527752,
           "1": 321181861,
           "10": 228217585,
           "11": 143903583,
           "12": 167536006,
           "13": 219176627,
           "14": 195479557,
           "15": 197429975,
           "16": 160278552,
           "17": 178902379,
           "18": 216989086,
           "19": 228186298,
           "2": 284337886,
           "20": 251483574,
           "21": 263110629,
           "22": 256550040,
           "23": 371235677,
           "24": 390372899,
           "25": 392925469,
           "26": 467120640,
           "27": 579666350,
           "28": 818830895,
           "29": 234657635,
           "3": 398163305,
           "30": 155915549,
           "31": 237651395,
           "32": 197748985,
           "33": 201188760,
           "34": 209235583,
           "35": 185217338,
           "36": 195590485,
           "37": 204808914,
           "38": 207602514,
           "39": 227349948,
           "4": 411381373,
           "40": 351782174,
           "41": 265377359,
           "42": 229322478,
           "43": 198247166,
           "44": 155659211,
           "45": 167734700,
           "46": 170582603,
           "47": 116519090,
           "48": 105156989,
           "49": 176053506,
           "5": 389091145,
           "50": 306528553,
           "51": 209719210,
           "52": 277444533,
           "53": 259410263,
           "54": 237951130,
           "55": 231514881,
           "56": 159211393,
           "57": 184905192,
           "58": 210020888,
           "59": 189308625,
           "6": 443175846,
           "60": 188505573,
           "61": 172621180,
           "62": 231224295,
           "63": 164413965,
           "64": 171682777,
           "65": 141863156,
           "66": 226370912,
           "67": 190287654,
           "68": 344941875,
           "69": 236406154,
           "7": 322553814,
           "70": 400946570,
           "71": 309871654,
           "72": 227834912,
           "73": 221865993,
           "74": 250132869,
           "75": 194463301,
           "76": 191903267,
           "77": 198634738,
           "78": 182325620,
           "79": 175665830,
           "8": 271428711,
           "80": 207323303,
           "81": 242043945,
           "82": 160537373,
           "83": 187528173,
           "84": 207127838,
           "85": 270039641,
           "86": 179418082,
           "87": 157593634,
           "88": 173586745,
           "89": 205122109,
           "9": 251381137,
           "90": 172354888,
           "91": 285930038,
           "92": 226311589,
           "93": 264554514,
           "94": 176090184,
           "95": 306435921,
           "96": 264879720,
           "97": 377831021,
           "98": 232347668,
           "99": 170209474,
           "bdata": "AAAAiApMtEEAAACl2CSzQQAAAN6m8rBBAAAAaX27t0EAAAB9LoW4QQAAAEkPMbdBAAAAplNqukEAAADWxzmzQQAAAGesLbBBAAAAIov3rUEAAADipTSrQQAAAL6WJ6FBAAAADMv4o0EAAABmvSCqQQAAAAqQTadBAAAArhWJp0EAAAAwUBujQQAAANaqU6VBAAAAPPvdqUEAAAB0sTOrQQAAAGyr+q1BAAAAyn9dr0EAAAAwSZWuQQAAAF2bILZBAAAAI55Et0EAAAAdkWu3QQAAAACy17tBAAAA14BGwUEAAIAXL2fIQQAAAMYu+atBAAAAOiqWokEAAACGi1SsQQAAAPLRkqdBAAAAMMv7p0EAAAD+XPGoQQAAAHRiFKZBAAAAqvJQp0EAAACkRWqoQQAAAKSGv6hBAAAAeCsaq0EAAAAexfe0QQAAAJ6soq9BAAAA3F1Wq0EAAAD8BaKnQQAAAJZXjqJBAAAAWNv+o0EAAACWxFWkQQAAAMjCx5tBAAAA9EUSmUEAAAAEuvykQQAAAClBRbJBAAAAVB8AqUEAAAC1d4mwQQAAAK6S7K5BAAAANLFdrEEAAAACRpmrQQAAAAK/+qJBAAAA0NsKpkEAAAAwVAmpQQAAAKI9kaZBAAAAyrt4pkEAAAD4+pOkQQAAAM5nkKtBAAAAGoSZo0EAAACyV3ekQQAAAOhR6aBBAAAAwEr8qkEAAABMHq+mQQAAADNlj7RBAAAAFIsurEEAAACK9eW3QQAAACZEeLJBAAAAQPgoq0EAAAAS0HKqQQAAAApz0a1BAAAAiowup0EAAABGbOCmQQAAAOTZradBAAAA6CK8pUEAAABM5fCkQQAAAE4Bt6hBAAAAUpjarEEAAAA6NiOjQQAAANrnWqZBAAAAPAqxqEEAAABZehiwQQAAAMRnY6VBAAAARGDJokEAAABycrGkQQAAAHrUc6hBAAAAkNqLpEEAAAA28gqxQQAAAEp7+qpBAAAAJJCJr0EAAACQ2P2kQQAAAFHXQ7JBAAAA0HyTr0EAAABtPoW2QQAAACiwsqtBAAAAhGFKpEE=",
           "dtype": "f8",
           "shape": "100"
          },
          "bdata": "AAAAiApMtEEAAACl2CSzQQAAAN6m8rBBAAAAaX27t0EAAAB9LoW4QQAAAEkPMbdBAAAAplNqukEAAADWxzmzQQAAAGesLbBBAAAAIov3rUEAAADipTSrQQAAAL6WJ6FBAAAADMv4o0EAAABmvSCqQQAAAAqQTadBAAAArhWJp0EAAAAwUBujQQAAANaqU6VBAAAAPPvdqUEAAAB0sTOrQQAAAGyr+q1BAAAAyn9dr0EAAAAwSZWuQQAAAF2bILZBAAAAI55Et0EAAAAdkWu3QQAAAACy17tBAAAA14BGwUEAAIAXL2fIQQAAAMYu+atBAAAAOiqWokEAAACGi1SsQQAAAPLRkqdBAAAAMMv7p0EAAAD+XPGoQQAAAHRiFKZBAAAAqvJQp0EAAACkRWqoQQAAAKSGv6hBAAAAeCsaq0EAAAAexfe0QQAAAJ6soq9BAAAA3F1Wq0EAAAD8BaKnQQAAAJZXjqJBAAAAWNv+o0EAAACWxFWkQQAAAMjCx5tBAAAA9EUSmUEAAAAEuvykQQAAAClBRbJBAAAAVB8AqUEAAAC1d4mwQQAAAK6S7K5BAAAANLFdrEEAAAACRpmrQQAAAAK/+qJBAAAA0NsKpkEAAAAwVAmpQQAAAKI9kaZBAAAAyrt4pkEAAAD4+pOkQQAAAM5nkKtBAAAAGoSZo0EAAACyV3ekQQAAAOhR6aBBAAAAwEr8qkEAAABMHq+mQQAAADNlj7RBAAAAFIsurEEAAACK9eW3QQAAACZEeLJBAAAAQPgoq0EAAAAS0HKqQQAAAApz0a1BAAAAiowup0EAAABGbOCmQQAAAOTZradBAAAA6CK8pUEAAABM5fCkQQAAAE4Bt6hBAAAAUpjarEEAAAA6NiOjQQAAANrnWqZBAAAAPAqxqEEAAABZehiwQQAAAMRnY6VBAAAARGDJokEAAABycrGkQQAAAHrUc6hBAAAAkNqLpEEAAAA28gqxQQAAAEp7+qpBAAAAJJCJr0EAAACQ2P2kQQAAAFHXQ7JBAAAA0HyTr0EAAABtPoW2QQAAACiwsqtBAAAAhGFKpEE=",
          "dtype": "f8"
         },
         "yaxis": "y2"
        }
       ],
       "layout": {
        "autosize": true,
        "template": {
         "data": {
          "bar": [
           {
            "error_x": {
             "color": "#2a3f5f"
            },
            "error_y": {
             "color": "#2a3f5f"
            },
            "marker": {
             "line": {
              "color": "white",
              "width": 0.5
             },
             "pattern": {
              "fillmode": "overlay",
              "size": 10,
              "solidity": 0.2
             }
            },
            "type": "bar"
           }
          ],
          "barpolar": [
           {
            "marker": {
             "line": {
              "color": "white",
              "width": 0.5
             },
             "pattern": {
              "fillmode": "overlay",
              "size": 10,
              "solidity": 0.2
             }
            },
            "type": "barpolar"
           }
          ],
          "carpet": [
           {
            "aaxis": {
             "endlinecolor": "#2a3f5f",
             "gridcolor": "#C8D4E3",
             "linecolor": "#C8D4E3",
             "minorgridcolor": "#C8D4E3",
             "startlinecolor": "#2a3f5f"
            },
            "baxis": {
             "endlinecolor": "#2a3f5f",
             "gridcolor": "#C8D4E3",
             "linecolor": "#C8D4E3",
             "minorgridcolor": "#C8D4E3",
             "startlinecolor": "#2a3f5f"
            },
            "type": "carpet"
           }
          ],
          "choropleth": [
           {
            "colorbar": {
             "outlinewidth": 0,
             "ticks": ""
            },
            "type": "choropleth"
           }
          ],
          "contour": [
           {
            "colorbar": {
             "outlinewidth": 0,
             "ticks": ""
            },
            "colorscale": [
             [
              0,
              "#0d0887"
             ],
             [
              0.1111111111111111,
              "#46039f"
             ],
             [
              0.2222222222222222,
              "#7201a8"
             ],
             [
              0.3333333333333333,
              "#9c179e"
             ],
             [
              0.4444444444444444,
              "#bd3786"
             ],
             [
              0.5555555555555556,
              "#d8576b"
             ],
             [
              0.6666666666666666,
              "#ed7953"
             ],
             [
              0.7777777777777778,
              "#fb9f3a"
             ],
             [
              0.8888888888888888,
              "#fdca26"
             ],
             [
              1,
              "#f0f921"
             ]
            ],
            "type": "contour"
           }
          ],
          "contourcarpet": [
           {
            "colorbar": {
             "outlinewidth": 0,
             "ticks": ""
            },
            "type": "contourcarpet"
           }
          ],
          "heatmap": [
           {
            "colorbar": {
             "outlinewidth": 0,
             "ticks": ""
            },
            "colorscale": [
             [
              0,
              "#0d0887"
             ],
             [
              0.1111111111111111,
              "#46039f"
             ],
             [
              0.2222222222222222,
              "#7201a8"
             ],
             [
              0.3333333333333333,
              "#9c179e"
             ],
             [
              0.4444444444444444,
              "#bd3786"
             ],
             [
              0.5555555555555556,
              "#d8576b"
             ],
             [
              0.6666666666666666,
              "#ed7953"
             ],
             [
              0.7777777777777778,
              "#fb9f3a"
             ],
             [
              0.8888888888888888,
              "#fdca26"
             ],
             [
              1,
              "#f0f921"
             ]
            ],
            "type": "heatmap"
           }
          ],
          "histogram": [
           {
            "marker": {
             "pattern": {
              "fillmode": "overlay",
              "size": 10,
              "solidity": 0.2
             }
            },
            "type": "histogram"
           }
          ],
          "histogram2d": [
           {
            "colorbar": {
             "outlinewidth": 0,
             "ticks": ""
            },
            "colorscale": [
             [
              0,
              "#0d0887"
             ],
             [
              0.1111111111111111,
              "#46039f"
             ],
             [
              0.2222222222222222,
              "#7201a8"
             ],
             [
              0.3333333333333333,
              "#9c179e"
             ],
             [
              0.4444444444444444,
              "#bd3786"
             ],
             [
              0.5555555555555556,
              "#d8576b"
             ],
             [
              0.6666666666666666,
              "#ed7953"
             ],
             [
              0.7777777777777778,
              "#fb9f3a"
             ],
             [
              0.8888888888888888,
              "#fdca26"
             ],
             [
              1,
              "#f0f921"
             ]
            ],
            "type": "histogram2d"
           }
          ],
          "histogram2dcontour": [
           {
            "colorbar": {
             "outlinewidth": 0,
             "ticks": ""
            },
            "colorscale": [
             [
              0,
              "#0d0887"
             ],
             [
              0.1111111111111111,
              "#46039f"
             ],
             [
              0.2222222222222222,
              "#7201a8"
             ],
             [
              0.3333333333333333,
              "#9c179e"
             ],
             [
              0.4444444444444444,
              "#bd3786"
             ],
             [
              0.5555555555555556,
              "#d8576b"
             ],
             [
              0.6666666666666666,
              "#ed7953"
             ],
             [
              0.7777777777777778,
              "#fb9f3a"
             ],
             [
              0.8888888888888888,
              "#fdca26"
             ],
             [
              1,
              "#f0f921"
             ]
            ],
            "type": "histogram2dcontour"
           }
          ],
          "mesh3d": [
           {
            "colorbar": {
             "outlinewidth": 0,
             "ticks": ""
            },
            "type": "mesh3d"
           }
          ],
          "parcoords": [
           {
            "line": {
             "colorbar": {
              "outlinewidth": 0,
              "ticks": ""
             }
            },
            "type": "parcoords"
           }
          ],
          "pie": [
           {
            "automargin": true,
            "type": "pie"
           }
          ],
          "scatter": [
           {
            "fillpattern": {
             "fillmode": "overlay",
             "size": 10,
             "solidity": 0.2
            },
            "type": "scatter"
           }
          ],
          "scatter3d": [
           {
            "line": {
             "colorbar": {
              "outlinewidth": 0,
              "ticks": ""
             }
            },
            "marker": {
             "colorbar": {
              "outlinewidth": 0,
              "ticks": ""
             }
            },
            "type": "scatter3d"
           }
          ],
          "scattercarpet": [
           {
            "marker": {
             "colorbar": {
              "outlinewidth": 0,
              "ticks": ""
             }
            },
            "type": "scattercarpet"
           }
          ],
          "scattergeo": [
           {
            "marker": {
             "colorbar": {
              "outlinewidth": 0,
              "ticks": ""
             }
            },
            "type": "scattergeo"
           }
          ],
          "scattergl": [
           {
            "marker": {
             "colorbar": {
              "outlinewidth": 0,
              "ticks": ""
             }
            },
            "type": "scattergl"
           }
          ],
          "scattermap": [
           {
            "marker": {
             "colorbar": {
              "outlinewidth": 0,
              "ticks": ""
             }
            },
            "type": "scattermap"
           }
          ],
          "scattermapbox": [
           {
            "marker": {
             "colorbar": {
              "outlinewidth": 0,
              "ticks": ""
             }
            },
            "type": "scattermapbox"
           }
          ],
          "scatterpolar": [
           {
            "marker": {
             "colorbar": {
              "outlinewidth": 0,
              "ticks": ""
             }
            },
            "type": "scatterpolar"
           }
          ],
          "scatterpolargl": [
           {
            "marker": {
             "colorbar": {
              "outlinewidth": 0,
              "ticks": ""
             }
            },
            "type": "scatterpolargl"
           }
          ],
          "scatterternary": [
           {
            "marker": {
             "colorbar": {
              "outlinewidth": 0,
              "ticks": ""
             }
            },
            "type": "scatterternary"
           }
          ],
          "surface": [
           {
            "colorbar": {
             "outlinewidth": 0,
             "ticks": ""
            },
            "colorscale": [
             [
              0,
              "#0d0887"
             ],
             [
              0.1111111111111111,
              "#46039f"
             ],
             [
              0.2222222222222222,
              "#7201a8"
             ],
             [
              0.3333333333333333,
              "#9c179e"
             ],
             [
              0.4444444444444444,
              "#bd3786"
             ],
             [
              0.5555555555555556,
              "#d8576b"
             ],
             [
              0.6666666666666666,
              "#ed7953"
             ],
             [
              0.7777777777777778,
              "#fb9f3a"
             ],
             [
              0.8888888888888888,
              "#fdca26"
             ],
             [
              1,
              "#f0f921"
             ]
            ],
            "type": "surface"
           }
          ],
          "table": [
           {
            "cells": {
             "fill": {
              "color": "#EBF0F8"
             },
             "line": {
              "color": "white"
             }
            },
            "header": {
             "fill": {
              "color": "#C8D4E3"
             },
             "line": {
              "color": "white"
             }
            },
            "type": "table"
           }
          ]
         },
         "layout": {
          "annotationdefaults": {
           "arrowcolor": "#2a3f5f",
           "arrowhead": 0,
           "arrowwidth": 1
          },
          "autotypenumbers": "strict",
          "coloraxis": {
           "colorbar": {
            "outlinewidth": 0,
            "ticks": ""
           }
          },
          "colorscale": {
           "diverging": [
            [
             0,
             "#8e0152"
            ],
            [
             0.1,
             "#c51b7d"
            ],
            [
             0.2,
             "#de77ae"
            ],
            [
             0.3,
             "#f1b6da"
            ],
            [
             0.4,
             "#fde0ef"
            ],
            [
             0.5,
             "#f7f7f7"
            ],
            [
             0.6,
             "#e6f5d0"
            ],
            [
             0.7,
             "#b8e186"
            ],
            [
             0.8,
             "#7fbc41"
            ],
            [
             0.9,
             "#4d9221"
            ],
            [
             1,
             "#276419"
            ]
           ],
           "sequential": [
            [
             0,
             "#0d0887"
            ],
            [
             0.1111111111111111,
             "#46039f"
            ],
            [
             0.2222222222222222,
             "#7201a8"
            ],
            [
             0.3333333333333333,
             "#9c179e"
            ],
            [
             0.4444444444444444,
             "#bd3786"
            ],
            [
             0.5555555555555556,
             "#d8576b"
            ],
            [
             0.6666666666666666,
             "#ed7953"
            ],
            [
             0.7777777777777778,
             "#fb9f3a"
            ],
            [
             0.8888888888888888,
             "#fdca26"
            ],
            [
             1,
             "#f0f921"
            ]
           ],
           "sequentialminus": [
            [
             0,
             "#0d0887"
            ],
            [
             0.1111111111111111,
             "#46039f"
            ],
            [
             0.2222222222222222,
             "#7201a8"
            ],
            [
             0.3333333333333333,
             "#9c179e"
            ],
            [
             0.4444444444444444,
             "#bd3786"
            ],
            [
             0.5555555555555556,
             "#d8576b"
            ],
            [
             0.6666666666666666,
             "#ed7953"
            ],
            [
             0.7777777777777778,
             "#fb9f3a"
            ],
            [
             0.8888888888888888,
             "#fdca26"
            ],
            [
             1,
             "#f0f921"
            ]
           ]
          },
          "colorway": [
           "#636efa",
           "#EF553B",
           "#00cc96",
           "#ab63fa",
           "#FFA15A",
           "#19d3f3",
           "#FF6692",
           "#B6E880",
           "#FF97FF",
           "#FECB52"
          ],
          "font": {
           "color": "#2a3f5f"
          },
          "geo": {
           "bgcolor": "white",
           "lakecolor": "white",
           "landcolor": "white",
           "showlakes": true,
           "showland": true,
           "subunitcolor": "#C8D4E3"
          },
          "hoverlabel": {
           "align": "left"
          },
          "hovermode": "closest",
          "mapbox": {
           "style": "light"
          },
          "paper_bgcolor": "white",
          "plot_bgcolor": "white",
          "polar": {
           "angularaxis": {
            "gridcolor": "#EBF0F8",
            "linecolor": "#EBF0F8",
            "ticks": ""
           },
           "bgcolor": "white",
           "radialaxis": {
            "gridcolor": "#EBF0F8",
            "linecolor": "#EBF0F8",
            "ticks": ""
           }
          },
          "scene": {
           "xaxis": {
            "backgroundcolor": "white",
            "gridcolor": "#DFE8F3",
            "gridwidth": 2,
            "linecolor": "#EBF0F8",
            "showbackground": true,
            "ticks": "",
            "zerolinecolor": "#EBF0F8"
           },
           "yaxis": {
            "backgroundcolor": "white",
            "gridcolor": "#DFE8F3",
            "gridwidth": 2,
            "linecolor": "#EBF0F8",
            "showbackground": true,
            "ticks": "",
            "zerolinecolor": "#EBF0F8"
           },
           "zaxis": {
            "backgroundcolor": "white",
            "gridcolor": "#DFE8F3",
            "gridwidth": 2,
            "linecolor": "#EBF0F8",
            "showbackground": true,
            "ticks": "",
            "zerolinecolor": "#EBF0F8"
           }
          },
          "shapedefaults": {
           "line": {
            "color": "#2a3f5f"
           }
          },
          "ternary": {
           "aaxis": {
            "gridcolor": "#DFE8F3",
            "linecolor": "#A2B1C6",
            "ticks": ""
           },
           "baxis": {
            "gridcolor": "#DFE8F3",
            "linecolor": "#A2B1C6",
            "ticks": ""
           },
           "bgcolor": "white",
           "caxis": {
            "gridcolor": "#DFE8F3",
            "linecolor": "#A2B1C6",
            "ticks": ""
           }
          },
          "title": {
           "x": 0.05
          },
          "xaxis": {
           "automargin": true,
           "gridcolor": "#EBF0F8",
           "linecolor": "#EBF0F8",
           "ticks": "",
           "title": {
            "standoff": 15
           },
           "zerolinecolor": "#EBF0F8",
           "zerolinewidth": 2
          },
          "yaxis": {
           "automargin": true,
           "gridcolor": "#EBF0F8",
           "linecolor": "#EBF0F8",
           "ticks": "",
           "title": {
            "standoff": 15
           },
           "zerolinecolor": "#EBF0F8",
           "zerolinewidth": 2
          }
         }
        },
        "title": {
         "text": "NVDA Stock Closing Prices and Volume"
        },
        "xaxis": {
         "anchor": "y",
         "autorange": true,
         "domain": [
          0,
          0.94
         ],
         "linecolor": "black",
         "linewidth": 2,
         "mirror": true,
         "range": [
          "2024-10-11",
          "2025-03-07"
         ],
         "showline": true,
         "title": {
          "text": "Date"
         },
         "type": "date"
        },
        "yaxis": {
         "anchor": "x",
         "autorange": true,
         "domain": [
          0,
          1
         ],
         "linecolor": "blue",
         "linewidth": 2,
         "mirror": true,
         "range": [
          0,
          157.29473684210527
         ],
         "rangemode": "tozero",
         "showline": true,
         "title": {
          "text": "<b>NVDA Close Price</b>"
         },
         "type": "linear"
        },
        "yaxis2": {
         "anchor": "x",
         "autorange": true,
         "linecolor": "red",
         "linewidth": 2,
         "mirror": true,
         "overlaying": "y",
         "range": [
          0,
          861927257.8947369
         ],
         "rangemode": "tozero",
         "showline": true,
         "side": "right",
         "title": {
          "text": "<b>NVDA Volume</b>"
         },
         "type": "linear"
        }
       }
      },
      "image/png": "[encoded data removed]"
     },
     "metadata": {},
     "output_type": "display_data"
    }
   ],
   "source": [
    "import plotly.graph_objects as go\n",
    "from plotly.subplots import make_subplots\n",
    "\n",
    "# Group the DataFrame by 'ticker'\n",
    "grouped = df.groupby('ticker')\n",
    "\n",
    "# Iterate over each group\n",
    "for ticker, data in grouped:\n",
    "    # Create a figure with secondary y-axis for each ticker\n",
    "    fig = make_subplots(specs=[[{\"secondary_y\": True}]])\n",
    "\n",
    "    # Add closing price trace\n",
    "    fig.add_trace(\n",
    "        go.Scatter(x=data['date'], y=data['close'].astype(float), name=f\"{ticker} Close Price\", line=dict(color='royalblue')),\n",
    "        secondary_y=False,\n",
    "    )\n",
    "\n",
    "    # Add volume trace\n",
    "    fig.add_trace(\n",
    "        go.Scatter(x=data['date'], y=data['volume'].astype(float), name=f\"{ticker} Volume\", line=dict(color='tomato', dash='dot')),\n",
    "        secondary_y=True,\n",
    "    )\n",
    "\n",
    "    # Add figure title and adjust layout for each ticker\n",
    "    fig.update_layout(\n",
    "        title_text=f\"{ticker} Stock Closing Prices and Volume\",\n",
    "        xaxis_title=\"Date\",\n",
    "        template=\"plotly_white\",\n",
    "    )\n",
    "\n",
    "    # Set x-axis properties\n",
    "    fig.update_xaxes(showline=True, linewidth=2, linecolor='black', mirror=True)\n",
    "\n",
    "    # Set y-axes titles and make them start from 0\n",
    "    fig.update_yaxes(title_text=f\"<b>{ticker} Close Price</b>\", secondary_y=False, showline=True, linewidth=2, linecolor='blue', mirror=True, rangemode='tozero')\n",
    "    fig.update_yaxes(title_text=f\"<b>{ticker} Volume</b>\", secondary_y=True, showline=True, linewidth=2, linecolor='red', mirror=True, rangemode='tozero')\n",
    "\n",
    "    # Show plot for each ticker\n",
    "    fig.show()\n"
   ]
  },
  {
   "cell_type": "markdown",
   "id": "4536198b",
   "metadata": {},
   "source": [
    "## Problem Statement: Part II – Storing Data in a Local Database\n",
    "\n",
    "### Overview\n",
    "In this part of the assignment, you will extend your solution from Part I by storing the stock market data (contained in a pandas DataFrame) into a MySQL database on your local machine. You will create a new database and table to hold the market data, insert the data from your DataFrame into the table, and then verify that the data has been stored correctly by querying the database.\n",
    "\n",
    "### Objectives\n",
    "1. **Database and Table Creation:**\n",
    "   - Connect to your local MySQL server using Python.\n",
    "   - Create a new database (e.g., `assignment2_alphavantage`). If the database already exists, you may choose to drop and recreate it to ensure a fresh start.\n",
    "   - Within the newly created database, create a table (e.g., `MarketData`) designed to store market information. The table should include columns for:\n",
    "     - A unique identifier (primary key)\n",
    "     - Stock ticker symbol\n",
    "     - Date\n",
    "     - Open, High, Low, Close prices (using an appropriate numeric data type)\n",
    "     - Volume (as a large integer)\n",
    "     - Additional fields if necessary (e.g., after-hours or pre-market prices, if applicable)\n",
    "\n",
    "2. **Storing Data into the Database:**\n",
    "   - Use SQLAlchemy to establish a connection to your MySQL database.\n",
    "   - Insert the data from your previously created DataFrame (from Part I) into the `MarketData` table using the DataFrame's `to_sql` method.\n",
    "   - Consider the appropriate option for the `if_exists` parameter (for example, `append` to add data to an existing table).\n",
    "\n",
    "3. **Data Verification:**\n",
    "   - Query the `MarketData` table to retrieve the stored data.\n",
    "   - Use pandas to load the query result into a DataFrame and display it, verifying that the data has been correctly stored in the database.\n",
    "\n",
    "### Hints and Considerations\n",
    "- **Database Connection:**\n",
    "  - Use the `pymysql` package in combination with SQLAlchemy to connect to your MySQL database.\n",
    "  - Make sure you have the necessary credentials (e.g., username, password) and that your MySQL server is running on `localhost`.\n",
    "\n",
    "- **Table Schema:**\n",
    "  - Ensure that the data types chosen for each column in your table align with the data types in your DataFrame (e.g., dates, decimals, integers).\n",
    "\n",
    "- **Error Handling:**\n",
    "  - Consider wrapping your database operations in try/finally blocks to ensure that connections are properly closed.\n",
    "\n",
    "- **Testing:**\n",
    "  - After inserting the data, run a simple SQL query (e.g., `SELECT * FROM MarketData`) to load the data into a DataFrame and verify that it matches your original dataset.\n",
    "\n",
    "### Deliverables\n",
    "- A Python script that:\n",
    "  1. Creates a MySQL database and a table for market data.\n",
    "  2. Inserts data from your DataFrame (obtained in Part I) into the database table.\n",
    "  3. Queries the database to retrieve and display the stored data.\n",
    "\n",
    "By completing Part II, you will demonstrate proficiency in integrating data processing with persistent storage, bridging the gap between data retrieval, manipulation, and database management.\n"
   ]
  },
  {
   "cell_type": "code",
   "execution_count": null,
   "id": "aa6e94d5",
   "metadata": {},
   "outputs": [],
   "source": [
    "## 1. Connecting to database engine and creating the Database\n",
    "\n",
    "import pymysql.cursors\n",
    "\n",
    "# Configuration\n",
    "config = {\n",
    "    'host': 'localhost',\n",
    "    'user': 'your_mysql_username',  # Replace with your MySQL username\n",
    "    'password': 'your_mysql_password',  # Replace with your MySQL password\n",
    "    'db': 'mysql',  # Initially connect to the default 'mysql' database to create a new database\n",
    "    'charset': 'utf8mb4',\n",
    "    'cursorclass': pymysql.cursors.DictCursor\n",
    "}\n",
    "\n",
    "# Connect to the database\n",
    "connection = pymysql.connect(**config)\n",
    "\n",
    "try:\n",
    "    with connection.cursor() as cursor:\n",
    "        # Create a new database for financial data\n",
    "        cursor.execute(\"DROP DATABASE finance_data\")\n",
    "        cursor.execute(\"CREATE DATABASE IF NOT EXISTS finance_data\")\n",
    "        cursor.execute(\"USE finance_data\")\n",
    "        \n",
    "        # Create MarketData Table\n",
    "        cursor.execute(\"\"\"\n",
    "        CREATE TABLE IF NOT EXISTS MarketData (\n",
    "            #Database table specs for storing market data GO HERE\n",
    "        )\"\"\")\n",
    "        \n",
    "    # Commit the changes\n",
    "    connection.commit()\n",
    "finally:\n",
    "    # Close the connection to ensure it's not left open\n",
    "    connection.close()\n",
    "\n",
    "print(\"Database and table for market data created successfully.\")"
   ]
  },
  {
   "cell_type": "code",
   "execution_count": null,
   "id": "5ee582ae",
   "metadata": {},
   "outputs": [
    {
     "name": "stdout",
     "output_type": "stream",
     "text": [
      "Database and table for market data created successfully.\n"
     ]
    }
   ],
   "source": [
    "# Output"
   ]
  },
  {
   "cell_type": "code",
   "execution_count": null,
   "id": "da8ed21b",
   "metadata": {},
   "outputs": [],
   "source": [
    "# 2. Insert Data into the Database\n",
    "# Assuming 'df' is your DataFrame containing the market data\n",
    "# Ensure you have the necessary libraries installed\n",
    "# pip install pandas sqlalchemy pymysql\n",
    "\n",
    "#To do: \n",
    "# \n",
    "# You just need to update the database connection details\n",
    "\n",
    "# Import necessary libraries\n",
    "import pandas as pd\n",
    "import pymysql\n",
    "from sqlalchemy import create_engine\n",
    "\n",
    "# Database connection details\n",
    "username = #your mysql_username\n",
    "password = #your mysql_password\n",
    "host = #'localhost'  # or your MySQL server address\n",
    "database_name = 'assignment2_alphavantage'\n",
    "table_name = 'MarketData'\n",
    "\n",
    "# SQLAlchemy engine for MySQL connection\n",
    "engine = create_engine(f'mysql+pymysql://{username}:{password}@{host}/{database_name}')\n",
    "\n",
    "# Use to_sql method to insert data into the MarketData table\n",
    "df.to_sql(name=table_name, con=engine, if_exists='append', index=False)\n",
    "\n",
    "# 'if_exists' parameter options:\n",
    "# 'fail': Raises an error if the table exists.\n",
    "# 'replace': Drops the table before inserting new values (be careful with this option).\n",
    "# 'append': Inserts new values into the existing table. Suitable for most use cases."
   ]
  },
  {
   "cell_type": "code",
   "execution_count": 5,
   "id": "0486f9a5",
   "metadata": {},
   "outputs": [
    {
     "name": "stdout",
     "output_type": "stream",
     "text": [
      "Data inserted into the MarketData table successfully.\n"
     ]
    }
   ],
   "source": [
    "# Output"
   ]
  },
  {
   "cell_type": "code",
   "execution_count": 6,
   "id": "c20f8fe4",
   "metadata": {},
   "outputs": [
    {
     "data": {
      "text/html": [
       "<div>\n",
       "<style scoped>\n",
       "    .dataframe tbody tr th:only-of-type {\n",
       "        vertical-align: middle;\n",
       "    }\n",
       "\n",
       "    .dataframe tbody tr th {\n",
       "        vertical-align: top;\n",
       "    }\n",
       "\n",
       "    .dataframe thead th {\n",
       "        text-align: right;\n",
       "    }\n",
       "</style>\n",
       "<table border=\"1\" class=\"dataframe\">\n",
       "  <thead>\n",
       "    <tr style=\"text-align: right;\">\n",
       "      <th></th>\n",
       "      <th>id</th>\n",
       "      <th>ticker</th>\n",
       "      <th>date</th>\n",
       "      <th>open</th>\n",
       "      <th>high</th>\n",
       "      <th>low</th>\n",
       "      <th>close</th>\n",
       "      <th>volume</th>\n",
       "    </tr>\n",
       "  </thead>\n",
       "  <tbody>\n",
       "    <tr>\n",
       "      <th>0</th>\n",
       "      <td>1</td>\n",
       "      <td>AAPL</td>\n",
       "      <td>2025-03-07</td>\n",
       "      <td>235.24</td>\n",
       "      <td>241.37</td>\n",
       "      <td>234.76</td>\n",
       "      <td>239.07</td>\n",
       "      <td>46240156</td>\n",
       "    </tr>\n",
       "    <tr>\n",
       "      <th>1</th>\n",
       "      <td>2</td>\n",
       "      <td>AAPL</td>\n",
       "      <td>2025-03-06</td>\n",
       "      <td>234.44</td>\n",
       "      <td>237.86</td>\n",
       "      <td>233.16</td>\n",
       "      <td>235.33</td>\n",
       "      <td>45170419</td>\n",
       "    </tr>\n",
       "    <tr>\n",
       "      <th>2</th>\n",
       "      <td>3</td>\n",
       "      <td>AAPL</td>\n",
       "      <td>2025-03-05</td>\n",
       "      <td>235.42</td>\n",
       "      <td>236.55</td>\n",
       "      <td>229.23</td>\n",
       "      <td>235.74</td>\n",
       "      <td>47227643</td>\n",
       "    </tr>\n",
       "    <tr>\n",
       "      <th>3</th>\n",
       "      <td>4</td>\n",
       "      <td>AAPL</td>\n",
       "      <td>2025-03-04</td>\n",
       "      <td>237.71</td>\n",
       "      <td>240.07</td>\n",
       "      <td>234.68</td>\n",
       "      <td>235.93</td>\n",
       "      <td>53798062</td>\n",
       "    </tr>\n",
       "    <tr>\n",
       "      <th>4</th>\n",
       "      <td>5</td>\n",
       "      <td>AAPL</td>\n",
       "      <td>2025-03-03</td>\n",
       "      <td>241.79</td>\n",
       "      <td>244.03</td>\n",
       "      <td>236.11</td>\n",
       "      <td>238.03</td>\n",
       "      <td>47183985</td>\n",
       "    </tr>\n",
       "    <tr>\n",
       "      <th>...</th>\n",
       "      <td>...</td>\n",
       "      <td>...</td>\n",
       "      <td>...</td>\n",
       "      <td>...</td>\n",
       "      <td>...</td>\n",
       "      <td>...</td>\n",
       "      <td>...</td>\n",
       "      <td>...</td>\n",
       "    </tr>\n",
       "    <tr>\n",
       "      <th>695</th>\n",
       "      <td>696</td>\n",
       "      <td>NVDA</td>\n",
       "      <td>2024-10-17</td>\n",
       "      <td>139.34</td>\n",
       "      <td>140.89</td>\n",
       "      <td>136.87</td>\n",
       "      <td>136.93</td>\n",
       "      <td>306435921</td>\n",
       "    </tr>\n",
       "    <tr>\n",
       "      <th>696</th>\n",
       "      <td>697</td>\n",
       "      <td>NVDA</td>\n",
       "      <td>2024-10-16</td>\n",
       "      <td>133.98</td>\n",
       "      <td>136.62</td>\n",
       "      <td>131.58</td>\n",
       "      <td>135.72</td>\n",
       "      <td>264879720</td>\n",
       "    </tr>\n",
       "    <tr>\n",
       "      <th>697</th>\n",
       "      <td>698</td>\n",
       "      <td>NVDA</td>\n",
       "      <td>2024-10-15</td>\n",
       "      <td>137.87</td>\n",
       "      <td>138.57</td>\n",
       "      <td>128.74</td>\n",
       "      <td>131.60</td>\n",
       "      <td>377831021</td>\n",
       "    </tr>\n",
       "    <tr>\n",
       "      <th>698</th>\n",
       "      <td>699</td>\n",
       "      <td>NVDA</td>\n",
       "      <td>2024-10-14</td>\n",
       "      <td>136.47</td>\n",
       "      <td>139.60</td>\n",
       "      <td>136.30</td>\n",
       "      <td>138.07</td>\n",
       "      <td>232347668</td>\n",
       "    </tr>\n",
       "    <tr>\n",
       "      <th>699</th>\n",
       "      <td>700</td>\n",
       "      <td>NVDA</td>\n",
       "      <td>2024-10-11</td>\n",
       "      <td>134.01</td>\n",
       "      <td>135.78</td>\n",
       "      <td>133.66</td>\n",
       "      <td>134.80</td>\n",
       "      <td>170209474</td>\n",
       "    </tr>\n",
       "  </tbody>\n",
       "</table>\n",
       "<p>700 rows × 8 columns</p>\n",
       "</div>"
      ],
      "text/plain": [
       "      id ticker        date    open    high     low   close     volume\n",
       "0      1   AAPL  2025-03-07  235.24  241.37  234.76  239.07   46240156\n",
       "1      2   AAPL  2025-03-06  234.44  237.86  233.16  235.33   45170419\n",
       "2      3   AAPL  2025-03-05  235.42  236.55  229.23  235.74   47227643\n",
       "3      4   AAPL  2025-03-04  237.71  240.07  234.68  235.93   53798062\n",
       "4      5   AAPL  2025-03-03  241.79  244.03  236.11  238.03   47183985\n",
       "..   ...    ...         ...     ...     ...     ...     ...        ...\n",
       "695  696   NVDA  2024-10-17  139.34  140.89  136.87  136.93  306435921\n",
       "696  697   NVDA  2024-10-16  133.98  136.62  131.58  135.72  264879720\n",
       "697  698   NVDA  2024-10-15  137.87  138.57  128.74  131.60  377831021\n",
       "698  699   NVDA  2024-10-14  136.47  139.60  136.30  138.07  232347668\n",
       "699  700   NVDA  2024-10-11  134.01  135.78  133.66  134.80  170209474\n",
       "\n",
       "[700 rows x 8 columns]"
      ]
     },
     "execution_count": 6,
     "metadata": {},
     "output_type": "execute_result"
    }
   ],
   "source": [
    "# 3. Querying the Database\n",
    "\n",
    "# Assuming you have a table named 'MarketData' structured for market information\n",
    "sql_query = 'Your SQL query here'\n",
    "\n",
    "# Use Pandas to query the database\n",
    "df = pd.read_sql(sql_query, engine)\n",
    "\n",
    "# Display the DataFrame\n",
    "df\n"
   ]
  },
  {
   "cell_type": "markdown",
   "id": "f7427813",
   "metadata": {},
   "source": [
    "**Done! Great job!**"
   ]
  }
 ],
 "metadata": {
  "kernelspec": {
   "display_name": "Python 3 (ipykernel)",
   "language": "python",
   "name": "python3"
  },
  "language_info": {
   "codemirror_mode": {
    "name": "ipython",
    "version": 3
   },
   "file_extension": ".py",
   "mimetype": "text/x-python",
   "name": "python",
   "nbconvert_exporter": "python",
   "pygments_lexer": "ipython3",
   "version": "3.12.4"
  }
 },
 "nbformat": 4,
 "nbformat_minor": 5
}
